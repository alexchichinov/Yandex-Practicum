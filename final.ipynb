{
 "cells": [
  {
   "cell_type": "markdown",
   "metadata": {},
   "source": [
    "**Промышленность — задача проекта**"
   ]
  },
  {
   "cell_type": "markdown",
   "metadata": {},
   "source": [
    "Чтобы оптимизировать производственные расходы, металлургический комбинат ООО «Так закаляем сталь» решил уменьшить потребление электроэнергии на этапе обработки стали. Вам предстоит построить модель, которая предскажет температуру стали.\n",
    "\n",
    "**Описание этапа обработки**\n",
    "\n",
    "Сталь обрабатывают в металлическом ковше вместимостью около 100 тонн. Чтобы ковш выдерживал высокие температуры, изнутри его облицовывают огнеупорным кирпичом. Расплавленную сталь заливают в ковш и подогревают до нужной температуры графитовыми электродами. Они установлены в крышке ковша. \n",
    "\n",
    "Из сплава выводится сера (десульфурация), добавлением примесей корректируется химический состав и отбираются пробы. Сталь легируют — изменяют её состав — подавая куски сплава из бункера для сыпучих материалов или проволоку через специальный трайб-аппарат (англ. tribe, «масса»).\n",
    "\n",
    "Перед тем как первый раз ввести легирующие добавки, измеряют температуру стали и производят её химический анализ. Потом температуру на несколько минут повышают, добавляют легирующие материалы и продувают сплав инертным газом. Затем его перемешивают и снова проводят измерения. Такой цикл повторяется до достижения целевого химического состава и оптимальной температуры плавки.\n",
    "\n",
    "Тогда расплавленная сталь отправляется на доводку металла или поступает в машину непрерывной разливки. Оттуда готовый продукт выходит в виде заготовок-слябов (англ. *slab*, «плита»).\n",
    "\n",
    "**Описание данных**\n",
    "\n",
    "Данные состоят из файлов, полученных из разных источников:\n",
    "\n",
    "- `data_arc.csv` — данные об электродах;\n",
    "- `data_bulk.csv` — данные о подаче сыпучих материалов (объём);\n",
    "- `data_bulk_time.csv` *—* данные о подаче сыпучих материалов (время);\n",
    "- `data_gas.csv` — данные о продувке сплава газом;\n",
    "- `data_temp.csv` — результаты измерения температуры;\n",
    "- `data_wire.csv` — данные о проволочных материалах (объём);\n",
    "- `data_wire_time.csv` — данные о проволочных материалах (время).\n",
    "\n",
    "Во всех файлах столбец `key` содержит номер партии. В файлах может быть несколько строк с одинаковым значением `key`: они соответствуют разным итерациям обработки."
   ]
  },
  {
   "cell_type": "markdown",
   "metadata": {},
   "source": [
    "## План работы:  \n",
    "- Провести преобработку данных с  исследовательским анализом данных:\n",
    "    - Загрузить данные\n",
    "    - Посмотреть на распределение исходных данных\n",
    "    - Проанализировать порядок событий в производственном процессе\n",
    "    - Исключить партии, которые не имеют последнего замера темпиратуры, либо первый замер соответствует последнему, либо замеры отсутствуют \n",
    "    - Оставить только события, которые находятся в промежутке между первым и последним замерами\n",
    "    - Подобрать признаки, на которых будет обучаться модель:\n",
    "    - Сгенерировать ряд признаков\n",
    "    - Провести масштабирование признаков (если понадобиться)\n",
    "- Построить модель, которая предскажет температуру стали:\n",
    "    - Сформировать обучающую и тестовую выборки\n",
    "    - Выбрать несколько моделей и проверить их эффективность с помощью показателя эффективности MAE\n",
    "    - Эффективность лучшей модели проверить на тестовой выборке\n",
    "- Вывод\n",
    "- Отчет о проделанной работе \n",
    "    "
   ]
  },
  {
   "cell_type": "markdown",
   "metadata": {},
   "source": [
    "## Предобработка данных с исследовательским анализом данных"
   ]
  },
  {
   "cell_type": "markdown",
   "metadata": {},
   "source": [
    "###  Загрузка данных"
   ]
  },
  {
   "cell_type": "code",
   "execution_count": 1,
   "metadata": {},
   "outputs": [],
   "source": [
    "import pandas as pd\n",
    "import matplotlib.pyplot as plt\n",
    "import seaborn as sns\n",
    "import warnings\n",
    "import numpy as np\n",
    "import matplotlib.pyplot as plt\n",
    "import math\n",
    "\n",
    "\n",
    "\n",
    "sns.set_style(\"darkgrid\")\n",
    "import scipy.stats as sps\n",
    "import math\n",
    "import xgboost\n",
    "import lightgbm as lgb\n",
    "import matplotlib.pyplot as plt\n",
    "import os\n",
    "import time\n",
    "import itertools\n",
    "import urllib.request\n",
    "from scipy import stats\n",
    "from pathlib import Path\n",
    "from catboost import CatBoostRegressor\n",
    "from sklearn.preprocessing import StandardScaler\n",
    "from sklearn.model_selection import train_test_split\n",
    "from sklearn.metrics import mean_absolute_error\n",
    "from sklearn.preprocessing import MinMaxScaler\n",
    "from sklearn.model_selection import GridSearchCV\n",
    "from sklearn.linear_model import LinearRegression"
   ]
  },
  {
   "cell_type": "code",
   "execution_count": 2,
   "metadata": {},
   "outputs": [],
   "source": [
    "warnings.filterwarnings(\"ignore\")"
   ]
  },
  {
   "cell_type": "code",
   "execution_count": 3,
   "metadata": {},
   "outputs": [],
   "source": [
    "RANDOM_STATE = 290822"
   ]
  },
  {
   "cell_type": "code",
   "execution_count": 4,
   "metadata": {},
   "outputs": [
    {
     "data": {
      "text/html": [
       "<div>\n",
       "<style scoped>\n",
       "    .dataframe tbody tr th:only-of-type {\n",
       "        vertical-align: middle;\n",
       "    }\n",
       "\n",
       "    .dataframe tbody tr th {\n",
       "        vertical-align: top;\n",
       "    }\n",
       "\n",
       "    .dataframe thead th {\n",
       "        text-align: right;\n",
       "    }\n",
       "</style>\n",
       "<table border=\"1\" class=\"dataframe\">\n",
       "  <thead>\n",
       "    <tr style=\"text-align: right;\">\n",
       "      <th></th>\n",
       "      <th>key</th>\n",
       "      <th>Начало нагрева дугой</th>\n",
       "      <th>Конец нагрева дугой</th>\n",
       "      <th>Активная мощность</th>\n",
       "      <th>Реактивная мощность</th>\n",
       "    </tr>\n",
       "  </thead>\n",
       "  <tbody>\n",
       "    <tr>\n",
       "      <th>0</th>\n",
       "      <td>1</td>\n",
       "      <td>2019-05-03 11:02:14</td>\n",
       "      <td>2019-05-03 11:06:02</td>\n",
       "      <td>0.976059</td>\n",
       "      <td>0.687084</td>\n",
       "    </tr>\n",
       "    <tr>\n",
       "      <th>1</th>\n",
       "      <td>1</td>\n",
       "      <td>2019-05-03 11:07:28</td>\n",
       "      <td>2019-05-03 11:10:33</td>\n",
       "      <td>0.805607</td>\n",
       "      <td>0.520285</td>\n",
       "    </tr>\n",
       "    <tr>\n",
       "      <th>2</th>\n",
       "      <td>1</td>\n",
       "      <td>2019-05-03 11:11:44</td>\n",
       "      <td>2019-05-03 11:14:36</td>\n",
       "      <td>0.744363</td>\n",
       "      <td>0.498805</td>\n",
       "    </tr>\n",
       "    <tr>\n",
       "      <th>3</th>\n",
       "      <td>1</td>\n",
       "      <td>2019-05-03 11:18:14</td>\n",
       "      <td>2019-05-03 11:24:19</td>\n",
       "      <td>1.659363</td>\n",
       "      <td>1.062669</td>\n",
       "    </tr>\n",
       "    <tr>\n",
       "      <th>4</th>\n",
       "      <td>1</td>\n",
       "      <td>2019-05-03 11:26:09</td>\n",
       "      <td>2019-05-03 11:28:37</td>\n",
       "      <td>0.692755</td>\n",
       "      <td>0.414397</td>\n",
       "    </tr>\n",
       "  </tbody>\n",
       "</table>\n",
       "</div>"
      ],
      "text/plain": [
       "   key Начало нагрева дугой  Конец нагрева дугой  Активная мощность  \\\n",
       "0    1  2019-05-03 11:02:14  2019-05-03 11:06:02           0.976059   \n",
       "1    1  2019-05-03 11:07:28  2019-05-03 11:10:33           0.805607   \n",
       "2    1  2019-05-03 11:11:44  2019-05-03 11:14:36           0.744363   \n",
       "3    1  2019-05-03 11:18:14  2019-05-03 11:24:19           1.659363   \n",
       "4    1  2019-05-03 11:26:09  2019-05-03 11:28:37           0.692755   \n",
       "\n",
       "   Реактивная мощность  \n",
       "0             0.687084  \n",
       "1             0.520285  \n",
       "2             0.498805  \n",
       "3             1.062669  \n",
       "4             0.414397  "
      ]
     },
     "execution_count": 4,
     "metadata": {},
     "output_type": "execute_result"
    }
   ],
   "source": [
    "df_arc=pd.read_csv('/datasets/final_steel/data_arc.csv')\n",
    "df_arc.head()"
   ]
  },
  {
   "cell_type": "code",
   "execution_count": 5,
   "metadata": {},
   "outputs": [
    {
     "data": {
      "text/html": [
       "<div>\n",
       "<style scoped>\n",
       "    .dataframe tbody tr th:only-of-type {\n",
       "        vertical-align: middle;\n",
       "    }\n",
       "\n",
       "    .dataframe tbody tr th {\n",
       "        vertical-align: top;\n",
       "    }\n",
       "\n",
       "    .dataframe thead th {\n",
       "        text-align: right;\n",
       "    }\n",
       "</style>\n",
       "<table border=\"1\" class=\"dataframe\">\n",
       "  <thead>\n",
       "    <tr style=\"text-align: right;\">\n",
       "      <th></th>\n",
       "      <th>key</th>\n",
       "      <th>Bulk 1</th>\n",
       "      <th>Bulk 2</th>\n",
       "      <th>Bulk 3</th>\n",
       "      <th>Bulk 4</th>\n",
       "      <th>Bulk 5</th>\n",
       "      <th>Bulk 6</th>\n",
       "      <th>Bulk 7</th>\n",
       "      <th>Bulk 8</th>\n",
       "      <th>Bulk 9</th>\n",
       "      <th>Bulk 10</th>\n",
       "      <th>Bulk 11</th>\n",
       "      <th>Bulk 12</th>\n",
       "      <th>Bulk 13</th>\n",
       "      <th>Bulk 14</th>\n",
       "      <th>Bulk 15</th>\n",
       "    </tr>\n",
       "  </thead>\n",
       "  <tbody>\n",
       "    <tr>\n",
       "      <th>0</th>\n",
       "      <td>1</td>\n",
       "      <td>NaN</td>\n",
       "      <td>NaN</td>\n",
       "      <td>NaN</td>\n",
       "      <td>43.0</td>\n",
       "      <td>NaN</td>\n",
       "      <td>NaN</td>\n",
       "      <td>NaN</td>\n",
       "      <td>NaN</td>\n",
       "      <td>NaN</td>\n",
       "      <td>NaN</td>\n",
       "      <td>NaN</td>\n",
       "      <td>206.0</td>\n",
       "      <td>NaN</td>\n",
       "      <td>150.0</td>\n",
       "      <td>154.0</td>\n",
       "    </tr>\n",
       "    <tr>\n",
       "      <th>1</th>\n",
       "      <td>2</td>\n",
       "      <td>NaN</td>\n",
       "      <td>NaN</td>\n",
       "      <td>NaN</td>\n",
       "      <td>73.0</td>\n",
       "      <td>NaN</td>\n",
       "      <td>NaN</td>\n",
       "      <td>NaN</td>\n",
       "      <td>NaN</td>\n",
       "      <td>NaN</td>\n",
       "      <td>NaN</td>\n",
       "      <td>NaN</td>\n",
       "      <td>206.0</td>\n",
       "      <td>NaN</td>\n",
       "      <td>149.0</td>\n",
       "      <td>154.0</td>\n",
       "    </tr>\n",
       "    <tr>\n",
       "      <th>2</th>\n",
       "      <td>3</td>\n",
       "      <td>NaN</td>\n",
       "      <td>NaN</td>\n",
       "      <td>NaN</td>\n",
       "      <td>34.0</td>\n",
       "      <td>NaN</td>\n",
       "      <td>NaN</td>\n",
       "      <td>NaN</td>\n",
       "      <td>NaN</td>\n",
       "      <td>NaN</td>\n",
       "      <td>NaN</td>\n",
       "      <td>NaN</td>\n",
       "      <td>205.0</td>\n",
       "      <td>NaN</td>\n",
       "      <td>152.0</td>\n",
       "      <td>153.0</td>\n",
       "    </tr>\n",
       "    <tr>\n",
       "      <th>3</th>\n",
       "      <td>4</td>\n",
       "      <td>NaN</td>\n",
       "      <td>NaN</td>\n",
       "      <td>NaN</td>\n",
       "      <td>81.0</td>\n",
       "      <td>NaN</td>\n",
       "      <td>NaN</td>\n",
       "      <td>NaN</td>\n",
       "      <td>NaN</td>\n",
       "      <td>NaN</td>\n",
       "      <td>NaN</td>\n",
       "      <td>NaN</td>\n",
       "      <td>207.0</td>\n",
       "      <td>NaN</td>\n",
       "      <td>153.0</td>\n",
       "      <td>154.0</td>\n",
       "    </tr>\n",
       "    <tr>\n",
       "      <th>4</th>\n",
       "      <td>5</td>\n",
       "      <td>NaN</td>\n",
       "      <td>NaN</td>\n",
       "      <td>NaN</td>\n",
       "      <td>78.0</td>\n",
       "      <td>NaN</td>\n",
       "      <td>NaN</td>\n",
       "      <td>NaN</td>\n",
       "      <td>NaN</td>\n",
       "      <td>NaN</td>\n",
       "      <td>NaN</td>\n",
       "      <td>NaN</td>\n",
       "      <td>203.0</td>\n",
       "      <td>NaN</td>\n",
       "      <td>151.0</td>\n",
       "      <td>152.0</td>\n",
       "    </tr>\n",
       "  </tbody>\n",
       "</table>\n",
       "</div>"
      ],
      "text/plain": [
       "   key  Bulk 1  Bulk 2  Bulk 3  Bulk 4  Bulk 5  Bulk 6  Bulk 7  Bulk 8  \\\n",
       "0    1     NaN     NaN     NaN    43.0     NaN     NaN     NaN     NaN   \n",
       "1    2     NaN     NaN     NaN    73.0     NaN     NaN     NaN     NaN   \n",
       "2    3     NaN     NaN     NaN    34.0     NaN     NaN     NaN     NaN   \n",
       "3    4     NaN     NaN     NaN    81.0     NaN     NaN     NaN     NaN   \n",
       "4    5     NaN     NaN     NaN    78.0     NaN     NaN     NaN     NaN   \n",
       "\n",
       "   Bulk 9  Bulk 10  Bulk 11  Bulk 12  Bulk 13  Bulk 14  Bulk 15  \n",
       "0     NaN      NaN      NaN    206.0      NaN    150.0    154.0  \n",
       "1     NaN      NaN      NaN    206.0      NaN    149.0    154.0  \n",
       "2     NaN      NaN      NaN    205.0      NaN    152.0    153.0  \n",
       "3     NaN      NaN      NaN    207.0      NaN    153.0    154.0  \n",
       "4     NaN      NaN      NaN    203.0      NaN    151.0    152.0  "
      ]
     },
     "execution_count": 5,
     "metadata": {},
     "output_type": "execute_result"
    }
   ],
   "source": [
    "df_bulk=pd.read_csv('/datasets/final_steel/data_bulk.csv')\n",
    "df_bulk.head()"
   ]
  },
  {
   "cell_type": "code",
   "execution_count": 6,
   "metadata": {},
   "outputs": [
    {
     "data": {
      "text/html": [
       "<div>\n",
       "<style scoped>\n",
       "    .dataframe tbody tr th:only-of-type {\n",
       "        vertical-align: middle;\n",
       "    }\n",
       "\n",
       "    .dataframe tbody tr th {\n",
       "        vertical-align: top;\n",
       "    }\n",
       "\n",
       "    .dataframe thead th {\n",
       "        text-align: right;\n",
       "    }\n",
       "</style>\n",
       "<table border=\"1\" class=\"dataframe\">\n",
       "  <thead>\n",
       "    <tr style=\"text-align: right;\">\n",
       "      <th></th>\n",
       "      <th>key</th>\n",
       "      <th>Газ 1</th>\n",
       "    </tr>\n",
       "  </thead>\n",
       "  <tbody>\n",
       "    <tr>\n",
       "      <th>0</th>\n",
       "      <td>1</td>\n",
       "      <td>29.749986</td>\n",
       "    </tr>\n",
       "    <tr>\n",
       "      <th>1</th>\n",
       "      <td>2</td>\n",
       "      <td>12.555561</td>\n",
       "    </tr>\n",
       "    <tr>\n",
       "      <th>2</th>\n",
       "      <td>3</td>\n",
       "      <td>28.554793</td>\n",
       "    </tr>\n",
       "    <tr>\n",
       "      <th>3</th>\n",
       "      <td>4</td>\n",
       "      <td>18.841219</td>\n",
       "    </tr>\n",
       "    <tr>\n",
       "      <th>4</th>\n",
       "      <td>5</td>\n",
       "      <td>5.413692</td>\n",
       "    </tr>\n",
       "  </tbody>\n",
       "</table>\n",
       "</div>"
      ],
      "text/plain": [
       "   key      Газ 1\n",
       "0    1  29.749986\n",
       "1    2  12.555561\n",
       "2    3  28.554793\n",
       "3    4  18.841219\n",
       "4    5   5.413692"
      ]
     },
     "execution_count": 6,
     "metadata": {},
     "output_type": "execute_result"
    }
   ],
   "source": [
    "df_gas=pd.read_csv('/datasets/final_steel/data_gas.csv')\n",
    "df_gas.head()"
   ]
  },
  {
   "cell_type": "code",
   "execution_count": 7,
   "metadata": {},
   "outputs": [
    {
     "data": {
      "text/html": [
       "<div>\n",
       "<style scoped>\n",
       "    .dataframe tbody tr th:only-of-type {\n",
       "        vertical-align: middle;\n",
       "    }\n",
       "\n",
       "    .dataframe tbody tr th {\n",
       "        vertical-align: top;\n",
       "    }\n",
       "\n",
       "    .dataframe thead th {\n",
       "        text-align: right;\n",
       "    }\n",
       "</style>\n",
       "<table border=\"1\" class=\"dataframe\">\n",
       "  <thead>\n",
       "    <tr style=\"text-align: right;\">\n",
       "      <th></th>\n",
       "      <th>key</th>\n",
       "      <th>Время замера</th>\n",
       "      <th>Температура</th>\n",
       "    </tr>\n",
       "  </thead>\n",
       "  <tbody>\n",
       "    <tr>\n",
       "      <th>0</th>\n",
       "      <td>1</td>\n",
       "      <td>2019-05-03 11:16:18</td>\n",
       "      <td>1571.0</td>\n",
       "    </tr>\n",
       "    <tr>\n",
       "      <th>1</th>\n",
       "      <td>1</td>\n",
       "      <td>2019-05-03 11:25:53</td>\n",
       "      <td>1604.0</td>\n",
       "    </tr>\n",
       "    <tr>\n",
       "      <th>2</th>\n",
       "      <td>1</td>\n",
       "      <td>2019-05-03 11:29:11</td>\n",
       "      <td>1618.0</td>\n",
       "    </tr>\n",
       "    <tr>\n",
       "      <th>3</th>\n",
       "      <td>1</td>\n",
       "      <td>2019-05-03 11:30:01</td>\n",
       "      <td>1601.0</td>\n",
       "    </tr>\n",
       "    <tr>\n",
       "      <th>4</th>\n",
       "      <td>1</td>\n",
       "      <td>2019-05-03 11:30:39</td>\n",
       "      <td>1613.0</td>\n",
       "    </tr>\n",
       "  </tbody>\n",
       "</table>\n",
       "</div>"
      ],
      "text/plain": [
       "   key         Время замера  Температура\n",
       "0    1  2019-05-03 11:16:18       1571.0\n",
       "1    1  2019-05-03 11:25:53       1604.0\n",
       "2    1  2019-05-03 11:29:11       1618.0\n",
       "3    1  2019-05-03 11:30:01       1601.0\n",
       "4    1  2019-05-03 11:30:39       1613.0"
      ]
     },
     "execution_count": 7,
     "metadata": {},
     "output_type": "execute_result"
    }
   ],
   "source": [
    "df_temp=pd.read_csv('/datasets/final_steel/data_temp.csv')\n",
    "df_temp.head()"
   ]
  },
  {
   "cell_type": "code",
   "execution_count": 8,
   "metadata": {},
   "outputs": [
    {
     "data": {
      "text/html": [
       "<div>\n",
       "<style scoped>\n",
       "    .dataframe tbody tr th:only-of-type {\n",
       "        vertical-align: middle;\n",
       "    }\n",
       "\n",
       "    .dataframe tbody tr th {\n",
       "        vertical-align: top;\n",
       "    }\n",
       "\n",
       "    .dataframe thead th {\n",
       "        text-align: right;\n",
       "    }\n",
       "</style>\n",
       "<table border=\"1\" class=\"dataframe\">\n",
       "  <thead>\n",
       "    <tr style=\"text-align: right;\">\n",
       "      <th></th>\n",
       "      <th>key</th>\n",
       "      <th>Wire 1</th>\n",
       "      <th>Wire 2</th>\n",
       "      <th>Wire 3</th>\n",
       "      <th>Wire 4</th>\n",
       "      <th>Wire 5</th>\n",
       "      <th>Wire 6</th>\n",
       "      <th>Wire 7</th>\n",
       "      <th>Wire 8</th>\n",
       "      <th>Wire 9</th>\n",
       "    </tr>\n",
       "  </thead>\n",
       "  <tbody>\n",
       "    <tr>\n",
       "      <th>0</th>\n",
       "      <td>1</td>\n",
       "      <td>60.059998</td>\n",
       "      <td>NaN</td>\n",
       "      <td>NaN</td>\n",
       "      <td>NaN</td>\n",
       "      <td>NaN</td>\n",
       "      <td>NaN</td>\n",
       "      <td>NaN</td>\n",
       "      <td>NaN</td>\n",
       "      <td>NaN</td>\n",
       "    </tr>\n",
       "    <tr>\n",
       "      <th>1</th>\n",
       "      <td>2</td>\n",
       "      <td>96.052315</td>\n",
       "      <td>NaN</td>\n",
       "      <td>NaN</td>\n",
       "      <td>NaN</td>\n",
       "      <td>NaN</td>\n",
       "      <td>NaN</td>\n",
       "      <td>NaN</td>\n",
       "      <td>NaN</td>\n",
       "      <td>NaN</td>\n",
       "    </tr>\n",
       "    <tr>\n",
       "      <th>2</th>\n",
       "      <td>3</td>\n",
       "      <td>91.160157</td>\n",
       "      <td>NaN</td>\n",
       "      <td>NaN</td>\n",
       "      <td>NaN</td>\n",
       "      <td>NaN</td>\n",
       "      <td>NaN</td>\n",
       "      <td>NaN</td>\n",
       "      <td>NaN</td>\n",
       "      <td>NaN</td>\n",
       "    </tr>\n",
       "    <tr>\n",
       "      <th>3</th>\n",
       "      <td>4</td>\n",
       "      <td>89.063515</td>\n",
       "      <td>NaN</td>\n",
       "      <td>NaN</td>\n",
       "      <td>NaN</td>\n",
       "      <td>NaN</td>\n",
       "      <td>NaN</td>\n",
       "      <td>NaN</td>\n",
       "      <td>NaN</td>\n",
       "      <td>NaN</td>\n",
       "    </tr>\n",
       "    <tr>\n",
       "      <th>4</th>\n",
       "      <td>5</td>\n",
       "      <td>89.238236</td>\n",
       "      <td>9.11456</td>\n",
       "      <td>NaN</td>\n",
       "      <td>NaN</td>\n",
       "      <td>NaN</td>\n",
       "      <td>NaN</td>\n",
       "      <td>NaN</td>\n",
       "      <td>NaN</td>\n",
       "      <td>NaN</td>\n",
       "    </tr>\n",
       "  </tbody>\n",
       "</table>\n",
       "</div>"
      ],
      "text/plain": [
       "   key     Wire 1   Wire 2  Wire 3  Wire 4  Wire 5  Wire 6  Wire 7  Wire 8  \\\n",
       "0    1  60.059998      NaN     NaN     NaN     NaN     NaN     NaN     NaN   \n",
       "1    2  96.052315      NaN     NaN     NaN     NaN     NaN     NaN     NaN   \n",
       "2    3  91.160157      NaN     NaN     NaN     NaN     NaN     NaN     NaN   \n",
       "3    4  89.063515      NaN     NaN     NaN     NaN     NaN     NaN     NaN   \n",
       "4    5  89.238236  9.11456     NaN     NaN     NaN     NaN     NaN     NaN   \n",
       "\n",
       "   Wire 9  \n",
       "0     NaN  \n",
       "1     NaN  \n",
       "2     NaN  \n",
       "3     NaN  \n",
       "4     NaN  "
      ]
     },
     "execution_count": 8,
     "metadata": {},
     "output_type": "execute_result"
    }
   ],
   "source": [
    "df_wire=pd.read_csv('/datasets/final_steel/data_wire.csv')\n",
    "df_wire.head()"
   ]
  },
  {
   "cell_type": "code",
   "execution_count": 9,
   "metadata": {},
   "outputs": [
    {
     "data": {
      "text/html": [
       "<div>\n",
       "<style scoped>\n",
       "    .dataframe tbody tr th:only-of-type {\n",
       "        vertical-align: middle;\n",
       "    }\n",
       "\n",
       "    .dataframe tbody tr th {\n",
       "        vertical-align: top;\n",
       "    }\n",
       "\n",
       "    .dataframe thead th {\n",
       "        text-align: right;\n",
       "    }\n",
       "</style>\n",
       "<table border=\"1\" class=\"dataframe\">\n",
       "  <thead>\n",
       "    <tr style=\"text-align: right;\">\n",
       "      <th></th>\n",
       "      <th>key</th>\n",
       "      <th>Bulk 1</th>\n",
       "      <th>Bulk 2</th>\n",
       "      <th>Bulk 3</th>\n",
       "      <th>Bulk 4</th>\n",
       "      <th>Bulk 5</th>\n",
       "      <th>Bulk 6</th>\n",
       "      <th>Bulk 7</th>\n",
       "      <th>Bulk 8</th>\n",
       "      <th>Bulk 9</th>\n",
       "      <th>Bulk 10</th>\n",
       "      <th>Bulk 11</th>\n",
       "      <th>Bulk 12</th>\n",
       "      <th>Bulk 13</th>\n",
       "      <th>Bulk 14</th>\n",
       "      <th>Bulk 15</th>\n",
       "    </tr>\n",
       "  </thead>\n",
       "  <tbody>\n",
       "    <tr>\n",
       "      <th>0</th>\n",
       "      <td>1</td>\n",
       "      <td>NaN</td>\n",
       "      <td>NaN</td>\n",
       "      <td>NaN</td>\n",
       "      <td>2019-05-03 11:21:30</td>\n",
       "      <td>NaN</td>\n",
       "      <td>NaN</td>\n",
       "      <td>NaN</td>\n",
       "      <td>NaN</td>\n",
       "      <td>NaN</td>\n",
       "      <td>NaN</td>\n",
       "      <td>NaN</td>\n",
       "      <td>2019-05-03 11:03:52</td>\n",
       "      <td>NaN</td>\n",
       "      <td>2019-05-03 11:03:52</td>\n",
       "      <td>2019-05-03 11:03:52</td>\n",
       "    </tr>\n",
       "    <tr>\n",
       "      <th>1</th>\n",
       "      <td>2</td>\n",
       "      <td>NaN</td>\n",
       "      <td>NaN</td>\n",
       "      <td>NaN</td>\n",
       "      <td>2019-05-03 11:46:38</td>\n",
       "      <td>NaN</td>\n",
       "      <td>NaN</td>\n",
       "      <td>NaN</td>\n",
       "      <td>NaN</td>\n",
       "      <td>NaN</td>\n",
       "      <td>NaN</td>\n",
       "      <td>NaN</td>\n",
       "      <td>2019-05-03 11:40:20</td>\n",
       "      <td>NaN</td>\n",
       "      <td>2019-05-03 11:40:20</td>\n",
       "      <td>2019-05-03 11:40:20</td>\n",
       "    </tr>\n",
       "    <tr>\n",
       "      <th>2</th>\n",
       "      <td>3</td>\n",
       "      <td>NaN</td>\n",
       "      <td>NaN</td>\n",
       "      <td>NaN</td>\n",
       "      <td>2019-05-03 12:31:06</td>\n",
       "      <td>NaN</td>\n",
       "      <td>NaN</td>\n",
       "      <td>NaN</td>\n",
       "      <td>NaN</td>\n",
       "      <td>NaN</td>\n",
       "      <td>NaN</td>\n",
       "      <td>NaN</td>\n",
       "      <td>2019-05-03 12:09:40</td>\n",
       "      <td>NaN</td>\n",
       "      <td>2019-05-03 12:09:40</td>\n",
       "      <td>2019-05-03 12:09:40</td>\n",
       "    </tr>\n",
       "    <tr>\n",
       "      <th>3</th>\n",
       "      <td>4</td>\n",
       "      <td>NaN</td>\n",
       "      <td>NaN</td>\n",
       "      <td>NaN</td>\n",
       "      <td>2019-05-03 12:48:43</td>\n",
       "      <td>NaN</td>\n",
       "      <td>NaN</td>\n",
       "      <td>NaN</td>\n",
       "      <td>NaN</td>\n",
       "      <td>NaN</td>\n",
       "      <td>NaN</td>\n",
       "      <td>NaN</td>\n",
       "      <td>2019-05-03 12:41:24</td>\n",
       "      <td>NaN</td>\n",
       "      <td>2019-05-03 12:41:24</td>\n",
       "      <td>2019-05-03 12:41:24</td>\n",
       "    </tr>\n",
       "    <tr>\n",
       "      <th>4</th>\n",
       "      <td>5</td>\n",
       "      <td>NaN</td>\n",
       "      <td>NaN</td>\n",
       "      <td>NaN</td>\n",
       "      <td>2019-05-03 13:18:50</td>\n",
       "      <td>NaN</td>\n",
       "      <td>NaN</td>\n",
       "      <td>NaN</td>\n",
       "      <td>NaN</td>\n",
       "      <td>NaN</td>\n",
       "      <td>NaN</td>\n",
       "      <td>NaN</td>\n",
       "      <td>2019-05-03 13:12:56</td>\n",
       "      <td>NaN</td>\n",
       "      <td>2019-05-03 13:12:56</td>\n",
       "      <td>2019-05-03 13:12:56</td>\n",
       "    </tr>\n",
       "  </tbody>\n",
       "</table>\n",
       "</div>"
      ],
      "text/plain": [
       "   key Bulk 1 Bulk 2 Bulk 3               Bulk 4 Bulk 5 Bulk 6 Bulk 7 Bulk 8  \\\n",
       "0    1    NaN    NaN    NaN  2019-05-03 11:21:30    NaN    NaN    NaN    NaN   \n",
       "1    2    NaN    NaN    NaN  2019-05-03 11:46:38    NaN    NaN    NaN    NaN   \n",
       "2    3    NaN    NaN    NaN  2019-05-03 12:31:06    NaN    NaN    NaN    NaN   \n",
       "3    4    NaN    NaN    NaN  2019-05-03 12:48:43    NaN    NaN    NaN    NaN   \n",
       "4    5    NaN    NaN    NaN  2019-05-03 13:18:50    NaN    NaN    NaN    NaN   \n",
       "\n",
       "  Bulk 9 Bulk 10 Bulk 11              Bulk 12 Bulk 13              Bulk 14  \\\n",
       "0    NaN     NaN     NaN  2019-05-03 11:03:52     NaN  2019-05-03 11:03:52   \n",
       "1    NaN     NaN     NaN  2019-05-03 11:40:20     NaN  2019-05-03 11:40:20   \n",
       "2    NaN     NaN     NaN  2019-05-03 12:09:40     NaN  2019-05-03 12:09:40   \n",
       "3    NaN     NaN     NaN  2019-05-03 12:41:24     NaN  2019-05-03 12:41:24   \n",
       "4    NaN     NaN     NaN  2019-05-03 13:12:56     NaN  2019-05-03 13:12:56   \n",
       "\n",
       "               Bulk 15  \n",
       "0  2019-05-03 11:03:52  \n",
       "1  2019-05-03 11:40:20  \n",
       "2  2019-05-03 12:09:40  \n",
       "3  2019-05-03 12:41:24  \n",
       "4  2019-05-03 13:12:56  "
      ]
     },
     "execution_count": 9,
     "metadata": {},
     "output_type": "execute_result"
    }
   ],
   "source": [
    "df_bulk_time=pd.read_csv('/datasets/final_steel/data_bulk_time.csv')\n",
    "df_bulk_time.head()"
   ]
  },
  {
   "cell_type": "code",
   "execution_count": 10,
   "metadata": {},
   "outputs": [
    {
     "data": {
      "text/html": [
       "<div>\n",
       "<style scoped>\n",
       "    .dataframe tbody tr th:only-of-type {\n",
       "        vertical-align: middle;\n",
       "    }\n",
       "\n",
       "    .dataframe tbody tr th {\n",
       "        vertical-align: top;\n",
       "    }\n",
       "\n",
       "    .dataframe thead th {\n",
       "        text-align: right;\n",
       "    }\n",
       "</style>\n",
       "<table border=\"1\" class=\"dataframe\">\n",
       "  <thead>\n",
       "    <tr style=\"text-align: right;\">\n",
       "      <th></th>\n",
       "      <th>key</th>\n",
       "      <th>Wire 1</th>\n",
       "      <th>Wire 2</th>\n",
       "      <th>Wire 3</th>\n",
       "      <th>Wire 4</th>\n",
       "      <th>Wire 5</th>\n",
       "      <th>Wire 6</th>\n",
       "      <th>Wire 7</th>\n",
       "      <th>Wire 8</th>\n",
       "      <th>Wire 9</th>\n",
       "    </tr>\n",
       "  </thead>\n",
       "  <tbody>\n",
       "    <tr>\n",
       "      <th>0</th>\n",
       "      <td>1</td>\n",
       "      <td>2019-05-03 11:11:41</td>\n",
       "      <td>NaN</td>\n",
       "      <td>NaN</td>\n",
       "      <td>NaN</td>\n",
       "      <td>NaN</td>\n",
       "      <td>NaN</td>\n",
       "      <td>NaN</td>\n",
       "      <td>NaN</td>\n",
       "      <td>NaN</td>\n",
       "    </tr>\n",
       "    <tr>\n",
       "      <th>1</th>\n",
       "      <td>2</td>\n",
       "      <td>2019-05-03 11:46:10</td>\n",
       "      <td>NaN</td>\n",
       "      <td>NaN</td>\n",
       "      <td>NaN</td>\n",
       "      <td>NaN</td>\n",
       "      <td>NaN</td>\n",
       "      <td>NaN</td>\n",
       "      <td>NaN</td>\n",
       "      <td>NaN</td>\n",
       "    </tr>\n",
       "    <tr>\n",
       "      <th>2</th>\n",
       "      <td>3</td>\n",
       "      <td>2019-05-03 12:13:47</td>\n",
       "      <td>NaN</td>\n",
       "      <td>NaN</td>\n",
       "      <td>NaN</td>\n",
       "      <td>NaN</td>\n",
       "      <td>NaN</td>\n",
       "      <td>NaN</td>\n",
       "      <td>NaN</td>\n",
       "      <td>NaN</td>\n",
       "    </tr>\n",
       "    <tr>\n",
       "      <th>3</th>\n",
       "      <td>4</td>\n",
       "      <td>2019-05-03 12:48:05</td>\n",
       "      <td>NaN</td>\n",
       "      <td>NaN</td>\n",
       "      <td>NaN</td>\n",
       "      <td>NaN</td>\n",
       "      <td>NaN</td>\n",
       "      <td>NaN</td>\n",
       "      <td>NaN</td>\n",
       "      <td>NaN</td>\n",
       "    </tr>\n",
       "    <tr>\n",
       "      <th>4</th>\n",
       "      <td>5</td>\n",
       "      <td>2019-05-03 13:18:15</td>\n",
       "      <td>2019-05-03 13:32:06</td>\n",
       "      <td>NaN</td>\n",
       "      <td>NaN</td>\n",
       "      <td>NaN</td>\n",
       "      <td>NaN</td>\n",
       "      <td>NaN</td>\n",
       "      <td>NaN</td>\n",
       "      <td>NaN</td>\n",
       "    </tr>\n",
       "  </tbody>\n",
       "</table>\n",
       "</div>"
      ],
      "text/plain": [
       "   key               Wire 1               Wire 2 Wire 3 Wire 4 Wire 5 Wire 6  \\\n",
       "0    1  2019-05-03 11:11:41                  NaN    NaN    NaN    NaN    NaN   \n",
       "1    2  2019-05-03 11:46:10                  NaN    NaN    NaN    NaN    NaN   \n",
       "2    3  2019-05-03 12:13:47                  NaN    NaN    NaN    NaN    NaN   \n",
       "3    4  2019-05-03 12:48:05                  NaN    NaN    NaN    NaN    NaN   \n",
       "4    5  2019-05-03 13:18:15  2019-05-03 13:32:06    NaN    NaN    NaN    NaN   \n",
       "\n",
       "  Wire 7 Wire 8 Wire 9  \n",
       "0    NaN    NaN    NaN  \n",
       "1    NaN    NaN    NaN  \n",
       "2    NaN    NaN    NaN  \n",
       "3    NaN    NaN    NaN  \n",
       "4    NaN    NaN    NaN  "
      ]
     },
     "execution_count": 10,
     "metadata": {},
     "output_type": "execute_result"
    }
   ],
   "source": [
    "df_wire_time=pd.read_csv('/datasets/final_steel/data_wire_time.csv')\n",
    "df_wire_time.head()"
   ]
  },
  {
   "cell_type": "markdown",
   "metadata": {},
   "source": [
    "### Данные об электродах"
   ]
  },
  {
   "cell_type": "code",
   "execution_count": 11,
   "metadata": {},
   "outputs": [
    {
     "name": "stdout",
     "output_type": "stream",
     "text": [
      "Общая информация\n",
      "<class 'pandas.core.frame.DataFrame'>\n",
      "RangeIndex: 14876 entries, 0 to 14875\n",
      "Data columns (total 5 columns):\n",
      " #   Column                Non-Null Count  Dtype  \n",
      "---  ------                --------------  -----  \n",
      " 0   key                   14876 non-null  int64  \n",
      " 1   Начало нагрева дугой  14876 non-null  object \n",
      " 2   Конец нагрева дугой   14876 non-null  object \n",
      " 3   Активная мощность     14876 non-null  float64\n",
      " 4   Реактивная мощность   14876 non-null  float64\n",
      "dtypes: float64(2), int64(1), object(2)\n",
      "memory usage: 581.2+ KB\n"
     ]
    },
    {
     "data": {
      "text/plain": [
       "None"
      ]
     },
     "metadata": {},
     "output_type": "display_data"
    },
    {
     "name": "stdout",
     "output_type": "stream",
     "text": [
      "-------------------------------------------------------------------------------------------------------------\n",
      "Cтатистическиe данные\n"
     ]
    },
    {
     "data": {
      "text/html": [
       "<div>\n",
       "<style scoped>\n",
       "    .dataframe tbody tr th:only-of-type {\n",
       "        vertical-align: middle;\n",
       "    }\n",
       "\n",
       "    .dataframe tbody tr th {\n",
       "        vertical-align: top;\n",
       "    }\n",
       "\n",
       "    .dataframe thead th {\n",
       "        text-align: right;\n",
       "    }\n",
       "</style>\n",
       "<table border=\"1\" class=\"dataframe\">\n",
       "  <thead>\n",
       "    <tr style=\"text-align: right;\">\n",
       "      <th></th>\n",
       "      <th>key</th>\n",
       "      <th>Активная мощность</th>\n",
       "      <th>Реактивная мощность</th>\n",
       "    </tr>\n",
       "  </thead>\n",
       "  <tbody>\n",
       "    <tr>\n",
       "      <th>count</th>\n",
       "      <td>14876.000000</td>\n",
       "      <td>14876.000000</td>\n",
       "      <td>14876.000000</td>\n",
       "    </tr>\n",
       "    <tr>\n",
       "      <th>mean</th>\n",
       "      <td>1615.220422</td>\n",
       "      <td>0.670441</td>\n",
       "      <td>0.452592</td>\n",
       "    </tr>\n",
       "    <tr>\n",
       "      <th>std</th>\n",
       "      <td>934.571502</td>\n",
       "      <td>0.408159</td>\n",
       "      <td>5.878702</td>\n",
       "    </tr>\n",
       "    <tr>\n",
       "      <th>min</th>\n",
       "      <td>1.000000</td>\n",
       "      <td>0.030002</td>\n",
       "      <td>-715.504924</td>\n",
       "    </tr>\n",
       "    <tr>\n",
       "      <th>25%</th>\n",
       "      <td>806.000000</td>\n",
       "      <td>0.395297</td>\n",
       "      <td>0.290991</td>\n",
       "    </tr>\n",
       "    <tr>\n",
       "      <th>50%</th>\n",
       "      <td>1617.000000</td>\n",
       "      <td>0.555517</td>\n",
       "      <td>0.415962</td>\n",
       "    </tr>\n",
       "    <tr>\n",
       "      <th>75%</th>\n",
       "      <td>2429.000000</td>\n",
       "      <td>0.857034</td>\n",
       "      <td>0.637371</td>\n",
       "    </tr>\n",
       "    <tr>\n",
       "      <th>max</th>\n",
       "      <td>3241.000000</td>\n",
       "      <td>3.731596</td>\n",
       "      <td>2.676388</td>\n",
       "    </tr>\n",
       "  </tbody>\n",
       "</table>\n",
       "</div>"
      ],
      "text/plain": [
       "                key  Активная мощность  Реактивная мощность\n",
       "count  14876.000000       14876.000000         14876.000000\n",
       "mean    1615.220422           0.670441             0.452592\n",
       "std      934.571502           0.408159             5.878702\n",
       "min        1.000000           0.030002          -715.504924\n",
       "25%      806.000000           0.395297             0.290991\n",
       "50%     1617.000000           0.555517             0.415962\n",
       "75%     2429.000000           0.857034             0.637371\n",
       "max     3241.000000           3.731596             2.676388"
      ]
     },
     "metadata": {},
     "output_type": "display_data"
    },
    {
     "name": "stdout",
     "output_type": "stream",
     "text": [
      "-------------------------------------------------------------------------------------------------------------\n",
      "Вывод рандомных строк\n"
     ]
    },
    {
     "data": {
      "text/html": [
       "<div>\n",
       "<style scoped>\n",
       "    .dataframe tbody tr th:only-of-type {\n",
       "        vertical-align: middle;\n",
       "    }\n",
       "\n",
       "    .dataframe tbody tr th {\n",
       "        vertical-align: top;\n",
       "    }\n",
       "\n",
       "    .dataframe thead th {\n",
       "        text-align: right;\n",
       "    }\n",
       "</style>\n",
       "<table border=\"1\" class=\"dataframe\">\n",
       "  <thead>\n",
       "    <tr style=\"text-align: right;\">\n",
       "      <th></th>\n",
       "      <th>key</th>\n",
       "      <th>Начало нагрева дугой</th>\n",
       "      <th>Конец нагрева дугой</th>\n",
       "      <th>Активная мощность</th>\n",
       "      <th>Реактивная мощность</th>\n",
       "    </tr>\n",
       "  </thead>\n",
       "  <tbody>\n",
       "    <tr>\n",
       "      <th>9491</th>\n",
       "      <td>2059</td>\n",
       "      <td>2019-07-21 19:50:16</td>\n",
       "      <td>2019-07-21 19:52:10</td>\n",
       "      <td>0.393992</td>\n",
       "      <td>0.238762</td>\n",
       "    </tr>\n",
       "    <tr>\n",
       "      <th>8654</th>\n",
       "      <td>1883</td>\n",
       "      <td>2019-07-09 09:40:20</td>\n",
       "      <td>2019-07-09 09:41:58</td>\n",
       "      <td>0.325188</td>\n",
       "      <td>0.255067</td>\n",
       "    </tr>\n",
       "    <tr>\n",
       "      <th>5244</th>\n",
       "      <td>1138</td>\n",
       "      <td>2019-06-13 20:21:19</td>\n",
       "      <td>2019-06-13 20:23:30</td>\n",
       "      <td>0.561328</td>\n",
       "      <td>0.399679</td>\n",
       "    </tr>\n",
       "  </tbody>\n",
       "</table>\n",
       "</div>"
      ],
      "text/plain": [
       "       key Начало нагрева дугой  Конец нагрева дугой  Активная мощность  \\\n",
       "9491  2059  2019-07-21 19:50:16  2019-07-21 19:52:10           0.393992   \n",
       "8654  1883  2019-07-09 09:40:20  2019-07-09 09:41:58           0.325188   \n",
       "5244  1138  2019-06-13 20:21:19  2019-06-13 20:23:30           0.561328   \n",
       "\n",
       "      Реактивная мощность  \n",
       "9491             0.238762  \n",
       "8654             0.255067  \n",
       "5244             0.399679  "
      ]
     },
     "metadata": {},
     "output_type": "display_data"
    },
    {
     "name": "stdout",
     "output_type": "stream",
     "text": [
      "-------------------------------------------------------------------------------------------------------------\n",
      "Количества дубликатов\n"
     ]
    },
    {
     "data": {
      "text/plain": [
       "0"
      ]
     },
     "metadata": {},
     "output_type": "display_data"
    },
    {
     "name": "stdout",
     "output_type": "stream",
     "text": [
      "-------------------------------------------------------------------------------------------------------------\n",
      "Количества пропущеных значений\n"
     ]
    },
    {
     "data": {
      "text/plain": [
       "key                     0\n",
       "Начало нагрева дугой    0\n",
       "Конец нагрева дугой     0\n",
       "Активная мощность       0\n",
       "Реактивная мощность     0\n",
       "dtype: int64"
      ]
     },
     "metadata": {},
     "output_type": "display_data"
    },
    {
     "name": "stdout",
     "output_type": "stream",
     "text": [
      "-------------------------------------------------------------------------------------------------------------\n",
      "None\n"
     ]
    }
   ],
   "source": [
    "def fun_date(data):\n",
    "    print('Общая информация')\n",
    "    display(data.info())\n",
    "    print('-------------------------------------------------------------------------------------------------------------')\n",
    "    print('Cтатистическиe данные')\n",
    "    display(data.describe())\n",
    "    print('-------------------------------------------------------------------------------------------------------------')\n",
    "    print('Вывод рандомных строк')\n",
    "    display(data.sample(n=3, random_state=1))\n",
    "    print('-------------------------------------------------------------------------------------------------------------')\n",
    "    print('Количества дубликатов')\n",
    "    display(data.duplicated().sum())\n",
    "    print('-------------------------------------------------------------------------------------------------------------')\n",
    "    print('Количества пропущеных значений')\n",
    "    display(data.isna().sum())\n",
    "    print('-------------------------------------------------------------------------------------------------------------')\n",
    "print(fun_date(df_arc))"
   ]
  },
  {
   "cell_type": "code",
   "execution_count": 12,
   "metadata": {},
   "outputs": [],
   "source": [
    "df_arc['Начало нагрева дугой'] = pd.to_datetime(df_arc['Начало нагрева дугой'], format='%Y-%m-%dT%H:%M:%S')\n",
    "df_arc['Конец нагрева дугой'] = pd.to_datetime(df_arc['Конец нагрева дугой'], format='%Y-%m-%dT%H:%M:%S')"
   ]
  },
  {
   "cell_type": "markdown",
   "metadata": {},
   "source": [
    "Приведем данные к нужному виду"
   ]
  },
  {
   "cell_type": "code",
   "execution_count": 13,
   "metadata": {},
   "outputs": [
    {
     "data": {
      "image/png": "[encoded data removed]",
      "text/plain": [
       "<Figure size 360x360 with 1 Axes>"
      ]
     },
     "metadata": {},
     "output_type": "display_data"
    }
   ],
   "source": [
    "fig = sns.displot(df_arc['key'].value_counts(),bins=16)\n",
    "plt.title('Зависимость номера партии от итерации обработки')\n",
    "plt.show()"
   ]
  },
  {
   "cell_type": "code",
   "execution_count": 14,
   "metadata": {},
   "outputs": [
    {
     "data": {
      "image/png": "[encoded data removed]",
      "text/plain": [
       "<Figure size 1080x360 with 1 Axes>"
      ]
     },
     "metadata": {},
     "output_type": "display_data"
    },
    {
     "data": {
      "image/png": "[encoded data removed]",
      "text/plain": [
       "<Figure size 432x288 with 1 Axes>"
      ]
     },
     "metadata": {},
     "output_type": "display_data"
    }
   ],
   "source": [
    "plt.figure(figsize=(15, 5))\n",
    "fig = sns.kdeplot(df_arc['Активная мощность'],color='g', legend=True,shade=True)\n",
    "plt.title('Зависимость активной мощности от плотности')\n",
    "plt.show()\n",
    "fig2 =df_arc.boxplot('Активная мощность')\n",
    "plt.show()"
   ]
  },
  {
   "cell_type": "code",
   "execution_count": 15,
   "metadata": {},
   "outputs": [
    {
     "data": {
      "image/png": "[encoded data removed]",
      "text/plain": [
       "<Figure size 1080x360 with 1 Axes>"
      ]
     },
     "metadata": {},
     "output_type": "display_data"
    },
    {
     "data": {
      "image/png": "[encoded data removed]",
      "text/plain": [
       "<Figure size 432x288 with 1 Axes>"
      ]
     },
     "metadata": {},
     "output_type": "display_data"
    }
   ],
   "source": [
    "plt.figure(figsize=(15, 5))\n",
    "fig = sns.kdeplot(df_arc['Реактивная мощность'], legend=True,shade=True)\n",
    "plt.title('Зависимость Реактивной мощности от плотности')\n",
    "plt.show()\n",
    "fig2 =df_arc.boxplot('Реактивная мощность')\n",
    "plt.show()"
   ]
  },
  {
   "cell_type": "markdown",
   "metadata": {},
   "source": [
    "уберем аномалии в данных"
   ]
  },
  {
   "cell_type": "code",
   "execution_count": 16,
   "metadata": {},
   "outputs": [],
   "source": [
    "df_arc =df_arc[df_arc['Реактивная мощность'] >= 0]"
   ]
  },
  {
   "cell_type": "code",
   "execution_count": 17,
   "metadata": {},
   "outputs": [
    {
     "data": {
      "image/png": "[encoded data removed]",
      "text/plain": [
       "<Figure size 432x288 with 1 Axes>"
      ]
     },
     "metadata": {},
     "output_type": "display_data"
    }
   ],
   "source": [
    "fig2 =df_arc.boxplot('Реактивная мощность')\n",
    "plt.show()"
   ]
  },
  {
   "cell_type": "code",
   "execution_count": 18,
   "metadata": {},
   "outputs": [
    {
     "data": {
      "image/png": "[encoded data removed]",
      "text/plain": [
       "<Figure size 1080x360 with 1 Axes>"
      ]
     },
     "metadata": {},
     "output_type": "display_data"
    },
    {
     "data": {
      "image/png": "[encoded data removed]",
      "text/plain": [
       "<Figure size 432x288 with 1 Axes>"
      ]
     },
     "metadata": {},
     "output_type": "display_data"
    }
   ],
   "source": [
    "plt.figure(figsize=(15, 5))\n",
    "fig = sns.kdeplot(df_arc['Реактивная мощность'], color='g',legend=True,shade=True)\n",
    "plt.title('Зависимость Реактивной мощности от плотности')\n",
    "plt.show()\n",
    "fig2 =df_arc.boxplot('Реактивная мощность')\n",
    "plt.show()"
   ]
  },
  {
   "cell_type": "markdown",
   "metadata": {},
   "source": [
    "Корреляция Активной и Реактивной мощности"
   ]
  },
  {
   "cell_type": "code",
   "execution_count": 19,
   "metadata": {},
   "outputs": [
    {
     "name": "stdout",
     "output_type": "stream",
     "text": [
      "Корреляция Активной и Реактивной мощности 0.9631819131519804\n"
     ]
    }
   ],
   "source": [
    "print('Корреляция Активной и Реактивной мощности', df_arc['Активная мощность'].corr(df_arc['Реактивная мощность']))"
   ]
  },
  {
   "cell_type": "markdown",
   "metadata": {},
   "source": [
    "Корреляция между активом и реактивом почти  равна единицы: модель может переобучиться, можно использовать полную мощность"
   ]
  },
  {
   "cell_type": "code",
   "execution_count": 20,
   "metadata": {},
   "outputs": [],
   "source": [
    "def full_power(row):\n",
    "        \n",
    "    full_power= math.sqrt(row['Активная мощность']**2 + row['Реактивная мощность']**2)\n",
    "    return full_power"
   ]
  },
  {
   "cell_type": "markdown",
   "metadata": {},
   "source": [
    "Расчитали полную мощность "
   ]
  },
  {
   "cell_type": "code",
   "execution_count": 21,
   "metadata": {},
   "outputs": [],
   "source": [
    "df_arc['Полная мощность'] = df_arc.apply(full_power, axis=1)"
   ]
  },
  {
   "cell_type": "code",
   "execution_count": 22,
   "metadata": {},
   "outputs": [
    {
     "data": {
      "image/png": "[encoded data removed]",
      "text/plain": [
       "<Figure size 1080x360 with 1 Axes>"
      ]
     },
     "metadata": {},
     "output_type": "display_data"
    },
    {
     "data": {
      "image/png": "[encoded data removed]",
      "text/plain": [
       "<Figure size 432x288 with 1 Axes>"
      ]
     },
     "metadata": {},
     "output_type": "display_data"
    }
   ],
   "source": [
    "plt.figure(figsize=(15, 5))\n",
    "fig = sns.kdeplot(df_arc['Полная мощность'], color='darkorange',legend=True,shade=True)\n",
    "plt.title('Зависимость Полной мощности от плотности')\n",
    "plt.show()\n",
    "fig2 =df_arc.boxplot('Полная мощность')"
   ]
  },
  {
   "cell_type": "markdown",
   "metadata": {},
   "source": [
    "Данные приведены к нужному типу. Убрали аномалии в реактивной мощности.\n",
    "Произведен расчет значения полной мощности. "
   ]
  },
  {
   "cell_type": "markdown",
   "metadata": {},
   "source": [
    "### Данные о подаче сыпучих материалов (объём)"
   ]
  },
  {
   "cell_type": "code",
   "execution_count": 23,
   "metadata": {},
   "outputs": [
    {
     "name": "stdout",
     "output_type": "stream",
     "text": [
      "Общая информация\n",
      "<class 'pandas.core.frame.DataFrame'>\n",
      "RangeIndex: 3129 entries, 0 to 3128\n",
      "Data columns (total 16 columns):\n",
      " #   Column   Non-Null Count  Dtype  \n",
      "---  ------   --------------  -----  \n",
      " 0   key      3129 non-null   int64  \n",
      " 1   Bulk 1   252 non-null    float64\n",
      " 2   Bulk 2   22 non-null     float64\n",
      " 3   Bulk 3   1298 non-null   float64\n",
      " 4   Bulk 4   1014 non-null   float64\n",
      " 5   Bulk 5   77 non-null     float64\n",
      " 6   Bulk 6   576 non-null    float64\n",
      " 7   Bulk 7   25 non-null     float64\n",
      " 8   Bulk 8   1 non-null      float64\n",
      " 9   Bulk 9   19 non-null     float64\n",
      " 10  Bulk 10  176 non-null    float64\n",
      " 11  Bulk 11  177 non-null    float64\n",
      " 12  Bulk 12  2450 non-null   float64\n",
      " 13  Bulk 13  18 non-null     float64\n",
      " 14  Bulk 14  2806 non-null   float64\n",
      " 15  Bulk 15  2248 non-null   float64\n",
      "dtypes: float64(15), int64(1)\n",
      "memory usage: 391.2 KB\n"
     ]
    },
    {
     "data": {
      "text/plain": [
       "None"
      ]
     },
     "metadata": {},
     "output_type": "display_data"
    },
    {
     "name": "stdout",
     "output_type": "stream",
     "text": [
      "-------------------------------------------------------------------------------------------------------------\n",
      "Cтатистическиe данные\n"
     ]
    },
    {
     "data": {
      "text/html": [
       "<div>\n",
       "<style scoped>\n",
       "    .dataframe tbody tr th:only-of-type {\n",
       "        vertical-align: middle;\n",
       "    }\n",
       "\n",
       "    .dataframe tbody tr th {\n",
       "        vertical-align: top;\n",
       "    }\n",
       "\n",
       "    .dataframe thead th {\n",
       "        text-align: right;\n",
       "    }\n",
       "</style>\n",
       "<table border=\"1\" class=\"dataframe\">\n",
       "  <thead>\n",
       "    <tr style=\"text-align: right;\">\n",
       "      <th></th>\n",
       "      <th>key</th>\n",
       "      <th>Bulk 1</th>\n",
       "      <th>Bulk 2</th>\n",
       "      <th>Bulk 3</th>\n",
       "      <th>Bulk 4</th>\n",
       "      <th>Bulk 5</th>\n",
       "      <th>Bulk 6</th>\n",
       "      <th>Bulk 7</th>\n",
       "      <th>Bulk 8</th>\n",
       "      <th>Bulk 9</th>\n",
       "      <th>Bulk 10</th>\n",
       "      <th>Bulk 11</th>\n",
       "      <th>Bulk 12</th>\n",
       "      <th>Bulk 13</th>\n",
       "      <th>Bulk 14</th>\n",
       "      <th>Bulk 15</th>\n",
       "    </tr>\n",
       "  </thead>\n",
       "  <tbody>\n",
       "    <tr>\n",
       "      <th>count</th>\n",
       "      <td>3129.000000</td>\n",
       "      <td>252.000000</td>\n",
       "      <td>22.000000</td>\n",
       "      <td>1298.000000</td>\n",
       "      <td>1014.000000</td>\n",
       "      <td>77.000000</td>\n",
       "      <td>576.000000</td>\n",
       "      <td>25.000000</td>\n",
       "      <td>1.0</td>\n",
       "      <td>19.000000</td>\n",
       "      <td>176.000000</td>\n",
       "      <td>177.000000</td>\n",
       "      <td>2450.000000</td>\n",
       "      <td>18.000000</td>\n",
       "      <td>2806.000000</td>\n",
       "      <td>2248.000000</td>\n",
       "    </tr>\n",
       "    <tr>\n",
       "      <th>mean</th>\n",
       "      <td>1624.383509</td>\n",
       "      <td>39.242063</td>\n",
       "      <td>253.045455</td>\n",
       "      <td>113.879045</td>\n",
       "      <td>104.394477</td>\n",
       "      <td>107.025974</td>\n",
       "      <td>118.925347</td>\n",
       "      <td>305.600000</td>\n",
       "      <td>49.0</td>\n",
       "      <td>76.315789</td>\n",
       "      <td>83.284091</td>\n",
       "      <td>76.819209</td>\n",
       "      <td>260.471020</td>\n",
       "      <td>181.111111</td>\n",
       "      <td>170.284747</td>\n",
       "      <td>160.513345</td>\n",
       "    </tr>\n",
       "    <tr>\n",
       "      <th>std</th>\n",
       "      <td>933.337642</td>\n",
       "      <td>18.277654</td>\n",
       "      <td>21.180578</td>\n",
       "      <td>75.483494</td>\n",
       "      <td>48.184126</td>\n",
       "      <td>81.790646</td>\n",
       "      <td>72.057776</td>\n",
       "      <td>191.022904</td>\n",
       "      <td>NaN</td>\n",
       "      <td>21.720581</td>\n",
       "      <td>26.060347</td>\n",
       "      <td>59.655365</td>\n",
       "      <td>120.649269</td>\n",
       "      <td>46.088009</td>\n",
       "      <td>65.868652</td>\n",
       "      <td>51.765319</td>\n",
       "    </tr>\n",
       "    <tr>\n",
       "      <th>min</th>\n",
       "      <td>1.000000</td>\n",
       "      <td>10.000000</td>\n",
       "      <td>228.000000</td>\n",
       "      <td>6.000000</td>\n",
       "      <td>12.000000</td>\n",
       "      <td>11.000000</td>\n",
       "      <td>17.000000</td>\n",
       "      <td>47.000000</td>\n",
       "      <td>49.0</td>\n",
       "      <td>63.000000</td>\n",
       "      <td>24.000000</td>\n",
       "      <td>8.000000</td>\n",
       "      <td>53.000000</td>\n",
       "      <td>151.000000</td>\n",
       "      <td>16.000000</td>\n",
       "      <td>1.000000</td>\n",
       "    </tr>\n",
       "    <tr>\n",
       "      <th>25%</th>\n",
       "      <td>816.000000</td>\n",
       "      <td>27.000000</td>\n",
       "      <td>242.000000</td>\n",
       "      <td>58.000000</td>\n",
       "      <td>72.000000</td>\n",
       "      <td>70.000000</td>\n",
       "      <td>69.750000</td>\n",
       "      <td>155.000000</td>\n",
       "      <td>49.0</td>\n",
       "      <td>66.000000</td>\n",
       "      <td>64.000000</td>\n",
       "      <td>25.000000</td>\n",
       "      <td>204.000000</td>\n",
       "      <td>153.250000</td>\n",
       "      <td>119.000000</td>\n",
       "      <td>105.000000</td>\n",
       "    </tr>\n",
       "    <tr>\n",
       "      <th>50%</th>\n",
       "      <td>1622.000000</td>\n",
       "      <td>31.000000</td>\n",
       "      <td>251.500000</td>\n",
       "      <td>97.500000</td>\n",
       "      <td>102.000000</td>\n",
       "      <td>86.000000</td>\n",
       "      <td>100.000000</td>\n",
       "      <td>298.000000</td>\n",
       "      <td>49.0</td>\n",
       "      <td>68.000000</td>\n",
       "      <td>86.500000</td>\n",
       "      <td>64.000000</td>\n",
       "      <td>208.000000</td>\n",
       "      <td>155.500000</td>\n",
       "      <td>151.000000</td>\n",
       "      <td>160.000000</td>\n",
       "    </tr>\n",
       "    <tr>\n",
       "      <th>75%</th>\n",
       "      <td>2431.000000</td>\n",
       "      <td>46.000000</td>\n",
       "      <td>257.750000</td>\n",
       "      <td>152.000000</td>\n",
       "      <td>133.000000</td>\n",
       "      <td>132.000000</td>\n",
       "      <td>157.000000</td>\n",
       "      <td>406.000000</td>\n",
       "      <td>49.0</td>\n",
       "      <td>70.500000</td>\n",
       "      <td>102.000000</td>\n",
       "      <td>106.000000</td>\n",
       "      <td>316.000000</td>\n",
       "      <td>203.500000</td>\n",
       "      <td>205.750000</td>\n",
       "      <td>205.000000</td>\n",
       "    </tr>\n",
       "    <tr>\n",
       "      <th>max</th>\n",
       "      <td>3241.000000</td>\n",
       "      <td>185.000000</td>\n",
       "      <td>325.000000</td>\n",
       "      <td>454.000000</td>\n",
       "      <td>281.000000</td>\n",
       "      <td>603.000000</td>\n",
       "      <td>503.000000</td>\n",
       "      <td>772.000000</td>\n",
       "      <td>49.0</td>\n",
       "      <td>147.000000</td>\n",
       "      <td>159.000000</td>\n",
       "      <td>313.000000</td>\n",
       "      <td>1849.000000</td>\n",
       "      <td>305.000000</td>\n",
       "      <td>636.000000</td>\n",
       "      <td>405.000000</td>\n",
       "    </tr>\n",
       "  </tbody>\n",
       "</table>\n",
       "</div>"
      ],
      "text/plain": [
       "               key      Bulk 1      Bulk 2       Bulk 3       Bulk 4  \\\n",
       "count  3129.000000  252.000000   22.000000  1298.000000  1014.000000   \n",
       "mean   1624.383509   39.242063  253.045455   113.879045   104.394477   \n",
       "std     933.337642   18.277654   21.180578    75.483494    48.184126   \n",
       "min       1.000000   10.000000  228.000000     6.000000    12.000000   \n",
       "25%     816.000000   27.000000  242.000000    58.000000    72.000000   \n",
       "50%    1622.000000   31.000000  251.500000    97.500000   102.000000   \n",
       "75%    2431.000000   46.000000  257.750000   152.000000   133.000000   \n",
       "max    3241.000000  185.000000  325.000000   454.000000   281.000000   \n",
       "\n",
       "           Bulk 5      Bulk 6      Bulk 7  Bulk 8      Bulk 9     Bulk 10  \\\n",
       "count   77.000000  576.000000   25.000000     1.0   19.000000  176.000000   \n",
       "mean   107.025974  118.925347  305.600000    49.0   76.315789   83.284091   \n",
       "std     81.790646   72.057776  191.022904     NaN   21.720581   26.060347   \n",
       "min     11.000000   17.000000   47.000000    49.0   63.000000   24.000000   \n",
       "25%     70.000000   69.750000  155.000000    49.0   66.000000   64.000000   \n",
       "50%     86.000000  100.000000  298.000000    49.0   68.000000   86.500000   \n",
       "75%    132.000000  157.000000  406.000000    49.0   70.500000  102.000000   \n",
       "max    603.000000  503.000000  772.000000    49.0  147.000000  159.000000   \n",
       "\n",
       "          Bulk 11      Bulk 12     Bulk 13      Bulk 14      Bulk 15  \n",
       "count  177.000000  2450.000000   18.000000  2806.000000  2248.000000  \n",
       "mean    76.819209   260.471020  181.111111   170.284747   160.513345  \n",
       "std     59.655365   120.649269   46.088009    65.868652    51.765319  \n",
       "min      8.000000    53.000000  151.000000    16.000000     1.000000  \n",
       "25%     25.000000   204.000000  153.250000   119.000000   105.000000  \n",
       "50%     64.000000   208.000000  155.500000   151.000000   160.000000  \n",
       "75%    106.000000   316.000000  203.500000   205.750000   205.000000  \n",
       "max    313.000000  1849.000000  305.000000   636.000000   405.000000  "
      ]
     },
     "metadata": {},
     "output_type": "display_data"
    },
    {
     "name": "stdout",
     "output_type": "stream",
     "text": [
      "-------------------------------------------------------------------------------------------------------------\n",
      "Вывод рандомных строк\n"
     ]
    },
    {
     "data": {
      "text/html": [
       "<div>\n",
       "<style scoped>\n",
       "    .dataframe tbody tr th:only-of-type {\n",
       "        vertical-align: middle;\n",
       "    }\n",
       "\n",
       "    .dataframe tbody tr th {\n",
       "        vertical-align: top;\n",
       "    }\n",
       "\n",
       "    .dataframe thead th {\n",
       "        text-align: right;\n",
       "    }\n",
       "</style>\n",
       "<table border=\"1\" class=\"dataframe\">\n",
       "  <thead>\n",
       "    <tr style=\"text-align: right;\">\n",
       "      <th></th>\n",
       "      <th>key</th>\n",
       "      <th>Bulk 1</th>\n",
       "      <th>Bulk 2</th>\n",
       "      <th>Bulk 3</th>\n",
       "      <th>Bulk 4</th>\n",
       "      <th>Bulk 5</th>\n",
       "      <th>Bulk 6</th>\n",
       "      <th>Bulk 7</th>\n",
       "      <th>Bulk 8</th>\n",
       "      <th>Bulk 9</th>\n",
       "      <th>Bulk 10</th>\n",
       "      <th>Bulk 11</th>\n",
       "      <th>Bulk 12</th>\n",
       "      <th>Bulk 13</th>\n",
       "      <th>Bulk 14</th>\n",
       "      <th>Bulk 15</th>\n",
       "    </tr>\n",
       "  </thead>\n",
       "  <tbody>\n",
       "    <tr>\n",
       "      <th>3113</th>\n",
       "      <td>3226</td>\n",
       "      <td>NaN</td>\n",
       "      <td>NaN</td>\n",
       "      <td>NaN</td>\n",
       "      <td>NaN</td>\n",
       "      <td>NaN</td>\n",
       "      <td>96.0</td>\n",
       "      <td>NaN</td>\n",
       "      <td>NaN</td>\n",
       "      <td>NaN</td>\n",
       "      <td>NaN</td>\n",
       "      <td>68.0</td>\n",
       "      <td>204.0</td>\n",
       "      <td>NaN</td>\n",
       "      <td>150.0</td>\n",
       "      <td>206.0</td>\n",
       "    </tr>\n",
       "    <tr>\n",
       "      <th>110</th>\n",
       "      <td>123</td>\n",
       "      <td>NaN</td>\n",
       "      <td>NaN</td>\n",
       "      <td>NaN</td>\n",
       "      <td>21.0</td>\n",
       "      <td>NaN</td>\n",
       "      <td>NaN</td>\n",
       "      <td>NaN</td>\n",
       "      <td>NaN</td>\n",
       "      <td>NaN</td>\n",
       "      <td>NaN</td>\n",
       "      <td>NaN</td>\n",
       "      <td>105.0</td>\n",
       "      <td>NaN</td>\n",
       "      <td>255.0</td>\n",
       "      <td>NaN</td>\n",
       "    </tr>\n",
       "    <tr>\n",
       "      <th>2404</th>\n",
       "      <td>2496</td>\n",
       "      <td>NaN</td>\n",
       "      <td>NaN</td>\n",
       "      <td>NaN</td>\n",
       "      <td>63.0</td>\n",
       "      <td>NaN</td>\n",
       "      <td>NaN</td>\n",
       "      <td>NaN</td>\n",
       "      <td>NaN</td>\n",
       "      <td>NaN</td>\n",
       "      <td>122.0</td>\n",
       "      <td>NaN</td>\n",
       "      <td>256.0</td>\n",
       "      <td>NaN</td>\n",
       "      <td>129.0</td>\n",
       "      <td>226.0</td>\n",
       "    </tr>\n",
       "  </tbody>\n",
       "</table>\n",
       "</div>"
      ],
      "text/plain": [
       "       key  Bulk 1  Bulk 2  Bulk 3  Bulk 4  Bulk 5  Bulk 6  Bulk 7  Bulk 8  \\\n",
       "3113  3226     NaN     NaN     NaN     NaN     NaN    96.0     NaN     NaN   \n",
       "110    123     NaN     NaN     NaN    21.0     NaN     NaN     NaN     NaN   \n",
       "2404  2496     NaN     NaN     NaN    63.0     NaN     NaN     NaN     NaN   \n",
       "\n",
       "      Bulk 9  Bulk 10  Bulk 11  Bulk 12  Bulk 13  Bulk 14  Bulk 15  \n",
       "3113     NaN      NaN     68.0    204.0      NaN    150.0    206.0  \n",
       "110      NaN      NaN      NaN    105.0      NaN    255.0      NaN  \n",
       "2404     NaN    122.0      NaN    256.0      NaN    129.0    226.0  "
      ]
     },
     "metadata": {},
     "output_type": "display_data"
    },
    {
     "name": "stdout",
     "output_type": "stream",
     "text": [
      "-------------------------------------------------------------------------------------------------------------\n",
      "Количества дубликатов\n"
     ]
    },
    {
     "data": {
      "text/plain": [
       "0"
      ]
     },
     "metadata": {},
     "output_type": "display_data"
    },
    {
     "name": "stdout",
     "output_type": "stream",
     "text": [
      "-------------------------------------------------------------------------------------------------------------\n",
      "Количества пропущеных значений\n"
     ]
    },
    {
     "data": {
      "text/plain": [
       "key           0\n",
       "Bulk 1     2877\n",
       "Bulk 2     3107\n",
       "Bulk 3     1831\n",
       "Bulk 4     2115\n",
       "Bulk 5     3052\n",
       "Bulk 6     2553\n",
       "Bulk 7     3104\n",
       "Bulk 8     3128\n",
       "Bulk 9     3110\n",
       "Bulk 10    2953\n",
       "Bulk 11    2952\n",
       "Bulk 12     679\n",
       "Bulk 13    3111\n",
       "Bulk 14     323\n",
       "Bulk 15     881\n",
       "dtype: int64"
      ]
     },
     "metadata": {},
     "output_type": "display_data"
    },
    {
     "name": "stdout",
     "output_type": "stream",
     "text": [
      "-------------------------------------------------------------------------------------------------------------\n"
     ]
    }
   ],
   "source": [
    "fun_date(df_bulk)"
   ]
  },
  {
   "cell_type": "code",
   "execution_count": 24,
   "metadata": {},
   "outputs": [
    {
     "data": {
      "image/png": "[encoded data removed]",
      "text/plain": [
       "<Figure size 1080x360 with 1 Axes>"
      ]
     },
     "metadata": {},
     "output_type": "display_data"
    }
   ],
   "source": [
    "plt.figure(figsize=(15,5))\n",
    "sns.boxplot(data=df_bulk)\n",
    "plt.grid();"
   ]
  },
  {
   "cell_type": "markdown",
   "metadata": {},
   "source": [
    "Единичное значение объема материала под номером 12 похож на выброс, на данном этапе оставим значение без изменения."
   ]
  },
  {
   "cell_type": "markdown",
   "metadata": {},
   "source": [
    "Типы данных в порядке, дубликатов нет Имеются пропуcки"
   ]
  },
  {
   "cell_type": "markdown",
   "metadata": {},
   "source": [
    "### Данные о продувке сплава газом"
   ]
  },
  {
   "cell_type": "code",
   "execution_count": 25,
   "metadata": {},
   "outputs": [
    {
     "name": "stdout",
     "output_type": "stream",
     "text": [
      "Общая информация\n",
      "<class 'pandas.core.frame.DataFrame'>\n",
      "RangeIndex: 3239 entries, 0 to 3238\n",
      "Data columns (total 2 columns):\n",
      " #   Column  Non-Null Count  Dtype  \n",
      "---  ------  --------------  -----  \n",
      " 0   key     3239 non-null   int64  \n",
      " 1   Газ 1   3239 non-null   float64\n",
      "dtypes: float64(1), int64(1)\n",
      "memory usage: 50.7 KB\n"
     ]
    },
    {
     "data": {
      "text/plain": [
       "None"
      ]
     },
     "metadata": {},
     "output_type": "display_data"
    },
    {
     "name": "stdout",
     "output_type": "stream",
     "text": [
      "-------------------------------------------------------------------------------------------------------------\n",
      "Cтатистическиe данные\n"
     ]
    },
    {
     "data": {
      "text/html": [
       "<div>\n",
       "<style scoped>\n",
       "    .dataframe tbody tr th:only-of-type {\n",
       "        vertical-align: middle;\n",
       "    }\n",
       "\n",
       "    .dataframe tbody tr th {\n",
       "        vertical-align: top;\n",
       "    }\n",
       "\n",
       "    .dataframe thead th {\n",
       "        text-align: right;\n",
       "    }\n",
       "</style>\n",
       "<table border=\"1\" class=\"dataframe\">\n",
       "  <thead>\n",
       "    <tr style=\"text-align: right;\">\n",
       "      <th></th>\n",
       "      <th>key</th>\n",
       "      <th>Газ 1</th>\n",
       "    </tr>\n",
       "  </thead>\n",
       "  <tbody>\n",
       "    <tr>\n",
       "      <th>count</th>\n",
       "      <td>3239.000000</td>\n",
       "      <td>3239.000000</td>\n",
       "    </tr>\n",
       "    <tr>\n",
       "      <th>mean</th>\n",
       "      <td>1621.861377</td>\n",
       "      <td>11.002062</td>\n",
       "    </tr>\n",
       "    <tr>\n",
       "      <th>std</th>\n",
       "      <td>935.386334</td>\n",
       "      <td>6.220327</td>\n",
       "    </tr>\n",
       "    <tr>\n",
       "      <th>min</th>\n",
       "      <td>1.000000</td>\n",
       "      <td>0.008399</td>\n",
       "    </tr>\n",
       "    <tr>\n",
       "      <th>25%</th>\n",
       "      <td>812.500000</td>\n",
       "      <td>7.043089</td>\n",
       "    </tr>\n",
       "    <tr>\n",
       "      <th>50%</th>\n",
       "      <td>1622.000000</td>\n",
       "      <td>9.836267</td>\n",
       "    </tr>\n",
       "    <tr>\n",
       "      <th>75%</th>\n",
       "      <td>2431.500000</td>\n",
       "      <td>13.769915</td>\n",
       "    </tr>\n",
       "    <tr>\n",
       "      <th>max</th>\n",
       "      <td>3241.000000</td>\n",
       "      <td>77.995040</td>\n",
       "    </tr>\n",
       "  </tbody>\n",
       "</table>\n",
       "</div>"
      ],
      "text/plain": [
       "               key        Газ 1\n",
       "count  3239.000000  3239.000000\n",
       "mean   1621.861377    11.002062\n",
       "std     935.386334     6.220327\n",
       "min       1.000000     0.008399\n",
       "25%     812.500000     7.043089\n",
       "50%    1622.000000     9.836267\n",
       "75%    2431.500000    13.769915\n",
       "max    3241.000000    77.995040"
      ]
     },
     "metadata": {},
     "output_type": "display_data"
    },
    {
     "name": "stdout",
     "output_type": "stream",
     "text": [
      "-------------------------------------------------------------------------------------------------------------\n",
      "Вывод рандомных строк\n"
     ]
    },
    {
     "data": {
      "text/html": [
       "<div>\n",
       "<style scoped>\n",
       "    .dataframe tbody tr th:only-of-type {\n",
       "        vertical-align: middle;\n",
       "    }\n",
       "\n",
       "    .dataframe tbody tr th {\n",
       "        vertical-align: top;\n",
       "    }\n",
       "\n",
       "    .dataframe thead th {\n",
       "        text-align: right;\n",
       "    }\n",
       "</style>\n",
       "<table border=\"1\" class=\"dataframe\">\n",
       "  <thead>\n",
       "    <tr style=\"text-align: right;\">\n",
       "      <th></th>\n",
       "      <th>key</th>\n",
       "      <th>Газ 1</th>\n",
       "    </tr>\n",
       "  </thead>\n",
       "  <tbody>\n",
       "    <tr>\n",
       "      <th>2161</th>\n",
       "      <td>2164</td>\n",
       "      <td>10.021713</td>\n",
       "    </tr>\n",
       "    <tr>\n",
       "      <th>1603</th>\n",
       "      <td>1606</td>\n",
       "      <td>11.502420</td>\n",
       "    </tr>\n",
       "    <tr>\n",
       "      <th>2248</th>\n",
       "      <td>2251</td>\n",
       "      <td>10.177622</td>\n",
       "    </tr>\n",
       "  </tbody>\n",
       "</table>\n",
       "</div>"
      ],
      "text/plain": [
       "       key      Газ 1\n",
       "2161  2164  10.021713\n",
       "1603  1606  11.502420\n",
       "2248  2251  10.177622"
      ]
     },
     "metadata": {},
     "output_type": "display_data"
    },
    {
     "name": "stdout",
     "output_type": "stream",
     "text": [
      "-------------------------------------------------------------------------------------------------------------\n",
      "Количества дубликатов\n"
     ]
    },
    {
     "data": {
      "text/plain": [
       "0"
      ]
     },
     "metadata": {},
     "output_type": "display_data"
    },
    {
     "name": "stdout",
     "output_type": "stream",
     "text": [
      "-------------------------------------------------------------------------------------------------------------\n",
      "Количества пропущеных значений\n"
     ]
    },
    {
     "data": {
      "text/plain": [
       "key      0\n",
       "Газ 1    0\n",
       "dtype: int64"
      ]
     },
     "metadata": {},
     "output_type": "display_data"
    },
    {
     "name": "stdout",
     "output_type": "stream",
     "text": [
      "-------------------------------------------------------------------------------------------------------------\n"
     ]
    }
   ],
   "source": [
    "fun_date(df_gas)"
   ]
  },
  {
   "cell_type": "code",
   "execution_count": 26,
   "metadata": {},
   "outputs": [
    {
     "data": {
      "image/png": "[encoded data removed]",
      "text/plain": [
       "<Figure size 1080x360 with 1 Axes>"
      ]
     },
     "metadata": {},
     "output_type": "display_data"
    },
    {
     "data": {
      "image/png": "[encoded data removed]",
      "text/plain": [
       "<Figure size 432x288 with 1 Axes>"
      ]
     },
     "metadata": {},
     "output_type": "display_data"
    }
   ],
   "source": [
    "plt.figure(figsize=(15, 5))\n",
    "fig = sns.kdeplot(df_gas['Газ 1'], legend=True,shade=True)\n",
    "plt.title('Распределения продувки сплава газом')\n",
    "plt.show()\n",
    "fig2 =df_gas.boxplot('Газ 1')\n"
   ]
  },
  {
   "cell_type": "markdown",
   "metadata": {},
   "source": [
    "Данные в порядке."
   ]
  },
  {
   "cell_type": "markdown",
   "metadata": {},
   "source": [
    "### Результаты измерения температуры"
   ]
  },
  {
   "cell_type": "code",
   "execution_count": 27,
   "metadata": {},
   "outputs": [
    {
     "name": "stdout",
     "output_type": "stream",
     "text": [
      "Общая информация\n",
      "<class 'pandas.core.frame.DataFrame'>\n",
      "RangeIndex: 15907 entries, 0 to 15906\n",
      "Data columns (total 3 columns):\n",
      " #   Column        Non-Null Count  Dtype  \n",
      "---  ------        --------------  -----  \n",
      " 0   key           15907 non-null  int64  \n",
      " 1   Время замера  15907 non-null  object \n",
      " 2   Температура   13006 non-null  float64\n",
      "dtypes: float64(1), int64(1), object(1)\n",
      "memory usage: 372.9+ KB\n"
     ]
    },
    {
     "data": {
      "text/plain": [
       "None"
      ]
     },
     "metadata": {},
     "output_type": "display_data"
    },
    {
     "name": "stdout",
     "output_type": "stream",
     "text": [
      "-------------------------------------------------------------------------------------------------------------\n",
      "Cтатистическиe данные\n"
     ]
    },
    {
     "data": {
      "text/html": [
       "<div>\n",
       "<style scoped>\n",
       "    .dataframe tbody tr th:only-of-type {\n",
       "        vertical-align: middle;\n",
       "    }\n",
       "\n",
       "    .dataframe tbody tr th {\n",
       "        vertical-align: top;\n",
       "    }\n",
       "\n",
       "    .dataframe thead th {\n",
       "        text-align: right;\n",
       "    }\n",
       "</style>\n",
       "<table border=\"1\" class=\"dataframe\">\n",
       "  <thead>\n",
       "    <tr style=\"text-align: right;\">\n",
       "      <th></th>\n",
       "      <th>key</th>\n",
       "      <th>Температура</th>\n",
       "    </tr>\n",
       "  </thead>\n",
       "  <tbody>\n",
       "    <tr>\n",
       "      <th>count</th>\n",
       "      <td>15907.000000</td>\n",
       "      <td>13006.000000</td>\n",
       "    </tr>\n",
       "    <tr>\n",
       "      <th>mean</th>\n",
       "      <td>1607.880870</td>\n",
       "      <td>1591.840920</td>\n",
       "    </tr>\n",
       "    <tr>\n",
       "      <th>std</th>\n",
       "      <td>942.212073</td>\n",
       "      <td>21.375851</td>\n",
       "    </tr>\n",
       "    <tr>\n",
       "      <th>min</th>\n",
       "      <td>1.000000</td>\n",
       "      <td>1191.000000</td>\n",
       "    </tr>\n",
       "    <tr>\n",
       "      <th>25%</th>\n",
       "      <td>790.000000</td>\n",
       "      <td>1581.000000</td>\n",
       "    </tr>\n",
       "    <tr>\n",
       "      <th>50%</th>\n",
       "      <td>1618.000000</td>\n",
       "      <td>1591.000000</td>\n",
       "    </tr>\n",
       "    <tr>\n",
       "      <th>75%</th>\n",
       "      <td>2427.000000</td>\n",
       "      <td>1601.000000</td>\n",
       "    </tr>\n",
       "    <tr>\n",
       "      <th>max</th>\n",
       "      <td>3241.000000</td>\n",
       "      <td>1705.000000</td>\n",
       "    </tr>\n",
       "  </tbody>\n",
       "</table>\n",
       "</div>"
      ],
      "text/plain": [
       "                key   Температура\n",
       "count  15907.000000  13006.000000\n",
       "mean    1607.880870   1591.840920\n",
       "std      942.212073     21.375851\n",
       "min        1.000000   1191.000000\n",
       "25%      790.000000   1581.000000\n",
       "50%     1618.000000   1591.000000\n",
       "75%     2427.000000   1601.000000\n",
       "max     3241.000000   1705.000000"
      ]
     },
     "metadata": {},
     "output_type": "display_data"
    },
    {
     "name": "stdout",
     "output_type": "stream",
     "text": [
      "-------------------------------------------------------------------------------------------------------------\n",
      "Вывод рандомных строк\n"
     ]
    },
    {
     "data": {
      "text/html": [
       "<div>\n",
       "<style scoped>\n",
       "    .dataframe tbody tr th:only-of-type {\n",
       "        vertical-align: middle;\n",
       "    }\n",
       "\n",
       "    .dataframe tbody tr th {\n",
       "        vertical-align: top;\n",
       "    }\n",
       "\n",
       "    .dataframe thead th {\n",
       "        text-align: right;\n",
       "    }\n",
       "</style>\n",
       "<table border=\"1\" class=\"dataframe\">\n",
       "  <thead>\n",
       "    <tr style=\"text-align: right;\">\n",
       "      <th></th>\n",
       "      <th>key</th>\n",
       "      <th>Время замера</th>\n",
       "      <th>Температура</th>\n",
       "    </tr>\n",
       "  </thead>\n",
       "  <tbody>\n",
       "    <tr>\n",
       "      <th>9251</th>\n",
       "      <td>1883</td>\n",
       "      <td>2019-07-09 09:52:03</td>\n",
       "      <td>1604.0</td>\n",
       "    </tr>\n",
       "    <tr>\n",
       "      <th>8217</th>\n",
       "      <td>1673</td>\n",
       "      <td>2019-07-02 02:30:35</td>\n",
       "      <td>1582.0</td>\n",
       "    </tr>\n",
       "    <tr>\n",
       "      <th>15422</th>\n",
       "      <td>3135</td>\n",
       "      <td>2019-08-28 16:50:17</td>\n",
       "      <td>NaN</td>\n",
       "    </tr>\n",
       "  </tbody>\n",
       "</table>\n",
       "</div>"
      ],
      "text/plain": [
       "        key         Время замера  Температура\n",
       "9251   1883  2019-07-09 09:52:03       1604.0\n",
       "8217   1673  2019-07-02 02:30:35       1582.0\n",
       "15422  3135  2019-08-28 16:50:17          NaN"
      ]
     },
     "metadata": {},
     "output_type": "display_data"
    },
    {
     "name": "stdout",
     "output_type": "stream",
     "text": [
      "-------------------------------------------------------------------------------------------------------------\n",
      "Количества дубликатов\n"
     ]
    },
    {
     "data": {
      "text/plain": [
       "0"
      ]
     },
     "metadata": {},
     "output_type": "display_data"
    },
    {
     "name": "stdout",
     "output_type": "stream",
     "text": [
      "-------------------------------------------------------------------------------------------------------------\n",
      "Количества пропущеных значений\n"
     ]
    },
    {
     "data": {
      "text/plain": [
       "key                0\n",
       "Время замера       0\n",
       "Температура     2901\n",
       "dtype: int64"
      ]
     },
     "metadata": {},
     "output_type": "display_data"
    },
    {
     "name": "stdout",
     "output_type": "stream",
     "text": [
      "-------------------------------------------------------------------------------------------------------------\n"
     ]
    }
   ],
   "source": [
    "fun_date(df_temp)"
   ]
  },
  {
   "cell_type": "code",
   "execution_count": 28,
   "metadata": {},
   "outputs": [],
   "source": [
    "df_temp['Время замера'] = pd.to_datetime(df_temp['Время замера'], format='%Y-%m-%dT%H:%M:%S')"
   ]
  },
  {
   "cell_type": "markdown",
   "metadata": {},
   "source": [
    "Привели тип данных в нужный формат"
   ]
  },
  {
   "cell_type": "code",
   "execution_count": 29,
   "metadata": {},
   "outputs": [
    {
     "data": {
      "text/html": [
       "<div>\n",
       "<style scoped>\n",
       "    .dataframe tbody tr th:only-of-type {\n",
       "        vertical-align: middle;\n",
       "    }\n",
       "\n",
       "    .dataframe tbody tr th {\n",
       "        vertical-align: top;\n",
       "    }\n",
       "\n",
       "    .dataframe thead th {\n",
       "        text-align: right;\n",
       "    }\n",
       "</style>\n",
       "<table border=\"1\" class=\"dataframe\">\n",
       "  <thead>\n",
       "    <tr style=\"text-align: right;\">\n",
       "      <th></th>\n",
       "      <th>key</th>\n",
       "      <th>Время замера</th>\n",
       "      <th>Температура</th>\n",
       "    </tr>\n",
       "  </thead>\n",
       "  <tbody>\n",
       "    <tr>\n",
       "      <th>0</th>\n",
       "      <td>1</td>\n",
       "      <td>2019-05-03 11:16:18</td>\n",
       "      <td>1571.0</td>\n",
       "    </tr>\n",
       "    <tr>\n",
       "      <th>1</th>\n",
       "      <td>1</td>\n",
       "      <td>2019-05-03 11:25:53</td>\n",
       "      <td>1604.0</td>\n",
       "    </tr>\n",
       "    <tr>\n",
       "      <th>2</th>\n",
       "      <td>1</td>\n",
       "      <td>2019-05-03 11:29:11</td>\n",
       "      <td>1618.0</td>\n",
       "    </tr>\n",
       "    <tr>\n",
       "      <th>3</th>\n",
       "      <td>1</td>\n",
       "      <td>2019-05-03 11:30:01</td>\n",
       "      <td>1601.0</td>\n",
       "    </tr>\n",
       "    <tr>\n",
       "      <th>4</th>\n",
       "      <td>1</td>\n",
       "      <td>2019-05-03 11:30:39</td>\n",
       "      <td>1613.0</td>\n",
       "    </tr>\n",
       "    <tr>\n",
       "      <th>...</th>\n",
       "      <td>...</td>\n",
       "      <td>...</td>\n",
       "      <td>...</td>\n",
       "    </tr>\n",
       "    <tr>\n",
       "      <th>13001</th>\n",
       "      <td>3237</td>\n",
       "      <td>2019-08-31 22:44:04</td>\n",
       "      <td>1569.0</td>\n",
       "    </tr>\n",
       "    <tr>\n",
       "      <th>13002</th>\n",
       "      <td>3238</td>\n",
       "      <td>2019-08-31 23:30:31</td>\n",
       "      <td>1584.0</td>\n",
       "    </tr>\n",
       "    <tr>\n",
       "      <th>13003</th>\n",
       "      <td>3239</td>\n",
       "      <td>2019-09-01 01:31:47</td>\n",
       "      <td>1598.0</td>\n",
       "    </tr>\n",
       "    <tr>\n",
       "      <th>13004</th>\n",
       "      <td>3240</td>\n",
       "      <td>2019-09-01 02:39:01</td>\n",
       "      <td>1617.0</td>\n",
       "    </tr>\n",
       "    <tr>\n",
       "      <th>13005</th>\n",
       "      <td>3241</td>\n",
       "      <td>2019-09-01 04:03:30</td>\n",
       "      <td>1586.0</td>\n",
       "    </tr>\n",
       "  </tbody>\n",
       "</table>\n",
       "<p>13006 rows × 3 columns</p>\n",
       "</div>"
      ],
      "text/plain": [
       "        key        Время замера  Температура\n",
       "0         1 2019-05-03 11:16:18       1571.0\n",
       "1         1 2019-05-03 11:25:53       1604.0\n",
       "2         1 2019-05-03 11:29:11       1618.0\n",
       "3         1 2019-05-03 11:30:01       1601.0\n",
       "4         1 2019-05-03 11:30:39       1613.0\n",
       "...     ...                 ...          ...\n",
       "13001  3237 2019-08-31 22:44:04       1569.0\n",
       "13002  3238 2019-08-31 23:30:31       1584.0\n",
       "13003  3239 2019-09-01 01:31:47       1598.0\n",
       "13004  3240 2019-09-01 02:39:01       1617.0\n",
       "13005  3241 2019-09-01 04:03:30       1586.0\n",
       "\n",
       "[13006 rows x 3 columns]"
      ]
     },
     "execution_count": 29,
     "metadata": {},
     "output_type": "execute_result"
    }
   ],
   "source": [
    "df_temp.dropna().reset_index(drop = True)"
   ]
  },
  {
   "cell_type": "markdown",
   "metadata": {},
   "source": [
    "Удалим пропуски"
   ]
  },
  {
   "cell_type": "code",
   "execution_count": 30,
   "metadata": {},
   "outputs": [
    {
     "data": {
      "image/png": "[encoded data removed]",
      "text/plain": [
       "<Figure size 1080x360 with 1 Axes>"
      ]
     },
     "metadata": {},
     "output_type": "display_data"
    },
    {
     "data": {
      "image/png": "[encoded data removed]",
      "text/plain": [
       "<Figure size 432x288 with 1 Axes>"
      ]
     },
     "metadata": {},
     "output_type": "display_data"
    }
   ],
   "source": [
    "plt.figure(figsize=(15, 5))\n",
    "fig = sns.kdeplot(df_temp['Температура'], legend=True,shade=True)\n",
    "plt.title('Распределение температуры')\n",
    "plt.show()\n",
    "fig2 =df_temp.boxplot('Температура')"
   ]
  },
  {
   "cell_type": "markdown",
   "metadata": {},
   "source": [
    "Тип данных приведены в нужный формат. Пропуски удалили, заменять нечем."
   ]
  },
  {
   "cell_type": "markdown",
   "metadata": {},
   "source": [
    "### Данные о проволочных материалах (объём)"
   ]
  },
  {
   "cell_type": "code",
   "execution_count": 31,
   "metadata": {},
   "outputs": [
    {
     "name": "stdout",
     "output_type": "stream",
     "text": [
      "Общая информация\n",
      "<class 'pandas.core.frame.DataFrame'>\n",
      "RangeIndex: 3081 entries, 0 to 3080\n",
      "Data columns (total 10 columns):\n",
      " #   Column  Non-Null Count  Dtype  \n",
      "---  ------  --------------  -----  \n",
      " 0   key     3081 non-null   int64  \n",
      " 1   Wire 1  3055 non-null   float64\n",
      " 2   Wire 2  1079 non-null   float64\n",
      " 3   Wire 3  63 non-null     float64\n",
      " 4   Wire 4  14 non-null     float64\n",
      " 5   Wire 5  1 non-null      float64\n",
      " 6   Wire 6  73 non-null     float64\n",
      " 7   Wire 7  11 non-null     float64\n",
      " 8   Wire 8  19 non-null     float64\n",
      " 9   Wire 9  29 non-null     float64\n",
      "dtypes: float64(9), int64(1)\n",
      "memory usage: 240.8 KB\n"
     ]
    },
    {
     "data": {
      "text/plain": [
       "None"
      ]
     },
     "metadata": {},
     "output_type": "display_data"
    },
    {
     "name": "stdout",
     "output_type": "stream",
     "text": [
      "-------------------------------------------------------------------------------------------------------------\n",
      "Cтатистическиe данные\n"
     ]
    },
    {
     "data": {
      "text/html": [
       "<div>\n",
       "<style scoped>\n",
       "    .dataframe tbody tr th:only-of-type {\n",
       "        vertical-align: middle;\n",
       "    }\n",
       "\n",
       "    .dataframe tbody tr th {\n",
       "        vertical-align: top;\n",
       "    }\n",
       "\n",
       "    .dataframe thead th {\n",
       "        text-align: right;\n",
       "    }\n",
       "</style>\n",
       "<table border=\"1\" class=\"dataframe\">\n",
       "  <thead>\n",
       "    <tr style=\"text-align: right;\">\n",
       "      <th></th>\n",
       "      <th>key</th>\n",
       "      <th>Wire 1</th>\n",
       "      <th>Wire 2</th>\n",
       "      <th>Wire 3</th>\n",
       "      <th>Wire 4</th>\n",
       "      <th>Wire 5</th>\n",
       "      <th>Wire 6</th>\n",
       "      <th>Wire 7</th>\n",
       "      <th>Wire 8</th>\n",
       "      <th>Wire 9</th>\n",
       "    </tr>\n",
       "  </thead>\n",
       "  <tbody>\n",
       "    <tr>\n",
       "      <th>count</th>\n",
       "      <td>3081.000000</td>\n",
       "      <td>3055.000000</td>\n",
       "      <td>1079.000000</td>\n",
       "      <td>63.000000</td>\n",
       "      <td>14.000000</td>\n",
       "      <td>1.000</td>\n",
       "      <td>73.000000</td>\n",
       "      <td>11.000000</td>\n",
       "      <td>19.000000</td>\n",
       "      <td>29.000000</td>\n",
       "    </tr>\n",
       "    <tr>\n",
       "      <th>mean</th>\n",
       "      <td>1623.426485</td>\n",
       "      <td>100.895853</td>\n",
       "      <td>50.577323</td>\n",
       "      <td>189.482681</td>\n",
       "      <td>57.442841</td>\n",
       "      <td>15.132</td>\n",
       "      <td>48.016974</td>\n",
       "      <td>10.039007</td>\n",
       "      <td>53.625193</td>\n",
       "      <td>34.155752</td>\n",
       "    </tr>\n",
       "    <tr>\n",
       "      <th>std</th>\n",
       "      <td>932.996726</td>\n",
       "      <td>42.012518</td>\n",
       "      <td>39.320216</td>\n",
       "      <td>99.513444</td>\n",
       "      <td>28.824667</td>\n",
       "      <td>NaN</td>\n",
       "      <td>33.919845</td>\n",
       "      <td>8.610584</td>\n",
       "      <td>16.881728</td>\n",
       "      <td>19.931616</td>\n",
       "    </tr>\n",
       "    <tr>\n",
       "      <th>min</th>\n",
       "      <td>1.000000</td>\n",
       "      <td>1.918800</td>\n",
       "      <td>0.030160</td>\n",
       "      <td>0.144144</td>\n",
       "      <td>24.148801</td>\n",
       "      <td>15.132</td>\n",
       "      <td>0.034320</td>\n",
       "      <td>0.234208</td>\n",
       "      <td>45.076721</td>\n",
       "      <td>4.622800</td>\n",
       "    </tr>\n",
       "    <tr>\n",
       "      <th>25%</th>\n",
       "      <td>823.000000</td>\n",
       "      <td>72.115684</td>\n",
       "      <td>20.193680</td>\n",
       "      <td>95.135044</td>\n",
       "      <td>40.807002</td>\n",
       "      <td>15.132</td>\n",
       "      <td>25.053600</td>\n",
       "      <td>6.762756</td>\n",
       "      <td>46.094879</td>\n",
       "      <td>22.058401</td>\n",
       "    </tr>\n",
       "    <tr>\n",
       "      <th>50%</th>\n",
       "      <td>1619.000000</td>\n",
       "      <td>100.158234</td>\n",
       "      <td>40.142956</td>\n",
       "      <td>235.194977</td>\n",
       "      <td>45.234282</td>\n",
       "      <td>15.132</td>\n",
       "      <td>42.076324</td>\n",
       "      <td>9.017009</td>\n",
       "      <td>46.279999</td>\n",
       "      <td>30.066399</td>\n",
       "    </tr>\n",
       "    <tr>\n",
       "      <th>75%</th>\n",
       "      <td>2434.000000</td>\n",
       "      <td>126.060483</td>\n",
       "      <td>70.227558</td>\n",
       "      <td>276.252014</td>\n",
       "      <td>76.124619</td>\n",
       "      <td>15.132</td>\n",
       "      <td>64.212723</td>\n",
       "      <td>11.886057</td>\n",
       "      <td>48.089603</td>\n",
       "      <td>43.862003</td>\n",
       "    </tr>\n",
       "    <tr>\n",
       "      <th>max</th>\n",
       "      <td>3241.000000</td>\n",
       "      <td>330.314424</td>\n",
       "      <td>282.780152</td>\n",
       "      <td>385.008668</td>\n",
       "      <td>113.231044</td>\n",
       "      <td>15.132</td>\n",
       "      <td>180.454575</td>\n",
       "      <td>32.847674</td>\n",
       "      <td>102.762401</td>\n",
       "      <td>90.053604</td>\n",
       "    </tr>\n",
       "  </tbody>\n",
       "</table>\n",
       "</div>"
      ],
      "text/plain": [
       "               key       Wire 1       Wire 2      Wire 3      Wire 4  Wire 5  \\\n",
       "count  3081.000000  3055.000000  1079.000000   63.000000   14.000000   1.000   \n",
       "mean   1623.426485   100.895853    50.577323  189.482681   57.442841  15.132   \n",
       "std     932.996726    42.012518    39.320216   99.513444   28.824667     NaN   \n",
       "min       1.000000     1.918800     0.030160    0.144144   24.148801  15.132   \n",
       "25%     823.000000    72.115684    20.193680   95.135044   40.807002  15.132   \n",
       "50%    1619.000000   100.158234    40.142956  235.194977   45.234282  15.132   \n",
       "75%    2434.000000   126.060483    70.227558  276.252014   76.124619  15.132   \n",
       "max    3241.000000   330.314424   282.780152  385.008668  113.231044  15.132   \n",
       "\n",
       "           Wire 6     Wire 7      Wire 8     Wire 9  \n",
       "count   73.000000  11.000000   19.000000  29.000000  \n",
       "mean    48.016974  10.039007   53.625193  34.155752  \n",
       "std     33.919845   8.610584   16.881728  19.931616  \n",
       "min      0.034320   0.234208   45.076721   4.622800  \n",
       "25%     25.053600   6.762756   46.094879  22.058401  \n",
       "50%     42.076324   9.017009   46.279999  30.066399  \n",
       "75%     64.212723  11.886057   48.089603  43.862003  \n",
       "max    180.454575  32.847674  102.762401  90.053604  "
      ]
     },
     "metadata": {},
     "output_type": "display_data"
    },
    {
     "name": "stdout",
     "output_type": "stream",
     "text": [
      "-------------------------------------------------------------------------------------------------------------\n",
      "Вывод рандомных строк\n"
     ]
    },
    {
     "data": {
      "text/html": [
       "<div>\n",
       "<style scoped>\n",
       "    .dataframe tbody tr th:only-of-type {\n",
       "        vertical-align: middle;\n",
       "    }\n",
       "\n",
       "    .dataframe tbody tr th {\n",
       "        vertical-align: top;\n",
       "    }\n",
       "\n",
       "    .dataframe thead th {\n",
       "        text-align: right;\n",
       "    }\n",
       "</style>\n",
       "<table border=\"1\" class=\"dataframe\">\n",
       "  <thead>\n",
       "    <tr style=\"text-align: right;\">\n",
       "      <th></th>\n",
       "      <th>key</th>\n",
       "      <th>Wire 1</th>\n",
       "      <th>Wire 2</th>\n",
       "      <th>Wire 3</th>\n",
       "      <th>Wire 4</th>\n",
       "      <th>Wire 5</th>\n",
       "      <th>Wire 6</th>\n",
       "      <th>Wire 7</th>\n",
       "      <th>Wire 8</th>\n",
       "      <th>Wire 9</th>\n",
       "    </tr>\n",
       "  </thead>\n",
       "  <tbody>\n",
       "    <tr>\n",
       "      <th>2642</th>\n",
       "      <td>2776</td>\n",
       "      <td>83.123039</td>\n",
       "      <td>NaN</td>\n",
       "      <td>NaN</td>\n",
       "      <td>NaN</td>\n",
       "      <td>NaN</td>\n",
       "      <td>NaN</td>\n",
       "      <td>NaN</td>\n",
       "      <td>NaN</td>\n",
       "      <td>NaN</td>\n",
       "    </tr>\n",
       "    <tr>\n",
       "      <th>1566</th>\n",
       "      <td>1645</td>\n",
       "      <td>103.100396</td>\n",
       "      <td>NaN</td>\n",
       "      <td>NaN</td>\n",
       "      <td>NaN</td>\n",
       "      <td>NaN</td>\n",
       "      <td>NaN</td>\n",
       "      <td>NaN</td>\n",
       "      <td>NaN</td>\n",
       "      <td>NaN</td>\n",
       "    </tr>\n",
       "    <tr>\n",
       "      <th>2454</th>\n",
       "      <td>2581</td>\n",
       "      <td>75.129601</td>\n",
       "      <td>NaN</td>\n",
       "      <td>NaN</td>\n",
       "      <td>NaN</td>\n",
       "      <td>NaN</td>\n",
       "      <td>NaN</td>\n",
       "      <td>NaN</td>\n",
       "      <td>NaN</td>\n",
       "      <td>NaN</td>\n",
       "    </tr>\n",
       "  </tbody>\n",
       "</table>\n",
       "</div>"
      ],
      "text/plain": [
       "       key      Wire 1  Wire 2  Wire 3  Wire 4  Wire 5  Wire 6  Wire 7  \\\n",
       "2642  2776   83.123039     NaN     NaN     NaN     NaN     NaN     NaN   \n",
       "1566  1645  103.100396     NaN     NaN     NaN     NaN     NaN     NaN   \n",
       "2454  2581   75.129601     NaN     NaN     NaN     NaN     NaN     NaN   \n",
       "\n",
       "      Wire 8  Wire 9  \n",
       "2642     NaN     NaN  \n",
       "1566     NaN     NaN  \n",
       "2454     NaN     NaN  "
      ]
     },
     "metadata": {},
     "output_type": "display_data"
    },
    {
     "name": "stdout",
     "output_type": "stream",
     "text": [
      "-------------------------------------------------------------------------------------------------------------\n",
      "Количества дубликатов\n"
     ]
    },
    {
     "data": {
      "text/plain": [
       "0"
      ]
     },
     "metadata": {},
     "output_type": "display_data"
    },
    {
     "name": "stdout",
     "output_type": "stream",
     "text": [
      "-------------------------------------------------------------------------------------------------------------\n",
      "Количества пропущеных значений\n"
     ]
    },
    {
     "data": {
      "text/plain": [
       "key          0\n",
       "Wire 1      26\n",
       "Wire 2    2002\n",
       "Wire 3    3018\n",
       "Wire 4    3067\n",
       "Wire 5    3080\n",
       "Wire 6    3008\n",
       "Wire 7    3070\n",
       "Wire 8    3062\n",
       "Wire 9    3052\n",
       "dtype: int64"
      ]
     },
     "metadata": {},
     "output_type": "display_data"
    },
    {
     "name": "stdout",
     "output_type": "stream",
     "text": [
      "-------------------------------------------------------------------------------------------------------------\n"
     ]
    }
   ],
   "source": [
    "fun_date(df_wire)"
   ]
  },
  {
   "cell_type": "code",
   "execution_count": 32,
   "metadata": {},
   "outputs": [
    {
     "data": {
      "image/png": "[encoded data removed]",
      "text/plain": [
       "<Figure size 1080x360 with 1 Axes>"
      ]
     },
     "metadata": {},
     "output_type": "display_data"
    }
   ],
   "source": [
    "plt.figure(figsize=(15,5))\n",
    "sns.boxplot(data=df_wire)\n",
    "plt.grid();"
   ]
  },
  {
   "cell_type": "markdown",
   "metadata": {},
   "source": [
    "Имеются пропуски. "
   ]
  },
  {
   "cell_type": "markdown",
   "metadata": {},
   "source": [
    "### Исследовательский анализ"
   ]
  },
  {
   "cell_type": "markdown",
   "metadata": {},
   "source": [
    "Исследовать df_arc (данные об электродах) для определения целевого признака. В df_temp(результаты измерения температуры)  найдем начальные и конечные замеры. Объединить данные  в одну таблицу и определим целевой признак. "
   ]
  },
  {
   "cell_type": "code",
   "execution_count": 33,
   "metadata": {},
   "outputs": [],
   "source": [
    "df_arc_count = df_arc.groupby(by = 'key', as_index = False).count()[['key','Начало нагрева дугой']]\n",
    "df_arc_count.columns = ['key','Количество итераций нагрева']\n"
   ]
  },
  {
   "cell_type": "markdown",
   "metadata": {},
   "source": [
    "Определили количество итераций нагрева"
   ]
  },
  {
   "cell_type": "code",
   "execution_count": 34,
   "metadata": {},
   "outputs": [],
   "source": [
    "df_arc = df_arc.groupby(by = 'key', as_index = False).sum()\n",
    "df_arc = df_arc.merge(df_arc_count, how='left', on = 'key')"
   ]
  },
  {
   "cell_type": "markdown",
   "metadata": {},
   "source": [
    "группировка по партиям"
   ]
  },
  {
   "cell_type": "code",
   "execution_count": 35,
   "metadata": {},
   "outputs": [],
   "source": [
    "df_arc = df_arc.drop(columns = ['Активная мощность', 'Реактивная мощность'], axis = 1)"
   ]
  },
  {
   "cell_type": "code",
   "execution_count": 36,
   "metadata": {},
   "outputs": [],
   "source": [
    "df_temp = df_temp.dropna(subset=['Температура']).reset_index(drop=True)\n",
    "df_temp = df_temp.sort_values(by=['Время замера'])\n",
    "\n",
    "count = df_temp.groupby(by = 'key', as_index=False).count()\n",
    "one = count[count['Время замера']== 1]['key'].tolist()\n",
    "df_temp = df_temp.query('key not in @one')"
   ]
  },
  {
   "cell_type": "markdown",
   "metadata": {},
   "source": [
    "убрали пропуски в данных по замерам температуры, а также где имеется только один замер"
   ]
  },
  {
   "cell_type": "code",
   "execution_count": 37,
   "metadata": {},
   "outputs": [
    {
     "data": {
      "text/html": [
       "<div>\n",
       "<style scoped>\n",
       "    .dataframe tbody tr th:only-of-type {\n",
       "        vertical-align: middle;\n",
       "    }\n",
       "\n",
       "    .dataframe tbody tr th {\n",
       "        vertical-align: top;\n",
       "    }\n",
       "\n",
       "    .dataframe thead th {\n",
       "        text-align: right;\n",
       "    }\n",
       "</style>\n",
       "<table border=\"1\" class=\"dataframe\">\n",
       "  <thead>\n",
       "    <tr style=\"text-align: right;\">\n",
       "      <th></th>\n",
       "      <th>key</th>\n",
       "      <th>Температура 1</th>\n",
       "      <th>Температура 2</th>\n",
       "    </tr>\n",
       "  </thead>\n",
       "  <tbody>\n",
       "    <tr>\n",
       "      <th>0</th>\n",
       "      <td>1</td>\n",
       "      <td>1571.0</td>\n",
       "      <td>1613.0</td>\n",
       "    </tr>\n",
       "    <tr>\n",
       "      <th>1</th>\n",
       "      <td>2</td>\n",
       "      <td>1581.0</td>\n",
       "      <td>1602.0</td>\n",
       "    </tr>\n",
       "    <tr>\n",
       "      <th>2</th>\n",
       "      <td>3</td>\n",
       "      <td>1596.0</td>\n",
       "      <td>1599.0</td>\n",
       "    </tr>\n",
       "    <tr>\n",
       "      <th>3</th>\n",
       "      <td>4</td>\n",
       "      <td>1601.0</td>\n",
       "      <td>1625.0</td>\n",
       "    </tr>\n",
       "    <tr>\n",
       "      <th>4</th>\n",
       "      <td>5</td>\n",
       "      <td>1576.0</td>\n",
       "      <td>1602.0</td>\n",
       "    </tr>\n",
       "    <tr>\n",
       "      <th>...</th>\n",
       "      <td>...</td>\n",
       "      <td>...</td>\n",
       "      <td>...</td>\n",
       "    </tr>\n",
       "    <tr>\n",
       "      <th>2470</th>\n",
       "      <td>2495</td>\n",
       "      <td>1570.0</td>\n",
       "      <td>1591.0</td>\n",
       "    </tr>\n",
       "    <tr>\n",
       "      <th>2471</th>\n",
       "      <td>2496</td>\n",
       "      <td>1554.0</td>\n",
       "      <td>1591.0</td>\n",
       "    </tr>\n",
       "    <tr>\n",
       "      <th>2472</th>\n",
       "      <td>2497</td>\n",
       "      <td>1571.0</td>\n",
       "      <td>1589.0</td>\n",
       "    </tr>\n",
       "    <tr>\n",
       "      <th>2473</th>\n",
       "      <td>2498</td>\n",
       "      <td>1591.0</td>\n",
       "      <td>1594.0</td>\n",
       "    </tr>\n",
       "    <tr>\n",
       "      <th>2474</th>\n",
       "      <td>2499</td>\n",
       "      <td>1569.0</td>\n",
       "      <td>1603.0</td>\n",
       "    </tr>\n",
       "  </tbody>\n",
       "</table>\n",
       "<p>2475 rows × 3 columns</p>\n",
       "</div>"
      ],
      "text/plain": [
       "       key  Температура 1  Температура 2\n",
       "0        1         1571.0         1613.0\n",
       "1        2         1581.0         1602.0\n",
       "2        3         1596.0         1599.0\n",
       "3        4         1601.0         1625.0\n",
       "4        5         1576.0         1602.0\n",
       "...    ...            ...            ...\n",
       "2470  2495         1570.0         1591.0\n",
       "2471  2496         1554.0         1591.0\n",
       "2472  2497         1571.0         1589.0\n",
       "2473  2498         1591.0         1594.0\n",
       "2474  2499         1569.0         1603.0\n",
       "\n",
       "[2475 rows x 3 columns]"
      ]
     },
     "execution_count": 37,
     "metadata": {},
     "output_type": "execute_result"
    }
   ],
   "source": [
    "df_temp = df_temp.groupby(by ='key').agg(['first', 'last']).reset_index()\n",
    "df_temp.columns = df_temp.columns.droplevel()\n",
    "df_temp.columns = ['key', 'Время замера 1', 'Время замера 2','Температура 1','Температура 2']\n",
    "df_temp = df_temp[['key','Температура 1','Температура 2']]\n",
    "df_temp"
   ]
  },
  {
   "cell_type": "markdown",
   "metadata": {},
   "source": [
    "группируем по первым и последним значениям замеры температуры"
   ]
  },
  {
   "cell_type": "code",
   "execution_count": 38,
   "metadata": {},
   "outputs": [],
   "source": [
    "data = (df_temp.merge(df_arc, how='inner', on = 'key').merge(df_wire, how='inner', on = 'key').merge(df_bulk, how='inner', on = 'key').merge(df_gas, how='inner', on = 'key'))\n"
   ]
  },
  {
   "cell_type": "code",
   "execution_count": 39,
   "metadata": {},
   "outputs": [
    {
     "data": {
      "text/html": [
       "<div>\n",
       "<style scoped>\n",
       "    .dataframe tbody tr th:only-of-type {\n",
       "        vertical-align: middle;\n",
       "    }\n",
       "\n",
       "    .dataframe tbody tr th {\n",
       "        vertical-align: top;\n",
       "    }\n",
       "\n",
       "    .dataframe thead th {\n",
       "        text-align: right;\n",
       "    }\n",
       "</style>\n",
       "<table border=\"1\" class=\"dataframe\">\n",
       "  <thead>\n",
       "    <tr style=\"text-align: right;\">\n",
       "      <th></th>\n",
       "      <th>key</th>\n",
       "      <th>Temp 1</th>\n",
       "      <th>Temp 2</th>\n",
       "      <th>Full_pwr</th>\n",
       "      <th>Count_iter</th>\n",
       "      <th>Wire 1</th>\n",
       "      <th>Wire 2</th>\n",
       "      <th>Wire 3</th>\n",
       "      <th>Wire 4</th>\n",
       "      <th>Wire 5</th>\n",
       "      <th>...</th>\n",
       "      <th>Bulk 7</th>\n",
       "      <th>Bulk 8</th>\n",
       "      <th>Bulk 9</th>\n",
       "      <th>Bulk 10</th>\n",
       "      <th>Bulk 11</th>\n",
       "      <th>Bulk 12</th>\n",
       "      <th>Bulk 13</th>\n",
       "      <th>Bulk 14</th>\n",
       "      <th>Bulk 15</th>\n",
       "      <th>Газ 1</th>\n",
       "    </tr>\n",
       "  </thead>\n",
       "  <tbody>\n",
       "    <tr>\n",
       "      <th>0</th>\n",
       "      <td>1</td>\n",
       "      <td>1571.0</td>\n",
       "      <td>1613.0</td>\n",
       "      <td>5.826395</td>\n",
       "      <td>5</td>\n",
       "      <td>60.059998</td>\n",
       "      <td>0.00000</td>\n",
       "      <td>0.0</td>\n",
       "      <td>0.0</td>\n",
       "      <td>0.0</td>\n",
       "      <td>...</td>\n",
       "      <td>0.0</td>\n",
       "      <td>0.0</td>\n",
       "      <td>0.0</td>\n",
       "      <td>0.0</td>\n",
       "      <td>0.0</td>\n",
       "      <td>206.0</td>\n",
       "      <td>0.0</td>\n",
       "      <td>150.0</td>\n",
       "      <td>154.0</td>\n",
       "      <td>29.749986</td>\n",
       "    </tr>\n",
       "    <tr>\n",
       "      <th>1</th>\n",
       "      <td>2</td>\n",
       "      <td>1581.0</td>\n",
       "      <td>1602.0</td>\n",
       "      <td>3.649216</td>\n",
       "      <td>4</td>\n",
       "      <td>96.052315</td>\n",
       "      <td>0.00000</td>\n",
       "      <td>0.0</td>\n",
       "      <td>0.0</td>\n",
       "      <td>0.0</td>\n",
       "      <td>...</td>\n",
       "      <td>0.0</td>\n",
       "      <td>0.0</td>\n",
       "      <td>0.0</td>\n",
       "      <td>0.0</td>\n",
       "      <td>0.0</td>\n",
       "      <td>206.0</td>\n",
       "      <td>0.0</td>\n",
       "      <td>149.0</td>\n",
       "      <td>154.0</td>\n",
       "      <td>12.555561</td>\n",
       "    </tr>\n",
       "    <tr>\n",
       "      <th>2</th>\n",
       "      <td>3</td>\n",
       "      <td>1596.0</td>\n",
       "      <td>1599.0</td>\n",
       "      <td>2.989534</td>\n",
       "      <td>5</td>\n",
       "      <td>91.160157</td>\n",
       "      <td>0.00000</td>\n",
       "      <td>0.0</td>\n",
       "      <td>0.0</td>\n",
       "      <td>0.0</td>\n",
       "      <td>...</td>\n",
       "      <td>0.0</td>\n",
       "      <td>0.0</td>\n",
       "      <td>0.0</td>\n",
       "      <td>0.0</td>\n",
       "      <td>0.0</td>\n",
       "      <td>205.0</td>\n",
       "      <td>0.0</td>\n",
       "      <td>152.0</td>\n",
       "      <td>153.0</td>\n",
       "      <td>28.554793</td>\n",
       "    </tr>\n",
       "    <tr>\n",
       "      <th>3</th>\n",
       "      <td>4</td>\n",
       "      <td>1601.0</td>\n",
       "      <td>1625.0</td>\n",
       "      <td>3.814962</td>\n",
       "      <td>4</td>\n",
       "      <td>89.063515</td>\n",
       "      <td>0.00000</td>\n",
       "      <td>0.0</td>\n",
       "      <td>0.0</td>\n",
       "      <td>0.0</td>\n",
       "      <td>...</td>\n",
       "      <td>0.0</td>\n",
       "      <td>0.0</td>\n",
       "      <td>0.0</td>\n",
       "      <td>0.0</td>\n",
       "      <td>0.0</td>\n",
       "      <td>207.0</td>\n",
       "      <td>0.0</td>\n",
       "      <td>153.0</td>\n",
       "      <td>154.0</td>\n",
       "      <td>18.841219</td>\n",
       "    </tr>\n",
       "    <tr>\n",
       "      <th>4</th>\n",
       "      <td>5</td>\n",
       "      <td>1576.0</td>\n",
       "      <td>1602.0</td>\n",
       "      <td>4.035758</td>\n",
       "      <td>4</td>\n",
       "      <td>89.238236</td>\n",
       "      <td>9.11456</td>\n",
       "      <td>0.0</td>\n",
       "      <td>0.0</td>\n",
       "      <td>0.0</td>\n",
       "      <td>...</td>\n",
       "      <td>0.0</td>\n",
       "      <td>0.0</td>\n",
       "      <td>0.0</td>\n",
       "      <td>0.0</td>\n",
       "      <td>0.0</td>\n",
       "      <td>203.0</td>\n",
       "      <td>0.0</td>\n",
       "      <td>151.0</td>\n",
       "      <td>152.0</td>\n",
       "      <td>5.413692</td>\n",
       "    </tr>\n",
       "    <tr>\n",
       "      <th>...</th>\n",
       "      <td>...</td>\n",
       "      <td>...</td>\n",
       "      <td>...</td>\n",
       "      <td>...</td>\n",
       "      <td>...</td>\n",
       "      <td>...</td>\n",
       "      <td>...</td>\n",
       "      <td>...</td>\n",
       "      <td>...</td>\n",
       "      <td>...</td>\n",
       "      <td>...</td>\n",
       "      <td>...</td>\n",
       "      <td>...</td>\n",
       "      <td>...</td>\n",
       "      <td>...</td>\n",
       "      <td>...</td>\n",
       "      <td>...</td>\n",
       "      <td>...</td>\n",
       "      <td>...</td>\n",
       "      <td>...</td>\n",
       "      <td>...</td>\n",
       "    </tr>\n",
       "    <tr>\n",
       "      <th>2324</th>\n",
       "      <td>2495</td>\n",
       "      <td>1570.0</td>\n",
       "      <td>1591.0</td>\n",
       "      <td>3.986869</td>\n",
       "      <td>4</td>\n",
       "      <td>89.150879</td>\n",
       "      <td>0.00000</td>\n",
       "      <td>0.0</td>\n",
       "      <td>0.0</td>\n",
       "      <td>0.0</td>\n",
       "      <td>...</td>\n",
       "      <td>0.0</td>\n",
       "      <td>0.0</td>\n",
       "      <td>0.0</td>\n",
       "      <td>90.0</td>\n",
       "      <td>0.0</td>\n",
       "      <td>256.0</td>\n",
       "      <td>0.0</td>\n",
       "      <td>129.0</td>\n",
       "      <td>223.0</td>\n",
       "      <td>7.125735</td>\n",
       "    </tr>\n",
       "    <tr>\n",
       "      <th>2325</th>\n",
       "      <td>2496</td>\n",
       "      <td>1554.0</td>\n",
       "      <td>1591.0</td>\n",
       "      <td>5.057033</td>\n",
       "      <td>6</td>\n",
       "      <td>114.179527</td>\n",
       "      <td>0.00000</td>\n",
       "      <td>0.0</td>\n",
       "      <td>0.0</td>\n",
       "      <td>0.0</td>\n",
       "      <td>...</td>\n",
       "      <td>0.0</td>\n",
       "      <td>0.0</td>\n",
       "      <td>0.0</td>\n",
       "      <td>122.0</td>\n",
       "      <td>0.0</td>\n",
       "      <td>256.0</td>\n",
       "      <td>0.0</td>\n",
       "      <td>129.0</td>\n",
       "      <td>226.0</td>\n",
       "      <td>9.412616</td>\n",
       "    </tr>\n",
       "    <tr>\n",
       "      <th>2326</th>\n",
       "      <td>2497</td>\n",
       "      <td>1571.0</td>\n",
       "      <td>1589.0</td>\n",
       "      <td>2.885017</td>\n",
       "      <td>3</td>\n",
       "      <td>94.086723</td>\n",
       "      <td>9.04800</td>\n",
       "      <td>0.0</td>\n",
       "      <td>0.0</td>\n",
       "      <td>0.0</td>\n",
       "      <td>...</td>\n",
       "      <td>0.0</td>\n",
       "      <td>0.0</td>\n",
       "      <td>0.0</td>\n",
       "      <td>0.0</td>\n",
       "      <td>0.0</td>\n",
       "      <td>230.0</td>\n",
       "      <td>0.0</td>\n",
       "      <td>124.0</td>\n",
       "      <td>226.0</td>\n",
       "      <td>6.271699</td>\n",
       "    </tr>\n",
       "    <tr>\n",
       "      <th>2327</th>\n",
       "      <td>2498</td>\n",
       "      <td>1591.0</td>\n",
       "      <td>1594.0</td>\n",
       "      <td>4.143749</td>\n",
       "      <td>5</td>\n",
       "      <td>118.110717</td>\n",
       "      <td>0.00000</td>\n",
       "      <td>0.0</td>\n",
       "      <td>0.0</td>\n",
       "      <td>0.0</td>\n",
       "      <td>...</td>\n",
       "      <td>0.0</td>\n",
       "      <td>0.0</td>\n",
       "      <td>0.0</td>\n",
       "      <td>101.0</td>\n",
       "      <td>0.0</td>\n",
       "      <td>206.0</td>\n",
       "      <td>0.0</td>\n",
       "      <td>129.0</td>\n",
       "      <td>207.0</td>\n",
       "      <td>14.953657</td>\n",
       "    </tr>\n",
       "    <tr>\n",
       "      <th>2328</th>\n",
       "      <td>2499</td>\n",
       "      <td>1569.0</td>\n",
       "      <td>1603.0</td>\n",
       "      <td>4.953010</td>\n",
       "      <td>4</td>\n",
       "      <td>110.160958</td>\n",
       "      <td>50.00528</td>\n",
       "      <td>0.0</td>\n",
       "      <td>0.0</td>\n",
       "      <td>0.0</td>\n",
       "      <td>...</td>\n",
       "      <td>0.0</td>\n",
       "      <td>0.0</td>\n",
       "      <td>0.0</td>\n",
       "      <td>0.0</td>\n",
       "      <td>0.0</td>\n",
       "      <td>233.0</td>\n",
       "      <td>0.0</td>\n",
       "      <td>126.0</td>\n",
       "      <td>227.0</td>\n",
       "      <td>11.336151</td>\n",
       "    </tr>\n",
       "  </tbody>\n",
       "</table>\n",
       "<p>2329 rows × 30 columns</p>\n",
       "</div>"
      ],
      "text/plain": [
       "       key  Temp 1  Temp 2  Full_pwr  Count_iter      Wire 1    Wire 2  \\\n",
       "0        1  1571.0  1613.0  5.826395           5   60.059998   0.00000   \n",
       "1        2  1581.0  1602.0  3.649216           4   96.052315   0.00000   \n",
       "2        3  1596.0  1599.0  2.989534           5   91.160157   0.00000   \n",
       "3        4  1601.0  1625.0  3.814962           4   89.063515   0.00000   \n",
       "4        5  1576.0  1602.0  4.035758           4   89.238236   9.11456   \n",
       "...    ...     ...     ...       ...         ...         ...       ...   \n",
       "2324  2495  1570.0  1591.0  3.986869           4   89.150879   0.00000   \n",
       "2325  2496  1554.0  1591.0  5.057033           6  114.179527   0.00000   \n",
       "2326  2497  1571.0  1589.0  2.885017           3   94.086723   9.04800   \n",
       "2327  2498  1591.0  1594.0  4.143749           5  118.110717   0.00000   \n",
       "2328  2499  1569.0  1603.0  4.953010           4  110.160958  50.00528   \n",
       "\n",
       "      Wire 3  Wire 4  Wire 5  ...  Bulk 7  Bulk 8  Bulk 9  Bulk 10  Bulk 11  \\\n",
       "0        0.0     0.0     0.0  ...     0.0     0.0     0.0      0.0      0.0   \n",
       "1        0.0     0.0     0.0  ...     0.0     0.0     0.0      0.0      0.0   \n",
       "2        0.0     0.0     0.0  ...     0.0     0.0     0.0      0.0      0.0   \n",
       "3        0.0     0.0     0.0  ...     0.0     0.0     0.0      0.0      0.0   \n",
       "4        0.0     0.0     0.0  ...     0.0     0.0     0.0      0.0      0.0   \n",
       "...      ...     ...     ...  ...     ...     ...     ...      ...      ...   \n",
       "2324     0.0     0.0     0.0  ...     0.0     0.0     0.0     90.0      0.0   \n",
       "2325     0.0     0.0     0.0  ...     0.0     0.0     0.0    122.0      0.0   \n",
       "2326     0.0     0.0     0.0  ...     0.0     0.0     0.0      0.0      0.0   \n",
       "2327     0.0     0.0     0.0  ...     0.0     0.0     0.0    101.0      0.0   \n",
       "2328     0.0     0.0     0.0  ...     0.0     0.0     0.0      0.0      0.0   \n",
       "\n",
       "      Bulk 12  Bulk 13  Bulk 14  Bulk 15      Газ 1  \n",
       "0       206.0      0.0    150.0    154.0  29.749986  \n",
       "1       206.0      0.0    149.0    154.0  12.555561  \n",
       "2       205.0      0.0    152.0    153.0  28.554793  \n",
       "3       207.0      0.0    153.0    154.0  18.841219  \n",
       "4       203.0      0.0    151.0    152.0   5.413692  \n",
       "...       ...      ...      ...      ...        ...  \n",
       "2324    256.0      0.0    129.0    223.0   7.125735  \n",
       "2325    256.0      0.0    129.0    226.0   9.412616  \n",
       "2326    230.0      0.0    124.0    226.0   6.271699  \n",
       "2327    206.0      0.0    129.0    207.0  14.953657  \n",
       "2328    233.0      0.0    126.0    227.0  11.336151  \n",
       "\n",
       "[2329 rows x 30 columns]"
      ]
     },
     "execution_count": 39,
     "metadata": {},
     "output_type": "execute_result"
    }
   ],
   "source": [
    "data = data.fillna(0)\n",
    "data.rename(columns={'Температура 1': 'Temp 1', 'Температура 2': 'Temp 2','Полная мощность': 'Full_pwr', 'Количество итераций нагрева': 'Count_iter'}, inplace=True)\n",
    "data"
   ]
  },
  {
   "cell_type": "markdown",
   "metadata": {},
   "source": [
    "Объединили по inner, заодно  удалили строки где нет ни одной присадки или нет газа. "
   ]
  },
  {
   "cell_type": "markdown",
   "metadata": {},
   "source": [
    "Рассмотрим коррелирующие признаки"
   ]
  },
  {
   "cell_type": "code",
   "execution_count": 40,
   "metadata": {},
   "outputs": [
    {
     "data": {
      "text/plain": [
       "Full_pwr    Count_iter    0.765932\n",
       "Count_iter  Full_pwr      0.765932\n",
       "Wire 4      Bulk 7        0.740572\n",
       "Wire 8      Bulk 9        0.974969\n",
       "Bulk 7      Wire 4        0.740572\n",
       "Bulk 9      Wire 8        0.974969\n",
       "dtype: float64"
      ]
     },
     "execution_count": 40,
     "metadata": {},
     "output_type": "execute_result"
    }
   ],
   "source": [
    "data.corr().unstack()[(data.corr().unstack() < 1) & (abs(data.corr().unstack()) > 0.7)]"
   ]
  },
  {
   "cell_type": "markdown",
   "metadata": {},
   "source": [
    "Высокая корреляция наблюдается между характеристиками электродов (количество обработок и длительность, реактивня, активная, общая мощность). Некоторые сыпучие и проволочные материалы вероятно используют чаще всего вместе и в коррелирующих пропорциях.\n",
    "Посмотрим также на признаки сильнее всего коррелирующие с целевым признаком."
   ]
  },
  {
   "cell_type": "code",
   "execution_count": 41,
   "metadata": {},
   "outputs": [],
   "source": [
    "corr_target=pd.Series()\n",
    "for col in data.columns:\n",
    "    corr_target[col] = data['Temp 2'].corr(data[col])\n",
    "corr_target= corr_target.sort_values(ascending=False)[1:]"
   ]
  },
  {
   "cell_type": "code",
   "execution_count": 42,
   "metadata": {},
   "outputs": [
    {
     "data": {
      "image/png": "[encoded data removed]",
      "text/plain": [
       "<Figure size 1080x360 with 1 Axes>"
      ]
     },
     "metadata": {},
     "output_type": "display_data"
    }
   ],
   "source": [
    "plt.figure(figsize=(15,5))\n",
    "sns.barplot(x=corr_target.index, y=corr_target.values)\n",
    "plt.grid()\n",
    "plt.xticks(rotation=90)\n",
    "plt.show();"
   ]
  },
  {
   "cell_type": "markdown",
   "metadata": {},
   "source": [
    "Факторов по отдельности сильно коррелирующих с таргетом нет, максимальная корреляция наблюдается в районе 0,3 с проволочным материалом 1; сыпучими материалами 12,15; начальной температурой и некоторыми характеристиками подготовки на этапе нагрева электродами"
   ]
  },
  {
   "cell_type": "markdown",
   "metadata": {},
   "source": [
    "**Вывод**"
   ]
  },
  {
   "cell_type": "markdown",
   "metadata": {},
   "source": [
    "* Определили количество итераций нагрева\n",
    "* убрали ненужные данные\n",
    "* определили начальный и конечный замер температуры\n",
    "* объединили все в одну таблицу \n",
    "* целевой признак - конечная температура"
   ]
  },
  {
   "cell_type": "markdown",
   "metadata": {},
   "source": [
    "## Обучение модели"
   ]
  },
  {
   "cell_type": "markdown",
   "metadata": {},
   "source": [
    "* Разбить данные.\n",
    "* Обучить несколько моделей и выбрать наиболее эффективную, при необходимости подобрать оптимальные гиперпараметры\n",
    "* Провести обучение на тестовой выборке \n",
    "* Выбрать лучшую модель и сделать анализ"
   ]
  },
  {
   "cell_type": "code",
   "execution_count": 43,
   "metadata": {},
   "outputs": [],
   "source": [
    "train, test = train_test_split(data, test_size=0.2, random_state=29082022)"
   ]
  },
  {
   "cell_type": "code",
   "execution_count": 44,
   "metadata": {},
   "outputs": [
    {
     "data": {
      "text/plain": [
       "Index(['key', 'Temp 1', 'Temp 2', 'Full_pwr', 'Count_iter', 'Wire 1', 'Wire 2',\n",
       "       'Wire 3', 'Wire 4', 'Wire 5', 'Wire 6', 'Wire 7', 'Wire 8', 'Wire 9',\n",
       "       'Bulk 1', 'Bulk 2', 'Bulk 3', 'Bulk 4', 'Bulk 5', 'Bulk 6', 'Bulk 7',\n",
       "       'Bulk 8', 'Bulk 9', 'Bulk 10', 'Bulk 11', 'Bulk 12', 'Bulk 13',\n",
       "       'Bulk 14', 'Bulk 15', 'Газ 1'],\n",
       "      dtype='object')"
      ]
     },
     "execution_count": 44,
     "metadata": {},
     "output_type": "execute_result"
    }
   ],
   "source": [
    "train.columns"
   ]
  },
  {
   "cell_type": "code",
   "execution_count": 45,
   "metadata": {},
   "outputs": [
    {
     "name": "stdout",
     "output_type": "stream",
     "text": [
      "1863\n",
      "466\n"
     ]
    }
   ],
   "source": [
    "train_features = train.drop(['Temp 2','key'], axis =1)\n",
    "train_target = train['Temp 2']\n",
    "\n",
    "test_features = test.drop(['Temp 2','key'], axis =1)\n",
    "test_target = test['Temp 2']\n",
    "\n",
    "scaler = StandardScaler()\n",
    "scaler.fit(train_features)\n",
    "train_features = scaler.transform(train_features)\n",
    "test_features = scaler.transform(test_features)\n",
    "print(len(train))\n",
    "print(len(test))"
   ]
  },
  {
   "cell_type": "markdown",
   "metadata": {},
   "source": [
    "* Разбили на обучающую и тестовую выборку 70/20\n",
    "* Целевой признак - вторая(конечная) температура\n",
    "* Обучили скалер на тренировочной части данных, чтобы уменьшить переобучение"
   ]
  },
  {
   "cell_type": "markdown",
   "metadata": {},
   "source": [
    "### Выбор моделей"
   ]
  },
  {
   "cell_type": "code",
   "execution_count": 46,
   "metadata": {},
   "outputs": [],
   "source": [
    "result_list=[]\n",
    "def hq (model):\n",
    "    train_predict=model.predict(train_features)\n",
    "    result_list.append({\n",
    "        \n",
    "        'train_mae_score': mean_absolute_error(train_target, train_predict)})    "
   ]
  },
  {
   "cell_type": "code",
   "execution_count": 47,
   "metadata": {},
   "outputs": [
    {
     "name": "stdout",
     "output_type": "stream",
     "text": [
      "Learning rate set to 0.045172\n",
      "0:\tlearn: 11.2116946\ttotal: 50.5ms\tremaining: 50.5s\n",
      "1:\tlearn: 11.0841675\ttotal: 53.2ms\tremaining: 26.5s\n",
      "2:\tlearn: 10.9472233\ttotal: 55.9ms\tremaining: 18.6s\n",
      "3:\tlearn: 10.8241404\ttotal: 58.8ms\tremaining: 14.6s\n",
      "4:\tlearn: 10.7146062\ttotal: 61.5ms\tremaining: 12.2s\n",
      "5:\tlearn: 10.6028500\ttotal: 64.3ms\tremaining: 10.7s\n",
      "6:\tlearn: 10.5082558\ttotal: 67.3ms\tremaining: 9.55s\n",
      "7:\tlearn: 10.4012076\ttotal: 69.9ms\tremaining: 8.67s\n",
      "8:\tlearn: 10.3330632\ttotal: 72.7ms\tremaining: 8s\n",
      "9:\tlearn: 10.2318652\ttotal: 75.6ms\tremaining: 7.48s\n",
      "10:\tlearn: 10.1409899\ttotal: 78.2ms\tremaining: 7.03s\n",
      "11:\tlearn: 10.0660388\ttotal: 80.9ms\tremaining: 6.66s\n",
      "12:\tlearn: 9.9940605\ttotal: 83.6ms\tremaining: 6.34s\n",
      "13:\tlearn: 9.9121914\ttotal: 86.2ms\tremaining: 6.07s\n",
      "14:\tlearn: 9.8363722\ttotal: 88.8ms\tremaining: 5.83s\n",
      "15:\tlearn: 9.7635913\ttotal: 91.5ms\tremaining: 5.63s\n",
      "16:\tlearn: 9.6725004\ttotal: 94.1ms\tremaining: 5.44s\n",
      "17:\tlearn: 9.6046782\ttotal: 96.6ms\tremaining: 5.27s\n",
      "18:\tlearn: 9.5407583\ttotal: 99.3ms\tremaining: 5.13s\n",
      "19:\tlearn: 9.4715441\ttotal: 102ms\tremaining: 4.99s\n",
      "20:\tlearn: 9.3916193\ttotal: 104ms\tremaining: 4.86s\n",
      "21:\tlearn: 9.3488855\ttotal: 107ms\tremaining: 4.75s\n",
      "22:\tlearn: 9.3101810\ttotal: 110ms\tremaining: 4.65s\n",
      "23:\tlearn: 9.2631295\ttotal: 112ms\tremaining: 4.57s\n",
      "24:\tlearn: 9.2214964\ttotal: 115ms\tremaining: 4.49s\n",
      "25:\tlearn: 9.1706796\ttotal: 118ms\tremaining: 4.42s\n",
      "26:\tlearn: 9.1172205\ttotal: 121ms\tremaining: 4.34s\n",
      "27:\tlearn: 9.0787491\ttotal: 123ms\tremaining: 4.28s\n",
      "28:\tlearn: 9.0277531\ttotal: 126ms\tremaining: 4.22s\n",
      "29:\tlearn: 8.9832398\ttotal: 129ms\tremaining: 4.16s\n",
      "30:\tlearn: 8.9554707\ttotal: 131ms\tremaining: 4.1s\n",
      "31:\tlearn: 8.9133142\ttotal: 134ms\tremaining: 4.05s\n",
      "32:\tlearn: 8.8727917\ttotal: 137ms\tremaining: 4s\n",
      "33:\tlearn: 8.8321087\ttotal: 139ms\tremaining: 3.95s\n",
      "34:\tlearn: 8.7892293\ttotal: 142ms\tremaining: 3.91s\n",
      "35:\tlearn: 8.7511206\ttotal: 144ms\tremaining: 3.86s\n",
      "36:\tlearn: 8.7092195\ttotal: 147ms\tremaining: 3.82s\n",
      "37:\tlearn: 8.6836340\ttotal: 149ms\tremaining: 3.78s\n",
      "38:\tlearn: 8.6523981\ttotal: 152ms\tremaining: 3.74s\n",
      "39:\tlearn: 8.6092422\ttotal: 154ms\tremaining: 3.71s\n",
      "40:\tlearn: 8.5804153\ttotal: 157ms\tremaining: 3.67s\n",
      "41:\tlearn: 8.5480291\ttotal: 160ms\tremaining: 3.64s\n",
      "42:\tlearn: 8.5115166\ttotal: 162ms\tremaining: 3.61s\n",
      "43:\tlearn: 8.4859160\ttotal: 165ms\tremaining: 3.58s\n",
      "44:\tlearn: 8.4607120\ttotal: 167ms\tremaining: 3.55s\n",
      "45:\tlearn: 8.4352694\ttotal: 170ms\tremaining: 3.52s\n",
      "46:\tlearn: 8.4164869\ttotal: 172ms\tremaining: 3.5s\n",
      "47:\tlearn: 8.3920182\ttotal: 175ms\tremaining: 3.47s\n",
      "48:\tlearn: 8.3610483\ttotal: 178ms\tremaining: 3.45s\n",
      "49:\tlearn: 8.3366905\ttotal: 180ms\tremaining: 3.42s\n",
      "50:\tlearn: 8.3207468\ttotal: 183ms\tremaining: 3.4s\n",
      "51:\tlearn: 8.3043908\ttotal: 185ms\tremaining: 3.38s\n",
      "52:\tlearn: 8.2825976\ttotal: 188ms\tremaining: 3.36s\n",
      "53:\tlearn: 8.2550103\ttotal: 191ms\tremaining: 3.34s\n",
      "54:\tlearn: 8.2403536\ttotal: 193ms\tremaining: 3.32s\n",
      "55:\tlearn: 8.2149458\ttotal: 196ms\tremaining: 3.3s\n",
      "56:\tlearn: 8.1977696\ttotal: 198ms\tremaining: 3.28s\n",
      "57:\tlearn: 8.1728378\ttotal: 201ms\tremaining: 3.26s\n",
      "58:\tlearn: 8.1606331\ttotal: 203ms\tremaining: 3.24s\n",
      "59:\tlearn: 8.1450104\ttotal: 206ms\tremaining: 3.23s\n",
      "60:\tlearn: 8.1278838\ttotal: 208ms\tremaining: 3.21s\n",
      "61:\tlearn: 8.1050861\ttotal: 211ms\tremaining: 3.19s\n",
      "62:\tlearn: 8.0830892\ttotal: 214ms\tremaining: 3.18s\n",
      "63:\tlearn: 8.0663134\ttotal: 216ms\tremaining: 3.17s\n",
      "64:\tlearn: 8.0553825\ttotal: 219ms\tremaining: 3.15s\n",
      "65:\tlearn: 8.0491526\ttotal: 222ms\tremaining: 3.14s\n",
      "66:\tlearn: 8.0369468\ttotal: 224ms\tremaining: 3.12s\n",
      "67:\tlearn: 8.0292633\ttotal: 227ms\tremaining: 3.11s\n",
      "68:\tlearn: 8.0128929\ttotal: 229ms\tremaining: 3.09s\n",
      "69:\tlearn: 7.9818650\ttotal: 232ms\tremaining: 3.08s\n",
      "70:\tlearn: 7.9651097\ttotal: 235ms\tremaining: 3.07s\n",
      "71:\tlearn: 7.9464649\ttotal: 237ms\tremaining: 3.06s\n",
      "72:\tlearn: 7.9341774\ttotal: 240ms\tremaining: 3.05s\n",
      "73:\tlearn: 7.9264720\ttotal: 242ms\tremaining: 3.03s\n",
      "74:\tlearn: 7.9107335\ttotal: 245ms\tremaining: 3.02s\n",
      "75:\tlearn: 7.9011202\ttotal: 248ms\tremaining: 3.01s\n",
      "76:\tlearn: 7.8927857\ttotal: 250ms\tremaining: 3s\n",
      "77:\tlearn: 7.8823730\ttotal: 252ms\tremaining: 2.98s\n",
      "78:\tlearn: 7.8701504\ttotal: 255ms\tremaining: 2.97s\n",
      "79:\tlearn: 7.8565879\ttotal: 258ms\tremaining: 2.96s\n",
      "80:\tlearn: 7.8426680\ttotal: 260ms\tremaining: 2.95s\n",
      "81:\tlearn: 7.8331569\ttotal: 263ms\tremaining: 2.94s\n",
      "82:\tlearn: 7.8280222\ttotal: 265ms\tremaining: 2.93s\n",
      "83:\tlearn: 7.8188667\ttotal: 268ms\tremaining: 2.92s\n",
      "84:\tlearn: 7.8071648\ttotal: 270ms\tremaining: 2.91s\n",
      "85:\tlearn: 7.7983844\ttotal: 273ms\tremaining: 2.9s\n",
      "86:\tlearn: 7.7881250\ttotal: 275ms\tremaining: 2.89s\n",
      "87:\tlearn: 7.7780923\ttotal: 278ms\tremaining: 2.88s\n",
      "88:\tlearn: 7.7584413\ttotal: 281ms\tremaining: 2.87s\n",
      "89:\tlearn: 7.7500769\ttotal: 283ms\tremaining: 2.86s\n",
      "90:\tlearn: 7.7407882\ttotal: 286ms\tremaining: 2.85s\n",
      "91:\tlearn: 7.7316094\ttotal: 288ms\tremaining: 2.85s\n",
      "92:\tlearn: 7.7163561\ttotal: 291ms\tremaining: 2.84s\n",
      "93:\tlearn: 7.7024895\ttotal: 293ms\tremaining: 2.83s\n",
      "94:\tlearn: 7.6947794\ttotal: 296ms\tremaining: 2.82s\n",
      "95:\tlearn: 7.6835831\ttotal: 299ms\tremaining: 2.81s\n",
      "96:\tlearn: 7.6665936\ttotal: 301ms\tremaining: 2.8s\n",
      "97:\tlearn: 7.6589424\ttotal: 304ms\tremaining: 2.79s\n",
      "98:\tlearn: 7.6457550\ttotal: 307ms\tremaining: 2.79s\n",
      "99:\tlearn: 7.6331085\ttotal: 309ms\tremaining: 2.79s\n",
      "100:\tlearn: 7.6255362\ttotal: 312ms\tremaining: 2.78s\n",
      "101:\tlearn: 7.6193029\ttotal: 315ms\tremaining: 2.77s\n",
      "102:\tlearn: 7.6088952\ttotal: 318ms\tremaining: 2.77s\n",
      "103:\tlearn: 7.5982459\ttotal: 320ms\tremaining: 2.76s\n",
      "104:\tlearn: 7.5904341\ttotal: 323ms\tremaining: 2.75s\n",
      "105:\tlearn: 7.5796817\ttotal: 325ms\tremaining: 2.74s\n",
      "106:\tlearn: 7.5717298\ttotal: 328ms\tremaining: 2.74s\n",
      "107:\tlearn: 7.5581802\ttotal: 331ms\tremaining: 2.73s\n",
      "108:\tlearn: 7.5498080\ttotal: 334ms\tremaining: 2.73s\n",
      "109:\tlearn: 7.5399887\ttotal: 336ms\tremaining: 2.72s\n",
      "110:\tlearn: 7.5284631\ttotal: 339ms\tremaining: 2.71s\n",
      "111:\tlearn: 7.5232142\ttotal: 342ms\tremaining: 2.71s\n",
      "112:\tlearn: 7.5137471\ttotal: 344ms\tremaining: 2.7s\n",
      "113:\tlearn: 7.5011070\ttotal: 347ms\tremaining: 2.7s\n",
      "114:\tlearn: 7.4889683\ttotal: 350ms\tremaining: 2.69s\n",
      "115:\tlearn: 7.4804885\ttotal: 353ms\tremaining: 2.69s\n",
      "116:\tlearn: 7.4726781\ttotal: 355ms\tremaining: 2.68s\n",
      "117:\tlearn: 7.4636112\ttotal: 358ms\tremaining: 2.67s\n",
      "118:\tlearn: 7.4607174\ttotal: 361ms\tremaining: 2.67s\n",
      "119:\tlearn: 7.4538153\ttotal: 364ms\tremaining: 2.67s\n",
      "120:\tlearn: 7.4438635\ttotal: 366ms\tremaining: 2.66s\n",
      "121:\tlearn: 7.4351356\ttotal: 369ms\tremaining: 2.66s\n",
      "122:\tlearn: 7.4277900\ttotal: 373ms\tremaining: 2.66s\n",
      "123:\tlearn: 7.4196698\ttotal: 376ms\tremaining: 2.65s\n",
      "124:\tlearn: 7.4142908\ttotal: 378ms\tremaining: 2.65s\n",
      "125:\tlearn: 7.4092391\ttotal: 381ms\tremaining: 2.64s\n",
      "126:\tlearn: 7.4024478\ttotal: 384ms\tremaining: 2.64s\n",
      "127:\tlearn: 7.3944518\ttotal: 387ms\tremaining: 2.63s\n",
      "128:\tlearn: 7.3865010\ttotal: 389ms\tremaining: 2.63s\n",
      "129:\tlearn: 7.3718267\ttotal: 392ms\tremaining: 2.63s\n",
      "130:\tlearn: 7.3652948\ttotal: 395ms\tremaining: 2.62s\n",
      "131:\tlearn: 7.3575356\ttotal: 398ms\tremaining: 2.62s\n",
      "132:\tlearn: 7.3505459\ttotal: 401ms\tremaining: 2.61s\n",
      "133:\tlearn: 7.3397921\ttotal: 403ms\tremaining: 2.61s\n",
      "134:\tlearn: 7.3265492\ttotal: 406ms\tremaining: 2.6s\n",
      "135:\tlearn: 7.3125391\ttotal: 409ms\tremaining: 2.6s\n",
      "136:\tlearn: 7.3065829\ttotal: 412ms\tremaining: 2.6s\n",
      "137:\tlearn: 7.3018916\ttotal: 415ms\tremaining: 2.59s\n",
      "138:\tlearn: 7.2947149\ttotal: 418ms\tremaining: 2.59s\n",
      "139:\tlearn: 7.2874342\ttotal: 420ms\tremaining: 2.58s\n",
      "140:\tlearn: 7.2804567\ttotal: 423ms\tremaining: 2.58s\n",
      "141:\tlearn: 7.2718341\ttotal: 426ms\tremaining: 2.57s\n",
      "142:\tlearn: 7.2659255\ttotal: 428ms\tremaining: 2.57s\n",
      "143:\tlearn: 7.2583959\ttotal: 431ms\tremaining: 2.56s\n",
      "144:\tlearn: 7.2556230\ttotal: 434ms\tremaining: 2.56s\n",
      "145:\tlearn: 7.2476439\ttotal: 437ms\tremaining: 2.55s\n",
      "146:\tlearn: 7.2337776\ttotal: 439ms\tremaining: 2.55s\n",
      "147:\tlearn: 7.2208331\ttotal: 442ms\tremaining: 2.54s\n",
      "148:\tlearn: 7.2149008\ttotal: 445ms\tremaining: 2.54s\n",
      "149:\tlearn: 7.2077678\ttotal: 448ms\tremaining: 2.54s\n",
      "150:\tlearn: 7.1998987\ttotal: 450ms\tremaining: 2.53s\n",
      "151:\tlearn: 7.1963974\ttotal: 453ms\tremaining: 2.53s\n",
      "152:\tlearn: 7.1893117\ttotal: 456ms\tremaining: 2.52s\n",
      "153:\tlearn: 7.1782757\ttotal: 458ms\tremaining: 2.52s\n",
      "154:\tlearn: 7.1744960\ttotal: 462ms\tremaining: 2.52s\n",
      "155:\tlearn: 7.1706420\ttotal: 467ms\tremaining: 2.52s\n",
      "156:\tlearn: 7.1641946\ttotal: 471ms\tremaining: 2.53s\n",
      "157:\tlearn: 7.1592147\ttotal: 474ms\tremaining: 2.53s\n",
      "158:\tlearn: 7.1517557\ttotal: 477ms\tremaining: 2.52s\n",
      "159:\tlearn: 7.1426241\ttotal: 481ms\tremaining: 2.53s\n",
      "160:\tlearn: 7.1337247\ttotal: 484ms\tremaining: 2.52s\n",
      "161:\tlearn: 7.1230962\ttotal: 487ms\tremaining: 2.52s\n",
      "162:\tlearn: 7.1168412\ttotal: 490ms\tremaining: 2.52s\n",
      "163:\tlearn: 7.1116579\ttotal: 493ms\tremaining: 2.51s\n",
      "164:\tlearn: 7.1009506\ttotal: 496ms\tremaining: 2.51s\n",
      "165:\tlearn: 7.0964372\ttotal: 499ms\tremaining: 2.5s\n",
      "166:\tlearn: 7.0924966\ttotal: 502ms\tremaining: 2.5s\n",
      "167:\tlearn: 7.0885040\ttotal: 504ms\tremaining: 2.5s\n",
      "168:\tlearn: 7.0741928\ttotal: 507ms\tremaining: 2.49s\n",
      "169:\tlearn: 7.0687534\ttotal: 510ms\tremaining: 2.49s\n",
      "170:\tlearn: 7.0609214\ttotal: 513ms\tremaining: 2.48s\n",
      "171:\tlearn: 7.0475576\ttotal: 516ms\tremaining: 2.48s\n",
      "172:\tlearn: 7.0395192\ttotal: 518ms\tremaining: 2.48s\n",
      "173:\tlearn: 7.0334291\ttotal: 521ms\tremaining: 2.47s\n",
      "174:\tlearn: 7.0222937\ttotal: 524ms\tremaining: 2.47s\n",
      "175:\tlearn: 7.0167149\ttotal: 526ms\tremaining: 2.46s\n",
      "176:\tlearn: 7.0087555\ttotal: 529ms\tremaining: 2.46s\n",
      "177:\tlearn: 7.0030488\ttotal: 532ms\tremaining: 2.46s\n",
      "178:\tlearn: 6.9946500\ttotal: 535ms\tremaining: 2.45s\n",
      "179:\tlearn: 6.9891977\ttotal: 537ms\tremaining: 2.45s\n",
      "180:\tlearn: 6.9844431\ttotal: 540ms\tremaining: 2.44s\n",
      "181:\tlearn: 6.9823169\ttotal: 542ms\tremaining: 2.44s\n",
      "182:\tlearn: 6.9660196\ttotal: 545ms\tremaining: 2.43s\n",
      "183:\tlearn: 6.9605039\ttotal: 548ms\tremaining: 2.43s\n",
      "184:\tlearn: 6.9546894\ttotal: 551ms\tremaining: 2.42s\n",
      "185:\tlearn: 6.9499618\ttotal: 553ms\tremaining: 2.42s\n",
      "186:\tlearn: 6.9462479\ttotal: 556ms\tremaining: 2.42s\n",
      "187:\tlearn: 6.9392568\ttotal: 559ms\tremaining: 2.42s\n",
      "188:\tlearn: 6.9343326\ttotal: 562ms\tremaining: 2.41s\n",
      "189:\tlearn: 6.9290461\ttotal: 564ms\tremaining: 2.41s\n",
      "190:\tlearn: 6.9241340\ttotal: 567ms\tremaining: 2.4s\n",
      "191:\tlearn: 6.9121472\ttotal: 570ms\tremaining: 2.4s\n",
      "192:\tlearn: 6.9016454\ttotal: 573ms\tremaining: 2.39s\n",
      "193:\tlearn: 6.8929188\ttotal: 576ms\tremaining: 2.39s\n",
      "194:\tlearn: 6.8873895\ttotal: 579ms\tremaining: 2.39s\n",
      "195:\tlearn: 6.8791394\ttotal: 582ms\tremaining: 2.39s\n",
      "196:\tlearn: 6.8725272\ttotal: 587ms\tremaining: 2.39s\n",
      "197:\tlearn: 6.8681767\ttotal: 590ms\tremaining: 2.39s\n",
      "198:\tlearn: 6.8595303\ttotal: 593ms\tremaining: 2.39s\n",
      "199:\tlearn: 6.8561772\ttotal: 596ms\tremaining: 2.38s\n",
      "200:\tlearn: 6.8422981\ttotal: 599ms\tremaining: 2.38s\n",
      "201:\tlearn: 6.8331300\ttotal: 601ms\tremaining: 2.38s\n",
      "202:\tlearn: 6.8229707\ttotal: 604ms\tremaining: 2.37s\n",
      "203:\tlearn: 6.8190790\ttotal: 607ms\tremaining: 2.37s\n",
      "204:\tlearn: 6.8152725\ttotal: 610ms\tremaining: 2.36s\n",
      "205:\tlearn: 6.8024764\ttotal: 612ms\tremaining: 2.36s\n",
      "206:\tlearn: 6.7997319\ttotal: 615ms\tremaining: 2.35s\n",
      "207:\tlearn: 6.7929493\ttotal: 618ms\tremaining: 2.35s\n",
      "208:\tlearn: 6.7883668\ttotal: 621ms\tremaining: 2.35s\n",
      "209:\tlearn: 6.7788668\ttotal: 623ms\tremaining: 2.35s\n",
      "210:\tlearn: 6.7764576\ttotal: 626ms\tremaining: 2.34s\n",
      "211:\tlearn: 6.7700978\ttotal: 629ms\tremaining: 2.34s\n",
      "212:\tlearn: 6.7574553\ttotal: 631ms\tremaining: 2.33s\n",
      "213:\tlearn: 6.7512620\ttotal: 634ms\tremaining: 2.33s\n",
      "214:\tlearn: 6.7413559\ttotal: 637ms\tremaining: 2.32s\n",
      "215:\tlearn: 6.7349043\ttotal: 639ms\tremaining: 2.32s\n",
      "216:\tlearn: 6.7310634\ttotal: 642ms\tremaining: 2.32s\n",
      "217:\tlearn: 6.7246051\ttotal: 645ms\tremaining: 2.31s\n",
      "218:\tlearn: 6.7181884\ttotal: 648ms\tremaining: 2.31s\n",
      "219:\tlearn: 6.7088656\ttotal: 650ms\tremaining: 2.31s\n",
      "220:\tlearn: 6.7007288\ttotal: 653ms\tremaining: 2.3s\n",
      "221:\tlearn: 6.6940797\ttotal: 656ms\tremaining: 2.3s\n",
      "222:\tlearn: 6.6861151\ttotal: 659ms\tremaining: 2.29s\n",
      "223:\tlearn: 6.6790620\ttotal: 661ms\tremaining: 2.29s\n",
      "224:\tlearn: 6.6727907\ttotal: 664ms\tremaining: 2.29s\n",
      "225:\tlearn: 6.6635552\ttotal: 667ms\tremaining: 2.29s\n",
      "226:\tlearn: 6.6551931\ttotal: 670ms\tremaining: 2.28s\n",
      "227:\tlearn: 6.6459364\ttotal: 673ms\tremaining: 2.28s\n",
      "228:\tlearn: 6.6435078\ttotal: 676ms\tremaining: 2.27s\n",
      "229:\tlearn: 6.6344578\ttotal: 678ms\tremaining: 2.27s\n",
      "230:\tlearn: 6.6303660\ttotal: 681ms\tremaining: 2.27s\n",
      "231:\tlearn: 6.6249517\ttotal: 684ms\tremaining: 2.26s\n",
      "232:\tlearn: 6.6175462\ttotal: 687ms\tremaining: 2.26s\n",
      "233:\tlearn: 6.6072233\ttotal: 689ms\tremaining: 2.26s\n",
      "234:\tlearn: 6.6014876\ttotal: 692ms\tremaining: 2.25s\n",
      "235:\tlearn: 6.5922320\ttotal: 695ms\tremaining: 2.25s\n",
      "236:\tlearn: 6.5831587\ttotal: 698ms\tremaining: 2.25s\n",
      "237:\tlearn: 6.5798761\ttotal: 700ms\tremaining: 2.24s\n",
      "238:\tlearn: 6.5746538\ttotal: 703ms\tremaining: 2.24s\n",
      "239:\tlearn: 6.5637609\ttotal: 706ms\tremaining: 2.23s\n",
      "240:\tlearn: 6.5551842\ttotal: 708ms\tremaining: 2.23s\n",
      "241:\tlearn: 6.5527110\ttotal: 711ms\tremaining: 2.23s\n",
      "242:\tlearn: 6.5445125\ttotal: 714ms\tremaining: 2.22s\n",
      "243:\tlearn: 6.5329983\ttotal: 716ms\tremaining: 2.22s\n",
      "244:\tlearn: 6.5228231\ttotal: 720ms\tremaining: 2.22s\n",
      "245:\tlearn: 6.5151627\ttotal: 724ms\tremaining: 2.22s\n",
      "246:\tlearn: 6.5041150\ttotal: 729ms\tremaining: 2.22s\n",
      "247:\tlearn: 6.4989375\ttotal: 733ms\tremaining: 2.22s\n",
      "248:\tlearn: 6.4943501\ttotal: 737ms\tremaining: 2.22s\n",
      "249:\tlearn: 6.4872368\ttotal: 741ms\tremaining: 2.22s\n",
      "250:\tlearn: 6.4804271\ttotal: 745ms\tremaining: 2.22s\n",
      "251:\tlearn: 6.4692641\ttotal: 748ms\tremaining: 2.22s\n",
      "252:\tlearn: 6.4569307\ttotal: 750ms\tremaining: 2.21s\n",
      "253:\tlearn: 6.4545281\ttotal: 753ms\tremaining: 2.21s\n",
      "254:\tlearn: 6.4508633\ttotal: 756ms\tremaining: 2.21s\n",
      "255:\tlearn: 6.4486653\ttotal: 759ms\tremaining: 2.2s\n",
      "256:\tlearn: 6.4378426\ttotal: 761ms\tremaining: 2.2s\n",
      "257:\tlearn: 6.4356213\ttotal: 764ms\tremaining: 2.2s\n",
      "258:\tlearn: 6.4288982\ttotal: 767ms\tremaining: 2.19s\n",
      "259:\tlearn: 6.4195612\ttotal: 769ms\tremaining: 2.19s\n",
      "260:\tlearn: 6.4122250\ttotal: 772ms\tremaining: 2.19s\n",
      "261:\tlearn: 6.4036163\ttotal: 774ms\tremaining: 2.18s\n",
      "262:\tlearn: 6.3934187\ttotal: 778ms\tremaining: 2.18s\n",
      "263:\tlearn: 6.3876820\ttotal: 780ms\tremaining: 2.17s\n",
      "264:\tlearn: 6.3842476\ttotal: 783ms\tremaining: 2.17s\n",
      "265:\tlearn: 6.3788626\ttotal: 786ms\tremaining: 2.17s\n",
      "266:\tlearn: 6.3722522\ttotal: 788ms\tremaining: 2.16s\n",
      "267:\tlearn: 6.3704852\ttotal: 791ms\tremaining: 2.16s\n",
      "268:\tlearn: 6.3645833\ttotal: 794ms\tremaining: 2.16s\n",
      "269:\tlearn: 6.3544053\ttotal: 796ms\tremaining: 2.15s\n",
      "270:\tlearn: 6.3498952\ttotal: 799ms\tremaining: 2.15s\n",
      "271:\tlearn: 6.3479290\ttotal: 802ms\tremaining: 2.15s\n",
      "272:\tlearn: 6.3381472\ttotal: 804ms\tremaining: 2.14s\n",
      "273:\tlearn: 6.3326411\ttotal: 807ms\tremaining: 2.14s\n",
      "274:\tlearn: 6.3207724\ttotal: 810ms\tremaining: 2.13s\n",
      "275:\tlearn: 6.3174194\ttotal: 812ms\tremaining: 2.13s\n",
      "276:\tlearn: 6.3093598\ttotal: 815ms\tremaining: 2.13s\n",
      "277:\tlearn: 6.2994451\ttotal: 818ms\tremaining: 2.12s\n",
      "278:\tlearn: 6.2916954\ttotal: 821ms\tremaining: 2.12s\n",
      "279:\tlearn: 6.2812481\ttotal: 823ms\tremaining: 2.12s\n",
      "280:\tlearn: 6.2793741\ttotal: 826ms\tremaining: 2.11s\n",
      "281:\tlearn: 6.2729433\ttotal: 829ms\tremaining: 2.11s\n",
      "282:\tlearn: 6.2672883\ttotal: 831ms\tremaining: 2.11s\n",
      "283:\tlearn: 6.2631432\ttotal: 834ms\tremaining: 2.1s\n",
      "284:\tlearn: 6.2548904\ttotal: 837ms\tremaining: 2.1s\n",
      "285:\tlearn: 6.2475922\ttotal: 840ms\tremaining: 2.1s\n",
      "286:\tlearn: 6.2356788\ttotal: 842ms\tremaining: 2.09s\n",
      "287:\tlearn: 6.2294313\ttotal: 845ms\tremaining: 2.09s\n",
      "288:\tlearn: 6.2194670\ttotal: 847ms\tremaining: 2.08s\n",
      "289:\tlearn: 6.2180136\ttotal: 850ms\tremaining: 2.08s\n",
      "290:\tlearn: 6.2132578\ttotal: 853ms\tremaining: 2.08s\n",
      "291:\tlearn: 6.2066523\ttotal: 856ms\tremaining: 2.07s\n",
      "292:\tlearn: 6.1967724\ttotal: 858ms\tremaining: 2.07s\n",
      "293:\tlearn: 6.1918387\ttotal: 861ms\tremaining: 2.07s\n",
      "294:\tlearn: 6.1849366\ttotal: 864ms\tremaining: 2.06s\n",
      "295:\tlearn: 6.1774256\ttotal: 866ms\tremaining: 2.06s\n",
      "296:\tlearn: 6.1710153\ttotal: 869ms\tremaining: 2.06s\n",
      "297:\tlearn: 6.1673556\ttotal: 872ms\tremaining: 2.05s\n",
      "298:\tlearn: 6.1573315\ttotal: 875ms\tremaining: 2.05s\n",
      "299:\tlearn: 6.1511500\ttotal: 877ms\tremaining: 2.05s\n",
      "300:\tlearn: 6.1495191\ttotal: 880ms\tremaining: 2.04s\n",
      "301:\tlearn: 6.1473454\ttotal: 882ms\tremaining: 2.04s\n",
      "302:\tlearn: 6.1453446\ttotal: 885ms\tremaining: 2.04s\n",
      "303:\tlearn: 6.1370743\ttotal: 888ms\tremaining: 2.03s\n",
      "304:\tlearn: 6.1313292\ttotal: 890ms\tremaining: 2.03s\n",
      "305:\tlearn: 6.1256239\ttotal: 893ms\tremaining: 2.02s\n",
      "306:\tlearn: 6.1134081\ttotal: 895ms\tremaining: 2.02s\n",
      "307:\tlearn: 6.1060406\ttotal: 898ms\tremaining: 2.02s\n",
      "308:\tlearn: 6.0983955\ttotal: 901ms\tremaining: 2.01s\n",
      "309:\tlearn: 6.0936381\ttotal: 903ms\tremaining: 2.01s\n",
      "310:\tlearn: 6.0886799\ttotal: 906ms\tremaining: 2.01s\n",
      "311:\tlearn: 6.0789343\ttotal: 908ms\tremaining: 2s\n",
      "312:\tlearn: 6.0775675\ttotal: 911ms\tremaining: 2s\n",
      "313:\tlearn: 6.0736342\ttotal: 913ms\tremaining: 2s\n",
      "314:\tlearn: 6.0664674\ttotal: 916ms\tremaining: 1.99s\n",
      "315:\tlearn: 6.0568545\ttotal: 919ms\tremaining: 1.99s\n",
      "316:\tlearn: 6.0474466\ttotal: 921ms\tremaining: 1.99s\n",
      "317:\tlearn: 6.0456682\ttotal: 924ms\tremaining: 1.98s\n",
      "318:\tlearn: 6.0400908\ttotal: 927ms\tremaining: 1.98s\n",
      "319:\tlearn: 6.0342427\ttotal: 930ms\tremaining: 1.98s\n",
      "320:\tlearn: 6.0288304\ttotal: 933ms\tremaining: 1.97s\n",
      "321:\tlearn: 6.0235407\ttotal: 935ms\tremaining: 1.97s\n",
      "322:\tlearn: 6.0142871\ttotal: 938ms\tremaining: 1.97s\n",
      "323:\tlearn: 6.0129645\ttotal: 941ms\tremaining: 1.96s\n",
      "324:\tlearn: 6.0045450\ttotal: 943ms\tremaining: 1.96s\n",
      "325:\tlearn: 6.0008656\ttotal: 946ms\tremaining: 1.96s\n",
      "326:\tlearn: 5.9949250\ttotal: 949ms\tremaining: 1.95s\n",
      "327:\tlearn: 5.9873756\ttotal: 951ms\tremaining: 1.95s\n",
      "328:\tlearn: 5.9803040\ttotal: 954ms\tremaining: 1.95s\n",
      "329:\tlearn: 5.9763476\ttotal: 957ms\tremaining: 1.94s\n",
      "330:\tlearn: 5.9683328\ttotal: 960ms\tremaining: 1.94s\n",
      "331:\tlearn: 5.9616452\ttotal: 963ms\tremaining: 1.94s\n",
      "332:\tlearn: 5.9519572\ttotal: 965ms\tremaining: 1.93s\n",
      "333:\tlearn: 5.9474658\ttotal: 968ms\tremaining: 1.93s\n",
      "334:\tlearn: 5.9399196\ttotal: 971ms\tremaining: 1.93s\n",
      "335:\tlearn: 5.9359526\ttotal: 975ms\tremaining: 1.93s\n",
      "336:\tlearn: 5.9281029\ttotal: 978ms\tremaining: 1.92s\n",
      "337:\tlearn: 5.9263639\ttotal: 980ms\tremaining: 1.92s\n",
      "338:\tlearn: 5.9162954\ttotal: 983ms\tremaining: 1.92s\n",
      "339:\tlearn: 5.9092810\ttotal: 986ms\tremaining: 1.91s\n",
      "340:\tlearn: 5.9031291\ttotal: 988ms\tremaining: 1.91s\n",
      "341:\tlearn: 5.9013984\ttotal: 991ms\tremaining: 1.91s\n",
      "342:\tlearn: 5.8975251\ttotal: 994ms\tremaining: 1.9s\n",
      "343:\tlearn: 5.8914900\ttotal: 996ms\tremaining: 1.9s\n",
      "344:\tlearn: 5.8875077\ttotal: 999ms\tremaining: 1.9s\n",
      "345:\tlearn: 5.8780230\ttotal: 1s\tremaining: 1.89s\n",
      "346:\tlearn: 5.8703922\ttotal: 1s\tremaining: 1.89s\n",
      "347:\tlearn: 5.8612309\ttotal: 1.01s\tremaining: 1.89s\n",
      "348:\tlearn: 5.8537105\ttotal: 1.01s\tremaining: 1.88s\n",
      "349:\tlearn: 5.8467005\ttotal: 1.01s\tremaining: 1.88s\n",
      "350:\tlearn: 5.8423742\ttotal: 1.02s\tremaining: 1.88s\n",
      "351:\tlearn: 5.8334291\ttotal: 1.02s\tremaining: 1.88s\n",
      "352:\tlearn: 5.8283697\ttotal: 1.02s\tremaining: 1.87s\n",
      "353:\tlearn: 5.8239859\ttotal: 1.02s\tremaining: 1.87s\n",
      "354:\tlearn: 5.8179967\ttotal: 1.03s\tremaining: 1.87s\n",
      "355:\tlearn: 5.8162520\ttotal: 1.03s\tremaining: 1.86s\n",
      "356:\tlearn: 5.8102686\ttotal: 1.03s\tremaining: 1.86s\n",
      "357:\tlearn: 5.8027309\ttotal: 1.04s\tremaining: 1.86s\n",
      "358:\tlearn: 5.7990119\ttotal: 1.04s\tremaining: 1.86s\n",
      "359:\tlearn: 5.7930295\ttotal: 1.04s\tremaining: 1.85s\n",
      "360:\tlearn: 5.7891215\ttotal: 1.04s\tremaining: 1.85s\n",
      "361:\tlearn: 5.7837464\ttotal: 1.05s\tremaining: 1.85s\n",
      "362:\tlearn: 5.7817519\ttotal: 1.05s\tremaining: 1.84s\n",
      "363:\tlearn: 5.7808313\ttotal: 1.05s\tremaining: 1.84s\n",
      "364:\tlearn: 5.7798904\ttotal: 1.05s\tremaining: 1.84s\n",
      "365:\tlearn: 5.7686968\ttotal: 1.06s\tremaining: 1.83s\n",
      "366:\tlearn: 5.7661764\ttotal: 1.06s\tremaining: 1.83s\n",
      "367:\tlearn: 5.7621445\ttotal: 1.06s\tremaining: 1.83s\n",
      "368:\tlearn: 5.7607315\ttotal: 1.07s\tremaining: 1.82s\n",
      "369:\tlearn: 5.7596153\ttotal: 1.07s\tremaining: 1.82s\n",
      "370:\tlearn: 5.7551763\ttotal: 1.07s\tremaining: 1.82s\n",
      "371:\tlearn: 5.7541997\ttotal: 1.07s\tremaining: 1.81s\n",
      "372:\tlearn: 5.7484478\ttotal: 1.08s\tremaining: 1.81s\n",
      "373:\tlearn: 5.7420153\ttotal: 1.08s\tremaining: 1.81s\n",
      "374:\tlearn: 5.7367233\ttotal: 1.08s\tremaining: 1.8s\n",
      "375:\tlearn: 5.7290547\ttotal: 1.08s\tremaining: 1.8s\n",
      "376:\tlearn: 5.7232644\ttotal: 1.09s\tremaining: 1.8s\n",
      "377:\tlearn: 5.7172840\ttotal: 1.09s\tremaining: 1.79s\n",
      "378:\tlearn: 5.7146516\ttotal: 1.09s\tremaining: 1.79s\n",
      "379:\tlearn: 5.7105914\ttotal: 1.09s\tremaining: 1.79s\n",
      "380:\tlearn: 5.7068201\ttotal: 1.1s\tremaining: 1.78s\n",
      "381:\tlearn: 5.6981956\ttotal: 1.1s\tremaining: 1.78s\n",
      "382:\tlearn: 5.6930316\ttotal: 1.1s\tremaining: 1.78s\n",
      "383:\tlearn: 5.6851575\ttotal: 1.11s\tremaining: 1.77s\n",
      "384:\tlearn: 5.6843833\ttotal: 1.11s\tremaining: 1.77s\n",
      "385:\tlearn: 5.6794419\ttotal: 1.11s\tremaining: 1.77s\n",
      "386:\tlearn: 5.6757029\ttotal: 1.11s\tremaining: 1.76s\n",
      "387:\tlearn: 5.6659592\ttotal: 1.12s\tremaining: 1.76s\n",
      "388:\tlearn: 5.6567378\ttotal: 1.12s\tremaining: 1.76s\n",
      "389:\tlearn: 5.6499390\ttotal: 1.12s\tremaining: 1.76s\n",
      "390:\tlearn: 5.6432865\ttotal: 1.13s\tremaining: 1.75s\n",
      "391:\tlearn: 5.6362065\ttotal: 1.13s\tremaining: 1.75s\n",
      "392:\tlearn: 5.6285534\ttotal: 1.13s\tremaining: 1.75s\n",
      "393:\tlearn: 5.6234768\ttotal: 1.13s\tremaining: 1.74s\n",
      "394:\tlearn: 5.6210500\ttotal: 1.14s\tremaining: 1.74s\n",
      "395:\tlearn: 5.6158806\ttotal: 1.14s\tremaining: 1.74s\n",
      "396:\tlearn: 5.6106542\ttotal: 1.14s\tremaining: 1.73s\n",
      "397:\tlearn: 5.6031521\ttotal: 1.14s\tremaining: 1.73s\n",
      "398:\tlearn: 5.6000923\ttotal: 1.15s\tremaining: 1.73s\n",
      "399:\tlearn: 5.5955641\ttotal: 1.15s\tremaining: 1.72s\n",
      "400:\tlearn: 5.5923120\ttotal: 1.15s\tremaining: 1.72s\n",
      "401:\tlearn: 5.5891023\ttotal: 1.15s\tremaining: 1.72s\n",
      "402:\tlearn: 5.5857188\ttotal: 1.16s\tremaining: 1.71s\n",
      "403:\tlearn: 5.5798968\ttotal: 1.16s\tremaining: 1.71s\n",
      "404:\tlearn: 5.5763845\ttotal: 1.16s\tremaining: 1.71s\n",
      "405:\tlearn: 5.5726069\ttotal: 1.16s\tremaining: 1.7s\n",
      "406:\tlearn: 5.5690135\ttotal: 1.17s\tremaining: 1.7s\n",
      "407:\tlearn: 5.5666856\ttotal: 1.17s\tremaining: 1.7s\n",
      "408:\tlearn: 5.5658292\ttotal: 1.17s\tremaining: 1.69s\n",
      "409:\tlearn: 5.5579597\ttotal: 1.17s\tremaining: 1.69s\n",
      "410:\tlearn: 5.5522301\ttotal: 1.18s\tremaining: 1.69s\n",
      "411:\tlearn: 5.5468734\ttotal: 1.18s\tremaining: 1.68s\n",
      "412:\tlearn: 5.5446819\ttotal: 1.18s\tremaining: 1.68s\n",
      "413:\tlearn: 5.5400717\ttotal: 1.19s\tremaining: 1.68s\n",
      "414:\tlearn: 5.5335325\ttotal: 1.19s\tremaining: 1.67s\n",
      "415:\tlearn: 5.5257694\ttotal: 1.19s\tremaining: 1.67s\n",
      "416:\tlearn: 5.5201095\ttotal: 1.19s\tremaining: 1.67s\n",
      "417:\tlearn: 5.5168945\ttotal: 1.2s\tremaining: 1.67s\n",
      "418:\tlearn: 5.5142048\ttotal: 1.2s\tremaining: 1.66s\n",
      "419:\tlearn: 5.5131348\ttotal: 1.2s\tremaining: 1.66s\n",
      "420:\tlearn: 5.5106340\ttotal: 1.2s\tremaining: 1.66s\n",
      "421:\tlearn: 5.5076009\ttotal: 1.21s\tremaining: 1.65s\n",
      "422:\tlearn: 5.5019669\ttotal: 1.21s\tremaining: 1.65s\n",
      "423:\tlearn: 5.4981635\ttotal: 1.21s\tremaining: 1.65s\n",
      "424:\tlearn: 5.4963756\ttotal: 1.21s\tremaining: 1.64s\n",
      "425:\tlearn: 5.4898433\ttotal: 1.22s\tremaining: 1.64s\n",
      "426:\tlearn: 5.4847696\ttotal: 1.22s\tremaining: 1.64s\n",
      "427:\tlearn: 5.4808563\ttotal: 1.22s\tremaining: 1.63s\n",
      "428:\tlearn: 5.4736327\ttotal: 1.23s\tremaining: 1.63s\n",
      "429:\tlearn: 5.4660194\ttotal: 1.23s\tremaining: 1.63s\n",
      "430:\tlearn: 5.4607860\ttotal: 1.23s\tremaining: 1.62s\n",
      "431:\tlearn: 5.4527034\ttotal: 1.23s\tremaining: 1.62s\n",
      "432:\tlearn: 5.4515477\ttotal: 1.24s\tremaining: 1.62s\n",
      "433:\tlearn: 5.4465760\ttotal: 1.24s\tremaining: 1.61s\n",
      "434:\tlearn: 5.4439054\ttotal: 1.24s\tremaining: 1.61s\n",
      "435:\tlearn: 5.4430280\ttotal: 1.24s\tremaining: 1.61s\n",
      "436:\tlearn: 5.4382935\ttotal: 1.25s\tremaining: 1.61s\n",
      "437:\tlearn: 5.4360093\ttotal: 1.25s\tremaining: 1.6s\n",
      "438:\tlearn: 5.4293426\ttotal: 1.25s\tremaining: 1.6s\n",
      "439:\tlearn: 5.4259540\ttotal: 1.25s\tremaining: 1.6s\n",
      "440:\tlearn: 5.4237042\ttotal: 1.26s\tremaining: 1.59s\n",
      "441:\tlearn: 5.4186282\ttotal: 1.26s\tremaining: 1.59s\n",
      "442:\tlearn: 5.4174742\ttotal: 1.26s\tremaining: 1.59s\n",
      "443:\tlearn: 5.4157011\ttotal: 1.27s\tremaining: 1.59s\n",
      "444:\tlearn: 5.4123418\ttotal: 1.27s\tremaining: 1.58s\n",
      "445:\tlearn: 5.4061673\ttotal: 1.27s\tremaining: 1.58s\n",
      "446:\tlearn: 5.4032133\ttotal: 1.27s\tremaining: 1.58s\n",
      "447:\tlearn: 5.3956800\ttotal: 1.28s\tremaining: 1.58s\n",
      "448:\tlearn: 5.3923427\ttotal: 1.28s\tremaining: 1.57s\n",
      "449:\tlearn: 5.3875973\ttotal: 1.28s\tremaining: 1.57s\n",
      "450:\tlearn: 5.3868153\ttotal: 1.29s\tremaining: 1.57s\n",
      "451:\tlearn: 5.3837696\ttotal: 1.29s\tremaining: 1.56s\n",
      "452:\tlearn: 5.3811445\ttotal: 1.29s\tremaining: 1.56s\n",
      "453:\tlearn: 5.3774740\ttotal: 1.3s\tremaining: 1.56s\n",
      "454:\tlearn: 5.3730864\ttotal: 1.3s\tremaining: 1.56s\n",
      "455:\tlearn: 5.3676899\ttotal: 1.3s\tremaining: 1.55s\n",
      "456:\tlearn: 5.3601776\ttotal: 1.3s\tremaining: 1.55s\n",
      "457:\tlearn: 5.3534078\ttotal: 1.31s\tremaining: 1.55s\n",
      "458:\tlearn: 5.3479801\ttotal: 1.31s\tremaining: 1.54s\n",
      "459:\tlearn: 5.3457774\ttotal: 1.31s\tremaining: 1.54s\n",
      "460:\tlearn: 5.3390538\ttotal: 1.32s\tremaining: 1.54s\n",
      "461:\tlearn: 5.3382952\ttotal: 1.32s\tremaining: 1.53s\n",
      "462:\tlearn: 5.3357758\ttotal: 1.32s\tremaining: 1.53s\n",
      "463:\tlearn: 5.3322070\ttotal: 1.32s\tremaining: 1.53s\n",
      "464:\tlearn: 5.3271719\ttotal: 1.33s\tremaining: 1.53s\n",
      "465:\tlearn: 5.3218203\ttotal: 1.33s\tremaining: 1.52s\n",
      "466:\tlearn: 5.3193129\ttotal: 1.33s\tremaining: 1.52s\n",
      "467:\tlearn: 5.3152168\ttotal: 1.33s\tremaining: 1.52s\n",
      "468:\tlearn: 5.3145249\ttotal: 1.34s\tremaining: 1.51s\n",
      "469:\tlearn: 5.3139076\ttotal: 1.34s\tremaining: 1.51s\n",
      "470:\tlearn: 5.3046719\ttotal: 1.34s\tremaining: 1.51s\n",
      "471:\tlearn: 5.3041126\ttotal: 1.34s\tremaining: 1.5s\n",
      "472:\tlearn: 5.2994251\ttotal: 1.35s\tremaining: 1.5s\n",
      "473:\tlearn: 5.2971953\ttotal: 1.35s\tremaining: 1.5s\n",
      "474:\tlearn: 5.2935970\ttotal: 1.35s\tremaining: 1.5s\n",
      "475:\tlearn: 5.2892496\ttotal: 1.36s\tremaining: 1.49s\n",
      "476:\tlearn: 5.2852685\ttotal: 1.36s\tremaining: 1.49s\n",
      "477:\tlearn: 5.2816600\ttotal: 1.36s\tremaining: 1.49s\n",
      "478:\tlearn: 5.2785190\ttotal: 1.37s\tremaining: 1.49s\n",
      "479:\tlearn: 5.2704838\ttotal: 1.37s\tremaining: 1.48s\n",
      "480:\tlearn: 5.2652231\ttotal: 1.37s\tremaining: 1.48s\n",
      "481:\tlearn: 5.2565123\ttotal: 1.38s\tremaining: 1.48s\n",
      "482:\tlearn: 5.2558482\ttotal: 1.38s\tremaining: 1.48s\n",
      "483:\tlearn: 5.2542426\ttotal: 1.38s\tremaining: 1.47s\n",
      "484:\tlearn: 5.2511484\ttotal: 1.39s\tremaining: 1.47s\n",
      "485:\tlearn: 5.2479568\ttotal: 1.39s\tremaining: 1.47s\n",
      "486:\tlearn: 5.2454812\ttotal: 1.39s\tremaining: 1.47s\n",
      "487:\tlearn: 5.2447182\ttotal: 1.4s\tremaining: 1.46s\n",
      "488:\tlearn: 5.2427909\ttotal: 1.4s\tremaining: 1.46s\n",
      "489:\tlearn: 5.2385300\ttotal: 1.4s\tremaining: 1.46s\n",
      "490:\tlearn: 5.2329613\ttotal: 1.41s\tremaining: 1.46s\n",
      "491:\tlearn: 5.2287496\ttotal: 1.41s\tremaining: 1.45s\n",
      "492:\tlearn: 5.2202124\ttotal: 1.41s\tremaining: 1.45s\n",
      "493:\tlearn: 5.2144824\ttotal: 1.41s\tremaining: 1.45s\n",
      "494:\tlearn: 5.2096112\ttotal: 1.42s\tremaining: 1.45s\n",
      "495:\tlearn: 5.2056891\ttotal: 1.42s\tremaining: 1.44s\n",
      "496:\tlearn: 5.1994060\ttotal: 1.42s\tremaining: 1.44s\n",
      "497:\tlearn: 5.1959602\ttotal: 1.43s\tremaining: 1.44s\n",
      "498:\tlearn: 5.1931694\ttotal: 1.43s\tremaining: 1.44s\n",
      "499:\tlearn: 5.1919952\ttotal: 1.43s\tremaining: 1.43s\n",
      "500:\tlearn: 5.1864819\ttotal: 1.44s\tremaining: 1.43s\n",
      "501:\tlearn: 5.1858567\ttotal: 1.44s\tremaining: 1.43s\n",
      "502:\tlearn: 5.1810030\ttotal: 1.44s\tremaining: 1.42s\n",
      "503:\tlearn: 5.1805689\ttotal: 1.44s\tremaining: 1.42s\n",
      "504:\tlearn: 5.1779323\ttotal: 1.45s\tremaining: 1.42s\n",
      "505:\tlearn: 5.1750880\ttotal: 1.45s\tremaining: 1.42s\n",
      "506:\tlearn: 5.1729187\ttotal: 1.45s\tremaining: 1.41s\n",
      "507:\tlearn: 5.1639032\ttotal: 1.46s\tremaining: 1.41s\n",
      "508:\tlearn: 5.1633079\ttotal: 1.46s\tremaining: 1.41s\n",
      "509:\tlearn: 5.1581150\ttotal: 1.46s\tremaining: 1.41s\n",
      "510:\tlearn: 5.1524311\ttotal: 1.47s\tremaining: 1.4s\n",
      "511:\tlearn: 5.1453532\ttotal: 1.47s\tremaining: 1.4s\n",
      "512:\tlearn: 5.1424714\ttotal: 1.47s\tremaining: 1.4s\n",
      "513:\tlearn: 5.1419432\ttotal: 1.47s\tremaining: 1.39s\n",
      "514:\tlearn: 5.1395253\ttotal: 1.48s\tremaining: 1.39s\n",
      "515:\tlearn: 5.1371336\ttotal: 1.48s\tremaining: 1.39s\n",
      "516:\tlearn: 5.1300279\ttotal: 1.48s\tremaining: 1.39s\n",
      "517:\tlearn: 5.1249157\ttotal: 1.49s\tremaining: 1.38s\n",
      "518:\tlearn: 5.1205285\ttotal: 1.49s\tremaining: 1.38s\n",
      "519:\tlearn: 5.1197957\ttotal: 1.49s\tremaining: 1.38s\n",
      "520:\tlearn: 5.1193772\ttotal: 1.5s\tremaining: 1.38s\n",
      "521:\tlearn: 5.1164746\ttotal: 1.5s\tremaining: 1.37s\n",
      "522:\tlearn: 5.1130778\ttotal: 1.5s\tremaining: 1.37s\n",
      "523:\tlearn: 5.1108022\ttotal: 1.5s\tremaining: 1.37s\n",
      "524:\tlearn: 5.1101721\ttotal: 1.51s\tremaining: 1.36s\n",
      "525:\tlearn: 5.1040969\ttotal: 1.51s\tremaining: 1.36s\n",
      "526:\tlearn: 5.1035485\ttotal: 1.51s\tremaining: 1.36s\n",
      "527:\tlearn: 5.1019118\ttotal: 1.52s\tremaining: 1.35s\n",
      "528:\tlearn: 5.0989624\ttotal: 1.52s\tremaining: 1.35s\n",
      "529:\tlearn: 5.0930918\ttotal: 1.52s\tremaining: 1.35s\n",
      "530:\tlearn: 5.0869715\ttotal: 1.52s\tremaining: 1.35s\n",
      "531:\tlearn: 5.0847539\ttotal: 1.53s\tremaining: 1.34s\n",
      "532:\tlearn: 5.0828192\ttotal: 1.53s\tremaining: 1.34s\n",
      "533:\tlearn: 5.0793535\ttotal: 1.53s\tremaining: 1.34s\n",
      "534:\tlearn: 5.0739140\ttotal: 1.53s\tremaining: 1.33s\n",
      "535:\tlearn: 5.0667920\ttotal: 1.54s\tremaining: 1.33s\n",
      "536:\tlearn: 5.0644886\ttotal: 1.54s\tremaining: 1.33s\n",
      "537:\tlearn: 5.0593049\ttotal: 1.54s\tremaining: 1.33s\n",
      "538:\tlearn: 5.0552803\ttotal: 1.55s\tremaining: 1.32s\n",
      "539:\tlearn: 5.0491395\ttotal: 1.55s\tremaining: 1.32s\n",
      "540:\tlearn: 5.0486481\ttotal: 1.55s\tremaining: 1.32s\n",
      "541:\tlearn: 5.0435065\ttotal: 1.55s\tremaining: 1.31s\n",
      "542:\tlearn: 5.0430040\ttotal: 1.56s\tremaining: 1.31s\n",
      "543:\tlearn: 5.0369577\ttotal: 1.56s\tremaining: 1.31s\n",
      "544:\tlearn: 5.0288080\ttotal: 1.56s\tremaining: 1.3s\n",
      "545:\tlearn: 5.0262775\ttotal: 1.56s\tremaining: 1.3s\n",
      "546:\tlearn: 5.0236247\ttotal: 1.57s\tremaining: 1.3s\n",
      "547:\tlearn: 5.0232251\ttotal: 1.57s\tremaining: 1.3s\n",
      "548:\tlearn: 5.0203520\ttotal: 1.57s\tremaining: 1.29s\n",
      "549:\tlearn: 5.0197864\ttotal: 1.58s\tremaining: 1.29s\n",
      "550:\tlearn: 5.0163965\ttotal: 1.58s\tremaining: 1.29s\n",
      "551:\tlearn: 5.0122465\ttotal: 1.58s\tremaining: 1.28s\n",
      "552:\tlearn: 5.0113128\ttotal: 1.58s\tremaining: 1.28s\n",
      "553:\tlearn: 5.0068328\ttotal: 1.59s\tremaining: 1.28s\n",
      "554:\tlearn: 5.0033568\ttotal: 1.59s\tremaining: 1.27s\n",
      "555:\tlearn: 5.0027908\ttotal: 1.59s\tremaining: 1.27s\n",
      "556:\tlearn: 4.9992487\ttotal: 1.59s\tremaining: 1.27s\n",
      "557:\tlearn: 4.9922262\ttotal: 1.6s\tremaining: 1.27s\n",
      "558:\tlearn: 4.9880773\ttotal: 1.6s\tremaining: 1.26s\n",
      "559:\tlearn: 4.9870508\ttotal: 1.6s\tremaining: 1.26s\n",
      "560:\tlearn: 4.9821528\ttotal: 1.61s\tremaining: 1.26s\n",
      "561:\tlearn: 4.9804264\ttotal: 1.61s\tremaining: 1.25s\n",
      "562:\tlearn: 4.9797376\ttotal: 1.61s\tremaining: 1.25s\n",
      "563:\tlearn: 4.9740980\ttotal: 1.61s\tremaining: 1.25s\n",
      "564:\tlearn: 4.9704278\ttotal: 1.62s\tremaining: 1.25s\n",
      "565:\tlearn: 4.9693006\ttotal: 1.62s\tremaining: 1.24s\n",
      "566:\tlearn: 4.9659857\ttotal: 1.62s\tremaining: 1.24s\n",
      "567:\tlearn: 4.9655520\ttotal: 1.63s\tremaining: 1.24s\n",
      "568:\tlearn: 4.9599433\ttotal: 1.63s\tremaining: 1.23s\n",
      "569:\tlearn: 4.9578430\ttotal: 1.63s\tremaining: 1.23s\n",
      "570:\tlearn: 4.9547083\ttotal: 1.63s\tremaining: 1.23s\n",
      "571:\tlearn: 4.9521740\ttotal: 1.64s\tremaining: 1.22s\n",
      "572:\tlearn: 4.9480550\ttotal: 1.64s\tremaining: 1.22s\n",
      "573:\tlearn: 4.9430766\ttotal: 1.64s\tremaining: 1.22s\n",
      "574:\tlearn: 4.9367029\ttotal: 1.65s\tremaining: 1.22s\n",
      "575:\tlearn: 4.9346067\ttotal: 1.65s\tremaining: 1.21s\n",
      "576:\tlearn: 4.9331335\ttotal: 1.65s\tremaining: 1.21s\n",
      "577:\tlearn: 4.9276528\ttotal: 1.65s\tremaining: 1.21s\n",
      "578:\tlearn: 4.9210696\ttotal: 1.66s\tremaining: 1.2s\n",
      "579:\tlearn: 4.9188116\ttotal: 1.66s\tremaining: 1.2s\n",
      "580:\tlearn: 4.9136264\ttotal: 1.66s\tremaining: 1.2s\n",
      "581:\tlearn: 4.9074953\ttotal: 1.66s\tremaining: 1.2s\n",
      "582:\tlearn: 4.9008316\ttotal: 1.67s\tremaining: 1.19s\n",
      "583:\tlearn: 4.8998346\ttotal: 1.67s\tremaining: 1.19s\n",
      "584:\tlearn: 4.8964351\ttotal: 1.67s\tremaining: 1.19s\n",
      "585:\tlearn: 4.8928585\ttotal: 1.68s\tremaining: 1.18s\n",
      "586:\tlearn: 4.8921598\ttotal: 1.68s\tremaining: 1.18s\n",
      "587:\tlearn: 4.8897609\ttotal: 1.68s\tremaining: 1.18s\n",
      "588:\tlearn: 4.8864104\ttotal: 1.68s\tremaining: 1.18s\n",
      "589:\tlearn: 4.8802331\ttotal: 1.69s\tremaining: 1.17s\n",
      "590:\tlearn: 4.8771088\ttotal: 1.69s\tremaining: 1.17s\n",
      "591:\tlearn: 4.8707484\ttotal: 1.69s\tremaining: 1.17s\n",
      "592:\tlearn: 4.8696290\ttotal: 1.7s\tremaining: 1.16s\n",
      "593:\tlearn: 4.8682738\ttotal: 1.7s\tremaining: 1.16s\n",
      "594:\tlearn: 4.8639838\ttotal: 1.7s\tremaining: 1.16s\n",
      "595:\tlearn: 4.8636980\ttotal: 1.7s\tremaining: 1.15s\n",
      "596:\tlearn: 4.8568565\ttotal: 1.71s\tremaining: 1.15s\n",
      "597:\tlearn: 4.8504355\ttotal: 1.71s\tremaining: 1.15s\n",
      "598:\tlearn: 4.8462282\ttotal: 1.71s\tremaining: 1.15s\n",
      "599:\tlearn: 4.8418510\ttotal: 1.71s\tremaining: 1.14s\n",
      "600:\tlearn: 4.8396710\ttotal: 1.72s\tremaining: 1.14s\n",
      "601:\tlearn: 4.8349651\ttotal: 1.72s\tremaining: 1.14s\n",
      "602:\tlearn: 4.8309541\ttotal: 1.72s\tremaining: 1.13s\n",
      "603:\tlearn: 4.8300227\ttotal: 1.73s\tremaining: 1.13s\n",
      "604:\tlearn: 4.8272671\ttotal: 1.73s\tremaining: 1.13s\n",
      "605:\tlearn: 4.8214426\ttotal: 1.73s\tremaining: 1.13s\n",
      "606:\tlearn: 4.8188495\ttotal: 1.73s\tremaining: 1.12s\n",
      "607:\tlearn: 4.8183442\ttotal: 1.74s\tremaining: 1.12s\n",
      "608:\tlearn: 4.8172118\ttotal: 1.74s\tremaining: 1.12s\n",
      "609:\tlearn: 4.8158143\ttotal: 1.74s\tremaining: 1.11s\n",
      "610:\tlearn: 4.8118817\ttotal: 1.74s\tremaining: 1.11s\n",
      "611:\tlearn: 4.8115611\ttotal: 1.75s\tremaining: 1.11s\n",
      "612:\tlearn: 4.8102647\ttotal: 1.75s\tremaining: 1.1s\n",
      "613:\tlearn: 4.8076108\ttotal: 1.75s\tremaining: 1.1s\n",
      "614:\tlearn: 4.8054183\ttotal: 1.75s\tremaining: 1.1s\n",
      "615:\tlearn: 4.8031522\ttotal: 1.76s\tremaining: 1.09s\n",
      "616:\tlearn: 4.8024589\ttotal: 1.76s\tremaining: 1.09s\n",
      "617:\tlearn: 4.7977147\ttotal: 1.76s\tremaining: 1.09s\n",
      "618:\tlearn: 4.7971613\ttotal: 1.77s\tremaining: 1.09s\n",
      "619:\tlearn: 4.7908069\ttotal: 1.77s\tremaining: 1.08s\n",
      "620:\tlearn: 4.7887384\ttotal: 1.77s\tremaining: 1.08s\n",
      "621:\tlearn: 4.7870204\ttotal: 1.77s\tremaining: 1.08s\n",
      "622:\tlearn: 4.7828489\ttotal: 1.78s\tremaining: 1.07s\n",
      "623:\tlearn: 4.7777159\ttotal: 1.78s\tremaining: 1.07s\n",
      "624:\tlearn: 4.7750750\ttotal: 1.78s\tremaining: 1.07s\n",
      "625:\tlearn: 4.7722758\ttotal: 1.78s\tremaining: 1.07s\n",
      "626:\tlearn: 4.7685995\ttotal: 1.79s\tremaining: 1.06s\n",
      "627:\tlearn: 4.7633238\ttotal: 1.79s\tremaining: 1.06s\n",
      "628:\tlearn: 4.7595020\ttotal: 1.79s\tremaining: 1.06s\n",
      "629:\tlearn: 4.7553986\ttotal: 1.79s\tremaining: 1.05s\n",
      "630:\tlearn: 4.7532507\ttotal: 1.8s\tremaining: 1.05s\n",
      "631:\tlearn: 4.7486286\ttotal: 1.8s\tremaining: 1.05s\n",
      "632:\tlearn: 4.7459621\ttotal: 1.8s\tremaining: 1.04s\n",
      "633:\tlearn: 4.7424036\ttotal: 1.81s\tremaining: 1.04s\n",
      "634:\tlearn: 4.7387102\ttotal: 1.81s\tremaining: 1.04s\n",
      "635:\tlearn: 4.7307987\ttotal: 1.81s\tremaining: 1.04s\n",
      "636:\tlearn: 4.7285001\ttotal: 1.81s\tremaining: 1.03s\n",
      "637:\tlearn: 4.7239319\ttotal: 1.82s\tremaining: 1.03s\n",
      "638:\tlearn: 4.7233974\ttotal: 1.82s\tremaining: 1.03s\n",
      "639:\tlearn: 4.7170624\ttotal: 1.82s\tremaining: 1.02s\n",
      "640:\tlearn: 4.7135358\ttotal: 1.82s\tremaining: 1.02s\n",
      "641:\tlearn: 4.7092684\ttotal: 1.83s\tremaining: 1.02s\n",
      "642:\tlearn: 4.7060035\ttotal: 1.83s\tremaining: 1.02s\n",
      "643:\tlearn: 4.7021752\ttotal: 1.83s\tremaining: 1.01s\n",
      "644:\tlearn: 4.6986730\ttotal: 1.84s\tremaining: 1.01s\n",
      "645:\tlearn: 4.6948483\ttotal: 1.84s\tremaining: 1.01s\n",
      "646:\tlearn: 4.6938853\ttotal: 1.84s\tremaining: 1s\n",
      "647:\tlearn: 4.6886890\ttotal: 1.84s\tremaining: 1s\n",
      "648:\tlearn: 4.6884394\ttotal: 1.85s\tremaining: 999ms\n",
      "649:\tlearn: 4.6830679\ttotal: 1.85s\tremaining: 996ms\n",
      "650:\tlearn: 4.6795218\ttotal: 1.85s\tremaining: 993ms\n",
      "651:\tlearn: 4.6781143\ttotal: 1.85s\tremaining: 990ms\n",
      "652:\tlearn: 4.6749391\ttotal: 1.86s\tremaining: 987ms\n",
      "653:\tlearn: 4.6714880\ttotal: 1.86s\tremaining: 984ms\n",
      "654:\tlearn: 4.6693361\ttotal: 1.86s\tremaining: 982ms\n",
      "655:\tlearn: 4.6680241\ttotal: 1.87s\tremaining: 979ms\n",
      "656:\tlearn: 4.6653732\ttotal: 1.87s\tremaining: 975ms\n",
      "657:\tlearn: 4.6650789\ttotal: 1.87s\tremaining: 973ms\n",
      "658:\tlearn: 4.6595836\ttotal: 1.87s\tremaining: 970ms\n",
      "659:\tlearn: 4.6577182\ttotal: 1.88s\tremaining: 967ms\n",
      "660:\tlearn: 4.6534661\ttotal: 1.88s\tremaining: 964ms\n",
      "661:\tlearn: 4.6507006\ttotal: 1.88s\tremaining: 961ms\n",
      "662:\tlearn: 4.6479357\ttotal: 1.88s\tremaining: 958ms\n",
      "663:\tlearn: 4.6420653\ttotal: 1.89s\tremaining: 955ms\n",
      "664:\tlearn: 4.6388809\ttotal: 1.89s\tremaining: 952ms\n",
      "665:\tlearn: 4.6364650\ttotal: 1.89s\tremaining: 949ms\n",
      "666:\tlearn: 4.6324565\ttotal: 1.89s\tremaining: 946ms\n",
      "667:\tlearn: 4.6288375\ttotal: 1.9s\tremaining: 943ms\n",
      "668:\tlearn: 4.6262112\ttotal: 1.9s\tremaining: 940ms\n",
      "669:\tlearn: 4.6219977\ttotal: 1.9s\tremaining: 937ms\n",
      "670:\tlearn: 4.6176146\ttotal: 1.9s\tremaining: 934ms\n",
      "671:\tlearn: 4.6129316\ttotal: 1.91s\tremaining: 931ms\n",
      "672:\tlearn: 4.6105483\ttotal: 1.91s\tremaining: 928ms\n",
      "673:\tlearn: 4.6065779\ttotal: 1.91s\tremaining: 925ms\n",
      "674:\tlearn: 4.6062934\ttotal: 1.92s\tremaining: 922ms\n",
      "675:\tlearn: 4.6046029\ttotal: 1.92s\tremaining: 919ms\n",
      "676:\tlearn: 4.5986992\ttotal: 1.92s\tremaining: 916ms\n",
      "677:\tlearn: 4.5956931\ttotal: 1.92s\tremaining: 913ms\n",
      "678:\tlearn: 4.5945383\ttotal: 1.93s\tremaining: 910ms\n",
      "679:\tlearn: 4.5914414\ttotal: 1.93s\tremaining: 907ms\n",
      "680:\tlearn: 4.5896087\ttotal: 1.93s\tremaining: 905ms\n",
      "681:\tlearn: 4.5834350\ttotal: 1.93s\tremaining: 902ms\n",
      "682:\tlearn: 4.5796551\ttotal: 1.94s\tremaining: 899ms\n",
      "683:\tlearn: 4.5763314\ttotal: 1.94s\tremaining: 896ms\n",
      "684:\tlearn: 4.5724330\ttotal: 1.94s\tremaining: 893ms\n",
      "685:\tlearn: 4.5680554\ttotal: 1.94s\tremaining: 890ms\n",
      "686:\tlearn: 4.5678610\ttotal: 1.95s\tremaining: 887ms\n",
      "687:\tlearn: 4.5659833\ttotal: 1.95s\tremaining: 884ms\n",
      "688:\tlearn: 4.5635030\ttotal: 1.95s\tremaining: 881ms\n",
      "689:\tlearn: 4.5605361\ttotal: 1.96s\tremaining: 878ms\n",
      "690:\tlearn: 4.5551527\ttotal: 1.96s\tremaining: 875ms\n",
      "691:\tlearn: 4.5528955\ttotal: 1.96s\tremaining: 873ms\n",
      "692:\tlearn: 4.5484258\ttotal: 1.96s\tremaining: 870ms\n",
      "693:\tlearn: 4.5448911\ttotal: 1.97s\tremaining: 867ms\n",
      "694:\tlearn: 4.5404830\ttotal: 1.97s\tremaining: 864ms\n",
      "695:\tlearn: 4.5350786\ttotal: 1.97s\tremaining: 861ms\n",
      "696:\tlearn: 4.5318796\ttotal: 1.97s\tremaining: 858ms\n",
      "697:\tlearn: 4.5287070\ttotal: 1.98s\tremaining: 855ms\n",
      "698:\tlearn: 4.5256413\ttotal: 1.98s\tremaining: 852ms\n",
      "699:\tlearn: 4.5193689\ttotal: 1.98s\tremaining: 849ms\n",
      "700:\tlearn: 4.5180497\ttotal: 1.98s\tremaining: 846ms\n",
      "701:\tlearn: 4.5148647\ttotal: 1.99s\tremaining: 843ms\n",
      "702:\tlearn: 4.5125612\ttotal: 1.99s\tremaining: 841ms\n",
      "703:\tlearn: 4.5068732\ttotal: 1.99s\tremaining: 838ms\n",
      "704:\tlearn: 4.5066827\ttotal: 2s\tremaining: 835ms\n",
      "705:\tlearn: 4.5058801\ttotal: 2s\tremaining: 832ms\n",
      "706:\tlearn: 4.5015681\ttotal: 2s\tremaining: 829ms\n",
      "707:\tlearn: 4.5001544\ttotal: 2s\tremaining: 826ms\n",
      "708:\tlearn: 4.4978927\ttotal: 2s\tremaining: 823ms\n",
      "709:\tlearn: 4.4908099\ttotal: 2.01s\tremaining: 820ms\n",
      "710:\tlearn: 4.4881703\ttotal: 2.01s\tremaining: 818ms\n",
      "711:\tlearn: 4.4848423\ttotal: 2.01s\tremaining: 815ms\n",
      "712:\tlearn: 4.4808885\ttotal: 2.02s\tremaining: 812ms\n",
      "713:\tlearn: 4.4805449\ttotal: 2.02s\tremaining: 809ms\n",
      "714:\tlearn: 4.4776457\ttotal: 2.02s\tremaining: 806ms\n",
      "715:\tlearn: 4.4761219\ttotal: 2.02s\tremaining: 803ms\n",
      "716:\tlearn: 4.4731807\ttotal: 2.03s\tremaining: 800ms\n",
      "717:\tlearn: 4.4725542\ttotal: 2.03s\tremaining: 797ms\n",
      "718:\tlearn: 4.4713292\ttotal: 2.03s\tremaining: 794ms\n",
      "719:\tlearn: 4.4689611\ttotal: 2.04s\tremaining: 792ms\n",
      "720:\tlearn: 4.4666519\ttotal: 2.04s\tremaining: 789ms\n",
      "721:\tlearn: 4.4639707\ttotal: 2.04s\tremaining: 786ms\n",
      "722:\tlearn: 4.4594778\ttotal: 2.04s\tremaining: 783ms\n",
      "723:\tlearn: 4.4562263\ttotal: 2.05s\tremaining: 780ms\n",
      "724:\tlearn: 4.4505945\ttotal: 2.05s\tremaining: 777ms\n",
      "725:\tlearn: 4.4484048\ttotal: 2.05s\tremaining: 775ms\n",
      "726:\tlearn: 4.4481211\ttotal: 2.06s\tremaining: 772ms\n",
      "727:\tlearn: 4.4477679\ttotal: 2.06s\tremaining: 769ms\n",
      "728:\tlearn: 4.4424044\ttotal: 2.06s\tremaining: 766ms\n",
      "729:\tlearn: 4.4390127\ttotal: 2.06s\tremaining: 763ms\n",
      "730:\tlearn: 4.4358601\ttotal: 2.06s\tremaining: 760ms\n",
      "731:\tlearn: 4.4356646\ttotal: 2.07s\tremaining: 757ms\n",
      "732:\tlearn: 4.4335576\ttotal: 2.07s\tremaining: 754ms\n",
      "733:\tlearn: 4.4303684\ttotal: 2.07s\tremaining: 751ms\n",
      "734:\tlearn: 4.4292246\ttotal: 2.08s\tremaining: 749ms\n",
      "735:\tlearn: 4.4254953\ttotal: 2.08s\tremaining: 746ms\n",
      "736:\tlearn: 4.4235799\ttotal: 2.08s\tremaining: 743ms\n",
      "737:\tlearn: 4.4210092\ttotal: 2.08s\tremaining: 740ms\n",
      "738:\tlearn: 4.4184388\ttotal: 2.09s\tremaining: 737ms\n",
      "739:\tlearn: 4.4141008\ttotal: 2.09s\tremaining: 734ms\n",
      "740:\tlearn: 4.4137179\ttotal: 2.09s\tremaining: 731ms\n",
      "741:\tlearn: 4.4095606\ttotal: 2.09s\tremaining: 728ms\n",
      "742:\tlearn: 4.4053366\ttotal: 2.1s\tremaining: 725ms\n",
      "743:\tlearn: 4.4022132\ttotal: 2.1s\tremaining: 722ms\n",
      "744:\tlearn: 4.3977166\ttotal: 2.1s\tremaining: 720ms\n",
      "745:\tlearn: 4.3952605\ttotal: 2.1s\tremaining: 717ms\n",
      "746:\tlearn: 4.3950657\ttotal: 2.11s\tremaining: 714ms\n",
      "747:\tlearn: 4.3933972\ttotal: 2.11s\tremaining: 711ms\n",
      "748:\tlearn: 4.3891799\ttotal: 2.11s\tremaining: 708ms\n",
      "749:\tlearn: 4.3876819\ttotal: 2.12s\tremaining: 705ms\n",
      "750:\tlearn: 4.3843265\ttotal: 2.12s\tremaining: 702ms\n",
      "751:\tlearn: 4.3789080\ttotal: 2.12s\tremaining: 699ms\n",
      "752:\tlearn: 4.3751934\ttotal: 2.12s\tremaining: 697ms\n",
      "753:\tlearn: 4.3712866\ttotal: 2.13s\tremaining: 694ms\n",
      "754:\tlearn: 4.3681209\ttotal: 2.13s\tremaining: 691ms\n",
      "755:\tlearn: 4.3654534\ttotal: 2.13s\tremaining: 688ms\n",
      "756:\tlearn: 4.3642741\ttotal: 2.13s\tremaining: 685ms\n",
      "757:\tlearn: 4.3603360\ttotal: 2.14s\tremaining: 682ms\n",
      "758:\tlearn: 4.3563236\ttotal: 2.14s\tremaining: 680ms\n",
      "759:\tlearn: 4.3552037\ttotal: 2.14s\tremaining: 677ms\n",
      "760:\tlearn: 4.3549948\ttotal: 2.15s\tremaining: 674ms\n",
      "761:\tlearn: 4.3544571\ttotal: 2.15s\tremaining: 671ms\n",
      "762:\tlearn: 4.3487681\ttotal: 2.15s\tremaining: 668ms\n",
      "763:\tlearn: 4.3475309\ttotal: 2.15s\tremaining: 665ms\n",
      "764:\tlearn: 4.3444495\ttotal: 2.16s\tremaining: 663ms\n",
      "765:\tlearn: 4.3413534\ttotal: 2.16s\tremaining: 660ms\n",
      "766:\tlearn: 4.3388229\ttotal: 2.16s\tremaining: 657ms\n",
      "767:\tlearn: 4.3383788\ttotal: 2.17s\tremaining: 654ms\n",
      "768:\tlearn: 4.3355964\ttotal: 2.17s\tremaining: 651ms\n",
      "769:\tlearn: 4.3333604\ttotal: 2.17s\tremaining: 649ms\n",
      "770:\tlearn: 4.3299581\ttotal: 2.17s\tremaining: 646ms\n",
      "771:\tlearn: 4.3266468\ttotal: 2.18s\tremaining: 643ms\n",
      "772:\tlearn: 4.3263632\ttotal: 2.18s\tremaining: 640ms\n",
      "773:\tlearn: 4.3221291\ttotal: 2.18s\tremaining: 637ms\n",
      "774:\tlearn: 4.3208645\ttotal: 2.19s\tremaining: 634ms\n",
      "775:\tlearn: 4.3200860\ttotal: 2.19s\tremaining: 632ms\n",
      "776:\tlearn: 4.3163961\ttotal: 2.19s\tremaining: 629ms\n",
      "777:\tlearn: 4.3120026\ttotal: 2.19s\tremaining: 626ms\n",
      "778:\tlearn: 4.3117036\ttotal: 2.2s\tremaining: 623ms\n",
      "779:\tlearn: 4.3084958\ttotal: 2.2s\tremaining: 620ms\n",
      "780:\tlearn: 4.3081815\ttotal: 2.2s\tremaining: 617ms\n",
      "781:\tlearn: 4.3066447\ttotal: 2.2s\tremaining: 614ms\n",
      "782:\tlearn: 4.3021080\ttotal: 2.21s\tremaining: 612ms\n",
      "783:\tlearn: 4.3012198\ttotal: 2.21s\tremaining: 609ms\n",
      "784:\tlearn: 4.2982554\ttotal: 2.21s\tremaining: 606ms\n",
      "785:\tlearn: 4.2950780\ttotal: 2.21s\tremaining: 603ms\n",
      "786:\tlearn: 4.2939432\ttotal: 2.22s\tremaining: 600ms\n",
      "787:\tlearn: 4.2894159\ttotal: 2.22s\tremaining: 597ms\n",
      "788:\tlearn: 4.2862221\ttotal: 2.22s\tremaining: 595ms\n",
      "789:\tlearn: 4.2832435\ttotal: 2.23s\tremaining: 592ms\n",
      "790:\tlearn: 4.2807689\ttotal: 2.23s\tremaining: 589ms\n",
      "791:\tlearn: 4.2783742\ttotal: 2.23s\tremaining: 586ms\n",
      "792:\tlearn: 4.2751649\ttotal: 2.23s\tremaining: 583ms\n",
      "793:\tlearn: 4.2720173\ttotal: 2.24s\tremaining: 580ms\n",
      "794:\tlearn: 4.2708464\ttotal: 2.24s\tremaining: 577ms\n",
      "795:\tlearn: 4.2689068\ttotal: 2.24s\tremaining: 574ms\n",
      "796:\tlearn: 4.2664802\ttotal: 2.24s\tremaining: 571ms\n",
      "797:\tlearn: 4.2657564\ttotal: 2.25s\tremaining: 569ms\n",
      "798:\tlearn: 4.2623988\ttotal: 2.25s\tremaining: 566ms\n",
      "799:\tlearn: 4.2592419\ttotal: 2.25s\tremaining: 563ms\n",
      "800:\tlearn: 4.2584218\ttotal: 2.25s\tremaining: 560ms\n",
      "801:\tlearn: 4.2580087\ttotal: 2.26s\tremaining: 558ms\n",
      "802:\tlearn: 4.2547415\ttotal: 2.26s\tremaining: 555ms\n",
      "803:\tlearn: 4.2507327\ttotal: 2.26s\tremaining: 552ms\n",
      "804:\tlearn: 4.2466702\ttotal: 2.27s\tremaining: 549ms\n",
      "805:\tlearn: 4.2442979\ttotal: 2.27s\tremaining: 546ms\n",
      "806:\tlearn: 4.2428726\ttotal: 2.27s\tremaining: 543ms\n",
      "807:\tlearn: 4.2375620\ttotal: 2.27s\tremaining: 541ms\n",
      "808:\tlearn: 4.2325922\ttotal: 2.28s\tremaining: 538ms\n",
      "809:\tlearn: 4.2311050\ttotal: 2.28s\tremaining: 535ms\n",
      "810:\tlearn: 4.2283609\ttotal: 2.28s\tremaining: 532ms\n",
      "811:\tlearn: 4.2244169\ttotal: 2.29s\tremaining: 529ms\n",
      "812:\tlearn: 4.2196098\ttotal: 2.29s\tremaining: 526ms\n",
      "813:\tlearn: 4.2163071\ttotal: 2.29s\tremaining: 524ms\n",
      "814:\tlearn: 4.2144804\ttotal: 2.29s\tremaining: 521ms\n",
      "815:\tlearn: 4.2123716\ttotal: 2.3s\tremaining: 518ms\n",
      "816:\tlearn: 4.2102876\ttotal: 2.3s\tremaining: 515ms\n",
      "817:\tlearn: 4.2079090\ttotal: 2.3s\tremaining: 512ms\n",
      "818:\tlearn: 4.2059240\ttotal: 2.31s\tremaining: 509ms\n",
      "819:\tlearn: 4.2056658\ttotal: 2.31s\tremaining: 507ms\n",
      "820:\tlearn: 4.2027558\ttotal: 2.31s\tremaining: 504ms\n",
      "821:\tlearn: 4.2002551\ttotal: 2.31s\tremaining: 501ms\n",
      "822:\tlearn: 4.1973462\ttotal: 2.32s\tremaining: 498ms\n",
      "823:\tlearn: 4.1959290\ttotal: 2.32s\tremaining: 495ms\n",
      "824:\tlearn: 4.1922708\ttotal: 2.32s\tremaining: 492ms\n",
      "825:\tlearn: 4.1895921\ttotal: 2.32s\tremaining: 490ms\n",
      "826:\tlearn: 4.1860859\ttotal: 2.33s\tremaining: 487ms\n",
      "827:\tlearn: 4.1830056\ttotal: 2.33s\tremaining: 484ms\n",
      "828:\tlearn: 4.1796829\ttotal: 2.33s\tremaining: 481ms\n",
      "829:\tlearn: 4.1771557\ttotal: 2.33s\tremaining: 478ms\n",
      "830:\tlearn: 4.1733639\ttotal: 2.34s\tremaining: 476ms\n",
      "831:\tlearn: 4.1689915\ttotal: 2.34s\tremaining: 473ms\n",
      "832:\tlearn: 4.1670513\ttotal: 2.35s\tremaining: 470ms\n",
      "833:\tlearn: 4.1645100\ttotal: 2.35s\tremaining: 467ms\n",
      "834:\tlearn: 4.1599620\ttotal: 2.35s\tremaining: 465ms\n",
      "835:\tlearn: 4.1571270\ttotal: 2.35s\tremaining: 462ms\n",
      "836:\tlearn: 4.1550279\ttotal: 2.36s\tremaining: 459ms\n",
      "837:\tlearn: 4.1498005\ttotal: 2.36s\tremaining: 456ms\n",
      "838:\tlearn: 4.1469258\ttotal: 2.36s\tremaining: 453ms\n",
      "839:\tlearn: 4.1426149\ttotal: 2.36s\tremaining: 450ms\n",
      "840:\tlearn: 4.1398721\ttotal: 2.37s\tremaining: 448ms\n",
      "841:\tlearn: 4.1377977\ttotal: 2.37s\tremaining: 445ms\n",
      "842:\tlearn: 4.1364526\ttotal: 2.37s\tremaining: 442ms\n",
      "843:\tlearn: 4.1326771\ttotal: 2.38s\tremaining: 439ms\n",
      "844:\tlearn: 4.1289904\ttotal: 2.38s\tremaining: 436ms\n",
      "845:\tlearn: 4.1271379\ttotal: 2.38s\tremaining: 433ms\n",
      "846:\tlearn: 4.1252834\ttotal: 2.38s\tremaining: 431ms\n",
      "847:\tlearn: 4.1239703\ttotal: 2.39s\tremaining: 428ms\n",
      "848:\tlearn: 4.1205890\ttotal: 2.39s\tremaining: 425ms\n",
      "849:\tlearn: 4.1175734\ttotal: 2.39s\tremaining: 422ms\n",
      "850:\tlearn: 4.1159329\ttotal: 2.39s\tremaining: 419ms\n",
      "851:\tlearn: 4.1135123\ttotal: 2.4s\tremaining: 416ms\n",
      "852:\tlearn: 4.1099952\ttotal: 2.4s\tremaining: 414ms\n",
      "853:\tlearn: 4.1096022\ttotal: 2.4s\tremaining: 411ms\n",
      "854:\tlearn: 4.1068769\ttotal: 2.4s\tremaining: 408ms\n",
      "855:\tlearn: 4.1063206\ttotal: 2.41s\tremaining: 405ms\n",
      "856:\tlearn: 4.1016534\ttotal: 2.41s\tremaining: 402ms\n",
      "857:\tlearn: 4.0986754\ttotal: 2.42s\tremaining: 400ms\n",
      "858:\tlearn: 4.0984667\ttotal: 2.42s\tremaining: 397ms\n",
      "859:\tlearn: 4.0955833\ttotal: 2.42s\tremaining: 394ms\n",
      "860:\tlearn: 4.0935233\ttotal: 2.42s\tremaining: 392ms\n",
      "861:\tlearn: 4.0878553\ttotal: 2.43s\tremaining: 389ms\n",
      "862:\tlearn: 4.0844998\ttotal: 2.43s\tremaining: 386ms\n",
      "863:\tlearn: 4.0817810\ttotal: 2.44s\tremaining: 383ms\n",
      "864:\tlearn: 4.0793110\ttotal: 2.44s\tremaining: 380ms\n",
      "865:\tlearn: 4.0762963\ttotal: 2.44s\tremaining: 378ms\n",
      "866:\tlearn: 4.0755623\ttotal: 2.44s\tremaining: 375ms\n",
      "867:\tlearn: 4.0728158\ttotal: 2.45s\tremaining: 372ms\n",
      "868:\tlearn: 4.0689307\ttotal: 2.45s\tremaining: 369ms\n",
      "869:\tlearn: 4.0676402\ttotal: 2.45s\tremaining: 367ms\n",
      "870:\tlearn: 4.0675097\ttotal: 2.46s\tremaining: 364ms\n",
      "871:\tlearn: 4.0667458\ttotal: 2.46s\tremaining: 361ms\n",
      "872:\tlearn: 4.0653780\ttotal: 2.46s\tremaining: 358ms\n",
      "873:\tlearn: 4.0650812\ttotal: 2.46s\tremaining: 355ms\n",
      "874:\tlearn: 4.0630440\ttotal: 2.47s\tremaining: 352ms\n",
      "875:\tlearn: 4.0607266\ttotal: 2.47s\tremaining: 350ms\n",
      "876:\tlearn: 4.0565881\ttotal: 2.47s\tremaining: 347ms\n",
      "877:\tlearn: 4.0526784\ttotal: 2.47s\tremaining: 344ms\n",
      "878:\tlearn: 4.0496704\ttotal: 2.48s\tremaining: 341ms\n",
      "879:\tlearn: 4.0480465\ttotal: 2.48s\tremaining: 338ms\n",
      "880:\tlearn: 4.0441218\ttotal: 2.48s\tremaining: 335ms\n",
      "881:\tlearn: 4.0420936\ttotal: 2.49s\tremaining: 333ms\n",
      "882:\tlearn: 4.0399472\ttotal: 2.49s\tremaining: 330ms\n",
      "883:\tlearn: 4.0382314\ttotal: 2.49s\tremaining: 327ms\n",
      "884:\tlearn: 4.0352232\ttotal: 2.49s\tremaining: 324ms\n",
      "885:\tlearn: 4.0349927\ttotal: 2.5s\tremaining: 321ms\n",
      "886:\tlearn: 4.0348776\ttotal: 2.5s\tremaining: 318ms\n",
      "887:\tlearn: 4.0320045\ttotal: 2.5s\tremaining: 316ms\n",
      "888:\tlearn: 4.0295377\ttotal: 2.5s\tremaining: 313ms\n",
      "889:\tlearn: 4.0282709\ttotal: 2.51s\tremaining: 310ms\n",
      "890:\tlearn: 4.0265258\ttotal: 2.51s\tremaining: 307ms\n",
      "891:\tlearn: 4.0251279\ttotal: 2.51s\tremaining: 304ms\n",
      "892:\tlearn: 4.0212435\ttotal: 2.52s\tremaining: 301ms\n",
      "893:\tlearn: 4.0210244\ttotal: 2.52s\tremaining: 299ms\n",
      "894:\tlearn: 4.0176361\ttotal: 2.52s\tremaining: 296ms\n",
      "895:\tlearn: 4.0161321\ttotal: 2.52s\tremaining: 293ms\n",
      "896:\tlearn: 4.0141333\ttotal: 2.53s\tremaining: 290ms\n",
      "897:\tlearn: 4.0097547\ttotal: 2.53s\tremaining: 287ms\n",
      "898:\tlearn: 4.0073750\ttotal: 2.53s\tremaining: 284ms\n",
      "899:\tlearn: 4.0053372\ttotal: 2.53s\tremaining: 282ms\n",
      "900:\tlearn: 4.0024996\ttotal: 2.54s\tremaining: 279ms\n",
      "901:\tlearn: 4.0004597\ttotal: 2.54s\tremaining: 276ms\n",
      "902:\tlearn: 3.9991451\ttotal: 2.54s\tremaining: 273ms\n",
      "903:\tlearn: 3.9960041\ttotal: 2.54s\tremaining: 270ms\n",
      "904:\tlearn: 3.9933885\ttotal: 2.55s\tremaining: 267ms\n",
      "905:\tlearn: 3.9915364\ttotal: 2.55s\tremaining: 265ms\n",
      "906:\tlearn: 3.9877641\ttotal: 2.55s\tremaining: 262ms\n",
      "907:\tlearn: 3.9855044\ttotal: 2.56s\tremaining: 259ms\n",
      "908:\tlearn: 3.9828174\ttotal: 2.56s\tremaining: 256ms\n",
      "909:\tlearn: 3.9820487\ttotal: 2.56s\tremaining: 253ms\n",
      "910:\tlearn: 3.9809991\ttotal: 2.56s\tremaining: 250ms\n",
      "911:\tlearn: 3.9798573\ttotal: 2.57s\tremaining: 248ms\n",
      "912:\tlearn: 3.9772432\ttotal: 2.57s\tremaining: 245ms\n",
      "913:\tlearn: 3.9764409\ttotal: 2.57s\tremaining: 242ms\n",
      "914:\tlearn: 3.9733735\ttotal: 2.57s\tremaining: 239ms\n",
      "915:\tlearn: 3.9703738\ttotal: 2.58s\tremaining: 236ms\n",
      "916:\tlearn: 3.9683490\ttotal: 2.58s\tremaining: 234ms\n",
      "917:\tlearn: 3.9664050\ttotal: 2.58s\tremaining: 231ms\n",
      "918:\tlearn: 3.9640379\ttotal: 2.58s\tremaining: 228ms\n",
      "919:\tlearn: 3.9599347\ttotal: 2.59s\tremaining: 225ms\n",
      "920:\tlearn: 3.9568235\ttotal: 2.59s\tremaining: 222ms\n",
      "921:\tlearn: 3.9537779\ttotal: 2.59s\tremaining: 219ms\n",
      "922:\tlearn: 3.9512714\ttotal: 2.6s\tremaining: 217ms\n",
      "923:\tlearn: 3.9491220\ttotal: 2.6s\tremaining: 214ms\n",
      "924:\tlearn: 3.9477357\ttotal: 2.6s\tremaining: 211ms\n",
      "925:\tlearn: 3.9459762\ttotal: 2.6s\tremaining: 208ms\n",
      "926:\tlearn: 3.9436165\ttotal: 2.61s\tremaining: 205ms\n",
      "927:\tlearn: 3.9403115\ttotal: 2.61s\tremaining: 203ms\n",
      "928:\tlearn: 3.9368951\ttotal: 2.61s\tremaining: 200ms\n",
      "929:\tlearn: 3.9343329\ttotal: 2.62s\tremaining: 197ms\n",
      "930:\tlearn: 3.9323366\ttotal: 2.62s\tremaining: 194ms\n",
      "931:\tlearn: 3.9318318\ttotal: 2.62s\tremaining: 191ms\n",
      "932:\tlearn: 3.9292830\ttotal: 2.62s\tremaining: 188ms\n",
      "933:\tlearn: 3.9267940\ttotal: 2.63s\tremaining: 186ms\n",
      "934:\tlearn: 3.9230076\ttotal: 2.63s\tremaining: 183ms\n",
      "935:\tlearn: 3.9196838\ttotal: 2.63s\tremaining: 180ms\n",
      "936:\tlearn: 3.9160020\ttotal: 2.63s\tremaining: 177ms\n",
      "937:\tlearn: 3.9134047\ttotal: 2.64s\tremaining: 174ms\n",
      "938:\tlearn: 3.9114391\ttotal: 2.64s\tremaining: 171ms\n",
      "939:\tlearn: 3.9086266\ttotal: 2.64s\tremaining: 169ms\n",
      "940:\tlearn: 3.9060219\ttotal: 2.64s\tremaining: 166ms\n",
      "941:\tlearn: 3.9045744\ttotal: 2.65s\tremaining: 163ms\n",
      "942:\tlearn: 3.8995413\ttotal: 2.65s\tremaining: 160ms\n",
      "943:\tlearn: 3.8982653\ttotal: 2.65s\tremaining: 157ms\n",
      "944:\tlearn: 3.8957539\ttotal: 2.65s\tremaining: 155ms\n",
      "945:\tlearn: 3.8939060\ttotal: 2.66s\tremaining: 152ms\n",
      "946:\tlearn: 3.8903192\ttotal: 2.66s\tremaining: 149ms\n",
      "947:\tlearn: 3.8896315\ttotal: 2.66s\tremaining: 146ms\n",
      "948:\tlearn: 3.8870867\ttotal: 2.67s\tremaining: 143ms\n",
      "949:\tlearn: 3.8861582\ttotal: 2.67s\tremaining: 140ms\n",
      "950:\tlearn: 3.8843651\ttotal: 2.67s\tremaining: 138ms\n",
      "951:\tlearn: 3.8800218\ttotal: 2.67s\tremaining: 135ms\n",
      "952:\tlearn: 3.8772063\ttotal: 2.68s\tremaining: 132ms\n",
      "953:\tlearn: 3.8770887\ttotal: 2.68s\tremaining: 129ms\n",
      "954:\tlearn: 3.8728394\ttotal: 2.68s\tremaining: 126ms\n",
      "955:\tlearn: 3.8698961\ttotal: 2.69s\tremaining: 124ms\n",
      "956:\tlearn: 3.8675620\ttotal: 2.69s\tremaining: 121ms\n",
      "957:\tlearn: 3.8661544\ttotal: 2.69s\tremaining: 118ms\n",
      "958:\tlearn: 3.8636129\ttotal: 2.69s\tremaining: 115ms\n",
      "959:\tlearn: 3.8615117\ttotal: 2.7s\tremaining: 112ms\n",
      "960:\tlearn: 3.8575532\ttotal: 2.7s\tremaining: 110ms\n",
      "961:\tlearn: 3.8543041\ttotal: 2.7s\tremaining: 107ms\n",
      "962:\tlearn: 3.8529436\ttotal: 2.7s\tremaining: 104ms\n",
      "963:\tlearn: 3.8506471\ttotal: 2.71s\tremaining: 101ms\n",
      "964:\tlearn: 3.8492553\ttotal: 2.71s\tremaining: 98.3ms\n",
      "965:\tlearn: 3.8453914\ttotal: 2.71s\tremaining: 95.5ms\n",
      "966:\tlearn: 3.8398631\ttotal: 2.71s\tremaining: 92.7ms\n",
      "967:\tlearn: 3.8385432\ttotal: 2.72s\tremaining: 89.8ms\n",
      "968:\tlearn: 3.8354498\ttotal: 2.72s\tremaining: 87ms\n",
      "969:\tlearn: 3.8352232\ttotal: 2.72s\tremaining: 84.2ms\n",
      "970:\tlearn: 3.8351001\ttotal: 2.73s\tremaining: 81.4ms\n",
      "971:\tlearn: 3.8333652\ttotal: 2.73s\tremaining: 78.6ms\n",
      "972:\tlearn: 3.8318637\ttotal: 2.73s\tremaining: 75.8ms\n",
      "973:\tlearn: 3.8283129\ttotal: 2.73s\tremaining: 73ms\n",
      "974:\tlearn: 3.8269766\ttotal: 2.74s\tremaining: 70.2ms\n",
      "975:\tlearn: 3.8266468\ttotal: 2.74s\tremaining: 67.4ms\n",
      "976:\tlearn: 3.8252170\ttotal: 2.74s\tremaining: 64.5ms\n",
      "977:\tlearn: 3.8237536\ttotal: 2.74s\tremaining: 61.7ms\n",
      "978:\tlearn: 3.8223017\ttotal: 2.75s\tremaining: 58.9ms\n",
      "979:\tlearn: 3.8195820\ttotal: 2.75s\tremaining: 56.1ms\n",
      "980:\tlearn: 3.8165973\ttotal: 2.75s\tremaining: 53.3ms\n",
      "981:\tlearn: 3.8146449\ttotal: 2.75s\tremaining: 50.5ms\n",
      "982:\tlearn: 3.8115269\ttotal: 2.76s\tremaining: 47.7ms\n",
      "983:\tlearn: 3.8100768\ttotal: 2.76s\tremaining: 44.9ms\n",
      "984:\tlearn: 3.8071176\ttotal: 2.76s\tremaining: 42.1ms\n",
      "985:\tlearn: 3.8035708\ttotal: 2.77s\tremaining: 39.3ms\n",
      "986:\tlearn: 3.8007019\ttotal: 2.77s\tremaining: 36.5ms\n",
      "987:\tlearn: 3.7987258\ttotal: 2.77s\tremaining: 33.7ms\n",
      "988:\tlearn: 3.7960473\ttotal: 2.77s\tremaining: 30.9ms\n",
      "989:\tlearn: 3.7943183\ttotal: 2.78s\tremaining: 28ms\n",
      "990:\tlearn: 3.7907419\ttotal: 2.78s\tremaining: 25.2ms\n",
      "991:\tlearn: 3.7868345\ttotal: 2.78s\tremaining: 22.4ms\n",
      "992:\tlearn: 3.7850326\ttotal: 2.79s\tremaining: 19.6ms\n",
      "993:\tlearn: 3.7828753\ttotal: 2.79s\tremaining: 16.8ms\n",
      "994:\tlearn: 3.7812983\ttotal: 2.79s\tremaining: 14ms\n",
      "995:\tlearn: 3.7791583\ttotal: 2.79s\tremaining: 11.2ms\n",
      "996:\tlearn: 3.7772383\ttotal: 2.79s\tremaining: 8.41ms\n",
      "997:\tlearn: 3.7719456\ttotal: 2.8s\tremaining: 5.61ms\n",
      "998:\tlearn: 3.7694338\ttotal: 2.8s\tremaining: 2.8ms\n",
      "999:\tlearn: 3.7683733\ttotal: 2.8s\tremaining: 0us\n"
     ]
    },
    {
     "data": {
      "text/plain": [
       "<catboost.core.CatBoostRegressor at 0x7fb4fb2fe280>"
      ]
     },
     "execution_count": 47,
     "metadata": {},
     "output_type": "execute_result"
    }
   ],
   "source": [
    "model_CatBoost=CatBoostRegressor(random_seed=29082022)\n",
    "model_CatBoost.fit(train_features, train_target)\n"
   ]
  },
  {
   "cell_type": "code",
   "execution_count": 48,
   "metadata": {},
   "outputs": [
    {
     "data": {
      "text/plain": [
       "LinearRegression()"
      ]
     },
     "execution_count": 48,
     "metadata": {},
     "output_type": "execute_result"
    }
   ],
   "source": [
    "model_LinearR = LinearRegression()\n",
    "model_LinearR.fit(train_features, train_target)\n"
   ]
  },
  {
   "cell_type": "code",
   "execution_count": 49,
   "metadata": {},
   "outputs": [
    {
     "data": {
      "text/plain": [
       "LGBMRegressor(random_state=29082022)"
      ]
     },
     "execution_count": 49,
     "metadata": {},
     "output_type": "execute_result"
    }
   ],
   "source": [
    "model_LGBM = lgb.LGBMRegressor(random_state=29082022)\n",
    "model_LGBM.fit(train_features, train_target)\n"
   ]
  },
  {
   "cell_type": "code",
   "execution_count": 50,
   "metadata": {},
   "outputs": [],
   "source": [
    "hq(model_CatBoost)\n",
    "hq(model_LGBM)\n",
    "hq(model_LinearR)"
   ]
  },
  {
   "cell_type": "code",
   "execution_count": 51,
   "metadata": {},
   "outputs": [
    {
     "data": {
      "text/html": [
       "<div>\n",
       "<style scoped>\n",
       "    .dataframe tbody tr th:only-of-type {\n",
       "        vertical-align: middle;\n",
       "    }\n",
       "\n",
       "    .dataframe tbody tr th {\n",
       "        vertical-align: top;\n",
       "    }\n",
       "\n",
       "    .dataframe thead th {\n",
       "        text-align: right;\n",
       "    }\n",
       "</style>\n",
       "<table border=\"1\" class=\"dataframe\">\n",
       "  <thead>\n",
       "    <tr style=\"text-align: right;\">\n",
       "      <th></th>\n",
       "      <th>train_mae_score</th>\n",
       "    </tr>\n",
       "  </thead>\n",
       "  <tbody>\n",
       "    <tr>\n",
       "      <th>model_CatBoost</th>\n",
       "      <td>2.870341</td>\n",
       "    </tr>\n",
       "    <tr>\n",
       "      <th>model_LGBM</th>\n",
       "      <td>2.944028</td>\n",
       "    </tr>\n",
       "    <tr>\n",
       "      <th>model_LinearR</th>\n",
       "      <td>6.223085</td>\n",
       "    </tr>\n",
       "  </tbody>\n",
       "</table>\n",
       "</div>"
      ],
      "text/plain": [
       "                train_mae_score\n",
       "model_CatBoost         2.870341\n",
       "model_LGBM             2.944028\n",
       "model_LinearR          6.223085"
      ]
     },
     "execution_count": 51,
     "metadata": {},
     "output_type": "execute_result"
    }
   ],
   "source": [
    "result1 = pd.DataFrame(result_list, columns=['train_mae_score'], index=['model_CatBoost','model_LGBM','model_LinearR'])\n",
    "result1"
   ]
  },
  {
   "cell_type": "markdown",
   "metadata": {},
   "source": [
    "Лучшая модель CatBoostRegressor"
   ]
  },
  {
   "cell_type": "markdown",
   "metadata": {},
   "source": [
    "### Анализ модели CatBoost"
   ]
  },
  {
   "cell_type": "code",
   "execution_count": 52,
   "metadata": {},
   "outputs": [],
   "source": [
    "train1, test1 = train_test_split(data, test_size=0.2, random_state=29082022)"
   ]
  },
  {
   "cell_type": "code",
   "execution_count": 53,
   "metadata": {},
   "outputs": [],
   "source": [
    "train_features1 = train1.drop(['Temp 2','key'], axis =1)\n",
    "train_target1 = train1['Temp 2']\n",
    "\n",
    "test_features1 = test1.drop(['Temp 2','key'], axis =1)\n",
    "test_target1 = test1['Temp 2']"
   ]
  },
  {
   "cell_type": "code",
   "execution_count": 54,
   "metadata": {},
   "outputs": [
    {
     "name": "stdout",
     "output_type": "stream",
     "text": [
      "Learning rate set to 0.03629\n",
      "0:\tlearn: 10.5157866\ttotal: 2.53ms\tremaining: 2.53s\n",
      "1:\tlearn: 10.4261433\ttotal: 4.5ms\tremaining: 2.25s\n",
      "2:\tlearn: 10.3150076\ttotal: 6.18ms\tremaining: 2.06s\n",
      "3:\tlearn: 10.2140570\ttotal: 7.83ms\tremaining: 1.95s\n",
      "4:\tlearn: 10.1395699\ttotal: 9.45ms\tremaining: 1.88s\n",
      "5:\tlearn: 10.0475300\ttotal: 11.3ms\tremaining: 1.87s\n",
      "6:\tlearn: 9.9641628\ttotal: 13ms\tremaining: 1.84s\n",
      "7:\tlearn: 9.8811881\ttotal: 14.6ms\tremaining: 1.82s\n",
      "8:\tlearn: 9.8124583\ttotal: 16.5ms\tremaining: 1.81s\n",
      "9:\tlearn: 9.7361611\ttotal: 19ms\tremaining: 1.88s\n",
      "10:\tlearn: 9.6666510\ttotal: 21.4ms\tremaining: 1.93s\n",
      "11:\tlearn: 9.5829274\ttotal: 23ms\tremaining: 1.9s\n",
      "12:\tlearn: 9.5183070\ttotal: 24.8ms\tremaining: 1.88s\n",
      "13:\tlearn: 9.4532948\ttotal: 26.4ms\tremaining: 1.86s\n",
      "14:\tlearn: 9.4068638\ttotal: 28.2ms\tremaining: 1.85s\n",
      "15:\tlearn: 9.3535991\ttotal: 30.9ms\tremaining: 1.9s\n",
      "16:\tlearn: 9.2941547\ttotal: 33.6ms\tremaining: 1.94s\n",
      "17:\tlearn: 9.2287978\ttotal: 35.5ms\tremaining: 1.93s\n",
      "18:\tlearn: 9.1775736\ttotal: 37.2ms\tremaining: 1.92s\n",
      "19:\tlearn: 9.1201920\ttotal: 38.8ms\tremaining: 1.9s\n",
      "20:\tlearn: 9.0566460\ttotal: 40.3ms\tremaining: 1.88s\n",
      "21:\tlearn: 9.0036771\ttotal: 41.8ms\tremaining: 1.86s\n",
      "22:\tlearn: 8.9592545\ttotal: 43.3ms\tremaining: 1.84s\n",
      "23:\tlearn: 8.9048875\ttotal: 45ms\tremaining: 1.83s\n",
      "24:\tlearn: 8.8503208\ttotal: 46.8ms\tremaining: 1.82s\n",
      "25:\tlearn: 8.7920736\ttotal: 48.5ms\tremaining: 1.82s\n",
      "26:\tlearn: 8.7377017\ttotal: 50ms\tremaining: 1.8s\n",
      "27:\tlearn: 8.7132093\ttotal: 51.8ms\tremaining: 1.8s\n",
      "28:\tlearn: 8.6636075\ttotal: 53.4ms\tremaining: 1.79s\n",
      "29:\tlearn: 8.6172979\ttotal: 55ms\tremaining: 1.78s\n",
      "30:\tlearn: 8.5729799\ttotal: 56.6ms\tremaining: 1.77s\n",
      "31:\tlearn: 8.5439952\ttotal: 58.2ms\tremaining: 1.76s\n",
      "32:\tlearn: 8.4983221\ttotal: 60ms\tremaining: 1.76s\n",
      "33:\tlearn: 8.4592712\ttotal: 61.6ms\tremaining: 1.75s\n",
      "34:\tlearn: 8.4057481\ttotal: 63.3ms\tremaining: 1.74s\n",
      "35:\tlearn: 8.3707782\ttotal: 65ms\tremaining: 1.74s\n",
      "36:\tlearn: 8.3325493\ttotal: 66.5ms\tremaining: 1.73s\n",
      "37:\tlearn: 8.2918753\ttotal: 68.3ms\tremaining: 1.73s\n",
      "38:\tlearn: 8.2656722\ttotal: 70ms\tremaining: 1.73s\n",
      "39:\tlearn: 8.2503785\ttotal: 71.6ms\tremaining: 1.72s\n",
      "40:\tlearn: 8.2158690\ttotal: 73.4ms\tremaining: 1.72s\n",
      "41:\tlearn: 8.1911564\ttotal: 75ms\tremaining: 1.71s\n",
      "42:\tlearn: 8.1607136\ttotal: 76.7ms\tremaining: 1.71s\n",
      "43:\tlearn: 8.1247311\ttotal: 78.2ms\tremaining: 1.7s\n",
      "44:\tlearn: 8.0839001\ttotal: 80.2ms\tremaining: 1.7s\n",
      "45:\tlearn: 8.0470513\ttotal: 81.6ms\tremaining: 1.69s\n",
      "46:\tlearn: 8.0159743\ttotal: 83.4ms\tremaining: 1.69s\n",
      "47:\tlearn: 8.0052795\ttotal: 84.9ms\tremaining: 1.68s\n",
      "48:\tlearn: 7.9717570\ttotal: 86.6ms\tremaining: 1.68s\n",
      "49:\tlearn: 7.9516958\ttotal: 88.1ms\tremaining: 1.67s\n",
      "50:\tlearn: 7.9270316\ttotal: 89.8ms\tremaining: 1.67s\n",
      "51:\tlearn: 7.8968190\ttotal: 91.3ms\tremaining: 1.66s\n",
      "52:\tlearn: 7.8710570\ttotal: 92.9ms\tremaining: 1.66s\n",
      "53:\tlearn: 7.8481221\ttotal: 94.5ms\tremaining: 1.66s\n",
      "54:\tlearn: 7.8300126\ttotal: 96.3ms\tremaining: 1.65s\n",
      "55:\tlearn: 7.7976676\ttotal: 97.8ms\tremaining: 1.65s\n",
      "56:\tlearn: 7.7748159\ttotal: 99.5ms\tremaining: 1.65s\n",
      "57:\tlearn: 7.7468125\ttotal: 101ms\tremaining: 1.64s\n",
      "58:\tlearn: 7.7256952\ttotal: 103ms\tremaining: 1.64s\n",
      "59:\tlearn: 7.7122179\ttotal: 104ms\tremaining: 1.63s\n",
      "60:\tlearn: 7.6969616\ttotal: 106ms\tremaining: 1.63s\n",
      "61:\tlearn: 7.6696681\ttotal: 107ms\tremaining: 1.62s\n",
      "62:\tlearn: 7.6414696\ttotal: 109ms\tremaining: 1.62s\n",
      "63:\tlearn: 7.6226019\ttotal: 111ms\tremaining: 1.62s\n",
      "64:\tlearn: 7.5994024\ttotal: 112ms\tremaining: 1.61s\n",
      "65:\tlearn: 7.5830307\ttotal: 114ms\tremaining: 1.61s\n",
      "66:\tlearn: 7.5750951\ttotal: 115ms\tremaining: 1.61s\n",
      "67:\tlearn: 7.5552514\ttotal: 117ms\tremaining: 1.6s\n",
      "68:\tlearn: 7.5277191\ttotal: 119ms\tremaining: 1.6s\n",
      "69:\tlearn: 7.5014613\ttotal: 120ms\tremaining: 1.6s\n",
      "70:\tlearn: 7.4848462\ttotal: 122ms\tremaining: 1.6s\n",
      "71:\tlearn: 7.4561638\ttotal: 124ms\tremaining: 1.59s\n",
      "72:\tlearn: 7.4337392\ttotal: 125ms\tremaining: 1.59s\n",
      "73:\tlearn: 7.4050584\ttotal: 127ms\tremaining: 1.59s\n",
      "74:\tlearn: 7.3875638\ttotal: 129ms\tremaining: 1.59s\n",
      "75:\tlearn: 7.3681478\ttotal: 131ms\tremaining: 1.59s\n",
      "76:\tlearn: 7.3354513\ttotal: 132ms\tremaining: 1.58s\n",
      "77:\tlearn: 7.3289665\ttotal: 134ms\tremaining: 1.58s\n",
      "78:\tlearn: 7.3075030\ttotal: 135ms\tremaining: 1.58s\n",
      "79:\tlearn: 7.2871193\ttotal: 137ms\tremaining: 1.57s\n",
      "80:\tlearn: 7.2752142\ttotal: 138ms\tremaining: 1.57s\n",
      "81:\tlearn: 7.2477333\ttotal: 140ms\tremaining: 1.57s\n",
      "82:\tlearn: 7.2232431\ttotal: 142ms\tremaining: 1.56s\n",
      "83:\tlearn: 7.2047759\ttotal: 143ms\tremaining: 1.56s\n",
      "84:\tlearn: 7.1852465\ttotal: 145ms\tremaining: 1.56s\n",
      "85:\tlearn: 7.1689973\ttotal: 148ms\tremaining: 1.57s\n",
      "86:\tlearn: 7.1548987\ttotal: 151ms\tremaining: 1.58s\n",
      "87:\tlearn: 7.1413796\ttotal: 153ms\tremaining: 1.58s\n",
      "88:\tlearn: 7.1192523\ttotal: 154ms\tremaining: 1.58s\n",
      "89:\tlearn: 7.1045559\ttotal: 156ms\tremaining: 1.58s\n",
      "90:\tlearn: 7.0833930\ttotal: 158ms\tremaining: 1.58s\n",
      "91:\tlearn: 7.0718086\ttotal: 160ms\tremaining: 1.58s\n",
      "92:\tlearn: 7.0549236\ttotal: 162ms\tremaining: 1.58s\n",
      "93:\tlearn: 7.0306386\ttotal: 164ms\tremaining: 1.58s\n",
      "94:\tlearn: 7.0109697\ttotal: 165ms\tremaining: 1.57s\n",
      "95:\tlearn: 6.9875530\ttotal: 167ms\tremaining: 1.57s\n",
      "96:\tlearn: 6.9706939\ttotal: 169ms\tremaining: 1.57s\n",
      "97:\tlearn: 6.9555471\ttotal: 170ms\tremaining: 1.57s\n",
      "98:\tlearn: 6.9435641\ttotal: 172ms\tremaining: 1.56s\n",
      "99:\tlearn: 6.9293818\ttotal: 173ms\tremaining: 1.56s\n",
      "100:\tlearn: 6.9068935\ttotal: 175ms\tremaining: 1.56s\n",
      "101:\tlearn: 6.8863059\ttotal: 177ms\tremaining: 1.56s\n",
      "102:\tlearn: 6.8704741\ttotal: 179ms\tremaining: 1.56s\n",
      "103:\tlearn: 6.8562495\ttotal: 181ms\tremaining: 1.56s\n",
      "104:\tlearn: 6.8398034\ttotal: 182ms\tremaining: 1.55s\n",
      "105:\tlearn: 6.8296998\ttotal: 184ms\tremaining: 1.55s\n",
      "106:\tlearn: 6.8132054\ttotal: 185ms\tremaining: 1.55s\n",
      "107:\tlearn: 6.8013525\ttotal: 187ms\tremaining: 1.54s\n",
      "108:\tlearn: 6.7901932\ttotal: 189ms\tremaining: 1.54s\n",
      "109:\tlearn: 6.7804485\ttotal: 190ms\tremaining: 1.54s\n",
      "110:\tlearn: 6.7718376\ttotal: 192ms\tremaining: 1.54s\n",
      "111:\tlearn: 6.7607608\ttotal: 194ms\tremaining: 1.53s\n",
      "112:\tlearn: 6.7457630\ttotal: 195ms\tremaining: 1.53s\n",
      "113:\tlearn: 6.7289004\ttotal: 197ms\tremaining: 1.53s\n",
      "114:\tlearn: 6.7186348\ttotal: 198ms\tremaining: 1.53s\n",
      "115:\tlearn: 6.7072170\ttotal: 201ms\tremaining: 1.53s\n",
      "116:\tlearn: 6.6871082\ttotal: 203ms\tremaining: 1.53s\n",
      "117:\tlearn: 6.6794250\ttotal: 204ms\tremaining: 1.53s\n",
      "118:\tlearn: 6.6648827\ttotal: 206ms\tremaining: 1.52s\n",
      "119:\tlearn: 6.6562096\ttotal: 207ms\tremaining: 1.52s\n",
      "120:\tlearn: 6.6467339\ttotal: 209ms\tremaining: 1.52s\n",
      "121:\tlearn: 6.6373961\ttotal: 211ms\tremaining: 1.52s\n",
      "122:\tlearn: 6.6232625\ttotal: 213ms\tremaining: 1.52s\n",
      "123:\tlearn: 6.6054625\ttotal: 214ms\tremaining: 1.51s\n",
      "124:\tlearn: 6.5990211\ttotal: 217ms\tremaining: 1.52s\n",
      "125:\tlearn: 6.5897988\ttotal: 218ms\tremaining: 1.51s\n",
      "126:\tlearn: 6.5791246\ttotal: 220ms\tremaining: 1.51s\n",
      "127:\tlearn: 6.5629600\ttotal: 222ms\tremaining: 1.51s\n",
      "128:\tlearn: 6.5534479\ttotal: 224ms\tremaining: 1.51s\n",
      "129:\tlearn: 6.5426265\ttotal: 226ms\tremaining: 1.51s\n",
      "130:\tlearn: 6.5273852\ttotal: 227ms\tremaining: 1.51s\n",
      "131:\tlearn: 6.5152466\ttotal: 229ms\tremaining: 1.5s\n",
      "132:\tlearn: 6.5098607\ttotal: 230ms\tremaining: 1.5s\n",
      "133:\tlearn: 6.4998988\ttotal: 232ms\tremaining: 1.5s\n",
      "134:\tlearn: 6.4836312\ttotal: 233ms\tremaining: 1.5s\n",
      "135:\tlearn: 6.4634475\ttotal: 235ms\tremaining: 1.49s\n",
      "136:\tlearn: 6.4457938\ttotal: 237ms\tremaining: 1.49s\n",
      "137:\tlearn: 6.4312296\ttotal: 238ms\tremaining: 1.49s\n",
      "138:\tlearn: 6.4203199\ttotal: 240ms\tremaining: 1.49s\n",
      "139:\tlearn: 6.4040867\ttotal: 242ms\tremaining: 1.48s\n",
      "140:\tlearn: 6.3974007\ttotal: 243ms\tremaining: 1.48s\n",
      "141:\tlearn: 6.3857185\ttotal: 245ms\tremaining: 1.48s\n",
      "142:\tlearn: 6.3681475\ttotal: 247ms\tremaining: 1.48s\n",
      "143:\tlearn: 6.3603251\ttotal: 248ms\tremaining: 1.48s\n",
      "144:\tlearn: 6.3541656\ttotal: 250ms\tremaining: 1.47s\n",
      "145:\tlearn: 6.3430808\ttotal: 252ms\tremaining: 1.47s\n",
      "146:\tlearn: 6.3303777\ttotal: 253ms\tremaining: 1.47s\n",
      "147:\tlearn: 6.3176826\ttotal: 255ms\tremaining: 1.47s\n",
      "148:\tlearn: 6.3034424\ttotal: 256ms\tremaining: 1.46s\n",
      "149:\tlearn: 6.2959539\ttotal: 258ms\tremaining: 1.46s\n",
      "150:\tlearn: 6.2820696\ttotal: 260ms\tremaining: 1.46s\n",
      "151:\tlearn: 6.2722591\ttotal: 261ms\tremaining: 1.46s\n",
      "152:\tlearn: 6.2662631\ttotal: 263ms\tremaining: 1.46s\n",
      "153:\tlearn: 6.2589129\ttotal: 265ms\tremaining: 1.45s\n",
      "154:\tlearn: 6.2541421\ttotal: 266ms\tremaining: 1.45s\n",
      "155:\tlearn: 6.2381698\ttotal: 268ms\tremaining: 1.45s\n",
      "156:\tlearn: 6.2255896\ttotal: 270ms\tremaining: 1.45s\n",
      "157:\tlearn: 6.2169272\ttotal: 271ms\tremaining: 1.44s\n",
      "158:\tlearn: 6.2105689\ttotal: 273ms\tremaining: 1.44s\n",
      "159:\tlearn: 6.2033745\ttotal: 275ms\tremaining: 1.44s\n",
      "160:\tlearn: 6.1945827\ttotal: 276ms\tremaining: 1.44s\n",
      "161:\tlearn: 6.1835171\ttotal: 278ms\tremaining: 1.44s\n",
      "162:\tlearn: 6.1794553\ttotal: 280ms\tremaining: 1.44s\n",
      "163:\tlearn: 6.1657643\ttotal: 281ms\tremaining: 1.43s\n",
      "164:\tlearn: 6.1601021\ttotal: 283ms\tremaining: 1.43s\n",
      "165:\tlearn: 6.1495406\ttotal: 286ms\tremaining: 1.44s\n",
      "166:\tlearn: 6.1351447\ttotal: 288ms\tremaining: 1.43s\n",
      "167:\tlearn: 6.1305746\ttotal: 290ms\tremaining: 1.43s\n",
      "168:\tlearn: 6.1212172\ttotal: 291ms\tremaining: 1.43s\n",
      "169:\tlearn: 6.1116447\ttotal: 293ms\tremaining: 1.43s\n",
      "170:\tlearn: 6.1019866\ttotal: 295ms\tremaining: 1.43s\n",
      "171:\tlearn: 6.0888917\ttotal: 297ms\tremaining: 1.43s\n",
      "172:\tlearn: 6.0840038\ttotal: 299ms\tremaining: 1.43s\n",
      "173:\tlearn: 6.0715859\ttotal: 300ms\tremaining: 1.43s\n",
      "174:\tlearn: 6.0695953\ttotal: 302ms\tremaining: 1.42s\n",
      "175:\tlearn: 6.0535019\ttotal: 303ms\tremaining: 1.42s\n",
      "176:\tlearn: 6.0514242\ttotal: 305ms\tremaining: 1.42s\n",
      "177:\tlearn: 6.0396556\ttotal: 307ms\tremaining: 1.42s\n",
      "178:\tlearn: 6.0265497\ttotal: 309ms\tremaining: 1.42s\n",
      "179:\tlearn: 6.0241644\ttotal: 310ms\tremaining: 1.41s\n",
      "180:\tlearn: 6.0177488\ttotal: 312ms\tremaining: 1.41s\n",
      "181:\tlearn: 6.0117464\ttotal: 314ms\tremaining: 1.41s\n",
      "182:\tlearn: 6.0052269\ttotal: 315ms\tremaining: 1.41s\n",
      "183:\tlearn: 5.9991759\ttotal: 317ms\tremaining: 1.4s\n",
      "184:\tlearn: 5.9944773\ttotal: 318ms\tremaining: 1.4s\n",
      "185:\tlearn: 5.9920218\ttotal: 320ms\tremaining: 1.4s\n",
      "186:\tlearn: 5.9826698\ttotal: 321ms\tremaining: 1.4s\n",
      "187:\tlearn: 5.9713621\ttotal: 323ms\tremaining: 1.39s\n",
      "188:\tlearn: 5.9608933\ttotal: 324ms\tremaining: 1.39s\n",
      "189:\tlearn: 5.9494996\ttotal: 326ms\tremaining: 1.39s\n",
      "190:\tlearn: 5.9357036\ttotal: 328ms\tremaining: 1.39s\n",
      "191:\tlearn: 5.9306382\ttotal: 329ms\tremaining: 1.39s\n",
      "192:\tlearn: 5.9275245\ttotal: 331ms\tremaining: 1.38s\n",
      "193:\tlearn: 5.9240583\ttotal: 333ms\tremaining: 1.38s\n",
      "194:\tlearn: 5.9210903\ttotal: 335ms\tremaining: 1.38s\n",
      "195:\tlearn: 5.9097680\ttotal: 336ms\tremaining: 1.38s\n",
      "196:\tlearn: 5.8921454\ttotal: 338ms\tremaining: 1.38s\n",
      "197:\tlearn: 5.8747838\ttotal: 340ms\tremaining: 1.38s\n",
      "198:\tlearn: 5.8607964\ttotal: 341ms\tremaining: 1.37s\n",
      "199:\tlearn: 5.8565235\ttotal: 343ms\tremaining: 1.37s\n",
      "200:\tlearn: 5.8518248\ttotal: 344ms\tremaining: 1.37s\n",
      "201:\tlearn: 5.8484353\ttotal: 346ms\tremaining: 1.37s\n",
      "202:\tlearn: 5.8384501\ttotal: 347ms\tremaining: 1.36s\n",
      "203:\tlearn: 5.8210654\ttotal: 349ms\tremaining: 1.36s\n",
      "204:\tlearn: 5.8185780\ttotal: 351ms\tremaining: 1.36s\n",
      "205:\tlearn: 5.8074075\ttotal: 352ms\tremaining: 1.36s\n",
      "206:\tlearn: 5.8041520\ttotal: 354ms\tremaining: 1.35s\n",
      "207:\tlearn: 5.7951338\ttotal: 355ms\tremaining: 1.35s\n",
      "208:\tlearn: 5.7922328\ttotal: 357ms\tremaining: 1.35s\n",
      "209:\tlearn: 5.7894666\ttotal: 359ms\tremaining: 1.35s\n",
      "210:\tlearn: 5.7853364\ttotal: 361ms\tremaining: 1.35s\n",
      "211:\tlearn: 5.7829824\ttotal: 362ms\tremaining: 1.35s\n",
      "212:\tlearn: 5.7654642\ttotal: 364ms\tremaining: 1.34s\n",
      "213:\tlearn: 5.7632586\ttotal: 366ms\tremaining: 1.34s\n",
      "214:\tlearn: 5.7608818\ttotal: 367ms\tremaining: 1.34s\n",
      "215:\tlearn: 5.7587089\ttotal: 369ms\tremaining: 1.34s\n",
      "216:\tlearn: 5.7532642\ttotal: 371ms\tremaining: 1.34s\n",
      "217:\tlearn: 5.7413862\ttotal: 373ms\tremaining: 1.34s\n",
      "218:\tlearn: 5.7386698\ttotal: 374ms\tremaining: 1.33s\n",
      "219:\tlearn: 5.7367782\ttotal: 376ms\tremaining: 1.33s\n",
      "220:\tlearn: 5.7249687\ttotal: 378ms\tremaining: 1.33s\n",
      "221:\tlearn: 5.7223229\ttotal: 380ms\tremaining: 1.33s\n",
      "222:\tlearn: 5.7202231\ttotal: 381ms\tremaining: 1.33s\n",
      "223:\tlearn: 5.7046761\ttotal: 383ms\tremaining: 1.33s\n",
      "224:\tlearn: 5.7029488\ttotal: 385ms\tremaining: 1.32s\n",
      "225:\tlearn: 5.6967837\ttotal: 387ms\tremaining: 1.32s\n",
      "226:\tlearn: 5.6943191\ttotal: 388ms\tremaining: 1.32s\n",
      "227:\tlearn: 5.6922771\ttotal: 390ms\tremaining: 1.32s\n",
      "228:\tlearn: 5.6832044\ttotal: 391ms\tremaining: 1.32s\n",
      "229:\tlearn: 5.6692152\ttotal: 393ms\tremaining: 1.31s\n",
      "230:\tlearn: 5.6673593\ttotal: 395ms\tremaining: 1.31s\n",
      "231:\tlearn: 5.6409761\ttotal: 397ms\tremaining: 1.31s\n",
      "232:\tlearn: 5.6337827\ttotal: 399ms\tremaining: 1.31s\n",
      "233:\tlearn: 5.6316276\ttotal: 401ms\tremaining: 1.31s\n",
      "234:\tlearn: 5.6203545\ttotal: 402ms\tremaining: 1.31s\n",
      "235:\tlearn: 5.6181357\ttotal: 404ms\tremaining: 1.31s\n",
      "236:\tlearn: 5.6159710\ttotal: 405ms\tremaining: 1.3s\n",
      "237:\tlearn: 5.6139736\ttotal: 407ms\tremaining: 1.3s\n",
      "238:\tlearn: 5.5961820\ttotal: 409ms\tremaining: 1.3s\n",
      "239:\tlearn: 5.5771394\ttotal: 410ms\tremaining: 1.3s\n",
      "240:\tlearn: 5.5631792\ttotal: 412ms\tremaining: 1.3s\n",
      "241:\tlearn: 5.5520249\ttotal: 414ms\tremaining: 1.3s\n",
      "242:\tlearn: 5.5503635\ttotal: 416ms\tremaining: 1.29s\n",
      "243:\tlearn: 5.5474657\ttotal: 417ms\tremaining: 1.29s\n",
      "244:\tlearn: 5.5321973\ttotal: 419ms\tremaining: 1.29s\n",
      "245:\tlearn: 5.5196067\ttotal: 420ms\tremaining: 1.29s\n",
      "246:\tlearn: 5.5176191\ttotal: 422ms\tremaining: 1.28s\n",
      "247:\tlearn: 5.5035447\ttotal: 423ms\tremaining: 1.28s\n",
      "248:\tlearn: 5.5018918\ttotal: 425ms\tremaining: 1.28s\n",
      "249:\tlearn: 5.5000104\ttotal: 427ms\tremaining: 1.28s\n",
      "250:\tlearn: 5.4802017\ttotal: 428ms\tremaining: 1.28s\n",
      "251:\tlearn: 5.4537420\ttotal: 430ms\tremaining: 1.27s\n",
      "252:\tlearn: 5.4465167\ttotal: 432ms\tremaining: 1.27s\n",
      "253:\tlearn: 5.4402920\ttotal: 434ms\tremaining: 1.27s\n",
      "254:\tlearn: 5.4381908\ttotal: 436ms\tremaining: 1.27s\n",
      "255:\tlearn: 5.4365293\ttotal: 438ms\tremaining: 1.27s\n",
      "256:\tlearn: 5.4343124\ttotal: 440ms\tremaining: 1.27s\n",
      "257:\tlearn: 5.4282936\ttotal: 442ms\tremaining: 1.27s\n",
      "258:\tlearn: 5.4230661\ttotal: 443ms\tremaining: 1.27s\n",
      "259:\tlearn: 5.4210605\ttotal: 445ms\tremaining: 1.27s\n",
      "260:\tlearn: 5.4032332\ttotal: 446ms\tremaining: 1.26s\n",
      "261:\tlearn: 5.4009050\ttotal: 448ms\tremaining: 1.26s\n",
      "262:\tlearn: 5.3840208\ttotal: 450ms\tremaining: 1.26s\n",
      "263:\tlearn: 5.3810677\ttotal: 452ms\tremaining: 1.26s\n",
      "264:\tlearn: 5.3696935\ttotal: 453ms\tremaining: 1.26s\n",
      "265:\tlearn: 5.3556867\ttotal: 455ms\tremaining: 1.25s\n",
      "266:\tlearn: 5.3407990\ttotal: 457ms\tremaining: 1.25s\n",
      "267:\tlearn: 5.3269808\ttotal: 458ms\tremaining: 1.25s\n",
      "268:\tlearn: 5.3106836\ttotal: 460ms\tremaining: 1.25s\n",
      "269:\tlearn: 5.2954508\ttotal: 462ms\tremaining: 1.25s\n",
      "270:\tlearn: 5.2869369\ttotal: 464ms\tremaining: 1.25s\n",
      "271:\tlearn: 5.2731501\ttotal: 465ms\tremaining: 1.25s\n",
      "272:\tlearn: 5.2714888\ttotal: 467ms\tremaining: 1.24s\n",
      "273:\tlearn: 5.2576928\ttotal: 469ms\tremaining: 1.24s\n",
      "274:\tlearn: 5.2464315\ttotal: 470ms\tremaining: 1.24s\n",
      "275:\tlearn: 5.2364054\ttotal: 472ms\tremaining: 1.24s\n",
      "276:\tlearn: 5.2301436\ttotal: 474ms\tremaining: 1.24s\n",
      "277:\tlearn: 5.2284499\ttotal: 475ms\tremaining: 1.23s\n",
      "278:\tlearn: 5.2111160\ttotal: 477ms\tremaining: 1.23s\n",
      "279:\tlearn: 5.2094991\ttotal: 479ms\tremaining: 1.23s\n",
      "280:\tlearn: 5.2077229\ttotal: 480ms\tremaining: 1.23s\n",
      "281:\tlearn: 5.2035732\ttotal: 482ms\tremaining: 1.23s\n",
      "282:\tlearn: 5.2022804\ttotal: 484ms\tremaining: 1.23s\n",
      "283:\tlearn: 5.1838300\ttotal: 485ms\tremaining: 1.22s\n",
      "284:\tlearn: 5.1825918\ttotal: 487ms\tremaining: 1.22s\n",
      "285:\tlearn: 5.1709103\ttotal: 489ms\tremaining: 1.22s\n",
      "286:\tlearn: 5.1646623\ttotal: 491ms\tremaining: 1.22s\n",
      "287:\tlearn: 5.1516938\ttotal: 493ms\tremaining: 1.22s\n",
      "288:\tlearn: 5.1382625\ttotal: 495ms\tremaining: 1.22s\n",
      "289:\tlearn: 5.1215445\ttotal: 496ms\tremaining: 1.21s\n",
      "290:\tlearn: 5.1186841\ttotal: 498ms\tremaining: 1.21s\n",
      "291:\tlearn: 5.1153050\ttotal: 499ms\tremaining: 1.21s\n",
      "292:\tlearn: 5.1042890\ttotal: 501ms\tremaining: 1.21s\n",
      "293:\tlearn: 5.0918017\ttotal: 503ms\tremaining: 1.21s\n",
      "294:\tlearn: 5.0795878\ttotal: 505ms\tremaining: 1.21s\n",
      "295:\tlearn: 5.0781742\ttotal: 506ms\tremaining: 1.2s\n",
      "296:\tlearn: 5.0681752\ttotal: 508ms\tremaining: 1.2s\n",
      "297:\tlearn: 5.0514200\ttotal: 509ms\tremaining: 1.2s\n",
      "298:\tlearn: 5.0485720\ttotal: 511ms\tremaining: 1.2s\n",
      "299:\tlearn: 5.0426316\ttotal: 513ms\tremaining: 1.2s\n",
      "300:\tlearn: 5.0402804\ttotal: 514ms\tremaining: 1.19s\n",
      "301:\tlearn: 5.0390116\ttotal: 516ms\tremaining: 1.19s\n",
      "302:\tlearn: 5.0307076\ttotal: 518ms\tremaining: 1.19s\n",
      "303:\tlearn: 5.0171931\ttotal: 519ms\tremaining: 1.19s\n",
      "304:\tlearn: 5.0062530\ttotal: 521ms\tremaining: 1.19s\n",
      "305:\tlearn: 4.9948793\ttotal: 523ms\tremaining: 1.19s\n",
      "306:\tlearn: 4.9926837\ttotal: 525ms\tremaining: 1.18s\n",
      "307:\tlearn: 4.9864625\ttotal: 526ms\tremaining: 1.18s\n",
      "308:\tlearn: 4.9801411\ttotal: 529ms\tremaining: 1.18s\n",
      "309:\tlearn: 4.9790422\ttotal: 531ms\tremaining: 1.18s\n",
      "310:\tlearn: 4.9674281\ttotal: 533ms\tremaining: 1.18s\n",
      "311:\tlearn: 4.9649576\ttotal: 535ms\tremaining: 1.18s\n",
      "312:\tlearn: 4.9639443\ttotal: 536ms\tremaining: 1.18s\n",
      "313:\tlearn: 4.9606196\ttotal: 538ms\tremaining: 1.18s\n",
      "314:\tlearn: 4.9528448\ttotal: 540ms\tremaining: 1.17s\n",
      "315:\tlearn: 4.9372698\ttotal: 542ms\tremaining: 1.17s\n",
      "316:\tlearn: 4.9334689\ttotal: 544ms\tremaining: 1.17s\n",
      "317:\tlearn: 4.9307174\ttotal: 546ms\tremaining: 1.17s\n",
      "318:\tlearn: 4.9295136\ttotal: 548ms\tremaining: 1.17s\n",
      "319:\tlearn: 4.9200552\ttotal: 550ms\tremaining: 1.17s\n",
      "320:\tlearn: 4.9091764\ttotal: 552ms\tremaining: 1.17s\n",
      "321:\tlearn: 4.8979343\ttotal: 553ms\tremaining: 1.17s\n",
      "322:\tlearn: 4.8900375\ttotal: 555ms\tremaining: 1.16s\n",
      "323:\tlearn: 4.8812025\ttotal: 557ms\tremaining: 1.16s\n",
      "324:\tlearn: 4.8644310\ttotal: 558ms\tremaining: 1.16s\n",
      "325:\tlearn: 4.8632353\ttotal: 560ms\tremaining: 1.16s\n",
      "326:\tlearn: 4.8610609\ttotal: 561ms\tremaining: 1.16s\n",
      "327:\tlearn: 4.8546760\ttotal: 563ms\tremaining: 1.15s\n",
      "328:\tlearn: 4.8429566\ttotal: 565ms\tremaining: 1.15s\n",
      "329:\tlearn: 4.8345536\ttotal: 566ms\tremaining: 1.15s\n",
      "330:\tlearn: 4.8306004\ttotal: 568ms\tremaining: 1.15s\n",
      "331:\tlearn: 4.8115616\ttotal: 570ms\tremaining: 1.15s\n",
      "332:\tlearn: 4.8072398\ttotal: 571ms\tremaining: 1.14s\n",
      "333:\tlearn: 4.7939607\ttotal: 573ms\tremaining: 1.14s\n",
      "334:\tlearn: 4.7930098\ttotal: 575ms\tremaining: 1.14s\n",
      "335:\tlearn: 4.7919828\ttotal: 576ms\tremaining: 1.14s\n",
      "336:\tlearn: 4.7909736\ttotal: 578ms\tremaining: 1.14s\n",
      "337:\tlearn: 4.7899870\ttotal: 580ms\tremaining: 1.14s\n",
      "338:\tlearn: 4.7876153\ttotal: 581ms\tremaining: 1.13s\n",
      "339:\tlearn: 4.7792592\ttotal: 583ms\tremaining: 1.13s\n",
      "340:\tlearn: 4.7621582\ttotal: 584ms\tremaining: 1.13s\n",
      "341:\tlearn: 4.7531057\ttotal: 586ms\tremaining: 1.13s\n",
      "342:\tlearn: 4.7422998\ttotal: 587ms\tremaining: 1.13s\n",
      "343:\tlearn: 4.7411873\ttotal: 589ms\tremaining: 1.12s\n",
      "344:\tlearn: 4.7323227\ttotal: 591ms\tremaining: 1.12s\n",
      "345:\tlearn: 4.7259056\ttotal: 593ms\tremaining: 1.12s\n",
      "346:\tlearn: 4.7222863\ttotal: 596ms\tremaining: 1.12s\n",
      "347:\tlearn: 4.7166983\ttotal: 597ms\tremaining: 1.12s\n",
      "348:\tlearn: 4.7084342\ttotal: 599ms\tremaining: 1.12s\n",
      "349:\tlearn: 4.6980697\ttotal: 601ms\tremaining: 1.11s\n",
      "350:\tlearn: 4.6820449\ttotal: 602ms\tremaining: 1.11s\n",
      "351:\tlearn: 4.6710872\ttotal: 604ms\tremaining: 1.11s\n",
      "352:\tlearn: 4.6701068\ttotal: 606ms\tremaining: 1.11s\n",
      "353:\tlearn: 4.6600271\ttotal: 608ms\tremaining: 1.11s\n",
      "354:\tlearn: 4.6534733\ttotal: 609ms\tremaining: 1.11s\n",
      "355:\tlearn: 4.6437969\ttotal: 611ms\tremaining: 1.1s\n",
      "356:\tlearn: 4.6320062\ttotal: 613ms\tremaining: 1.1s\n",
      "357:\tlearn: 4.6213179\ttotal: 614ms\tremaining: 1.1s\n",
      "358:\tlearn: 4.6053738\ttotal: 616ms\tremaining: 1.1s\n",
      "359:\tlearn: 4.5960741\ttotal: 618ms\tremaining: 1.1s\n",
      "360:\tlearn: 4.5918672\ttotal: 619ms\tremaining: 1.1s\n",
      "361:\tlearn: 4.5845388\ttotal: 621ms\tremaining: 1.09s\n",
      "362:\tlearn: 4.5721287\ttotal: 623ms\tremaining: 1.09s\n",
      "363:\tlearn: 4.5567742\ttotal: 624ms\tremaining: 1.09s\n",
      "364:\tlearn: 4.5555354\ttotal: 626ms\tremaining: 1.09s\n",
      "365:\tlearn: 4.5483635\ttotal: 627ms\tremaining: 1.09s\n",
      "366:\tlearn: 4.5458123\ttotal: 629ms\tremaining: 1.08s\n",
      "367:\tlearn: 4.5337722\ttotal: 630ms\tremaining: 1.08s\n",
      "368:\tlearn: 4.5279970\ttotal: 632ms\tremaining: 1.08s\n",
      "369:\tlearn: 4.5192875\ttotal: 634ms\tremaining: 1.08s\n",
      "370:\tlearn: 4.5134764\ttotal: 635ms\tremaining: 1.08s\n",
      "371:\tlearn: 4.5117411\ttotal: 637ms\tremaining: 1.07s\n",
      "372:\tlearn: 4.4994483\ttotal: 639ms\tremaining: 1.07s\n",
      "373:\tlearn: 4.4922449\ttotal: 640ms\tremaining: 1.07s\n",
      "374:\tlearn: 4.4851852\ttotal: 642ms\tremaining: 1.07s\n",
      "375:\tlearn: 4.4755277\ttotal: 644ms\tremaining: 1.07s\n",
      "376:\tlearn: 4.4732799\ttotal: 646ms\tremaining: 1.07s\n",
      "377:\tlearn: 4.4599542\ttotal: 648ms\tremaining: 1.06s\n",
      "378:\tlearn: 4.4587946\ttotal: 649ms\tremaining: 1.06s\n",
      "379:\tlearn: 4.4505220\ttotal: 651ms\tremaining: 1.06s\n",
      "380:\tlearn: 4.4485858\ttotal: 654ms\tremaining: 1.06s\n",
      "381:\tlearn: 4.4381101\ttotal: 655ms\tremaining: 1.06s\n",
      "382:\tlearn: 4.4373738\ttotal: 657ms\tremaining: 1.06s\n",
      "383:\tlearn: 4.4319799\ttotal: 659ms\tremaining: 1.06s\n",
      "384:\tlearn: 4.4181142\ttotal: 661ms\tremaining: 1.05s\n",
      "385:\tlearn: 4.4121674\ttotal: 663ms\tremaining: 1.05s\n",
      "386:\tlearn: 4.3972358\ttotal: 665ms\tremaining: 1.05s\n",
      "387:\tlearn: 4.3920244\ttotal: 667ms\tremaining: 1.05s\n",
      "388:\tlearn: 4.3804837\ttotal: 670ms\tremaining: 1.05s\n",
      "389:\tlearn: 4.3750982\ttotal: 673ms\tremaining: 1.05s\n",
      "390:\tlearn: 4.3666896\ttotal: 676ms\tremaining: 1.05s\n",
      "391:\tlearn: 4.3493370\ttotal: 678ms\tremaining: 1.05s\n",
      "392:\tlearn: 4.3423584\ttotal: 681ms\tremaining: 1.05s\n",
      "393:\tlearn: 4.3279815\ttotal: 684ms\tremaining: 1.05s\n",
      "394:\tlearn: 4.3223115\ttotal: 686ms\tremaining: 1.05s\n",
      "395:\tlearn: 4.3129951\ttotal: 688ms\tremaining: 1.05s\n",
      "396:\tlearn: 4.3034652\ttotal: 690ms\tremaining: 1.05s\n",
      "397:\tlearn: 4.2958913\ttotal: 692ms\tremaining: 1.05s\n",
      "398:\tlearn: 4.2888126\ttotal: 694ms\tremaining: 1.04s\n",
      "399:\tlearn: 4.2798905\ttotal: 696ms\tremaining: 1.04s\n",
      "400:\tlearn: 4.2791333\ttotal: 697ms\tremaining: 1.04s\n",
      "401:\tlearn: 4.2672930\ttotal: 699ms\tremaining: 1.04s\n",
      "402:\tlearn: 4.2656075\ttotal: 701ms\tremaining: 1.04s\n",
      "403:\tlearn: 4.2647418\ttotal: 703ms\tremaining: 1.04s\n",
      "404:\tlearn: 4.2541042\ttotal: 704ms\tremaining: 1.03s\n",
      "405:\tlearn: 4.2532438\ttotal: 706ms\tremaining: 1.03s\n",
      "406:\tlearn: 4.2442210\ttotal: 708ms\tremaining: 1.03s\n",
      "407:\tlearn: 4.2413236\ttotal: 710ms\tremaining: 1.03s\n",
      "408:\tlearn: 4.2328963\ttotal: 711ms\tremaining: 1.03s\n",
      "409:\tlearn: 4.2210806\ttotal: 713ms\tremaining: 1.02s\n",
      "410:\tlearn: 4.2198470\ttotal: 714ms\tremaining: 1.02s\n",
      "411:\tlearn: 4.2106015\ttotal: 716ms\tremaining: 1.02s\n",
      "412:\tlearn: 4.1990009\ttotal: 718ms\tremaining: 1.02s\n",
      "413:\tlearn: 4.1960470\ttotal: 720ms\tremaining: 1.02s\n",
      "414:\tlearn: 4.1854800\ttotal: 722ms\tremaining: 1.02s\n",
      "415:\tlearn: 4.1846530\ttotal: 723ms\tremaining: 1.01s\n",
      "416:\tlearn: 4.1824423\ttotal: 725ms\tremaining: 1.01s\n",
      "417:\tlearn: 4.1797927\ttotal: 727ms\tremaining: 1.01s\n",
      "418:\tlearn: 4.1711658\ttotal: 728ms\tremaining: 1.01s\n",
      "419:\tlearn: 4.1703977\ttotal: 730ms\tremaining: 1.01s\n",
      "420:\tlearn: 4.1686413\ttotal: 732ms\tremaining: 1.01s\n",
      "421:\tlearn: 4.1565880\ttotal: 734ms\tremaining: 1s\n",
      "422:\tlearn: 4.1505430\ttotal: 736ms\tremaining: 1s\n",
      "423:\tlearn: 4.1439984\ttotal: 737ms\tremaining: 1s\n",
      "424:\tlearn: 4.1432804\ttotal: 739ms\tremaining: 1000ms\n",
      "425:\tlearn: 4.1424314\ttotal: 741ms\tremaining: 998ms\n",
      "426:\tlearn: 4.1340160\ttotal: 742ms\tremaining: 996ms\n",
      "427:\tlearn: 4.1332004\ttotal: 744ms\tremaining: 994ms\n",
      "428:\tlearn: 4.1225589\ttotal: 746ms\tremaining: 993ms\n",
      "429:\tlearn: 4.1216725\ttotal: 747ms\tremaining: 991ms\n",
      "430:\tlearn: 4.1141809\ttotal: 749ms\tremaining: 989ms\n",
      "431:\tlearn: 4.1135170\ttotal: 751ms\tremaining: 987ms\n",
      "432:\tlearn: 4.1065740\ttotal: 753ms\tremaining: 986ms\n",
      "433:\tlearn: 4.0906934\ttotal: 754ms\tremaining: 984ms\n",
      "434:\tlearn: 4.0816409\ttotal: 756ms\tremaining: 982ms\n",
      "435:\tlearn: 4.0735016\ttotal: 758ms\tremaining: 980ms\n",
      "436:\tlearn: 4.0598142\ttotal: 760ms\tremaining: 979ms\n",
      "437:\tlearn: 4.0441489\ttotal: 761ms\tremaining: 977ms\n",
      "438:\tlearn: 4.0382737\ttotal: 763ms\tremaining: 975ms\n",
      "439:\tlearn: 4.0291733\ttotal: 765ms\tremaining: 974ms\n",
      "440:\tlearn: 4.0202686\ttotal: 767ms\tremaining: 972ms\n",
      "441:\tlearn: 4.0096464\ttotal: 768ms\tremaining: 970ms\n",
      "442:\tlearn: 4.0015386\ttotal: 770ms\tremaining: 968ms\n",
      "443:\tlearn: 3.9921614\ttotal: 772ms\tremaining: 966ms\n",
      "444:\tlearn: 3.9861463\ttotal: 774ms\tremaining: 965ms\n",
      "445:\tlearn: 3.9854455\ttotal: 775ms\tremaining: 963ms\n",
      "446:\tlearn: 3.9712395\ttotal: 777ms\tremaining: 961ms\n",
      "447:\tlearn: 3.9687486\ttotal: 779ms\tremaining: 959ms\n",
      "448:\tlearn: 3.9681108\ttotal: 780ms\tremaining: 957ms\n",
      "449:\tlearn: 3.9664644\ttotal: 782ms\tremaining: 956ms\n",
      "450:\tlearn: 3.9658412\ttotal: 784ms\tremaining: 954ms\n",
      "451:\tlearn: 3.9563466\ttotal: 785ms\tremaining: 952ms\n",
      "452:\tlearn: 3.9539528\ttotal: 787ms\tremaining: 950ms\n",
      "453:\tlearn: 3.9532536\ttotal: 789ms\tremaining: 949ms\n",
      "454:\tlearn: 3.9499835\ttotal: 791ms\tremaining: 947ms\n",
      "455:\tlearn: 3.9421933\ttotal: 793ms\tremaining: 945ms\n",
      "456:\tlearn: 3.9384099\ttotal: 794ms\tremaining: 944ms\n",
      "457:\tlearn: 3.9316111\ttotal: 796ms\tremaining: 942ms\n",
      "458:\tlearn: 3.9233954\ttotal: 798ms\tremaining: 940ms\n",
      "459:\tlearn: 3.9110487\ttotal: 799ms\tremaining: 938ms\n",
      "460:\tlearn: 3.8991965\ttotal: 801ms\tremaining: 937ms\n",
      "461:\tlearn: 3.8922045\ttotal: 803ms\tremaining: 936ms\n",
      "462:\tlearn: 3.8857449\ttotal: 805ms\tremaining: 934ms\n",
      "463:\tlearn: 3.8832198\ttotal: 807ms\tremaining: 932ms\n",
      "464:\tlearn: 3.8803271\ttotal: 809ms\tremaining: 930ms\n",
      "465:\tlearn: 3.8745768\ttotal: 811ms\tremaining: 929ms\n",
      "466:\tlearn: 3.8682835\ttotal: 812ms\tremaining: 927ms\n",
      "467:\tlearn: 3.8569526\ttotal: 814ms\tremaining: 925ms\n",
      "468:\tlearn: 3.8462659\ttotal: 816ms\tremaining: 924ms\n",
      "469:\tlearn: 3.8449808\ttotal: 818ms\tremaining: 922ms\n",
      "470:\tlearn: 3.8424008\ttotal: 819ms\tremaining: 920ms\n",
      "471:\tlearn: 3.8381880\ttotal: 821ms\tremaining: 918ms\n",
      "472:\tlearn: 3.8320839\ttotal: 823ms\tremaining: 917ms\n",
      "473:\tlearn: 3.8313144\ttotal: 825ms\tremaining: 915ms\n",
      "474:\tlearn: 3.8305676\ttotal: 827ms\tremaining: 914ms\n",
      "475:\tlearn: 3.8299856\ttotal: 828ms\tremaining: 912ms\n",
      "476:\tlearn: 3.8225180\ttotal: 830ms\tremaining: 910ms\n",
      "477:\tlearn: 3.8149067\ttotal: 832ms\tremaining: 909ms\n",
      "478:\tlearn: 3.8025568\ttotal: 834ms\tremaining: 907ms\n",
      "479:\tlearn: 3.8008811\ttotal: 836ms\tremaining: 905ms\n",
      "480:\tlearn: 3.7927125\ttotal: 837ms\tremaining: 904ms\n",
      "481:\tlearn: 3.7873594\ttotal: 839ms\tremaining: 902ms\n",
      "482:\tlearn: 3.7786341\ttotal: 841ms\tremaining: 900ms\n",
      "483:\tlearn: 3.7695161\ttotal: 843ms\tremaining: 899ms\n",
      "484:\tlearn: 3.7593499\ttotal: 845ms\tremaining: 897ms\n",
      "485:\tlearn: 3.7586860\ttotal: 847ms\tremaining: 895ms\n",
      "486:\tlearn: 3.7561783\ttotal: 849ms\tremaining: 894ms\n",
      "487:\tlearn: 3.7486713\ttotal: 850ms\tremaining: 892ms\n",
      "488:\tlearn: 3.7460499\ttotal: 852ms\tremaining: 891ms\n",
      "489:\tlearn: 3.7333108\ttotal: 854ms\tremaining: 889ms\n",
      "490:\tlearn: 3.7194583\ttotal: 856ms\tremaining: 887ms\n",
      "491:\tlearn: 3.7134265\ttotal: 857ms\tremaining: 885ms\n",
      "492:\tlearn: 3.7078748\ttotal: 859ms\tremaining: 884ms\n",
      "493:\tlearn: 3.7001787\ttotal: 861ms\tremaining: 882ms\n",
      "494:\tlearn: 3.6945430\ttotal: 863ms\tremaining: 880ms\n",
      "495:\tlearn: 3.6854720\ttotal: 864ms\tremaining: 878ms\n",
      "496:\tlearn: 3.6836550\ttotal: 866ms\tremaining: 876ms\n",
      "497:\tlearn: 3.6783019\ttotal: 868ms\tremaining: 875ms\n",
      "498:\tlearn: 3.6735740\ttotal: 869ms\tremaining: 873ms\n",
      "499:\tlearn: 3.6590101\ttotal: 871ms\tremaining: 871ms\n",
      "500:\tlearn: 3.6531835\ttotal: 873ms\tremaining: 869ms\n",
      "501:\tlearn: 3.6525613\ttotal: 875ms\tremaining: 868ms\n",
      "502:\tlearn: 3.6499873\ttotal: 876ms\tremaining: 866ms\n",
      "503:\tlearn: 3.6484653\ttotal: 878ms\tremaining: 864ms\n",
      "504:\tlearn: 3.6470356\ttotal: 880ms\tremaining: 862ms\n",
      "505:\tlearn: 3.6376771\ttotal: 881ms\tremaining: 860ms\n",
      "506:\tlearn: 3.6280161\ttotal: 883ms\tremaining: 859ms\n",
      "507:\tlearn: 3.6225494\ttotal: 885ms\tremaining: 857ms\n",
      "508:\tlearn: 3.6154787\ttotal: 887ms\tremaining: 855ms\n",
      "509:\tlearn: 3.6086430\ttotal: 888ms\tremaining: 854ms\n",
      "510:\tlearn: 3.6038821\ttotal: 890ms\tremaining: 852ms\n",
      "511:\tlearn: 3.5983729\ttotal: 892ms\tremaining: 850ms\n",
      "512:\tlearn: 3.5971374\ttotal: 894ms\tremaining: 848ms\n",
      "513:\tlearn: 3.5931234\ttotal: 895ms\tremaining: 847ms\n",
      "514:\tlearn: 3.5924880\ttotal: 897ms\tremaining: 845ms\n",
      "515:\tlearn: 3.5912612\ttotal: 899ms\tremaining: 843ms\n",
      "516:\tlearn: 3.5846213\ttotal: 901ms\tremaining: 841ms\n",
      "517:\tlearn: 3.5833691\ttotal: 902ms\tremaining: 839ms\n",
      "518:\tlearn: 3.5773445\ttotal: 904ms\tremaining: 838ms\n",
      "519:\tlearn: 3.5721061\ttotal: 905ms\tremaining: 836ms\n",
      "520:\tlearn: 3.5670568\ttotal: 907ms\tremaining: 834ms\n",
      "521:\tlearn: 3.5605430\ttotal: 909ms\tremaining: 832ms\n",
      "522:\tlearn: 3.5599179\ttotal: 911ms\tremaining: 830ms\n",
      "523:\tlearn: 3.5474525\ttotal: 912ms\tremaining: 829ms\n",
      "524:\tlearn: 3.5446873\ttotal: 914ms\tremaining: 827ms\n",
      "525:\tlearn: 3.5425810\ttotal: 915ms\tremaining: 825ms\n",
      "526:\tlearn: 3.5420149\ttotal: 917ms\tremaining: 823ms\n",
      "527:\tlearn: 3.5354922\ttotal: 919ms\tremaining: 822ms\n",
      "528:\tlearn: 3.5285216\ttotal: 921ms\tremaining: 820ms\n",
      "529:\tlearn: 3.5174900\ttotal: 922ms\tremaining: 818ms\n",
      "530:\tlearn: 3.5161235\ttotal: 924ms\tremaining: 816ms\n",
      "531:\tlearn: 3.5143300\ttotal: 927ms\tremaining: 815ms\n",
      "532:\tlearn: 3.5133447\ttotal: 928ms\tremaining: 813ms\n",
      "533:\tlearn: 3.5038695\ttotal: 930ms\tremaining: 812ms\n",
      "534:\tlearn: 3.4975293\ttotal: 932ms\tremaining: 810ms\n",
      "535:\tlearn: 3.4970310\ttotal: 934ms\tremaining: 809ms\n",
      "536:\tlearn: 3.4963771\ttotal: 936ms\tremaining: 807ms\n",
      "537:\tlearn: 3.4896067\ttotal: 938ms\tremaining: 806ms\n",
      "538:\tlearn: 3.4874465\ttotal: 940ms\tremaining: 804ms\n",
      "539:\tlearn: 3.4860622\ttotal: 942ms\tremaining: 802ms\n",
      "540:\tlearn: 3.4856101\ttotal: 944ms\tremaining: 801ms\n",
      "541:\tlearn: 3.4774958\ttotal: 946ms\tremaining: 799ms\n",
      "542:\tlearn: 3.4769274\ttotal: 948ms\tremaining: 798ms\n",
      "543:\tlearn: 3.4719808\ttotal: 950ms\tremaining: 796ms\n",
      "544:\tlearn: 3.4648067\ttotal: 951ms\tremaining: 794ms\n",
      "545:\tlearn: 3.4641783\ttotal: 953ms\tremaining: 793ms\n",
      "546:\tlearn: 3.4625971\ttotal: 955ms\tremaining: 791ms\n",
      "547:\tlearn: 3.4610579\ttotal: 956ms\tremaining: 789ms\n",
      "548:\tlearn: 3.4521175\ttotal: 958ms\tremaining: 787ms\n",
      "549:\tlearn: 3.4478185\ttotal: 960ms\tremaining: 785ms\n",
      "550:\tlearn: 3.4393527\ttotal: 962ms\tremaining: 784ms\n",
      "551:\tlearn: 3.4361611\ttotal: 963ms\tremaining: 782ms\n",
      "552:\tlearn: 3.4354209\ttotal: 965ms\tremaining: 780ms\n",
      "553:\tlearn: 3.4320680\ttotal: 967ms\tremaining: 778ms\n",
      "554:\tlearn: 3.4310637\ttotal: 968ms\tremaining: 777ms\n",
      "555:\tlearn: 3.4242879\ttotal: 970ms\tremaining: 775ms\n",
      "556:\tlearn: 3.4186815\ttotal: 972ms\tremaining: 773ms\n",
      "557:\tlearn: 3.4147249\ttotal: 973ms\tremaining: 771ms\n",
      "558:\tlearn: 3.4101990\ttotal: 975ms\tremaining: 769ms\n",
      "559:\tlearn: 3.4034877\ttotal: 977ms\tremaining: 767ms\n",
      "560:\tlearn: 3.3987052\ttotal: 980ms\tremaining: 767ms\n",
      "561:\tlearn: 3.3908432\ttotal: 981ms\tremaining: 765ms\n",
      "562:\tlearn: 3.3870124\ttotal: 983ms\tremaining: 763ms\n",
      "563:\tlearn: 3.3855935\ttotal: 985ms\tremaining: 761ms\n",
      "564:\tlearn: 3.3851238\ttotal: 986ms\tremaining: 759ms\n",
      "565:\tlearn: 3.3783014\ttotal: 988ms\tremaining: 757ms\n",
      "566:\tlearn: 3.3688765\ttotal: 989ms\tremaining: 755ms\n",
      "567:\tlearn: 3.3604023\ttotal: 991ms\tremaining: 754ms\n",
      "568:\tlearn: 3.3596939\ttotal: 993ms\tremaining: 752ms\n",
      "569:\tlearn: 3.3558348\ttotal: 994ms\tremaining: 750ms\n",
      "570:\tlearn: 3.3545401\ttotal: 996ms\tremaining: 748ms\n",
      "571:\tlearn: 3.3461270\ttotal: 998ms\tremaining: 746ms\n",
      "572:\tlearn: 3.3451419\ttotal: 999ms\tremaining: 745ms\n",
      "573:\tlearn: 3.3447078\ttotal: 1s\tremaining: 743ms\n",
      "574:\tlearn: 3.3438172\ttotal: 1s\tremaining: 741ms\n",
      "575:\tlearn: 3.3421030\ttotal: 1s\tremaining: 739ms\n",
      "576:\tlearn: 3.3412232\ttotal: 1s\tremaining: 737ms\n",
      "577:\tlearn: 3.3371380\ttotal: 1.01s\tremaining: 736ms\n",
      "578:\tlearn: 3.3363944\ttotal: 1.01s\tremaining: 734ms\n",
      "579:\tlearn: 3.3321359\ttotal: 1.01s\tremaining: 732ms\n",
      "580:\tlearn: 3.3213322\ttotal: 1.01s\tremaining: 730ms\n",
      "581:\tlearn: 3.3202593\ttotal: 1.01s\tremaining: 728ms\n",
      "582:\tlearn: 3.3178110\ttotal: 1.02s\tremaining: 727ms\n",
      "583:\tlearn: 3.3118419\ttotal: 1.02s\tremaining: 725ms\n",
      "584:\tlearn: 3.3036434\ttotal: 1.02s\tremaining: 723ms\n",
      "585:\tlearn: 3.2967101\ttotal: 1.02s\tremaining: 721ms\n",
      "586:\tlearn: 3.2933173\ttotal: 1.02s\tremaining: 720ms\n",
      "587:\tlearn: 3.2919966\ttotal: 1.02s\tremaining: 719ms\n",
      "588:\tlearn: 3.2849225\ttotal: 1.03s\tremaining: 717ms\n",
      "589:\tlearn: 3.2840566\ttotal: 1.03s\tremaining: 715ms\n",
      "590:\tlearn: 3.2780936\ttotal: 1.03s\tremaining: 713ms\n",
      "591:\tlearn: 3.2772402\ttotal: 1.03s\tremaining: 712ms\n",
      "592:\tlearn: 3.2731328\ttotal: 1.03s\tremaining: 710ms\n",
      "593:\tlearn: 3.2689093\ttotal: 1.03s\tremaining: 708ms\n",
      "594:\tlearn: 3.2661659\ttotal: 1.04s\tremaining: 706ms\n",
      "595:\tlearn: 3.2605558\ttotal: 1.04s\tremaining: 704ms\n",
      "596:\tlearn: 3.2595044\ttotal: 1.04s\tremaining: 703ms\n",
      "597:\tlearn: 3.2555675\ttotal: 1.04s\tremaining: 701ms\n",
      "598:\tlearn: 3.2481150\ttotal: 1.04s\tremaining: 699ms\n",
      "599:\tlearn: 3.2457250\ttotal: 1.05s\tremaining: 697ms\n",
      "600:\tlearn: 3.2452376\ttotal: 1.05s\tremaining: 696ms\n",
      "601:\tlearn: 3.2404814\ttotal: 1.05s\tremaining: 694ms\n",
      "602:\tlearn: 3.2392740\ttotal: 1.05s\tremaining: 692ms\n",
      "603:\tlearn: 3.2347608\ttotal: 1.05s\tremaining: 690ms\n",
      "604:\tlearn: 3.2334857\ttotal: 1.05s\tremaining: 688ms\n",
      "605:\tlearn: 3.2287363\ttotal: 1.06s\tremaining: 687ms\n",
      "606:\tlearn: 3.2214650\ttotal: 1.06s\tremaining: 685ms\n",
      "607:\tlearn: 3.2202645\ttotal: 1.06s\tremaining: 683ms\n",
      "608:\tlearn: 3.2197744\ttotal: 1.06s\tremaining: 681ms\n",
      "609:\tlearn: 3.2159490\ttotal: 1.06s\tremaining: 680ms\n",
      "610:\tlearn: 3.2128455\ttotal: 1.06s\tremaining: 678ms\n",
      "611:\tlearn: 3.2123235\ttotal: 1.07s\tremaining: 676ms\n",
      "612:\tlearn: 3.2019741\ttotal: 1.07s\tremaining: 674ms\n",
      "613:\tlearn: 3.1949972\ttotal: 1.07s\tremaining: 672ms\n",
      "614:\tlearn: 3.1921618\ttotal: 1.07s\tremaining: 670ms\n",
      "615:\tlearn: 3.1897283\ttotal: 1.07s\tremaining: 669ms\n",
      "616:\tlearn: 3.1867777\ttotal: 1.07s\tremaining: 667ms\n",
      "617:\tlearn: 3.1819351\ttotal: 1.07s\tremaining: 665ms\n",
      "618:\tlearn: 3.1809037\ttotal: 1.08s\tremaining: 663ms\n",
      "619:\tlearn: 3.1736844\ttotal: 1.08s\tremaining: 662ms\n",
      "620:\tlearn: 3.1653411\ttotal: 1.08s\tremaining: 660ms\n",
      "621:\tlearn: 3.1611415\ttotal: 1.08s\tremaining: 658ms\n",
      "622:\tlearn: 3.1569060\ttotal: 1.08s\tremaining: 656ms\n",
      "623:\tlearn: 3.1523677\ttotal: 1.09s\tremaining: 655ms\n",
      "624:\tlearn: 3.1464455\ttotal: 1.09s\tremaining: 653ms\n",
      "625:\tlearn: 3.1395128\ttotal: 1.09s\tremaining: 651ms\n",
      "626:\tlearn: 3.1345209\ttotal: 1.09s\tremaining: 649ms\n",
      "627:\tlearn: 3.1298556\ttotal: 1.09s\tremaining: 647ms\n",
      "628:\tlearn: 3.1262856\ttotal: 1.09s\tremaining: 646ms\n",
      "629:\tlearn: 3.1209271\ttotal: 1.1s\tremaining: 644ms\n",
      "630:\tlearn: 3.1158211\ttotal: 1.1s\tremaining: 642ms\n",
      "631:\tlearn: 3.1150679\ttotal: 1.1s\tremaining: 640ms\n",
      "632:\tlearn: 3.1087274\ttotal: 1.1s\tremaining: 639ms\n",
      "633:\tlearn: 3.1015046\ttotal: 1.1s\tremaining: 637ms\n",
      "634:\tlearn: 3.0982801\ttotal: 1.1s\tremaining: 635ms\n",
      "635:\tlearn: 3.0963586\ttotal: 1.11s\tremaining: 634ms\n",
      "636:\tlearn: 3.0927464\ttotal: 1.11s\tremaining: 632ms\n",
      "637:\tlearn: 3.0843101\ttotal: 1.11s\tremaining: 630ms\n",
      "638:\tlearn: 3.0799554\ttotal: 1.11s\tremaining: 628ms\n",
      "639:\tlearn: 3.0764857\ttotal: 1.11s\tremaining: 626ms\n",
      "640:\tlearn: 3.0756140\ttotal: 1.11s\tremaining: 625ms\n",
      "641:\tlearn: 3.0673122\ttotal: 1.12s\tremaining: 623ms\n",
      "642:\tlearn: 3.0599489\ttotal: 1.12s\tremaining: 621ms\n",
      "643:\tlearn: 3.0565393\ttotal: 1.12s\tremaining: 620ms\n",
      "644:\tlearn: 3.0532263\ttotal: 1.12s\tremaining: 618ms\n",
      "645:\tlearn: 3.0505803\ttotal: 1.12s\tremaining: 616ms\n",
      "646:\tlearn: 3.0495668\ttotal: 1.13s\tremaining: 614ms\n",
      "647:\tlearn: 3.0411624\ttotal: 1.13s\tremaining: 612ms\n",
      "648:\tlearn: 3.0390059\ttotal: 1.13s\tremaining: 611ms\n",
      "649:\tlearn: 3.0342219\ttotal: 1.13s\tremaining: 609ms\n",
      "650:\tlearn: 3.0335963\ttotal: 1.13s\tremaining: 607ms\n",
      "651:\tlearn: 3.0316349\ttotal: 1.13s\tremaining: 605ms\n",
      "652:\tlearn: 3.0308520\ttotal: 1.14s\tremaining: 604ms\n",
      "653:\tlearn: 3.0253146\ttotal: 1.14s\tremaining: 602ms\n",
      "654:\tlearn: 3.0217359\ttotal: 1.14s\tremaining: 600ms\n",
      "655:\tlearn: 3.0205497\ttotal: 1.14s\tremaining: 598ms\n",
      "656:\tlearn: 3.0200543\ttotal: 1.14s\tremaining: 596ms\n",
      "657:\tlearn: 3.0136807\ttotal: 1.14s\tremaining: 595ms\n",
      "658:\tlearn: 3.0086342\ttotal: 1.15s\tremaining: 593ms\n",
      "659:\tlearn: 3.0008887\ttotal: 1.15s\tremaining: 591ms\n",
      "660:\tlearn: 2.9954217\ttotal: 1.15s\tremaining: 589ms\n",
      "661:\tlearn: 2.9928634\ttotal: 1.15s\tremaining: 588ms\n",
      "662:\tlearn: 2.9875317\ttotal: 1.15s\tremaining: 586ms\n",
      "663:\tlearn: 2.9836631\ttotal: 1.15s\tremaining: 584ms\n",
      "664:\tlearn: 2.9768677\ttotal: 1.16s\tremaining: 582ms\n",
      "665:\tlearn: 2.9707620\ttotal: 1.16s\tremaining: 580ms\n",
      "666:\tlearn: 2.9669441\ttotal: 1.16s\tremaining: 579ms\n",
      "667:\tlearn: 2.9631045\ttotal: 1.16s\tremaining: 577ms\n",
      "668:\tlearn: 2.9582939\ttotal: 1.16s\tremaining: 575ms\n",
      "669:\tlearn: 2.9572420\ttotal: 1.16s\tremaining: 573ms\n",
      "670:\tlearn: 2.9526869\ttotal: 1.17s\tremaining: 572ms\n",
      "671:\tlearn: 2.9508062\ttotal: 1.17s\tremaining: 570ms\n",
      "672:\tlearn: 2.9499342\ttotal: 1.17s\tremaining: 568ms\n",
      "673:\tlearn: 2.9447589\ttotal: 1.17s\tremaining: 566ms\n",
      "674:\tlearn: 2.9358730\ttotal: 1.17s\tremaining: 564ms\n",
      "675:\tlearn: 2.9331781\ttotal: 1.17s\tremaining: 563ms\n",
      "676:\tlearn: 2.9269333\ttotal: 1.18s\tremaining: 561ms\n",
      "677:\tlearn: 2.9193830\ttotal: 1.18s\tremaining: 559ms\n",
      "678:\tlearn: 2.9183813\ttotal: 1.18s\tremaining: 557ms\n",
      "679:\tlearn: 2.9115154\ttotal: 1.18s\tremaining: 556ms\n",
      "680:\tlearn: 2.9068691\ttotal: 1.18s\tremaining: 554ms\n",
      "681:\tlearn: 2.9012630\ttotal: 1.18s\tremaining: 552ms\n",
      "682:\tlearn: 2.8949849\ttotal: 1.19s\tremaining: 550ms\n",
      "683:\tlearn: 2.8888641\ttotal: 1.19s\tremaining: 549ms\n",
      "684:\tlearn: 2.8818079\ttotal: 1.19s\tremaining: 547ms\n",
      "685:\tlearn: 2.8749752\ttotal: 1.19s\tremaining: 545ms\n",
      "686:\tlearn: 2.8709068\ttotal: 1.19s\tremaining: 543ms\n",
      "687:\tlearn: 2.8701472\ttotal: 1.19s\tremaining: 541ms\n",
      "688:\tlearn: 2.8697716\ttotal: 1.2s\tremaining: 539ms\n",
      "689:\tlearn: 2.8657471\ttotal: 1.2s\tremaining: 538ms\n",
      "690:\tlearn: 2.8592088\ttotal: 1.2s\tremaining: 536ms\n",
      "691:\tlearn: 2.8551344\ttotal: 1.2s\tremaining: 534ms\n",
      "692:\tlearn: 2.8508347\ttotal: 1.2s\tremaining: 532ms\n",
      "693:\tlearn: 2.8480250\ttotal: 1.2s\tremaining: 531ms\n",
      "694:\tlearn: 2.8436427\ttotal: 1.21s\tremaining: 529ms\n",
      "695:\tlearn: 2.8372276\ttotal: 1.21s\tremaining: 527ms\n",
      "696:\tlearn: 2.8328453\ttotal: 1.21s\tremaining: 525ms\n",
      "697:\tlearn: 2.8282027\ttotal: 1.21s\tremaining: 524ms\n",
      "698:\tlearn: 2.8260343\ttotal: 1.21s\tremaining: 522ms\n",
      "699:\tlearn: 2.8208823\ttotal: 1.21s\tremaining: 520ms\n",
      "700:\tlearn: 2.8182792\ttotal: 1.22s\tremaining: 519ms\n",
      "701:\tlearn: 2.8100112\ttotal: 1.22s\tremaining: 517ms\n",
      "702:\tlearn: 2.8044276\ttotal: 1.22s\tremaining: 515ms\n",
      "703:\tlearn: 2.7988359\ttotal: 1.22s\tremaining: 513ms\n",
      "704:\tlearn: 2.7961795\ttotal: 1.22s\tremaining: 512ms\n",
      "705:\tlearn: 2.7903197\ttotal: 1.22s\tremaining: 510ms\n",
      "706:\tlearn: 2.7843974\ttotal: 1.23s\tremaining: 508ms\n",
      "707:\tlearn: 2.7802124\ttotal: 1.23s\tremaining: 507ms\n",
      "708:\tlearn: 2.7782905\ttotal: 1.23s\tremaining: 505ms\n",
      "709:\tlearn: 2.7773670\ttotal: 1.23s\tremaining: 503ms\n",
      "710:\tlearn: 2.7732898\ttotal: 1.23s\tremaining: 501ms\n",
      "711:\tlearn: 2.7695972\ttotal: 1.23s\tremaining: 500ms\n",
      "712:\tlearn: 2.7688427\ttotal: 1.24s\tremaining: 498ms\n",
      "713:\tlearn: 2.7651901\ttotal: 1.24s\tremaining: 496ms\n",
      "714:\tlearn: 2.7615018\ttotal: 1.24s\tremaining: 494ms\n",
      "715:\tlearn: 2.7542409\ttotal: 1.24s\tremaining: 493ms\n",
      "716:\tlearn: 2.7506888\ttotal: 1.24s\tremaining: 491ms\n",
      "717:\tlearn: 2.7480047\ttotal: 1.25s\tremaining: 489ms\n",
      "718:\tlearn: 2.7471265\ttotal: 1.25s\tremaining: 487ms\n",
      "719:\tlearn: 2.7447106\ttotal: 1.25s\tremaining: 486ms\n",
      "720:\tlearn: 2.7392718\ttotal: 1.25s\tremaining: 484ms\n",
      "721:\tlearn: 2.7333271\ttotal: 1.25s\tremaining: 482ms\n",
      "722:\tlearn: 2.7309050\ttotal: 1.25s\tremaining: 480ms\n",
      "723:\tlearn: 2.7266580\ttotal: 1.25s\tremaining: 478ms\n",
      "724:\tlearn: 2.7262675\ttotal: 1.26s\tremaining: 477ms\n",
      "725:\tlearn: 2.7236307\ttotal: 1.26s\tremaining: 475ms\n",
      "726:\tlearn: 2.7180480\ttotal: 1.26s\tremaining: 473ms\n",
      "727:\tlearn: 2.7175214\ttotal: 1.26s\tremaining: 471ms\n",
      "728:\tlearn: 2.7157538\ttotal: 1.26s\tremaining: 470ms\n",
      "729:\tlearn: 2.7153561\ttotal: 1.26s\tremaining: 468ms\n",
      "730:\tlearn: 2.7151112\ttotal: 1.27s\tremaining: 466ms\n",
      "731:\tlearn: 2.7082053\ttotal: 1.27s\tremaining: 464ms\n",
      "732:\tlearn: 2.7037169\ttotal: 1.27s\tremaining: 463ms\n",
      "733:\tlearn: 2.7031127\ttotal: 1.27s\tremaining: 461ms\n",
      "734:\tlearn: 2.7005005\ttotal: 1.27s\tremaining: 459ms\n",
      "735:\tlearn: 2.6998296\ttotal: 1.27s\tremaining: 457ms\n",
      "736:\tlearn: 2.6994373\ttotal: 1.28s\tremaining: 456ms\n",
      "737:\tlearn: 2.6939788\ttotal: 1.28s\tremaining: 454ms\n",
      "738:\tlearn: 2.6921829\ttotal: 1.28s\tremaining: 452ms\n",
      "739:\tlearn: 2.6914375\ttotal: 1.28s\tremaining: 450ms\n",
      "740:\tlearn: 2.6860476\ttotal: 1.28s\tremaining: 449ms\n",
      "741:\tlearn: 2.6823835\ttotal: 1.28s\tremaining: 447ms\n",
      "742:\tlearn: 2.6821123\ttotal: 1.29s\tremaining: 445ms\n",
      "743:\tlearn: 2.6794190\ttotal: 1.29s\tremaining: 443ms\n",
      "744:\tlearn: 2.6759498\ttotal: 1.29s\tremaining: 442ms\n",
      "745:\tlearn: 2.6705739\ttotal: 1.29s\tremaining: 440ms\n",
      "746:\tlearn: 2.6661179\ttotal: 1.29s\tremaining: 438ms\n",
      "747:\tlearn: 2.6591214\ttotal: 1.3s\tremaining: 437ms\n",
      "748:\tlearn: 2.6539522\ttotal: 1.3s\tremaining: 435ms\n",
      "749:\tlearn: 2.6488027\ttotal: 1.3s\tremaining: 434ms\n",
      "750:\tlearn: 2.6483602\ttotal: 1.3s\tremaining: 432ms\n",
      "751:\tlearn: 2.6459305\ttotal: 1.3s\tremaining: 430ms\n",
      "752:\tlearn: 2.6448837\ttotal: 1.31s\tremaining: 429ms\n",
      "753:\tlearn: 2.6384889\ttotal: 1.31s\tremaining: 427ms\n",
      "754:\tlearn: 2.6379818\ttotal: 1.31s\tremaining: 425ms\n",
      "755:\tlearn: 2.6366325\ttotal: 1.31s\tremaining: 424ms\n",
      "756:\tlearn: 2.6313671\ttotal: 1.31s\tremaining: 422ms\n",
      "757:\tlearn: 2.6228136\ttotal: 1.31s\tremaining: 420ms\n",
      "758:\tlearn: 2.6166316\ttotal: 1.32s\tremaining: 418ms\n",
      "759:\tlearn: 2.6109742\ttotal: 1.32s\tremaining: 416ms\n",
      "760:\tlearn: 2.6048888\ttotal: 1.32s\tremaining: 415ms\n",
      "761:\tlearn: 2.6011550\ttotal: 1.32s\tremaining: 413ms\n",
      "762:\tlearn: 2.5989175\ttotal: 1.32s\tremaining: 411ms\n",
      "763:\tlearn: 2.5981801\ttotal: 1.32s\tremaining: 409ms\n",
      "764:\tlearn: 2.5938590\ttotal: 1.33s\tremaining: 408ms\n",
      "765:\tlearn: 2.5909229\ttotal: 1.33s\tremaining: 406ms\n",
      "766:\tlearn: 2.5870721\ttotal: 1.33s\tremaining: 404ms\n",
      "767:\tlearn: 2.5866988\ttotal: 1.33s\tremaining: 402ms\n",
      "768:\tlearn: 2.5852403\ttotal: 1.33s\tremaining: 401ms\n",
      "769:\tlearn: 2.5810263\ttotal: 1.33s\tremaining: 399ms\n",
      "770:\tlearn: 2.5798013\ttotal: 1.34s\tremaining: 397ms\n",
      "771:\tlearn: 2.5766568\ttotal: 1.34s\tremaining: 395ms\n",
      "772:\tlearn: 2.5746465\ttotal: 1.34s\tremaining: 394ms\n",
      "773:\tlearn: 2.5730016\ttotal: 1.34s\tremaining: 392ms\n",
      "774:\tlearn: 2.5673936\ttotal: 1.34s\tremaining: 390ms\n",
      "775:\tlearn: 2.5633028\ttotal: 1.35s\tremaining: 389ms\n",
      "776:\tlearn: 2.5630001\ttotal: 1.35s\tremaining: 387ms\n",
      "777:\tlearn: 2.5587651\ttotal: 1.35s\tremaining: 386ms\n",
      "778:\tlearn: 2.5550398\ttotal: 1.35s\tremaining: 384ms\n",
      "779:\tlearn: 2.5495099\ttotal: 1.35s\tremaining: 382ms\n",
      "780:\tlearn: 2.5432350\ttotal: 1.36s\tremaining: 380ms\n",
      "781:\tlearn: 2.5403975\ttotal: 1.36s\tremaining: 379ms\n",
      "782:\tlearn: 2.5398186\ttotal: 1.36s\tremaining: 377ms\n",
      "783:\tlearn: 2.5351291\ttotal: 1.36s\tremaining: 375ms\n",
      "784:\tlearn: 2.5337646\ttotal: 1.36s\tremaining: 373ms\n",
      "785:\tlearn: 2.5333322\ttotal: 1.36s\tremaining: 372ms\n",
      "786:\tlearn: 2.5327469\ttotal: 1.37s\tremaining: 370ms\n",
      "787:\tlearn: 2.5322108\ttotal: 1.37s\tremaining: 368ms\n",
      "788:\tlearn: 2.5291015\ttotal: 1.37s\tremaining: 366ms\n",
      "789:\tlearn: 2.5263108\ttotal: 1.37s\tremaining: 364ms\n",
      "790:\tlearn: 2.5237999\ttotal: 1.37s\tremaining: 363ms\n",
      "791:\tlearn: 2.5171968\ttotal: 1.37s\tremaining: 361ms\n",
      "792:\tlearn: 2.5145318\ttotal: 1.38s\tremaining: 359ms\n",
      "793:\tlearn: 2.5089796\ttotal: 1.38s\tremaining: 357ms\n",
      "794:\tlearn: 2.5065128\ttotal: 1.38s\tremaining: 356ms\n",
      "795:\tlearn: 2.5042385\ttotal: 1.38s\tremaining: 354ms\n",
      "796:\tlearn: 2.4980635\ttotal: 1.38s\tremaining: 352ms\n",
      "797:\tlearn: 2.4944476\ttotal: 1.38s\tremaining: 350ms\n",
      "798:\tlearn: 2.4937452\ttotal: 1.39s\tremaining: 349ms\n",
      "799:\tlearn: 2.4895016\ttotal: 1.39s\tremaining: 347ms\n",
      "800:\tlearn: 2.4866033\ttotal: 1.39s\tremaining: 345ms\n",
      "801:\tlearn: 2.4811083\ttotal: 1.39s\tremaining: 343ms\n",
      "802:\tlearn: 2.4802185\ttotal: 1.39s\tremaining: 342ms\n",
      "803:\tlearn: 2.4759556\ttotal: 1.39s\tremaining: 340ms\n",
      "804:\tlearn: 2.4722845\ttotal: 1.4s\tremaining: 338ms\n",
      "805:\tlearn: 2.4720900\ttotal: 1.4s\tremaining: 336ms\n",
      "806:\tlearn: 2.4676283\ttotal: 1.4s\tremaining: 335ms\n",
      "807:\tlearn: 2.4643917\ttotal: 1.4s\tremaining: 333ms\n",
      "808:\tlearn: 2.4577055\ttotal: 1.4s\tremaining: 331ms\n",
      "809:\tlearn: 2.4574652\ttotal: 1.4s\tremaining: 329ms\n",
      "810:\tlearn: 2.4528925\ttotal: 1.41s\tremaining: 328ms\n",
      "811:\tlearn: 2.4525604\ttotal: 1.41s\tremaining: 326ms\n",
      "812:\tlearn: 2.4501368\ttotal: 1.41s\tremaining: 324ms\n",
      "813:\tlearn: 2.4439370\ttotal: 1.41s\tremaining: 322ms\n",
      "814:\tlearn: 2.4394173\ttotal: 1.41s\tremaining: 321ms\n",
      "815:\tlearn: 2.4352355\ttotal: 1.41s\tremaining: 319ms\n",
      "816:\tlearn: 2.4334735\ttotal: 1.42s\tremaining: 317ms\n",
      "817:\tlearn: 2.4296959\ttotal: 1.42s\tremaining: 315ms\n",
      "818:\tlearn: 2.4295220\ttotal: 1.42s\tremaining: 314ms\n",
      "819:\tlearn: 2.4255967\ttotal: 1.42s\tremaining: 312ms\n",
      "820:\tlearn: 2.4252855\ttotal: 1.42s\tremaining: 310ms\n",
      "821:\tlearn: 2.4205741\ttotal: 1.42s\tremaining: 308ms\n",
      "822:\tlearn: 2.4154701\ttotal: 1.43s\tremaining: 307ms\n",
      "823:\tlearn: 2.4107108\ttotal: 1.43s\tremaining: 305ms\n",
      "824:\tlearn: 2.4050188\ttotal: 1.43s\tremaining: 303ms\n",
      "825:\tlearn: 2.4030827\ttotal: 1.43s\tremaining: 301ms\n",
      "826:\tlearn: 2.3976234\ttotal: 1.43s\tremaining: 300ms\n",
      "827:\tlearn: 2.3956975\ttotal: 1.43s\tremaining: 298ms\n",
      "828:\tlearn: 2.3950849\ttotal: 1.44s\tremaining: 296ms\n",
      "829:\tlearn: 2.3932565\ttotal: 1.44s\tremaining: 295ms\n",
      "830:\tlearn: 2.3883643\ttotal: 1.44s\tremaining: 293ms\n",
      "831:\tlearn: 2.3825857\ttotal: 1.44s\tremaining: 291ms\n",
      "832:\tlearn: 2.3792059\ttotal: 1.44s\tremaining: 289ms\n",
      "833:\tlearn: 2.3744757\ttotal: 1.45s\tremaining: 288ms\n",
      "834:\tlearn: 2.3691297\ttotal: 1.45s\tremaining: 286ms\n",
      "835:\tlearn: 2.3689853\ttotal: 1.45s\tremaining: 284ms\n",
      "836:\tlearn: 2.3687123\ttotal: 1.45s\tremaining: 282ms\n",
      "837:\tlearn: 2.3658642\ttotal: 1.45s\tremaining: 281ms\n",
      "838:\tlearn: 2.3633582\ttotal: 1.45s\tremaining: 279ms\n",
      "839:\tlearn: 2.3617675\ttotal: 1.46s\tremaining: 277ms\n",
      "840:\tlearn: 2.3611450\ttotal: 1.46s\tremaining: 276ms\n",
      "841:\tlearn: 2.3606169\ttotal: 1.46s\tremaining: 274ms\n",
      "842:\tlearn: 2.3570904\ttotal: 1.46s\tremaining: 272ms\n",
      "843:\tlearn: 2.3519034\ttotal: 1.46s\tremaining: 270ms\n",
      "844:\tlearn: 2.3511550\ttotal: 1.46s\tremaining: 269ms\n",
      "845:\tlearn: 2.3476222\ttotal: 1.47s\tremaining: 267ms\n",
      "846:\tlearn: 2.3473594\ttotal: 1.47s\tremaining: 265ms\n",
      "847:\tlearn: 2.3447348\ttotal: 1.47s\tremaining: 264ms\n",
      "848:\tlearn: 2.3424105\ttotal: 1.47s\tremaining: 262ms\n",
      "849:\tlearn: 2.3376038\ttotal: 1.47s\tremaining: 260ms\n",
      "850:\tlearn: 2.3335622\ttotal: 1.48s\tremaining: 258ms\n",
      "851:\tlearn: 2.3333761\ttotal: 1.48s\tremaining: 257ms\n",
      "852:\tlearn: 2.3329861\ttotal: 1.48s\tremaining: 255ms\n",
      "853:\tlearn: 2.3305644\ttotal: 1.48s\tremaining: 253ms\n",
      "854:\tlearn: 2.3253073\ttotal: 1.48s\tremaining: 251ms\n",
      "855:\tlearn: 2.3251350\ttotal: 1.48s\tremaining: 250ms\n",
      "856:\tlearn: 2.3212969\ttotal: 1.49s\tremaining: 248ms\n",
      "857:\tlearn: 2.3208245\ttotal: 1.49s\tremaining: 246ms\n",
      "858:\tlearn: 2.3205240\ttotal: 1.49s\tremaining: 245ms\n",
      "859:\tlearn: 2.3184535\ttotal: 1.49s\tremaining: 243ms\n",
      "860:\tlearn: 2.3131807\ttotal: 1.49s\tremaining: 241ms\n",
      "861:\tlearn: 2.3129080\ttotal: 1.5s\tremaining: 239ms\n",
      "862:\tlearn: 2.3100926\ttotal: 1.5s\tremaining: 238ms\n",
      "863:\tlearn: 2.3046282\ttotal: 1.5s\tremaining: 236ms\n",
      "864:\tlearn: 2.3039590\ttotal: 1.5s\tremaining: 234ms\n",
      "865:\tlearn: 2.3011300\ttotal: 1.5s\tremaining: 233ms\n",
      "866:\tlearn: 2.2980390\ttotal: 1.5s\tremaining: 231ms\n",
      "867:\tlearn: 2.2978118\ttotal: 1.51s\tremaining: 229ms\n",
      "868:\tlearn: 2.2919782\ttotal: 1.51s\tremaining: 227ms\n",
      "869:\tlearn: 2.2868198\ttotal: 1.51s\tremaining: 226ms\n",
      "870:\tlearn: 2.2837183\ttotal: 1.51s\tremaining: 224ms\n",
      "871:\tlearn: 2.2795697\ttotal: 1.51s\tremaining: 222ms\n",
      "872:\tlearn: 2.2765599\ttotal: 1.51s\tremaining: 220ms\n",
      "873:\tlearn: 2.2718215\ttotal: 1.52s\tremaining: 219ms\n",
      "874:\tlearn: 2.2715205\ttotal: 1.52s\tremaining: 217ms\n",
      "875:\tlearn: 2.2694207\ttotal: 1.52s\tremaining: 215ms\n",
      "876:\tlearn: 2.2643231\ttotal: 1.52s\tremaining: 213ms\n",
      "877:\tlearn: 2.2603494\ttotal: 1.52s\tremaining: 212ms\n",
      "878:\tlearn: 2.2558951\ttotal: 1.52s\tremaining: 210ms\n",
      "879:\tlearn: 2.2533566\ttotal: 1.53s\tremaining: 208ms\n",
      "880:\tlearn: 2.2532163\ttotal: 1.53s\tremaining: 206ms\n",
      "881:\tlearn: 2.2530129\ttotal: 1.53s\tremaining: 205ms\n",
      "882:\tlearn: 2.2526676\ttotal: 1.53s\tremaining: 203ms\n",
      "883:\tlearn: 2.2504962\ttotal: 1.53s\tremaining: 201ms\n",
      "884:\tlearn: 2.2483210\ttotal: 1.53s\tremaining: 199ms\n",
      "885:\tlearn: 2.2439468\ttotal: 1.54s\tremaining: 198ms\n",
      "886:\tlearn: 2.2415735\ttotal: 1.54s\tremaining: 196ms\n",
      "887:\tlearn: 2.2361175\ttotal: 1.54s\tremaining: 194ms\n",
      "888:\tlearn: 2.2299237\ttotal: 1.54s\tremaining: 192ms\n",
      "889:\tlearn: 2.2287431\ttotal: 1.54s\tremaining: 191ms\n",
      "890:\tlearn: 2.2249789\ttotal: 1.54s\tremaining: 189ms\n",
      "891:\tlearn: 2.2212224\ttotal: 1.55s\tremaining: 187ms\n",
      "892:\tlearn: 2.2172163\ttotal: 1.55s\tremaining: 185ms\n",
      "893:\tlearn: 2.2125304\ttotal: 1.55s\tremaining: 184ms\n",
      "894:\tlearn: 2.2095023\ttotal: 1.55s\tremaining: 182ms\n",
      "895:\tlearn: 2.2049716\ttotal: 1.55s\tremaining: 180ms\n",
      "896:\tlearn: 2.1980672\ttotal: 1.55s\tremaining: 178ms\n",
      "897:\tlearn: 2.1941083\ttotal: 1.56s\tremaining: 177ms\n",
      "898:\tlearn: 2.1937321\ttotal: 1.56s\tremaining: 175ms\n",
      "899:\tlearn: 2.1910296\ttotal: 1.56s\tremaining: 173ms\n",
      "900:\tlearn: 2.1904930\ttotal: 1.56s\tremaining: 172ms\n",
      "901:\tlearn: 2.1892744\ttotal: 1.56s\tremaining: 170ms\n",
      "902:\tlearn: 2.1841415\ttotal: 1.56s\tremaining: 168ms\n",
      "903:\tlearn: 2.1784233\ttotal: 1.57s\tremaining: 166ms\n",
      "904:\tlearn: 2.1761848\ttotal: 1.57s\tremaining: 165ms\n",
      "905:\tlearn: 2.1722819\ttotal: 1.57s\tremaining: 163ms\n",
      "906:\tlearn: 2.1720458\ttotal: 1.57s\tremaining: 161ms\n",
      "907:\tlearn: 2.1716406\ttotal: 1.57s\tremaining: 159ms\n",
      "908:\tlearn: 2.1702460\ttotal: 1.57s\tremaining: 158ms\n",
      "909:\tlearn: 2.1669984\ttotal: 1.58s\tremaining: 156ms\n",
      "910:\tlearn: 2.1666484\ttotal: 1.58s\tremaining: 154ms\n",
      "911:\tlearn: 2.1641886\ttotal: 1.58s\tremaining: 152ms\n",
      "912:\tlearn: 2.1604567\ttotal: 1.58s\tremaining: 151ms\n",
      "913:\tlearn: 2.1565582\ttotal: 1.58s\tremaining: 149ms\n",
      "914:\tlearn: 2.1524969\ttotal: 1.58s\tremaining: 147ms\n",
      "915:\tlearn: 2.1473145\ttotal: 1.59s\tremaining: 146ms\n",
      "916:\tlearn: 2.1426590\ttotal: 1.59s\tremaining: 144ms\n",
      "917:\tlearn: 2.1422943\ttotal: 1.59s\tremaining: 142ms\n",
      "918:\tlearn: 2.1392553\ttotal: 1.59s\tremaining: 140ms\n",
      "919:\tlearn: 2.1342235\ttotal: 1.59s\tremaining: 139ms\n",
      "920:\tlearn: 2.1306336\ttotal: 1.59s\tremaining: 137ms\n",
      "921:\tlearn: 2.1302554\ttotal: 1.6s\tremaining: 135ms\n",
      "922:\tlearn: 2.1263938\ttotal: 1.6s\tremaining: 133ms\n",
      "923:\tlearn: 2.1208931\ttotal: 1.6s\tremaining: 132ms\n",
      "924:\tlearn: 2.1194018\ttotal: 1.6s\tremaining: 130ms\n",
      "925:\tlearn: 2.1170431\ttotal: 1.6s\tremaining: 128ms\n",
      "926:\tlearn: 2.1128620\ttotal: 1.6s\tremaining: 126ms\n",
      "927:\tlearn: 2.1085500\ttotal: 1.61s\tremaining: 125ms\n",
      "928:\tlearn: 2.1045177\ttotal: 1.61s\tremaining: 123ms\n",
      "929:\tlearn: 2.1004888\ttotal: 1.61s\tremaining: 121ms\n",
      "930:\tlearn: 2.0969374\ttotal: 1.61s\tremaining: 119ms\n",
      "931:\tlearn: 2.0943520\ttotal: 1.61s\tremaining: 118ms\n",
      "932:\tlearn: 2.0905274\ttotal: 1.62s\tremaining: 116ms\n",
      "933:\tlearn: 2.0883701\ttotal: 1.62s\tremaining: 114ms\n",
      "934:\tlearn: 2.0872872\ttotal: 1.62s\tremaining: 113ms\n",
      "935:\tlearn: 2.0856899\ttotal: 1.62s\tremaining: 111ms\n",
      "936:\tlearn: 2.0851029\ttotal: 1.62s\tremaining: 109ms\n",
      "937:\tlearn: 2.0806611\ttotal: 1.63s\tremaining: 107ms\n",
      "938:\tlearn: 2.0805128\ttotal: 1.63s\tremaining: 106ms\n",
      "939:\tlearn: 2.0800243\ttotal: 1.63s\tremaining: 104ms\n",
      "940:\tlearn: 2.0764328\ttotal: 1.63s\tremaining: 102ms\n",
      "941:\tlearn: 2.0717924\ttotal: 1.63s\tremaining: 101ms\n",
      "942:\tlearn: 2.0713743\ttotal: 1.63s\tremaining: 98.8ms\n",
      "943:\tlearn: 2.0712341\ttotal: 1.64s\tremaining: 97.1ms\n",
      "944:\tlearn: 2.0682908\ttotal: 1.64s\tremaining: 95.4ms\n",
      "945:\tlearn: 2.0645467\ttotal: 1.64s\tremaining: 93.7ms\n",
      "946:\tlearn: 2.0605220\ttotal: 1.64s\tremaining: 92ms\n",
      "947:\tlearn: 2.0602544\ttotal: 1.65s\tremaining: 90.2ms\n",
      "948:\tlearn: 2.0582702\ttotal: 1.65s\tremaining: 88.5ms\n",
      "949:\tlearn: 2.0564104\ttotal: 1.65s\tremaining: 86.8ms\n",
      "950:\tlearn: 2.0549782\ttotal: 1.65s\tremaining: 85ms\n",
      "951:\tlearn: 2.0539418\ttotal: 1.65s\tremaining: 83.3ms\n",
      "952:\tlearn: 2.0503519\ttotal: 1.65s\tremaining: 81.6ms\n",
      "953:\tlearn: 2.0464649\ttotal: 1.66s\tremaining: 79.8ms\n",
      "954:\tlearn: 2.0426188\ttotal: 1.66s\tremaining: 78.1ms\n",
      "955:\tlearn: 2.0390385\ttotal: 1.66s\tremaining: 76.4ms\n",
      "956:\tlearn: 2.0372386\ttotal: 1.66s\tremaining: 74.7ms\n",
      "957:\tlearn: 2.0371122\ttotal: 1.66s\tremaining: 72.9ms\n",
      "958:\tlearn: 2.0346183\ttotal: 1.67s\tremaining: 71.3ms\n",
      "959:\tlearn: 2.0301555\ttotal: 1.67s\tremaining: 69.5ms\n",
      "960:\tlearn: 2.0257767\ttotal: 1.67s\tremaining: 67.8ms\n",
      "961:\tlearn: 2.0252003\ttotal: 1.67s\tremaining: 66ms\n",
      "962:\tlearn: 2.0250084\ttotal: 1.67s\tremaining: 64.3ms\n",
      "963:\tlearn: 2.0226894\ttotal: 1.68s\tremaining: 62.6ms\n",
      "964:\tlearn: 2.0193683\ttotal: 1.68s\tremaining: 60.8ms\n",
      "965:\tlearn: 2.0153097\ttotal: 1.68s\tremaining: 59.1ms\n",
      "966:\tlearn: 2.0119954\ttotal: 1.68s\tremaining: 57.4ms\n",
      "967:\tlearn: 2.0080775\ttotal: 1.68s\tremaining: 55.6ms\n",
      "968:\tlearn: 2.0078996\ttotal: 1.68s\tremaining: 53.9ms\n",
      "969:\tlearn: 2.0043250\ttotal: 1.69s\tremaining: 52.1ms\n",
      "970:\tlearn: 2.0028052\ttotal: 1.69s\tremaining: 50.4ms\n",
      "971:\tlearn: 1.9994769\ttotal: 1.69s\tremaining: 48.6ms\n",
      "972:\tlearn: 1.9983697\ttotal: 1.69s\tremaining: 46.9ms\n",
      "973:\tlearn: 1.9936971\ttotal: 1.69s\tremaining: 45.2ms\n",
      "974:\tlearn: 1.9895554\ttotal: 1.69s\tremaining: 43.4ms\n",
      "975:\tlearn: 1.9886586\ttotal: 1.7s\tremaining: 41.7ms\n",
      "976:\tlearn: 1.9851859\ttotal: 1.7s\tremaining: 40ms\n",
      "977:\tlearn: 1.9820471\ttotal: 1.7s\tremaining: 38.2ms\n",
      "978:\tlearn: 1.9765305\ttotal: 1.7s\tremaining: 36.5ms\n",
      "979:\tlearn: 1.9734507\ttotal: 1.7s\tremaining: 34.7ms\n",
      "980:\tlearn: 1.9672872\ttotal: 1.7s\tremaining: 33ms\n",
      "981:\tlearn: 1.9634259\ttotal: 1.71s\tremaining: 31.3ms\n",
      "982:\tlearn: 1.9623970\ttotal: 1.71s\tremaining: 29.5ms\n",
      "983:\tlearn: 1.9607441\ttotal: 1.71s\tremaining: 27.8ms\n",
      "984:\tlearn: 1.9605821\ttotal: 1.71s\tremaining: 26.1ms\n",
      "985:\tlearn: 1.9603307\ttotal: 1.71s\tremaining: 24.3ms\n",
      "986:\tlearn: 1.9579629\ttotal: 1.71s\tremaining: 22.6ms\n",
      "987:\tlearn: 1.9577838\ttotal: 1.72s\tremaining: 20.8ms\n",
      "988:\tlearn: 1.9575823\ttotal: 1.72s\tremaining: 19.1ms\n",
      "989:\tlearn: 1.9553441\ttotal: 1.72s\tremaining: 17.4ms\n",
      "990:\tlearn: 1.9539849\ttotal: 1.72s\tremaining: 15.6ms\n",
      "991:\tlearn: 1.9527541\ttotal: 1.72s\tremaining: 13.9ms\n",
      "992:\tlearn: 1.9495939\ttotal: 1.72s\tremaining: 12.2ms\n",
      "993:\tlearn: 1.9490886\ttotal: 1.73s\tremaining: 10.4ms\n",
      "994:\tlearn: 1.9461633\ttotal: 1.73s\tremaining: 8.68ms\n",
      "995:\tlearn: 1.9422465\ttotal: 1.73s\tremaining: 6.94ms\n",
      "996:\tlearn: 1.9409062\ttotal: 1.73s\tremaining: 5.21ms\n",
      "997:\tlearn: 1.9402260\ttotal: 1.73s\tremaining: 3.47ms\n",
      "998:\tlearn: 1.9398745\ttotal: 1.73s\tremaining: 1.74ms\n",
      "999:\tlearn: 1.9372753\ttotal: 1.74s\tremaining: 0us\n"
     ]
    },
    {
     "data": {
      "text/plain": [
       "<catboost.core.CatBoostRegressor at 0x7fb4faf61c40>"
      ]
     },
     "execution_count": 54,
     "metadata": {},
     "output_type": "execute_result"
    }
   ],
   "source": [
    "model_CatBoost_test=CatBoostRegressor(random_seed=29082022)\n",
    "model_CatBoost_test.fit(test_features1, test_target1)"
   ]
  },
  {
   "cell_type": "code",
   "execution_count": 55,
   "metadata": {},
   "outputs": [],
   "source": [
    "def chart_feature_imp(model):\n",
    "    feature_imp = pd.Series(model.feature_importances_, index=test_features1.columns).sort_values(ascending=False)\n",
    "      \n",
    "    fig, ax = plt.subplots(figsize=(12,8))\n",
    "    feature_imp.plot.bar(ax=ax)\n",
    "    _ = ax.set_title('Оценка важности признаков')\n",
    "    _ = ax.set_ylabel('Признаки')\n",
    "    fig.tight_layout()\n",
    "   \n"
   ]
  },
  {
   "cell_type": "code",
   "execution_count": 56,
   "metadata": {},
   "outputs": [
    {
     "data": {
      "image/png": "[encoded data removed]",
      "text/plain": [
       "<Figure size 864x576 with 1 Axes>"
      ]
     },
     "metadata": {},
     "output_type": "display_data"
    }
   ],
   "source": [
    "chart_feature_imp(model_CatBoost)"
   ]
  },
  {
   "cell_type": "markdown",
   "metadata": {},
   "source": [
    "Важными параметрами являются:\n",
    "* начальная температура и общая энергия."
   ]
  },
  {
   "cell_type": "code",
   "execution_count": 57,
   "metadata": {},
   "outputs": [
    {
     "name": "stdout",
     "output_type": "stream",
     "text": [
      "MAE на тестовой выборке= 5.926926764222327\n"
     ]
    }
   ],
   "source": [
    "test_predict=model_CatBoost.predict(test_features)\n",
    "mae = mean_absolute_error(test_target, test_predict)\n",
    "print('MAE на тестовой выборке=',mae)"
   ]
  },
  {
   "cell_type": "markdown",
   "metadata": {},
   "source": [
    "При финальном тестировании получили  МАЕ 5.92 на тестовой выборке."
   ]
  },
  {
   "cell_type": "markdown",
   "metadata": {},
   "source": [
    "## Вывод\n",
    "* Провели предобработку и исследовательский анализ данных. \n",
    "* из трех моделей выбрали  CatBoost\n",
    "* достигли MAE  с результатом 5.92"
   ]
  },
  {
   "cell_type": "markdown",
   "metadata": {},
   "source": [
    "## Отчет о проделанной работе"
   ]
  },
  {
   "cell_type": "markdown",
   "metadata": {},
   "source": [
    "Описание этапов исследования и полученные результаты.\n",
    "1. Этап предобработки данных с исследовательским анализом данных.\n",
    "\n",
    "\n",
    "Необходимо обратить внимание на следующие моменты по данному этапу:\n",
    "*  приведение к типу datetime данных, содержащих дату и время технологического процесса.\n",
    "*  убрать аномалии в реактивной мощности.\n",
    "*  рассчитать корреляция между активом и реактивом. в нашем случае корреляция близка к единицe, значит  модель может переобучиться, будем использовать полную мощность.\n",
    "* удалить пропуски в данных о подаче сыпучих материалов, т.к. заменить не чем.\n",
    "* исследовать df_arc (данные об электродах) для определения целевого признака. \n",
    "*  df_temp(результаты измерения температуры) найдем начальные и конечные замеры. Объединить данные в одну таблицу и определить целевой признак.\n",
    "* группировку по партиям.\n",
    "* убрали пропуски в данных по замерам температуры, а также где имеется только один замер.\n",
    "* группировка по первым и последним значениям замеры температуры. \n",
    "* соединение данных по ключу партии, тип связи - внутреннее соединение.\n",
    "\n",
    "2. Этап обучение моделей.\n",
    "* разбить на обучающую и тестовую выборку 70/20\n",
    "* целевой признак - вторая(конечная) температура\n",
    "* обучить  скалер на тренировочной части данных, для LinearRegression()\n",
    "* обучение моделей на трейне без дополнительного подбора гиперпараметров дали следующие результаты **train_mae_score**:\n",
    "           LinearRegression  - 6.223085\n",
    "           CatBoostRegressor - 2.870341\n",
    "           LGBMRegressor     - 2.944028\n",
    "* выбрана модель CatBoostRegressor .\n",
    "\n",
    "* оценка качества модели CatBoostRegressor на тестовой выборке MAE=5.92 \n",
    "* модель CatBoostRegressor рекомендована к использованию для прогнозирования температуры стали\n",
    "При проведении анализа с помощью feature_importances выяснил, что основные признаки:  **начальная температура и общая энергия**.\n",
    "\n",
    "\n",
    "**Какие пункты плана были выполнены, а какие — нет (поясните почему)?**\n",
    "\n",
    "Все пункты плана были выполнены. Не подбирал гиперпараметров, т.к. полученный положительный результат без подбора был длостигнут.  \n",
    "\n",
    "**Какие трудности возникли и как вы их преодолели?**\n",
    "\n",
    "Понимание технологического процесса обработки стали. Эту проблему я преодолел путем знакомства с процессом обработки. \n",
    "\n",
    "\n",
    "**Какие ключевые шаги в решении задачи выделили?**\n",
    "\n",
    "Правильная предобработка и хороший исследовательский анализ данных главное в этой работе, которая позволит получить хорошие метрики.\n",
    "\n",
    "\n",
    "**Какая ваша итоговая модель и какое у неё качество?**\n",
    "\n",
    "CatBoostRegressor на тестовой выборке MAE=5.92 "
   ]
  }
 ],
 "metadata": {
  "ExecuteTimeLog": [
   {
    "duration": 1296,
    "start_time": "2022-08-31T14:10:27.196Z"
   },
   {
    "duration": 211,
    "start_time": "2022-08-31T14:10:50.157Z"
   },
   {
    "duration": 2,
    "start_time": "2022-08-31T14:37:35.824Z"
   },
   {
    "duration": 3,
    "start_time": "2022-08-31T14:37:36.424Z"
   },
   {
    "duration": 64,
    "start_time": "2022-08-31T14:37:37.531Z"
   },
   {
    "duration": 114,
    "start_time": "2022-08-31T14:45:36.659Z"
   },
   {
    "duration": 140,
    "start_time": "2022-08-31T14:45:55.539Z"
   },
   {
    "duration": 74,
    "start_time": "2022-08-31T14:46:18.971Z"
   },
   {
    "duration": 1018,
    "start_time": "2022-08-31T14:57:24.966Z"
   },
   {
    "duration": 3,
    "start_time": "2022-08-31T14:57:25.986Z"
   },
   {
    "duration": 95,
    "start_time": "2022-08-31T14:57:25.990Z"
   },
   {
    "duration": 41,
    "start_time": "2022-08-31T14:57:26.088Z"
   },
   {
    "duration": 36,
    "start_time": "2022-08-31T14:57:26.131Z"
   },
   {
    "duration": 29,
    "start_time": "2022-08-31T14:57:26.169Z"
   },
   {
    "duration": 171,
    "start_time": "2022-08-31T14:59:08.738Z"
   },
   {
    "duration": 154,
    "start_time": "2022-08-31T15:00:04.266Z"
   },
   {
    "duration": 49,
    "start_time": "2022-08-31T15:00:15.390Z"
   },
   {
    "duration": 58,
    "start_time": "2022-08-31T15:09:24.529Z"
   },
   {
    "duration": 52,
    "start_time": "2022-08-31T15:11:09.573Z"
   },
   {
    "duration": 57,
    "start_time": "2022-08-31T15:11:41.198Z"
   },
   {
    "duration": 54,
    "start_time": "2022-08-31T15:12:01.077Z"
   },
   {
    "duration": 52,
    "start_time": "2022-08-31T15:12:31.741Z"
   },
   {
    "duration": 1194,
    "start_time": "2022-08-31T15:14:09.237Z"
   },
   {
    "duration": 0,
    "start_time": "2022-08-31T15:14:10.432Z"
   },
   {
    "duration": 0,
    "start_time": "2022-08-31T15:14:10.433Z"
   },
   {
    "duration": 0,
    "start_time": "2022-08-31T15:14:10.434Z"
   },
   {
    "duration": 0,
    "start_time": "2022-08-31T15:14:10.435Z"
   },
   {
    "duration": 0,
    "start_time": "2022-08-31T15:14:10.437Z"
   },
   {
    "duration": 0,
    "start_time": "2022-08-31T15:14:10.437Z"
   },
   {
    "duration": 0,
    "start_time": "2022-08-31T15:14:10.439Z"
   },
   {
    "duration": 0,
    "start_time": "2022-08-31T15:14:10.439Z"
   },
   {
    "duration": 102,
    "start_time": "2022-08-31T15:17:44.968Z"
   },
   {
    "duration": 1163,
    "start_time": "2022-08-31T15:18:36.568Z"
   },
   {
    "duration": 3,
    "start_time": "2022-08-31T15:18:37.733Z"
   },
   {
    "duration": 81,
    "start_time": "2022-08-31T15:18:37.737Z"
   },
   {
    "duration": 33,
    "start_time": "2022-08-31T15:18:37.821Z"
   },
   {
    "duration": 32,
    "start_time": "2022-08-31T15:18:37.856Z"
   },
   {
    "duration": 28,
    "start_time": "2022-08-31T15:18:37.890Z"
   },
   {
    "duration": 36,
    "start_time": "2022-08-31T15:18:37.920Z"
   },
   {
    "duration": 29,
    "start_time": "2022-08-31T15:18:37.958Z"
   },
   {
    "duration": 84,
    "start_time": "2022-08-31T15:18:37.989Z"
   },
   {
    "duration": 107,
    "start_time": "2022-08-31T15:19:26.748Z"
   },
   {
    "duration": 1089,
    "start_time": "2022-08-31T15:20:36.544Z"
   },
   {
    "duration": 4,
    "start_time": "2022-08-31T15:20:37.635Z"
   },
   {
    "duration": 80,
    "start_time": "2022-08-31T15:20:37.640Z"
   },
   {
    "duration": 34,
    "start_time": "2022-08-31T15:20:37.723Z"
   },
   {
    "duration": 34,
    "start_time": "2022-08-31T15:20:37.759Z"
   },
   {
    "duration": 27,
    "start_time": "2022-08-31T15:20:37.795Z"
   },
   {
    "duration": 38,
    "start_time": "2022-08-31T15:20:37.824Z"
   },
   {
    "duration": 31,
    "start_time": "2022-08-31T15:20:37.864Z"
   },
   {
    "duration": 60,
    "start_time": "2022-08-31T15:20:37.897Z"
   },
   {
    "duration": 57,
    "start_time": "2022-08-31T15:22:37.384Z"
   },
   {
    "duration": 9,
    "start_time": "2022-08-31T15:26:50.757Z"
   },
   {
    "duration": 4,
    "start_time": "2022-08-31T15:29:03.836Z"
   },
   {
    "duration": 1090,
    "start_time": "2022-08-31T15:29:21.184Z"
   },
   {
    "duration": 2,
    "start_time": "2022-08-31T15:29:22.276Z"
   },
   {
    "duration": 71,
    "start_time": "2022-08-31T15:29:22.280Z"
   },
   {
    "duration": 31,
    "start_time": "2022-08-31T15:29:22.353Z"
   },
   {
    "duration": 30,
    "start_time": "2022-08-31T15:29:22.386Z"
   },
   {
    "duration": 25,
    "start_time": "2022-08-31T15:29:22.417Z"
   },
   {
    "duration": 32,
    "start_time": "2022-08-31T15:29:22.443Z"
   },
   {
    "duration": 26,
    "start_time": "2022-08-31T15:29:22.477Z"
   },
   {
    "duration": 3,
    "start_time": "2022-08-31T15:29:22.505Z"
   },
   {
    "duration": 13,
    "start_time": "2022-08-31T15:29:22.510Z"
   },
   {
    "duration": 49,
    "start_time": "2022-08-31T15:29:43.352Z"
   },
   {
    "duration": 1091,
    "start_time": "2022-08-31T15:29:51.096Z"
   },
   {
    "duration": 3,
    "start_time": "2022-08-31T15:29:52.188Z"
   },
   {
    "duration": 87,
    "start_time": "2022-08-31T15:29:52.192Z"
   },
   {
    "duration": 31,
    "start_time": "2022-08-31T15:29:52.281Z"
   },
   {
    "duration": 29,
    "start_time": "2022-08-31T15:29:52.313Z"
   },
   {
    "duration": 26,
    "start_time": "2022-08-31T15:29:52.344Z"
   },
   {
    "duration": 33,
    "start_time": "2022-08-31T15:29:52.371Z"
   },
   {
    "duration": 26,
    "start_time": "2022-08-31T15:29:52.405Z"
   },
   {
    "duration": 48,
    "start_time": "2022-08-31T15:29:52.433Z"
   },
   {
    "duration": 23,
    "start_time": "2022-08-31T15:29:52.483Z"
   },
   {
    "duration": 271,
    "start_time": "2022-08-31T15:30:59.123Z"
   },
   {
    "duration": 374,
    "start_time": "2022-08-31T15:31:36.024Z"
   },
   {
    "duration": 303,
    "start_time": "2022-08-31T15:31:50.775Z"
   },
   {
    "duration": 298,
    "start_time": "2022-08-31T15:32:51.563Z"
   },
   {
    "duration": 470,
    "start_time": "2022-08-31T15:33:18.155Z"
   },
   {
    "duration": 462,
    "start_time": "2022-08-31T15:33:26.306Z"
   },
   {
    "duration": 547,
    "start_time": "2022-08-31T15:34:20.206Z"
   },
   {
    "duration": 6,
    "start_time": "2022-08-31T15:35:40.818Z"
   },
   {
    "duration": 88,
    "start_time": "2022-08-31T15:35:54.938Z"
   },
   {
    "duration": 475,
    "start_time": "2022-08-31T15:46:33.897Z"
   },
   {
    "duration": 1013,
    "start_time": "2022-08-31T16:30:03.572Z"
   },
   {
    "duration": 5,
    "start_time": "2022-08-31T16:30:31.622Z"
   },
   {
    "duration": 13,
    "start_time": "2022-08-31T16:30:41.502Z"
   },
   {
    "duration": 2,
    "start_time": "2022-08-31T16:32:18.799Z"
   },
   {
    "duration": 192,
    "start_time": "2022-08-31T16:33:09.306Z"
   },
   {
    "duration": 1144,
    "start_time": "2022-08-31T16:34:28.422Z"
   },
   {
    "duration": 3,
    "start_time": "2022-08-31T16:34:29.568Z"
   },
   {
    "duration": 78,
    "start_time": "2022-08-31T16:34:29.572Z"
   },
   {
    "duration": 30,
    "start_time": "2022-08-31T16:34:29.652Z"
   },
   {
    "duration": 39,
    "start_time": "2022-08-31T16:34:29.683Z"
   },
   {
    "duration": 25,
    "start_time": "2022-08-31T16:34:29.728Z"
   },
   {
    "duration": 37,
    "start_time": "2022-08-31T16:34:29.754Z"
   },
   {
    "duration": 31,
    "start_time": "2022-08-31T16:34:29.793Z"
   },
   {
    "duration": 52,
    "start_time": "2022-08-31T16:34:29.825Z"
   },
   {
    "duration": 37,
    "start_time": "2022-08-31T16:34:29.879Z"
   },
   {
    "duration": 315,
    "start_time": "2022-08-31T16:34:29.918Z"
   },
   {
    "duration": 559,
    "start_time": "2022-08-31T16:34:30.235Z"
   },
   {
    "duration": 503,
    "start_time": "2022-08-31T16:34:30.796Z"
   },
   {
    "duration": 19,
    "start_time": "2022-08-31T16:34:31.301Z"
   },
   {
    "duration": 124,
    "start_time": "2022-08-31T16:34:31.322Z"
   },
   {
    "duration": 521,
    "start_time": "2022-08-31T16:34:31.448Z"
   },
   {
    "duration": 4,
    "start_time": "2022-08-31T16:34:31.971Z"
   },
   {
    "duration": 25,
    "start_time": "2022-08-31T16:34:31.976Z"
   },
   {
    "duration": 314,
    "start_time": "2022-08-31T16:34:32.002Z"
   },
   {
    "duration": 436,
    "start_time": "2022-08-31T16:38:41.126Z"
   },
   {
    "duration": 77,
    "start_time": "2022-08-31T16:43:22.317Z"
   },
   {
    "duration": 1271,
    "start_time": "2022-09-01T00:01:19.096Z"
   },
   {
    "duration": 3,
    "start_time": "2022-09-01T00:01:20.369Z"
   },
   {
    "duration": 208,
    "start_time": "2022-09-01T00:01:20.373Z"
   },
   {
    "duration": 89,
    "start_time": "2022-09-01T00:01:20.583Z"
   },
   {
    "duration": 85,
    "start_time": "2022-09-01T00:01:20.674Z"
   },
   {
    "duration": 48,
    "start_time": "2022-09-01T00:01:20.760Z"
   },
   {
    "duration": 81,
    "start_time": "2022-09-01T00:01:20.809Z"
   },
   {
    "duration": 50,
    "start_time": "2022-09-01T00:01:20.892Z"
   },
   {
    "duration": 54,
    "start_time": "2022-09-01T00:01:20.944Z"
   },
   {
    "duration": 11,
    "start_time": "2022-09-01T00:01:21.000Z"
   },
   {
    "duration": 392,
    "start_time": "2022-09-01T00:01:21.013Z"
   },
   {
    "duration": 542,
    "start_time": "2022-09-01T00:01:21.407Z"
   },
   {
    "duration": 481,
    "start_time": "2022-09-01T00:01:21.951Z"
   },
   {
    "duration": 4,
    "start_time": "2022-09-01T00:01:22.434Z"
   },
   {
    "duration": 103,
    "start_time": "2022-09-01T00:01:22.439Z"
   },
   {
    "duration": 479,
    "start_time": "2022-09-01T00:01:22.543Z"
   },
   {
    "duration": 4,
    "start_time": "2022-09-01T00:01:23.024Z"
   },
   {
    "duration": 19,
    "start_time": "2022-09-01T00:01:23.030Z"
   },
   {
    "duration": 288,
    "start_time": "2022-09-01T00:01:23.050Z"
   },
   {
    "duration": 459,
    "start_time": "2022-09-01T00:01:23.340Z"
   },
   {
    "duration": 85,
    "start_time": "2022-09-01T00:01:23.801Z"
   },
   {
    "duration": 99,
    "start_time": "2022-09-01T00:04:32.833Z"
   },
   {
    "duration": 1129,
    "start_time": "2022-09-01T00:04:39.918Z"
   },
   {
    "duration": 2,
    "start_time": "2022-09-01T00:04:41.049Z"
   },
   {
    "duration": 71,
    "start_time": "2022-09-01T00:04:41.053Z"
   },
   {
    "duration": 30,
    "start_time": "2022-09-01T00:04:41.126Z"
   },
   {
    "duration": 30,
    "start_time": "2022-09-01T00:04:41.158Z"
   },
   {
    "duration": 23,
    "start_time": "2022-09-01T00:04:41.190Z"
   },
   {
    "duration": 32,
    "start_time": "2022-09-01T00:04:41.215Z"
   },
   {
    "duration": 25,
    "start_time": "2022-09-01T00:04:41.249Z"
   },
   {
    "duration": 53,
    "start_time": "2022-09-01T00:04:41.276Z"
   },
   {
    "duration": 38,
    "start_time": "2022-09-01T00:04:41.332Z"
   },
   {
    "duration": 311,
    "start_time": "2022-09-01T00:04:41.372Z"
   },
   {
    "duration": 463,
    "start_time": "2022-09-01T00:04:41.685Z"
   },
   {
    "duration": 478,
    "start_time": "2022-09-01T00:04:42.150Z"
   },
   {
    "duration": 6,
    "start_time": "2022-09-01T00:04:42.630Z"
   },
   {
    "duration": 103,
    "start_time": "2022-09-01T00:04:42.638Z"
   },
   {
    "duration": 478,
    "start_time": "2022-09-01T00:04:42.743Z"
   },
   {
    "duration": 5,
    "start_time": "2022-09-01T00:04:43.223Z"
   },
   {
    "duration": 4,
    "start_time": "2022-09-01T00:04:43.230Z"
   },
   {
    "duration": 295,
    "start_time": "2022-09-01T00:04:43.235Z"
   },
   {
    "duration": 472,
    "start_time": "2022-09-01T00:04:43.532Z"
   },
   {
    "duration": 95,
    "start_time": "2022-09-01T00:04:44.006Z"
   },
   {
    "duration": 112,
    "start_time": "2022-09-01T00:04:44.103Z"
   },
   {
    "duration": 1087,
    "start_time": "2022-09-01T00:06:29.381Z"
   },
   {
    "duration": 3,
    "start_time": "2022-09-01T00:06:30.470Z"
   },
   {
    "duration": 83,
    "start_time": "2022-09-01T00:06:30.474Z"
   },
   {
    "duration": 32,
    "start_time": "2022-09-01T00:06:30.559Z"
   },
   {
    "duration": 80,
    "start_time": "2022-09-01T00:06:30.593Z"
   },
   {
    "duration": 31,
    "start_time": "2022-09-01T00:06:30.675Z"
   },
   {
    "duration": 25,
    "start_time": "2022-09-01T00:06:30.707Z"
   },
   {
    "duration": 34,
    "start_time": "2022-09-01T00:06:30.734Z"
   },
   {
    "duration": 28,
    "start_time": "2022-09-01T00:06:30.770Z"
   },
   {
    "duration": 75,
    "start_time": "2022-09-01T00:06:30.800Z"
   },
   {
    "duration": 12,
    "start_time": "2022-09-01T00:06:30.876Z"
   },
   {
    "duration": 330,
    "start_time": "2022-09-01T00:06:30.889Z"
   },
   {
    "duration": 533,
    "start_time": "2022-09-01T00:06:31.221Z"
   },
   {
    "duration": 489,
    "start_time": "2022-09-01T00:06:31.755Z"
   },
   {
    "duration": 5,
    "start_time": "2022-09-01T00:06:32.245Z"
   },
   {
    "duration": 107,
    "start_time": "2022-09-01T00:06:32.251Z"
   },
   {
    "duration": 490,
    "start_time": "2022-09-01T00:06:32.359Z"
   },
   {
    "duration": 5,
    "start_time": "2022-09-01T00:06:32.851Z"
   },
   {
    "duration": 3,
    "start_time": "2022-09-01T00:06:32.868Z"
   },
   {
    "duration": 286,
    "start_time": "2022-09-01T00:06:32.872Z"
   },
   {
    "duration": 469,
    "start_time": "2022-09-01T00:06:33.159Z"
   },
   {
    "duration": 95,
    "start_time": "2022-09-01T00:06:33.630Z"
   },
   {
    "duration": 60,
    "start_time": "2022-09-01T00:06:33.727Z"
   },
   {
    "duration": 249,
    "start_time": "2022-09-01T00:10:21.272Z"
   },
   {
    "duration": 249,
    "start_time": "2022-09-01T00:10:28.640Z"
   },
   {
    "duration": 44,
    "start_time": "2022-09-01T00:11:53.796Z"
   },
   {
    "duration": 10,
    "start_time": "2022-09-01T00:12:46.573Z"
   },
   {
    "duration": 15,
    "start_time": "2022-09-01T00:13:51.748Z"
   },
   {
    "duration": 475,
    "start_time": "2022-09-01T00:14:56.392Z"
   },
   {
    "duration": 1313,
    "start_time": "2022-09-01T13:17:49.505Z"
   },
   {
    "duration": 2,
    "start_time": "2022-09-01T13:17:50.820Z"
   },
   {
    "duration": 110,
    "start_time": "2022-09-01T13:17:50.824Z"
   },
   {
    "duration": 94,
    "start_time": "2022-09-01T13:17:50.936Z"
   },
   {
    "duration": 81,
    "start_time": "2022-09-01T13:17:51.032Z"
   },
   {
    "duration": 56,
    "start_time": "2022-09-01T13:17:51.114Z"
   },
   {
    "duration": 77,
    "start_time": "2022-09-01T13:17:51.171Z"
   },
   {
    "duration": 105,
    "start_time": "2022-09-01T13:17:51.249Z"
   },
   {
    "duration": 63,
    "start_time": "2022-09-01T13:17:51.356Z"
   },
   {
    "duration": 50,
    "start_time": "2022-09-01T13:17:51.422Z"
   },
   {
    "duration": 10,
    "start_time": "2022-09-01T13:17:51.473Z"
   },
   {
    "duration": 359,
    "start_time": "2022-09-01T13:17:51.484Z"
   },
   {
    "duration": 527,
    "start_time": "2022-09-01T13:17:51.844Z"
   },
   {
    "duration": 513,
    "start_time": "2022-09-01T13:17:52.372Z"
   },
   {
    "duration": 14,
    "start_time": "2022-09-01T13:17:52.887Z"
   },
   {
    "duration": 100,
    "start_time": "2022-09-01T13:17:52.902Z"
   },
   {
    "duration": 546,
    "start_time": "2022-09-01T13:17:53.003Z"
   },
   {
    "duration": 4,
    "start_time": "2022-09-01T13:17:53.551Z"
   },
   {
    "duration": 7,
    "start_time": "2022-09-01T13:17:53.557Z"
   },
   {
    "duration": 271,
    "start_time": "2022-09-01T13:17:53.565Z"
   },
   {
    "duration": 469,
    "start_time": "2022-09-01T13:17:53.837Z"
   },
   {
    "duration": 94,
    "start_time": "2022-09-01T13:17:54.308Z"
   },
   {
    "duration": 41,
    "start_time": "2022-09-01T13:17:54.404Z"
   },
   {
    "duration": 304,
    "start_time": "2022-09-01T13:17:54.447Z"
   },
   {
    "duration": 51,
    "start_time": "2022-09-01T13:17:54.752Z"
   },
   {
    "duration": 6,
    "start_time": "2022-09-01T13:17:54.805Z"
   },
   {
    "duration": 22,
    "start_time": "2022-09-01T13:17:54.812Z"
   },
   {
    "duration": 507,
    "start_time": "2022-09-01T13:17:54.837Z"
   },
   {
    "duration": 68,
    "start_time": "2022-09-01T13:17:55.346Z"
   },
   {
    "duration": 4,
    "start_time": "2022-09-01T13:44:48.162Z"
   },
   {
    "duration": 14,
    "start_time": "2022-09-01T13:48:02.874Z"
   },
   {
    "duration": 72,
    "start_time": "2022-09-01T13:51:41.169Z"
   },
   {
    "duration": 18,
    "start_time": "2022-09-01T13:52:12.869Z"
   },
   {
    "duration": 73,
    "start_time": "2022-09-01T13:53:46.237Z"
   },
   {
    "duration": 110,
    "start_time": "2022-09-01T13:54:14.309Z"
   },
   {
    "duration": 59,
    "start_time": "2022-09-01T13:55:43.565Z"
   },
   {
    "duration": 54,
    "start_time": "2022-09-01T13:56:23.396Z"
   },
   {
    "duration": 51,
    "start_time": "2022-09-01T13:58:15.681Z"
   },
   {
    "duration": 54,
    "start_time": "2022-09-01T13:59:01.636Z"
   },
   {
    "duration": 47,
    "start_time": "2022-09-01T13:59:14.148Z"
   },
   {
    "duration": 77,
    "start_time": "2022-09-01T14:05:55.163Z"
   },
   {
    "duration": 81,
    "start_time": "2022-09-01T14:06:07.543Z"
   },
   {
    "duration": 1110,
    "start_time": "2022-09-01T14:06:33.783Z"
   },
   {
    "duration": 3,
    "start_time": "2022-09-01T14:06:34.895Z"
   },
   {
    "duration": 72,
    "start_time": "2022-09-01T14:06:34.900Z"
   },
   {
    "duration": 29,
    "start_time": "2022-09-01T14:06:34.974Z"
   },
   {
    "duration": 42,
    "start_time": "2022-09-01T14:06:35.004Z"
   },
   {
    "duration": 30,
    "start_time": "2022-09-01T14:06:35.047Z"
   },
   {
    "duration": 23,
    "start_time": "2022-09-01T14:06:35.079Z"
   },
   {
    "duration": 36,
    "start_time": "2022-09-01T14:06:35.103Z"
   },
   {
    "duration": 28,
    "start_time": "2022-09-01T14:06:35.141Z"
   },
   {
    "duration": 53,
    "start_time": "2022-09-01T14:06:35.171Z"
   },
   {
    "duration": 14,
    "start_time": "2022-09-01T14:06:35.226Z"
   },
   {
    "duration": 337,
    "start_time": "2022-09-01T14:06:35.241Z"
   },
   {
    "duration": 511,
    "start_time": "2022-09-01T14:06:35.580Z"
   },
   {
    "duration": 471,
    "start_time": "2022-09-01T14:06:36.093Z"
   },
   {
    "duration": 4,
    "start_time": "2022-09-01T14:06:36.565Z"
   },
   {
    "duration": 104,
    "start_time": "2022-09-01T14:06:36.571Z"
   },
   {
    "duration": 474,
    "start_time": "2022-09-01T14:06:36.676Z"
   },
   {
    "duration": 5,
    "start_time": "2022-09-01T14:06:37.151Z"
   },
   {
    "duration": 8,
    "start_time": "2022-09-01T14:06:37.157Z"
   },
   {
    "duration": 266,
    "start_time": "2022-09-01T14:06:37.166Z"
   },
   {
    "duration": 497,
    "start_time": "2022-09-01T14:06:37.433Z"
   },
   {
    "duration": 82,
    "start_time": "2022-09-01T14:06:37.932Z"
   },
   {
    "duration": 31,
    "start_time": "2022-09-01T14:06:38.015Z"
   },
   {
    "duration": 276,
    "start_time": "2022-09-01T14:06:38.047Z"
   },
   {
    "duration": 37,
    "start_time": "2022-09-01T14:06:38.325Z"
   },
   {
    "duration": 6,
    "start_time": "2022-09-01T14:06:38.363Z"
   },
   {
    "duration": 39,
    "start_time": "2022-09-01T14:06:38.370Z"
   },
   {
    "duration": 421,
    "start_time": "2022-09-01T14:06:38.411Z"
   },
   {
    "duration": 66,
    "start_time": "2022-09-01T14:06:38.834Z"
   },
   {
    "duration": 6,
    "start_time": "2022-09-01T14:06:38.901Z"
   },
   {
    "duration": 8,
    "start_time": "2022-09-01T14:06:38.909Z"
   },
   {
    "duration": 4,
    "start_time": "2022-09-01T14:06:38.918Z"
   },
   {
    "duration": 13,
    "start_time": "2022-09-01T14:06:38.923Z"
   },
   {
    "duration": 15,
    "start_time": "2022-09-01T14:06:38.938Z"
   },
   {
    "duration": 45,
    "start_time": "2022-09-01T14:06:38.954Z"
   },
   {
    "duration": 0,
    "start_time": "2022-09-01T14:06:39.001Z"
   },
   {
    "duration": 79,
    "start_time": "2022-09-01T14:07:35.135Z"
   },
   {
    "duration": 68,
    "start_time": "2022-09-01T14:10:57.607Z"
   },
   {
    "duration": 15,
    "start_time": "2022-09-01T14:14:11.590Z"
   },
   {
    "duration": 31,
    "start_time": "2022-09-01T14:14:16.830Z"
   },
   {
    "duration": 1220,
    "start_time": "2022-09-03T08:25:42.128Z"
   },
   {
    "duration": 4,
    "start_time": "2022-09-03T08:25:43.350Z"
   },
   {
    "duration": 210,
    "start_time": "2022-09-03T08:25:43.355Z"
   },
   {
    "duration": 88,
    "start_time": "2022-09-03T08:25:43.567Z"
   },
   {
    "duration": 52,
    "start_time": "2022-09-03T08:25:43.657Z"
   },
   {
    "duration": 84,
    "start_time": "2022-09-03T08:25:43.711Z"
   },
   {
    "duration": 53,
    "start_time": "2022-09-03T08:25:43.797Z"
   },
   {
    "duration": 75,
    "start_time": "2022-09-03T08:25:43.852Z"
   },
   {
    "duration": 53,
    "start_time": "2022-09-03T08:25:43.929Z"
   },
   {
    "duration": 54,
    "start_time": "2022-09-03T08:25:43.983Z"
   },
   {
    "duration": 29,
    "start_time": "2022-09-03T08:25:44.039Z"
   },
   {
    "duration": 326,
    "start_time": "2022-09-03T08:25:44.070Z"
   },
   {
    "duration": 438,
    "start_time": "2022-09-03T08:25:44.398Z"
   },
   {
    "duration": 477,
    "start_time": "2022-09-03T08:25:44.839Z"
   },
   {
    "duration": 5,
    "start_time": "2022-09-03T08:25:45.318Z"
   },
   {
    "duration": 103,
    "start_time": "2022-09-03T08:25:45.324Z"
   },
   {
    "duration": 474,
    "start_time": "2022-09-03T08:25:45.428Z"
   },
   {
    "duration": 6,
    "start_time": "2022-09-03T08:25:45.903Z"
   },
   {
    "duration": 4,
    "start_time": "2022-09-03T08:25:45.910Z"
   },
   {
    "duration": 266,
    "start_time": "2022-09-03T08:25:45.915Z"
   },
   {
    "duration": 496,
    "start_time": "2022-09-03T08:25:46.183Z"
   },
   {
    "duration": 129,
    "start_time": "2022-09-03T08:25:46.681Z"
   },
   {
    "duration": 1484,
    "start_time": "2022-09-03T08:25:46.812Z"
   },
   {
    "duration": 0,
    "start_time": "2022-09-03T08:25:48.298Z"
   },
   {
    "duration": 0,
    "start_time": "2022-09-03T08:25:48.299Z"
   },
   {
    "duration": 0,
    "start_time": "2022-09-03T08:25:48.300Z"
   },
   {
    "duration": 0,
    "start_time": "2022-09-03T08:25:48.301Z"
   },
   {
    "duration": 0,
    "start_time": "2022-09-03T08:25:48.302Z"
   },
   {
    "duration": 0,
    "start_time": "2022-09-03T08:25:48.302Z"
   },
   {
    "duration": 0,
    "start_time": "2022-09-03T08:25:48.303Z"
   },
   {
    "duration": 0,
    "start_time": "2022-09-03T08:25:48.304Z"
   },
   {
    "duration": 0,
    "start_time": "2022-09-03T08:25:48.305Z"
   },
   {
    "duration": 0,
    "start_time": "2022-09-03T08:25:48.306Z"
   },
   {
    "duration": 0,
    "start_time": "2022-09-03T08:25:48.307Z"
   },
   {
    "duration": 0,
    "start_time": "2022-09-03T08:25:48.308Z"
   },
   {
    "duration": 0,
    "start_time": "2022-09-03T08:25:48.309Z"
   },
   {
    "duration": 0,
    "start_time": "2022-09-03T08:25:48.310Z"
   },
   {
    "duration": 1381,
    "start_time": "2022-09-03T08:26:39.253Z"
   },
   {
    "duration": 1154,
    "start_time": "2022-09-03T08:27:34.444Z"
   },
   {
    "duration": 1103,
    "start_time": "2022-09-03T08:32:30.191Z"
   },
   {
    "duration": 3,
    "start_time": "2022-09-03T08:32:31.296Z"
   },
   {
    "duration": 83,
    "start_time": "2022-09-03T08:32:31.300Z"
   },
   {
    "duration": 31,
    "start_time": "2022-09-03T08:32:31.385Z"
   },
   {
    "duration": 43,
    "start_time": "2022-09-03T08:32:31.417Z"
   },
   {
    "duration": 33,
    "start_time": "2022-09-03T08:32:31.462Z"
   },
   {
    "duration": 28,
    "start_time": "2022-09-03T08:32:31.497Z"
   },
   {
    "duration": 36,
    "start_time": "2022-09-03T08:32:31.527Z"
   },
   {
    "duration": 32,
    "start_time": "2022-09-03T08:32:31.564Z"
   },
   {
    "duration": 53,
    "start_time": "2022-09-03T08:32:31.598Z"
   },
   {
    "duration": 17,
    "start_time": "2022-09-03T08:32:31.652Z"
   },
   {
    "duration": 302,
    "start_time": "2022-09-03T08:32:31.670Z"
   },
   {
    "duration": 464,
    "start_time": "2022-09-03T08:32:31.974Z"
   },
   {
    "duration": 731,
    "start_time": "2022-09-03T08:32:32.440Z"
   },
   {
    "duration": 4,
    "start_time": "2022-09-03T08:32:33.173Z"
   },
   {
    "duration": 192,
    "start_time": "2022-09-03T08:32:33.179Z"
   },
   {
    "duration": 698,
    "start_time": "2022-09-03T08:32:33.372Z"
   },
   {
    "duration": 5,
    "start_time": "2022-09-03T08:32:34.071Z"
   },
   {
    "duration": 4,
    "start_time": "2022-09-03T08:32:34.077Z"
   },
   {
    "duration": 514,
    "start_time": "2022-09-03T08:32:34.082Z"
   },
   {
    "duration": 501,
    "start_time": "2022-09-03T08:32:34.597Z"
   },
   {
    "duration": 90,
    "start_time": "2022-09-03T08:32:35.099Z"
   },
   {
    "duration": 109,
    "start_time": "2022-09-03T08:32:35.191Z"
   },
   {
    "duration": 0,
    "start_time": "2022-09-03T08:32:35.302Z"
   },
   {
    "duration": 0,
    "start_time": "2022-09-03T08:32:35.303Z"
   },
   {
    "duration": 0,
    "start_time": "2022-09-03T08:32:35.304Z"
   },
   {
    "duration": 0,
    "start_time": "2022-09-03T08:32:35.305Z"
   },
   {
    "duration": 0,
    "start_time": "2022-09-03T08:32:35.306Z"
   },
   {
    "duration": 0,
    "start_time": "2022-09-03T08:32:35.307Z"
   },
   {
    "duration": 0,
    "start_time": "2022-09-03T08:32:35.308Z"
   },
   {
    "duration": 0,
    "start_time": "2022-09-03T08:32:35.309Z"
   },
   {
    "duration": 1,
    "start_time": "2022-09-03T08:32:35.309Z"
   },
   {
    "duration": 0,
    "start_time": "2022-09-03T08:32:35.310Z"
   },
   {
    "duration": 0,
    "start_time": "2022-09-03T08:32:35.311Z"
   },
   {
    "duration": 0,
    "start_time": "2022-09-03T08:32:35.312Z"
   },
   {
    "duration": 0,
    "start_time": "2022-09-03T08:32:35.313Z"
   },
   {
    "duration": 0,
    "start_time": "2022-09-03T08:32:35.314Z"
   },
   {
    "duration": 1289,
    "start_time": "2022-09-04T10:35:49.406Z"
   },
   {
    "duration": 3,
    "start_time": "2022-09-04T10:35:50.696Z"
   },
   {
    "duration": 118,
    "start_time": "2022-09-04T10:35:50.700Z"
   },
   {
    "duration": 89,
    "start_time": "2022-09-04T10:35:50.821Z"
   },
   {
    "duration": 76,
    "start_time": "2022-09-04T10:35:50.912Z"
   },
   {
    "duration": 55,
    "start_time": "2022-09-04T10:35:50.990Z"
   },
   {
    "duration": 67,
    "start_time": "2022-09-04T10:35:51.047Z"
   },
   {
    "duration": 103,
    "start_time": "2022-09-04T10:35:51.116Z"
   },
   {
    "duration": 61,
    "start_time": "2022-09-04T10:35:51.220Z"
   },
   {
    "duration": 52,
    "start_time": "2022-09-04T10:35:51.284Z"
   },
   {
    "duration": 9,
    "start_time": "2022-09-04T10:35:51.338Z"
   },
   {
    "duration": 368,
    "start_time": "2022-09-04T10:35:51.349Z"
   },
   {
    "duration": 554,
    "start_time": "2022-09-04T10:35:51.719Z"
   },
   {
    "duration": 477,
    "start_time": "2022-09-04T10:35:52.275Z"
   },
   {
    "duration": 5,
    "start_time": "2022-09-04T10:35:52.754Z"
   },
   {
    "duration": 102,
    "start_time": "2022-09-04T10:35:52.760Z"
   },
   {
    "duration": 546,
    "start_time": "2022-09-04T10:35:52.864Z"
   },
   {
    "duration": 4,
    "start_time": "2022-09-04T10:35:53.411Z"
   },
   {
    "duration": 7,
    "start_time": "2022-09-04T10:35:53.416Z"
   },
   {
    "duration": 196,
    "start_time": "2022-09-04T10:35:53.425Z"
   },
   {
    "duration": 507,
    "start_time": "2022-09-04T10:35:53.623Z"
   },
   {
    "duration": 89,
    "start_time": "2022-09-04T10:35:54.132Z"
   },
   {
    "duration": 111,
    "start_time": "2022-09-04T10:35:54.222Z"
   },
   {
    "duration": 0,
    "start_time": "2022-09-04T10:35:54.335Z"
   },
   {
    "duration": 0,
    "start_time": "2022-09-04T10:35:54.336Z"
   },
   {
    "duration": 0,
    "start_time": "2022-09-04T10:35:54.338Z"
   },
   {
    "duration": 0,
    "start_time": "2022-09-04T10:35:54.339Z"
   },
   {
    "duration": 0,
    "start_time": "2022-09-04T10:35:54.340Z"
   },
   {
    "duration": 0,
    "start_time": "2022-09-04T10:35:54.341Z"
   },
   {
    "duration": 0,
    "start_time": "2022-09-04T10:35:54.342Z"
   },
   {
    "duration": 0,
    "start_time": "2022-09-04T10:35:54.343Z"
   },
   {
    "duration": 0,
    "start_time": "2022-09-04T10:35:54.345Z"
   },
   {
    "duration": 0,
    "start_time": "2022-09-04T10:35:54.346Z"
   },
   {
    "duration": 0,
    "start_time": "2022-09-04T10:35:54.347Z"
   },
   {
    "duration": 0,
    "start_time": "2022-09-04T10:35:54.348Z"
   },
   {
    "duration": 0,
    "start_time": "2022-09-04T10:35:54.349Z"
   },
   {
    "duration": 0,
    "start_time": "2022-09-04T10:35:54.350Z"
   },
   {
    "duration": 1046,
    "start_time": "2022-09-04T10:36:58.744Z"
   },
   {
    "duration": 2,
    "start_time": "2022-09-04T10:36:59.792Z"
   },
   {
    "duration": 71,
    "start_time": "2022-09-04T10:36:59.796Z"
   },
   {
    "duration": 31,
    "start_time": "2022-09-04T10:36:59.869Z"
   },
   {
    "duration": 46,
    "start_time": "2022-09-04T10:36:59.902Z"
   },
   {
    "duration": 30,
    "start_time": "2022-09-04T10:36:59.950Z"
   },
   {
    "duration": 25,
    "start_time": "2022-09-04T10:36:59.981Z"
   },
   {
    "duration": 38,
    "start_time": "2022-09-04T10:37:00.008Z"
   },
   {
    "duration": 28,
    "start_time": "2022-09-04T10:37:00.048Z"
   },
   {
    "duration": 54,
    "start_time": "2022-09-04T10:37:00.079Z"
   },
   {
    "duration": 9,
    "start_time": "2022-09-04T10:37:00.134Z"
   },
   {
    "duration": 324,
    "start_time": "2022-09-04T10:37:00.144Z"
   },
   {
    "duration": 513,
    "start_time": "2022-09-04T10:37:00.470Z"
   },
   {
    "duration": 486,
    "start_time": "2022-09-04T10:37:00.986Z"
   },
   {
    "duration": 5,
    "start_time": "2022-09-04T10:37:01.474Z"
   },
   {
    "duration": 135,
    "start_time": "2022-09-04T10:37:01.480Z"
   },
   {
    "duration": 466,
    "start_time": "2022-09-04T10:37:01.616Z"
   },
   {
    "duration": 4,
    "start_time": "2022-09-04T10:37:02.087Z"
   },
   {
    "duration": 14,
    "start_time": "2022-09-04T10:37:02.092Z"
   },
   {
    "duration": 273,
    "start_time": "2022-09-04T10:37:02.107Z"
   },
   {
    "duration": 459,
    "start_time": "2022-09-04T10:37:02.381Z"
   },
   {
    "duration": 94,
    "start_time": "2022-09-04T10:37:02.841Z"
   },
   {
    "duration": 221,
    "start_time": "2022-09-04T10:37:02.936Z"
   },
   {
    "duration": 0,
    "start_time": "2022-09-04T10:37:03.159Z"
   },
   {
    "duration": 0,
    "start_time": "2022-09-04T10:37:03.160Z"
   },
   {
    "duration": 0,
    "start_time": "2022-09-04T10:37:03.160Z"
   },
   {
    "duration": 0,
    "start_time": "2022-09-04T10:37:03.161Z"
   },
   {
    "duration": 0,
    "start_time": "2022-09-04T10:37:03.162Z"
   },
   {
    "duration": 0,
    "start_time": "2022-09-04T10:37:03.163Z"
   },
   {
    "duration": 0,
    "start_time": "2022-09-04T10:37:03.163Z"
   },
   {
    "duration": 0,
    "start_time": "2022-09-04T10:37:03.164Z"
   },
   {
    "duration": 0,
    "start_time": "2022-09-04T10:37:03.165Z"
   },
   {
    "duration": 0,
    "start_time": "2022-09-04T10:37:03.167Z"
   },
   {
    "duration": 0,
    "start_time": "2022-09-04T10:37:03.168Z"
   },
   {
    "duration": 0,
    "start_time": "2022-09-04T10:37:03.187Z"
   },
   {
    "duration": 0,
    "start_time": "2022-09-04T10:37:03.188Z"
   },
   {
    "duration": 0,
    "start_time": "2022-09-04T10:37:03.189Z"
   },
   {
    "duration": 1061,
    "start_time": "2022-09-04T10:38:49.135Z"
   },
   {
    "duration": 3,
    "start_time": "2022-09-04T10:38:50.198Z"
   },
   {
    "duration": 73,
    "start_time": "2022-09-04T10:38:50.203Z"
   },
   {
    "duration": 32,
    "start_time": "2022-09-04T10:38:50.278Z"
   },
   {
    "duration": 41,
    "start_time": "2022-09-04T10:38:50.312Z"
   },
   {
    "duration": 31,
    "start_time": "2022-09-04T10:38:50.354Z"
   },
   {
    "duration": 24,
    "start_time": "2022-09-04T10:38:50.387Z"
   },
   {
    "duration": 34,
    "start_time": "2022-09-04T10:38:50.412Z"
   },
   {
    "duration": 28,
    "start_time": "2022-09-04T10:38:50.448Z"
   },
   {
    "duration": 55,
    "start_time": "2022-09-04T10:38:50.477Z"
   },
   {
    "duration": 9,
    "start_time": "2022-09-04T10:38:50.534Z"
   },
   {
    "duration": 335,
    "start_time": "2022-09-04T10:38:50.545Z"
   },
   {
    "duration": 481,
    "start_time": "2022-09-04T10:38:50.886Z"
   },
   {
    "duration": 825,
    "start_time": "2022-09-04T10:38:51.370Z"
   },
   {
    "duration": 6,
    "start_time": "2022-09-04T10:38:52.197Z"
   },
   {
    "duration": 197,
    "start_time": "2022-09-04T10:38:52.204Z"
   },
   {
    "duration": 795,
    "start_time": "2022-09-04T10:38:52.403Z"
   },
   {
    "duration": 5,
    "start_time": "2022-09-04T10:38:53.199Z"
   },
   {
    "duration": 5,
    "start_time": "2022-09-04T10:38:53.205Z"
   },
   {
    "duration": 409,
    "start_time": "2022-09-04T10:38:53.211Z"
   },
   {
    "duration": 506,
    "start_time": "2022-09-04T10:38:53.622Z"
   },
   {
    "duration": 87,
    "start_time": "2022-09-04T10:38:54.129Z"
   },
   {
    "duration": 113,
    "start_time": "2022-09-04T10:38:54.217Z"
   },
   {
    "duration": 0,
    "start_time": "2022-09-04T10:38:54.332Z"
   },
   {
    "duration": 0,
    "start_time": "2022-09-04T10:38:54.333Z"
   },
   {
    "duration": 0,
    "start_time": "2022-09-04T10:38:54.335Z"
   },
   {
    "duration": 0,
    "start_time": "2022-09-04T10:38:54.336Z"
   },
   {
    "duration": 0,
    "start_time": "2022-09-04T10:38:54.337Z"
   },
   {
    "duration": 0,
    "start_time": "2022-09-04T10:38:54.338Z"
   },
   {
    "duration": 0,
    "start_time": "2022-09-04T10:38:54.339Z"
   },
   {
    "duration": 0,
    "start_time": "2022-09-04T10:38:54.339Z"
   },
   {
    "duration": 0,
    "start_time": "2022-09-04T10:38:54.341Z"
   },
   {
    "duration": 0,
    "start_time": "2022-09-04T10:38:54.341Z"
   },
   {
    "duration": 0,
    "start_time": "2022-09-04T10:38:54.342Z"
   },
   {
    "duration": 0,
    "start_time": "2022-09-04T10:38:54.343Z"
   },
   {
    "duration": 0,
    "start_time": "2022-09-04T10:38:54.344Z"
   },
   {
    "duration": 0,
    "start_time": "2022-09-04T10:38:54.345Z"
   },
   {
    "duration": 1113,
    "start_time": "2022-09-04T10:39:54.084Z"
   },
   {
    "duration": 2,
    "start_time": "2022-09-04T10:39:55.199Z"
   },
   {
    "duration": 72,
    "start_time": "2022-09-04T10:39:55.203Z"
   },
   {
    "duration": 31,
    "start_time": "2022-09-04T10:39:55.277Z"
   },
   {
    "duration": 41,
    "start_time": "2022-09-04T10:39:55.309Z"
   },
   {
    "duration": 30,
    "start_time": "2022-09-04T10:39:55.352Z"
   },
   {
    "duration": 25,
    "start_time": "2022-09-04T10:39:55.384Z"
   },
   {
    "duration": 35,
    "start_time": "2022-09-04T10:39:55.411Z"
   },
   {
    "duration": 27,
    "start_time": "2022-09-04T10:39:55.448Z"
   },
   {
    "duration": 55,
    "start_time": "2022-09-04T10:39:55.477Z"
   },
   {
    "duration": 11,
    "start_time": "2022-09-04T10:39:55.534Z"
   },
   {
    "duration": 332,
    "start_time": "2022-09-04T10:39:55.546Z"
   },
   {
    "duration": 538,
    "start_time": "2022-09-04T10:39:55.886Z"
   },
   {
    "duration": 528,
    "start_time": "2022-09-04T10:39:56.426Z"
   },
   {
    "duration": 4,
    "start_time": "2022-09-04T10:39:56.956Z"
   },
   {
    "duration": 117,
    "start_time": "2022-09-04T10:39:56.962Z"
   },
   {
    "duration": 458,
    "start_time": "2022-09-04T10:39:57.091Z"
   },
   {
    "duration": 4,
    "start_time": "2022-09-04T10:39:57.551Z"
   },
   {
    "duration": 17,
    "start_time": "2022-09-04T10:39:57.557Z"
   },
   {
    "duration": 276,
    "start_time": "2022-09-04T10:39:57.575Z"
   },
   {
    "duration": 481,
    "start_time": "2022-09-04T10:39:57.853Z"
   },
   {
    "duration": 89,
    "start_time": "2022-09-04T10:39:58.336Z"
   },
   {
    "duration": 934,
    "start_time": "2022-09-04T10:39:58.427Z"
   },
   {
    "duration": 0,
    "start_time": "2022-09-04T10:39:59.363Z"
   },
   {
    "duration": 0,
    "start_time": "2022-09-04T10:39:59.364Z"
   },
   {
    "duration": 0,
    "start_time": "2022-09-04T10:39:59.365Z"
   },
   {
    "duration": 0,
    "start_time": "2022-09-04T10:39:59.366Z"
   },
   {
    "duration": 0,
    "start_time": "2022-09-04T10:39:59.367Z"
   },
   {
    "duration": 0,
    "start_time": "2022-09-04T10:39:59.368Z"
   },
   {
    "duration": 0,
    "start_time": "2022-09-04T10:39:59.369Z"
   },
   {
    "duration": 0,
    "start_time": "2022-09-04T10:39:59.370Z"
   },
   {
    "duration": 0,
    "start_time": "2022-09-04T10:39:59.371Z"
   },
   {
    "duration": 0,
    "start_time": "2022-09-04T10:39:59.372Z"
   },
   {
    "duration": 0,
    "start_time": "2022-09-04T10:39:59.373Z"
   },
   {
    "duration": 0,
    "start_time": "2022-09-04T10:39:59.374Z"
   },
   {
    "duration": 0,
    "start_time": "2022-09-04T10:39:59.375Z"
   },
   {
    "duration": 0,
    "start_time": "2022-09-04T10:39:59.376Z"
   },
   {
    "duration": 1133,
    "start_time": "2022-09-04T10:45:11.543Z"
   },
   {
    "duration": 3,
    "start_time": "2022-09-04T10:45:12.678Z"
   },
   {
    "duration": 72,
    "start_time": "2022-09-04T10:45:12.686Z"
   },
   {
    "duration": 31,
    "start_time": "2022-09-04T10:45:12.760Z"
   },
   {
    "duration": 41,
    "start_time": "2022-09-04T10:45:12.795Z"
   },
   {
    "duration": 33,
    "start_time": "2022-09-04T10:45:12.838Z"
   },
   {
    "duration": 26,
    "start_time": "2022-09-04T10:45:12.873Z"
   },
   {
    "duration": 35,
    "start_time": "2022-09-04T10:45:12.901Z"
   },
   {
    "duration": 27,
    "start_time": "2022-09-04T10:45:12.938Z"
   },
   {
    "duration": 58,
    "start_time": "2022-09-04T10:45:12.967Z"
   },
   {
    "duration": 11,
    "start_time": "2022-09-04T10:45:13.026Z"
   },
   {
    "duration": 348,
    "start_time": "2022-09-04T10:45:13.038Z"
   },
   {
    "duration": 506,
    "start_time": "2022-09-04T10:45:13.388Z"
   },
   {
    "duration": 477,
    "start_time": "2022-09-04T10:45:13.897Z"
   },
   {
    "duration": 12,
    "start_time": "2022-09-04T10:45:14.375Z"
   },
   {
    "duration": 106,
    "start_time": "2022-09-04T10:45:14.388Z"
   },
   {
    "duration": 472,
    "start_time": "2022-09-04T10:45:14.495Z"
   },
   {
    "duration": 4,
    "start_time": "2022-09-04T10:45:14.969Z"
   },
   {
    "duration": 13,
    "start_time": "2022-09-04T10:45:14.974Z"
   },
   {
    "duration": 269,
    "start_time": "2022-09-04T10:45:14.988Z"
   },
   {
    "duration": 502,
    "start_time": "2022-09-04T10:45:15.258Z"
   },
   {
    "duration": 91,
    "start_time": "2022-09-04T10:45:15.762Z"
   },
   {
    "duration": 3,
    "start_time": "2022-09-04T10:45:15.855Z"
   },
   {
    "duration": 58,
    "start_time": "2022-09-04T10:45:15.860Z"
   },
   {
    "duration": 292,
    "start_time": "2022-09-04T10:45:15.919Z"
   },
   {
    "duration": 75,
    "start_time": "2022-09-04T10:45:16.213Z"
   },
   {
    "duration": 8,
    "start_time": "2022-09-04T10:45:16.291Z"
   },
   {
    "duration": 25,
    "start_time": "2022-09-04T10:45:16.301Z"
   },
   {
    "duration": 524,
    "start_time": "2022-09-04T10:45:16.328Z"
   },
   {
    "duration": 70,
    "start_time": "2022-09-04T10:45:16.854Z"
   },
   {
    "duration": 7,
    "start_time": "2022-09-04T10:45:16.926Z"
   },
   {
    "duration": 15,
    "start_time": "2022-09-04T10:45:16.935Z"
   },
   {
    "duration": 4,
    "start_time": "2022-09-04T10:45:16.952Z"
   },
   {
    "duration": 38,
    "start_time": "2022-09-04T10:45:16.958Z"
   },
   {
    "duration": 19,
    "start_time": "2022-09-04T10:45:16.997Z"
   },
   {
    "duration": 17,
    "start_time": "2022-09-04T10:45:17.018Z"
   },
   {
    "duration": 55,
    "start_time": "2022-09-04T10:45:17.036Z"
   },
   {
    "duration": 122,
    "start_time": "2022-09-04T11:19:36.911Z"
   },
   {
    "duration": 9,
    "start_time": "2022-09-04T11:19:50.645Z"
   },
   {
    "duration": 10,
    "start_time": "2022-09-04T11:20:04.453Z"
   },
   {
    "duration": 3,
    "start_time": "2022-09-04T11:20:17.502Z"
   },
   {
    "duration": 9,
    "start_time": "2022-09-04T11:20:28.094Z"
   },
   {
    "duration": 8,
    "start_time": "2022-09-04T11:20:38.537Z"
   },
   {
    "duration": 8,
    "start_time": "2022-09-04T11:20:50.790Z"
   },
   {
    "duration": 8,
    "start_time": "2022-09-04T11:21:03.675Z"
   },
   {
    "duration": 11,
    "start_time": "2022-09-04T11:21:13.650Z"
   },
   {
    "duration": 3,
    "start_time": "2022-09-04T11:21:28.401Z"
   },
   {
    "duration": 9,
    "start_time": "2022-09-04T11:21:39.162Z"
   },
   {
    "duration": 9,
    "start_time": "2022-09-04T11:21:48.975Z"
   },
   {
    "duration": 10,
    "start_time": "2022-09-04T11:22:15.077Z"
   },
   {
    "duration": 10,
    "start_time": "2022-09-04T11:22:29.977Z"
   },
   {
    "duration": 4,
    "start_time": "2022-09-04T11:22:40.481Z"
   },
   {
    "duration": 8,
    "start_time": "2022-09-04T11:22:50.893Z"
   },
   {
    "duration": 13,
    "start_time": "2022-09-04T11:23:05.806Z"
   },
   {
    "duration": 10,
    "start_time": "2022-09-04T11:23:15.857Z"
   },
   {
    "duration": 9,
    "start_time": "2022-09-04T11:23:26.085Z"
   },
   {
    "duration": 4,
    "start_time": "2022-09-04T11:23:37.123Z"
   },
   {
    "duration": 8,
    "start_time": "2022-09-04T11:23:57.674Z"
   },
   {
    "duration": 9,
    "start_time": "2022-09-04T11:24:01.098Z"
   },
   {
    "duration": 1589,
    "start_time": "2022-09-04T11:24:36.957Z"
   },
   {
    "duration": 3,
    "start_time": "2022-09-04T11:24:38.548Z"
   },
   {
    "duration": 70,
    "start_time": "2022-09-04T11:24:38.553Z"
   },
   {
    "duration": 30,
    "start_time": "2022-09-04T11:24:38.625Z"
   },
   {
    "duration": 41,
    "start_time": "2022-09-04T11:24:38.657Z"
   },
   {
    "duration": 32,
    "start_time": "2022-09-04T11:24:38.699Z"
   },
   {
    "duration": 24,
    "start_time": "2022-09-04T11:24:38.732Z"
   },
   {
    "duration": 33,
    "start_time": "2022-09-04T11:24:38.758Z"
   },
   {
    "duration": 27,
    "start_time": "2022-09-04T11:24:38.792Z"
   },
   {
    "duration": 68,
    "start_time": "2022-09-04T11:24:38.820Z"
   },
   {
    "duration": 10,
    "start_time": "2022-09-04T11:24:38.890Z"
   },
   {
    "duration": 344,
    "start_time": "2022-09-04T11:24:38.901Z"
   },
   {
    "duration": 556,
    "start_time": "2022-09-04T11:24:39.246Z"
   },
   {
    "duration": 609,
    "start_time": "2022-09-04T11:24:39.805Z"
   },
   {
    "duration": 5,
    "start_time": "2022-09-04T11:24:40.416Z"
   },
   {
    "duration": 111,
    "start_time": "2022-09-04T11:24:40.422Z"
   },
   {
    "duration": 559,
    "start_time": "2022-09-04T11:24:40.535Z"
   },
   {
    "duration": 5,
    "start_time": "2022-09-04T11:24:41.096Z"
   },
   {
    "duration": 15,
    "start_time": "2022-09-04T11:24:41.104Z"
   },
   {
    "duration": 189,
    "start_time": "2022-09-04T11:24:41.120Z"
   },
   {
    "duration": 456,
    "start_time": "2022-09-04T11:24:41.310Z"
   },
   {
    "duration": 180,
    "start_time": "2022-09-04T11:24:41.768Z"
   },
   {
    "duration": 300,
    "start_time": "2022-09-04T11:24:41.950Z"
   },
   {
    "duration": 0,
    "start_time": "2022-09-04T11:24:42.252Z"
   },
   {
    "duration": 0,
    "start_time": "2022-09-04T11:24:42.253Z"
   },
   {
    "duration": 0,
    "start_time": "2022-09-04T11:24:42.254Z"
   },
   {
    "duration": 0,
    "start_time": "2022-09-04T11:24:42.255Z"
   },
   {
    "duration": 0,
    "start_time": "2022-09-04T11:24:42.257Z"
   },
   {
    "duration": 0,
    "start_time": "2022-09-04T11:24:42.257Z"
   },
   {
    "duration": 0,
    "start_time": "2022-09-04T11:24:42.259Z"
   },
   {
    "duration": 0,
    "start_time": "2022-09-04T11:24:42.260Z"
   },
   {
    "duration": 0,
    "start_time": "2022-09-04T11:24:42.261Z"
   },
   {
    "duration": 0,
    "start_time": "2022-09-04T11:24:42.262Z"
   },
   {
    "duration": 0,
    "start_time": "2022-09-04T11:24:42.263Z"
   },
   {
    "duration": 0,
    "start_time": "2022-09-04T11:24:42.264Z"
   },
   {
    "duration": 0,
    "start_time": "2022-09-04T11:24:42.265Z"
   },
   {
    "duration": 0,
    "start_time": "2022-09-04T11:24:42.266Z"
   },
   {
    "duration": 0,
    "start_time": "2022-09-04T11:24:42.287Z"
   },
   {
    "duration": 0,
    "start_time": "2022-09-04T11:24:42.288Z"
   },
   {
    "duration": 0,
    "start_time": "2022-09-04T11:24:42.289Z"
   },
   {
    "duration": 0,
    "start_time": "2022-09-04T11:24:42.290Z"
   },
   {
    "duration": 0,
    "start_time": "2022-09-04T11:24:42.291Z"
   },
   {
    "duration": 0,
    "start_time": "2022-09-04T11:24:42.292Z"
   },
   {
    "duration": 0,
    "start_time": "2022-09-04T11:24:42.293Z"
   },
   {
    "duration": 0,
    "start_time": "2022-09-04T11:24:42.294Z"
   },
   {
    "duration": 0,
    "start_time": "2022-09-04T11:24:42.295Z"
   },
   {
    "duration": 0,
    "start_time": "2022-09-04T11:24:42.296Z"
   },
   {
    "duration": 0,
    "start_time": "2022-09-04T11:24:42.297Z"
   },
   {
    "duration": 0,
    "start_time": "2022-09-04T11:24:42.298Z"
   },
   {
    "duration": 0,
    "start_time": "2022-09-04T11:24:42.299Z"
   },
   {
    "duration": 0,
    "start_time": "2022-09-04T11:24:42.300Z"
   },
   {
    "duration": 0,
    "start_time": "2022-09-04T11:24:42.301Z"
   },
   {
    "duration": 0,
    "start_time": "2022-09-04T11:24:42.302Z"
   },
   {
    "duration": 0,
    "start_time": "2022-09-04T11:24:42.303Z"
   },
   {
    "duration": 0,
    "start_time": "2022-09-04T11:24:42.304Z"
   },
   {
    "duration": 0,
    "start_time": "2022-09-04T11:24:42.305Z"
   },
   {
    "duration": 0,
    "start_time": "2022-09-04T11:24:42.306Z"
   },
   {
    "duration": 0,
    "start_time": "2022-09-04T11:24:42.307Z"
   },
   {
    "duration": 0,
    "start_time": "2022-09-04T11:24:42.308Z"
   },
   {
    "duration": 1467,
    "start_time": "2022-09-04T11:27:10.565Z"
   },
   {
    "duration": 2,
    "start_time": "2022-09-04T11:27:12.035Z"
   },
   {
    "duration": 96,
    "start_time": "2022-09-04T11:27:12.039Z"
   },
   {
    "duration": 30,
    "start_time": "2022-09-04T11:27:12.137Z"
   },
   {
    "duration": 42,
    "start_time": "2022-09-04T11:27:12.169Z"
   },
   {
    "duration": 32,
    "start_time": "2022-09-04T11:27:12.212Z"
   },
   {
    "duration": 25,
    "start_time": "2022-09-04T11:27:12.245Z"
   },
   {
    "duration": 51,
    "start_time": "2022-09-04T11:27:12.272Z"
   },
   {
    "duration": 27,
    "start_time": "2022-09-04T11:27:12.325Z"
   },
   {
    "duration": 55,
    "start_time": "2022-09-04T11:27:12.354Z"
   },
   {
    "duration": 10,
    "start_time": "2022-09-04T11:27:12.410Z"
   },
   {
    "duration": 408,
    "start_time": "2022-09-04T11:27:12.421Z"
   },
   {
    "duration": 592,
    "start_time": "2022-09-04T11:27:12.830Z"
   },
   {
    "duration": 695,
    "start_time": "2022-09-04T11:27:13.425Z"
   },
   {
    "duration": 4,
    "start_time": "2022-09-04T11:27:14.121Z"
   },
   {
    "duration": 118,
    "start_time": "2022-09-04T11:27:14.127Z"
   },
   {
    "duration": 561,
    "start_time": "2022-09-04T11:27:14.247Z"
   },
   {
    "duration": 4,
    "start_time": "2022-09-04T11:27:14.810Z"
   },
   {
    "duration": 28,
    "start_time": "2022-09-04T11:27:14.816Z"
   },
   {
    "duration": 221,
    "start_time": "2022-09-04T11:27:14.846Z"
   },
   {
    "duration": 506,
    "start_time": "2022-09-04T11:27:15.069Z"
   },
   {
    "duration": 174,
    "start_time": "2022-09-04T11:27:15.577Z"
   },
   {
    "duration": 268,
    "start_time": "2022-09-04T11:27:15.752Z"
   },
   {
    "duration": 0,
    "start_time": "2022-09-04T11:27:16.023Z"
   },
   {
    "duration": 0,
    "start_time": "2022-09-04T11:27:16.025Z"
   },
   {
    "duration": 0,
    "start_time": "2022-09-04T11:27:16.026Z"
   },
   {
    "duration": 0,
    "start_time": "2022-09-04T11:27:16.028Z"
   },
   {
    "duration": 0,
    "start_time": "2022-09-04T11:27:16.029Z"
   },
   {
    "duration": 0,
    "start_time": "2022-09-04T11:27:16.030Z"
   },
   {
    "duration": 0,
    "start_time": "2022-09-04T11:27:16.031Z"
   },
   {
    "duration": 0,
    "start_time": "2022-09-04T11:27:16.033Z"
   },
   {
    "duration": 0,
    "start_time": "2022-09-04T11:27:16.033Z"
   },
   {
    "duration": 0,
    "start_time": "2022-09-04T11:27:16.035Z"
   },
   {
    "duration": 0,
    "start_time": "2022-09-04T11:27:16.036Z"
   },
   {
    "duration": 0,
    "start_time": "2022-09-04T11:27:16.037Z"
   },
   {
    "duration": 0,
    "start_time": "2022-09-04T11:27:16.038Z"
   },
   {
    "duration": 0,
    "start_time": "2022-09-04T11:27:16.039Z"
   },
   {
    "duration": 0,
    "start_time": "2022-09-04T11:27:16.040Z"
   },
   {
    "duration": 0,
    "start_time": "2022-09-04T11:27:16.041Z"
   },
   {
    "duration": 0,
    "start_time": "2022-09-04T11:27:16.042Z"
   },
   {
    "duration": 0,
    "start_time": "2022-09-04T11:27:16.044Z"
   },
   {
    "duration": 0,
    "start_time": "2022-09-04T11:27:16.045Z"
   },
   {
    "duration": 0,
    "start_time": "2022-09-04T11:27:16.087Z"
   },
   {
    "duration": 0,
    "start_time": "2022-09-04T11:27:16.088Z"
   },
   {
    "duration": 0,
    "start_time": "2022-09-04T11:27:16.090Z"
   },
   {
    "duration": 0,
    "start_time": "2022-09-04T11:27:16.091Z"
   },
   {
    "duration": 0,
    "start_time": "2022-09-04T11:27:16.092Z"
   },
   {
    "duration": 0,
    "start_time": "2022-09-04T11:27:16.093Z"
   },
   {
    "duration": 0,
    "start_time": "2022-09-04T11:27:16.094Z"
   },
   {
    "duration": 0,
    "start_time": "2022-09-04T11:27:16.095Z"
   },
   {
    "duration": 0,
    "start_time": "2022-09-04T11:27:16.096Z"
   },
   {
    "duration": 0,
    "start_time": "2022-09-04T11:27:16.098Z"
   },
   {
    "duration": 1,
    "start_time": "2022-09-04T11:27:16.098Z"
   },
   {
    "duration": 0,
    "start_time": "2022-09-04T11:27:16.100Z"
   },
   {
    "duration": 0,
    "start_time": "2022-09-04T11:27:16.101Z"
   },
   {
    "duration": 0,
    "start_time": "2022-09-04T11:27:16.102Z"
   },
   {
    "duration": 0,
    "start_time": "2022-09-04T11:27:16.103Z"
   },
   {
    "duration": 0,
    "start_time": "2022-09-04T11:27:16.104Z"
   },
   {
    "duration": 0,
    "start_time": "2022-09-04T11:27:16.105Z"
   },
   {
    "duration": 1612,
    "start_time": "2022-09-04T11:29:37.308Z"
   },
   {
    "duration": 3,
    "start_time": "2022-09-04T11:29:38.922Z"
   },
   {
    "duration": 85,
    "start_time": "2022-09-04T11:29:38.926Z"
   },
   {
    "duration": 32,
    "start_time": "2022-09-04T11:29:39.012Z"
   },
   {
    "duration": 43,
    "start_time": "2022-09-04T11:29:39.045Z"
   },
   {
    "duration": 35,
    "start_time": "2022-09-04T11:29:39.089Z"
   },
   {
    "duration": 28,
    "start_time": "2022-09-04T11:29:39.125Z"
   },
   {
    "duration": 45,
    "start_time": "2022-09-04T11:29:39.155Z"
   },
   {
    "duration": 27,
    "start_time": "2022-09-04T11:29:39.205Z"
   },
   {
    "duration": 74,
    "start_time": "2022-09-04T11:29:39.235Z"
   },
   {
    "duration": 11,
    "start_time": "2022-09-04T11:29:39.310Z"
   },
   {
    "duration": 397,
    "start_time": "2022-09-04T11:29:39.322Z"
   },
   {
    "duration": 625,
    "start_time": "2022-09-04T11:29:39.721Z"
   },
   {
    "duration": 679,
    "start_time": "2022-09-04T11:29:40.349Z"
   },
   {
    "duration": 5,
    "start_time": "2022-09-04T11:29:41.030Z"
   },
   {
    "duration": 124,
    "start_time": "2022-09-04T11:29:41.036Z"
   },
   {
    "duration": 527,
    "start_time": "2022-09-04T11:29:41.162Z"
   },
   {
    "duration": 7,
    "start_time": "2022-09-04T11:29:41.694Z"
   },
   {
    "duration": 19,
    "start_time": "2022-09-04T11:29:41.703Z"
   },
   {
    "duration": 228,
    "start_time": "2022-09-04T11:29:41.725Z"
   },
   {
    "duration": 519,
    "start_time": "2022-09-04T11:29:41.954Z"
   },
   {
    "duration": 190,
    "start_time": "2022-09-04T11:29:42.475Z"
   },
   {
    "duration": 67,
    "start_time": "2022-09-04T11:29:42.667Z"
   },
   {
    "duration": 311,
    "start_time": "2022-09-04T11:29:42.736Z"
   },
   {
    "duration": 74,
    "start_time": "2022-09-04T11:29:43.049Z"
   },
   {
    "duration": 6,
    "start_time": "2022-09-04T11:29:43.125Z"
   },
   {
    "duration": 23,
    "start_time": "2022-09-04T11:29:43.134Z"
   },
   {
    "duration": 540,
    "start_time": "2022-09-04T11:29:43.161Z"
   },
   {
    "duration": 100,
    "start_time": "2022-09-04T11:29:43.706Z"
   },
   {
    "duration": 10,
    "start_time": "2022-09-04T11:29:43.808Z"
   },
   {
    "duration": 16,
    "start_time": "2022-09-04T11:29:43.819Z"
   },
   {
    "duration": 5,
    "start_time": "2022-09-04T11:29:43.837Z"
   },
   {
    "duration": 19,
    "start_time": "2022-09-04T11:29:43.843Z"
   },
   {
    "duration": 41,
    "start_time": "2022-09-04T11:29:43.864Z"
   },
   {
    "duration": 23,
    "start_time": "2022-09-04T11:29:43.908Z"
   },
   {
    "duration": 74,
    "start_time": "2022-09-04T11:29:43.933Z"
   },
   {
    "duration": 4,
    "start_time": "2022-09-04T11:29:44.009Z"
   },
   {
    "duration": 13,
    "start_time": "2022-09-04T11:29:44.015Z"
   },
   {
    "duration": 43,
    "start_time": "2022-09-04T11:29:44.030Z"
   },
   {
    "duration": 4,
    "start_time": "2022-09-04T11:29:44.075Z"
   },
   {
    "duration": 4552,
    "start_time": "2022-09-04T11:29:44.081Z"
   },
   {
    "duration": 9,
    "start_time": "2022-09-04T11:29:48.634Z"
   },
   {
    "duration": 147350,
    "start_time": "2022-09-04T11:29:48.645Z"
   },
   {
    "duration": 92,
    "start_time": "2022-09-04T11:32:15.996Z"
   },
   {
    "duration": 8,
    "start_time": "2022-09-04T11:32:16.098Z"
   },
   {
    "duration": 10,
    "start_time": "2022-09-04T11:32:16.108Z"
   },
   {
    "duration": 568,
    "start_time": "2022-09-04T11:32:16.119Z"
   },
   {
    "duration": 108,
    "start_time": "2022-09-04T11:32:16.689Z"
   },
   {
    "duration": 78198,
    "start_time": "2022-09-04T11:32:16.801Z"
   },
   {
    "duration": 7,
    "start_time": "2022-09-04T11:33:35.001Z"
   },
   {
    "duration": 80,
    "start_time": "2022-09-04T11:33:35.010Z"
   },
   {
    "duration": 101,
    "start_time": "2022-09-04T11:33:35.098Z"
   },
   {
    "duration": 25,
    "start_time": "2022-09-04T11:33:35.201Z"
   },
   {
    "duration": 21,
    "start_time": "2022-09-04T11:33:35.227Z"
   },
   {
    "duration": 1345,
    "start_time": "2022-09-04T11:33:35.250Z"
   },
   {
    "duration": 5,
    "start_time": "2022-09-04T11:33:36.601Z"
   },
   {
    "duration": 316,
    "start_time": "2022-09-04T11:33:36.609Z"
   },
   {
    "duration": 4,
    "start_time": "2022-09-04T11:33:36.926Z"
   },
   {
    "duration": 1566,
    "start_time": "2022-09-04T11:43:23.969Z"
   },
   {
    "duration": 3,
    "start_time": "2022-09-04T11:43:25.537Z"
   },
   {
    "duration": 72,
    "start_time": "2022-09-04T11:43:25.542Z"
   },
   {
    "duration": 31,
    "start_time": "2022-09-04T11:43:25.617Z"
   },
   {
    "duration": 41,
    "start_time": "2022-09-04T11:43:25.650Z"
   },
   {
    "duration": 32,
    "start_time": "2022-09-04T11:43:25.693Z"
   },
   {
    "duration": 26,
    "start_time": "2022-09-04T11:43:25.727Z"
   },
   {
    "duration": 34,
    "start_time": "2022-09-04T11:43:25.754Z"
   },
   {
    "duration": 29,
    "start_time": "2022-09-04T11:43:25.790Z"
   },
   {
    "duration": 98,
    "start_time": "2022-09-04T11:43:25.822Z"
   },
   {
    "duration": 10,
    "start_time": "2022-09-04T11:43:25.921Z"
   },
   {
    "duration": 500,
    "start_time": "2022-09-04T11:43:25.933Z"
   },
   {
    "duration": 590,
    "start_time": "2022-09-04T11:43:26.436Z"
   },
   {
    "duration": 692,
    "start_time": "2022-09-04T11:43:27.028Z"
   },
   {
    "duration": 5,
    "start_time": "2022-09-04T11:43:27.721Z"
   },
   {
    "duration": 122,
    "start_time": "2022-09-04T11:43:27.728Z"
   },
   {
    "duration": 545,
    "start_time": "2022-09-04T11:43:27.852Z"
   },
   {
    "duration": 6,
    "start_time": "2022-09-04T11:43:28.400Z"
   },
   {
    "duration": 7,
    "start_time": "2022-09-04T11:43:28.408Z"
   },
   {
    "duration": 218,
    "start_time": "2022-09-04T11:43:28.417Z"
   },
   {
    "duration": 539,
    "start_time": "2022-09-04T11:43:28.636Z"
   },
   {
    "duration": 191,
    "start_time": "2022-09-04T11:43:29.177Z"
   },
   {
    "duration": 61,
    "start_time": "2022-09-04T11:43:29.370Z"
   },
   {
    "duration": 356,
    "start_time": "2022-09-04T11:43:29.433Z"
   },
   {
    "duration": 45,
    "start_time": "2022-09-04T11:43:29.790Z"
   },
   {
    "duration": 6,
    "start_time": "2022-09-04T11:43:29.837Z"
   },
   {
    "duration": 57,
    "start_time": "2022-09-04T11:43:29.845Z"
   },
   {
    "duration": 480,
    "start_time": "2022-09-04T11:43:29.908Z"
   },
   {
    "duration": 64,
    "start_time": "2022-09-04T11:43:30.390Z"
   },
   {
    "duration": 40,
    "start_time": "2022-09-04T11:43:30.456Z"
   },
   {
    "duration": 17,
    "start_time": "2022-09-04T11:43:30.498Z"
   },
   {
    "duration": 7,
    "start_time": "2022-09-04T11:43:30.517Z"
   },
   {
    "duration": 19,
    "start_time": "2022-09-04T11:43:30.526Z"
   },
   {
    "duration": 41,
    "start_time": "2022-09-04T11:43:30.546Z"
   },
   {
    "duration": 19,
    "start_time": "2022-09-04T11:43:30.589Z"
   },
   {
    "duration": 36,
    "start_time": "2022-09-04T11:43:30.610Z"
   },
   {
    "duration": 6,
    "start_time": "2022-09-04T11:43:30.648Z"
   },
   {
    "duration": 43,
    "start_time": "2022-09-04T11:43:30.657Z"
   },
   {
    "duration": 29,
    "start_time": "2022-09-04T11:43:30.702Z"
   },
   {
    "duration": 8,
    "start_time": "2022-09-04T11:43:30.733Z"
   },
   {
    "duration": 648,
    "start_time": "2022-09-04T11:43:30.743Z"
   },
   {
    "duration": 94,
    "start_time": "2022-09-04T11:43:31.393Z"
   },
   {
    "duration": 140107,
    "start_time": "2022-09-04T11:43:31.491Z"
   },
   {
    "duration": 96,
    "start_time": "2022-09-04T11:45:51.600Z"
   },
   {
    "duration": 178,
    "start_time": "2022-09-04T11:45:51.709Z"
   },
   {
    "duration": 10,
    "start_time": "2022-09-04T11:45:51.889Z"
   },
   {
    "duration": 550,
    "start_time": "2022-09-04T11:45:51.901Z"
   },
   {
    "duration": 13,
    "start_time": "2022-09-04T11:45:52.453Z"
   },
   {
    "duration": 82327,
    "start_time": "2022-09-04T11:45:52.468Z"
   },
   {
    "duration": 104,
    "start_time": "2022-09-04T11:47:14.796Z"
   },
   {
    "duration": 5,
    "start_time": "2022-09-04T11:47:14.990Z"
   },
   {
    "duration": 107,
    "start_time": "2022-09-04T11:47:14.999Z"
   },
   {
    "duration": 8,
    "start_time": "2022-09-04T11:47:15.109Z"
   },
   {
    "duration": 5,
    "start_time": "2022-09-04T11:47:15.119Z"
   },
   {
    "duration": 400,
    "start_time": "2022-09-04T11:47:15.126Z"
   },
   {
    "duration": 4,
    "start_time": "2022-09-04T11:47:15.528Z"
   },
   {
    "duration": 280,
    "start_time": "2022-09-04T11:47:15.533Z"
   },
   {
    "duration": 4,
    "start_time": "2022-09-04T11:47:15.815Z"
   },
   {
    "duration": 1531,
    "start_time": "2022-09-04T12:25:27.492Z"
   },
   {
    "duration": 3,
    "start_time": "2022-09-04T12:25:29.025Z"
   },
   {
    "duration": 80,
    "start_time": "2022-09-04T12:25:29.029Z"
   },
   {
    "duration": 32,
    "start_time": "2022-09-04T12:25:29.110Z"
   },
   {
    "duration": 41,
    "start_time": "2022-09-04T12:25:29.143Z"
   },
   {
    "duration": 41,
    "start_time": "2022-09-04T12:25:29.186Z"
   },
   {
    "duration": 26,
    "start_time": "2022-09-04T12:25:29.228Z"
   },
   {
    "duration": 43,
    "start_time": "2022-09-04T12:25:29.255Z"
   },
   {
    "duration": 31,
    "start_time": "2022-09-04T12:25:29.300Z"
   },
   {
    "duration": 69,
    "start_time": "2022-09-04T12:25:29.334Z"
   },
   {
    "duration": 11,
    "start_time": "2022-09-04T12:25:29.405Z"
   },
   {
    "duration": 409,
    "start_time": "2022-09-04T12:25:29.418Z"
   },
   {
    "duration": 584,
    "start_time": "2022-09-04T12:25:29.829Z"
   },
   {
    "duration": 599,
    "start_time": "2022-09-04T12:25:30.414Z"
   },
   {
    "duration": 4,
    "start_time": "2022-09-04T12:25:31.015Z"
   },
   {
    "duration": 118,
    "start_time": "2022-09-04T12:25:31.021Z"
   },
   {
    "duration": 562,
    "start_time": "2022-09-04T12:25:31.141Z"
   },
   {
    "duration": 5,
    "start_time": "2022-09-04T12:25:31.704Z"
   },
   {
    "duration": 24,
    "start_time": "2022-09-04T12:25:31.711Z"
   },
   {
    "duration": 231,
    "start_time": "2022-09-04T12:25:31.737Z"
   },
   {
    "duration": 500,
    "start_time": "2022-09-04T12:25:31.970Z"
   },
   {
    "duration": 182,
    "start_time": "2022-09-04T12:25:32.471Z"
   },
   {
    "duration": 373,
    "start_time": "2022-09-04T12:25:32.655Z"
   },
   {
    "duration": 32,
    "start_time": "2022-09-04T12:25:33.030Z"
   },
   {
    "duration": 277,
    "start_time": "2022-09-04T12:25:33.092Z"
   },
   {
    "duration": 47,
    "start_time": "2022-09-04T12:25:33.371Z"
   },
   {
    "duration": 6,
    "start_time": "2022-09-04T12:25:33.420Z"
   },
   {
    "duration": 42,
    "start_time": "2022-09-04T12:25:33.431Z"
   },
   {
    "duration": 495,
    "start_time": "2022-09-04T12:25:33.475Z"
   },
   {
    "duration": 73,
    "start_time": "2022-09-04T12:25:33.972Z"
   },
   {
    "duration": 12,
    "start_time": "2022-09-04T12:25:34.047Z"
   },
   {
    "duration": 37,
    "start_time": "2022-09-04T12:25:34.061Z"
   },
   {
    "duration": 23,
    "start_time": "2022-09-04T12:25:34.100Z"
   },
   {
    "duration": 42,
    "start_time": "2022-09-04T12:25:34.124Z"
   },
   {
    "duration": 55,
    "start_time": "2022-09-04T12:25:34.167Z"
   },
   {
    "duration": 15,
    "start_time": "2022-09-04T12:25:34.223Z"
   },
   {
    "duration": 44,
    "start_time": "2022-09-04T12:25:34.239Z"
   },
   {
    "duration": 11,
    "start_time": "2022-09-04T12:25:34.285Z"
   },
   {
    "duration": 27,
    "start_time": "2022-09-04T12:25:34.300Z"
   },
   {
    "duration": 27,
    "start_time": "2022-09-04T12:25:34.329Z"
   },
   {
    "duration": 42,
    "start_time": "2022-09-04T12:25:34.358Z"
   },
   {
    "duration": 684,
    "start_time": "2022-09-04T12:25:34.401Z"
   },
   {
    "duration": 28,
    "start_time": "2022-09-04T12:25:35.086Z"
   },
   {
    "duration": 6120,
    "start_time": "2022-09-04T12:25:35.191Z"
   },
   {
    "duration": 96,
    "start_time": "2022-09-04T12:25:41.313Z"
   },
   {
    "duration": 191,
    "start_time": "2022-09-04T12:25:41.411Z"
   },
   {
    "duration": 6,
    "start_time": "2022-09-04T12:25:41.603Z"
   },
   {
    "duration": 504,
    "start_time": "2022-09-04T12:25:41.610Z"
   },
   {
    "duration": 7,
    "start_time": "2022-09-04T12:25:42.116Z"
   },
   {
    "duration": 10784,
    "start_time": "2022-09-04T12:25:42.125Z"
   },
   {
    "duration": 89,
    "start_time": "2022-09-04T12:25:52.911Z"
   },
   {
    "duration": 87,
    "start_time": "2022-09-04T12:25:53.002Z"
   },
   {
    "duration": 106,
    "start_time": "2022-09-04T12:25:53.096Z"
   },
   {
    "duration": 10,
    "start_time": "2022-09-04T12:25:53.204Z"
   },
   {
    "duration": 10,
    "start_time": "2022-09-04T12:25:53.215Z"
   },
   {
    "duration": 608,
    "start_time": "2022-09-04T12:25:53.226Z"
   },
   {
    "duration": 6,
    "start_time": "2022-09-04T12:25:53.835Z"
   },
   {
    "duration": 287,
    "start_time": "2022-09-04T12:25:53.843Z"
   },
   {
    "duration": 5,
    "start_time": "2022-09-04T12:25:54.132Z"
   },
   {
    "duration": 1524,
    "start_time": "2022-09-04T12:28:54.945Z"
   },
   {
    "duration": 3,
    "start_time": "2022-09-04T12:28:56.471Z"
   },
   {
    "duration": 131,
    "start_time": "2022-09-04T12:28:56.476Z"
   },
   {
    "duration": 31,
    "start_time": "2022-09-04T12:28:56.610Z"
   },
   {
    "duration": 41,
    "start_time": "2022-09-04T12:28:56.642Z"
   },
   {
    "duration": 32,
    "start_time": "2022-09-04T12:28:56.685Z"
   },
   {
    "duration": 27,
    "start_time": "2022-09-04T12:28:56.718Z"
   },
   {
    "duration": 34,
    "start_time": "2022-09-04T12:28:56.746Z"
   },
   {
    "duration": 30,
    "start_time": "2022-09-04T12:28:56.782Z"
   },
   {
    "duration": 55,
    "start_time": "2022-09-04T12:28:56.814Z"
   },
   {
    "duration": 24,
    "start_time": "2022-09-04T12:28:56.870Z"
   },
   {
    "duration": 398,
    "start_time": "2022-09-04T12:28:56.895Z"
   },
   {
    "duration": 548,
    "start_time": "2022-09-04T12:28:57.295Z"
   },
   {
    "duration": 562,
    "start_time": "2022-09-04T12:28:57.846Z"
   },
   {
    "duration": 4,
    "start_time": "2022-09-04T12:28:58.410Z"
   },
   {
    "duration": 117,
    "start_time": "2022-09-04T12:28:58.415Z"
   },
   {
    "duration": 563,
    "start_time": "2022-09-04T12:28:58.534Z"
   },
   {
    "duration": 5,
    "start_time": "2022-09-04T12:28:59.098Z"
   },
   {
    "duration": 5,
    "start_time": "2022-09-04T12:28:59.104Z"
   },
   {
    "duration": 201,
    "start_time": "2022-09-04T12:28:59.111Z"
   },
   {
    "duration": 587,
    "start_time": "2022-09-04T12:28:59.314Z"
   },
   {
    "duration": 202,
    "start_time": "2022-09-04T12:28:59.903Z"
   },
   {
    "duration": 257,
    "start_time": "2022-09-04T12:29:00.107Z"
   },
   {
    "duration": 0,
    "start_time": "2022-09-04T12:29:00.367Z"
   },
   {
    "duration": 0,
    "start_time": "2022-09-04T12:29:00.369Z"
   },
   {
    "duration": 0,
    "start_time": "2022-09-04T12:29:00.371Z"
   },
   {
    "duration": 0,
    "start_time": "2022-09-04T12:29:00.372Z"
   },
   {
    "duration": 0,
    "start_time": "2022-09-04T12:29:00.389Z"
   },
   {
    "duration": 0,
    "start_time": "2022-09-04T12:29:00.390Z"
   },
   {
    "duration": 0,
    "start_time": "2022-09-04T12:29:00.391Z"
   },
   {
    "duration": 0,
    "start_time": "2022-09-04T12:29:00.393Z"
   },
   {
    "duration": 0,
    "start_time": "2022-09-04T12:29:00.396Z"
   },
   {
    "duration": 0,
    "start_time": "2022-09-04T12:29:00.397Z"
   },
   {
    "duration": 0,
    "start_time": "2022-09-04T12:29:00.399Z"
   },
   {
    "duration": 0,
    "start_time": "2022-09-04T12:29:00.399Z"
   },
   {
    "duration": 0,
    "start_time": "2022-09-04T12:29:00.401Z"
   },
   {
    "duration": 0,
    "start_time": "2022-09-04T12:29:00.402Z"
   },
   {
    "duration": 0,
    "start_time": "2022-09-04T12:29:00.403Z"
   },
   {
    "duration": 0,
    "start_time": "2022-09-04T12:29:00.404Z"
   },
   {
    "duration": 0,
    "start_time": "2022-09-04T12:29:00.405Z"
   },
   {
    "duration": 0,
    "start_time": "2022-09-04T12:29:00.406Z"
   },
   {
    "duration": 0,
    "start_time": "2022-09-04T12:29:00.407Z"
   },
   {
    "duration": 0,
    "start_time": "2022-09-04T12:29:00.408Z"
   },
   {
    "duration": 0,
    "start_time": "2022-09-04T12:29:00.409Z"
   },
   {
    "duration": 0,
    "start_time": "2022-09-04T12:29:00.410Z"
   },
   {
    "duration": 0,
    "start_time": "2022-09-04T12:29:00.411Z"
   },
   {
    "duration": 0,
    "start_time": "2022-09-04T12:29:00.412Z"
   },
   {
    "duration": 0,
    "start_time": "2022-09-04T12:29:00.413Z"
   },
   {
    "duration": 0,
    "start_time": "2022-09-04T12:29:00.413Z"
   },
   {
    "duration": 0,
    "start_time": "2022-09-04T12:29:00.414Z"
   },
   {
    "duration": 0,
    "start_time": "2022-09-04T12:29:00.415Z"
   },
   {
    "duration": 0,
    "start_time": "2022-09-04T12:29:00.417Z"
   },
   {
    "duration": 0,
    "start_time": "2022-09-04T12:29:00.417Z"
   },
   {
    "duration": 0,
    "start_time": "2022-09-04T12:29:00.418Z"
   },
   {
    "duration": 0,
    "start_time": "2022-09-04T12:29:00.420Z"
   },
   {
    "duration": 0,
    "start_time": "2022-09-04T12:29:00.421Z"
   },
   {
    "duration": 0,
    "start_time": "2022-09-04T12:29:00.422Z"
   },
   {
    "duration": 0,
    "start_time": "2022-09-04T12:29:00.423Z"
   },
   {
    "duration": 0,
    "start_time": "2022-09-04T12:29:00.424Z"
   },
   {
    "duration": 1477,
    "start_time": "2022-09-04T12:32:52.344Z"
   },
   {
    "duration": 3,
    "start_time": "2022-09-04T12:32:53.823Z"
   },
   {
    "duration": 88,
    "start_time": "2022-09-04T12:32:53.827Z"
   },
   {
    "duration": 31,
    "start_time": "2022-09-04T12:32:53.918Z"
   },
   {
    "duration": 47,
    "start_time": "2022-09-04T12:32:53.951Z"
   },
   {
    "duration": 32,
    "start_time": "2022-09-04T12:32:53.999Z"
   },
   {
    "duration": 29,
    "start_time": "2022-09-04T12:32:54.032Z"
   },
   {
    "duration": 51,
    "start_time": "2022-09-04T12:32:54.063Z"
   },
   {
    "duration": 27,
    "start_time": "2022-09-04T12:32:54.115Z"
   },
   {
    "duration": 65,
    "start_time": "2022-09-04T12:32:54.146Z"
   },
   {
    "duration": 9,
    "start_time": "2022-09-04T12:32:54.213Z"
   },
   {
    "duration": 427,
    "start_time": "2022-09-04T12:32:54.223Z"
   },
   {
    "duration": 649,
    "start_time": "2022-09-04T12:32:54.651Z"
   },
   {
    "duration": 603,
    "start_time": "2022-09-04T12:32:55.304Z"
   },
   {
    "duration": 5,
    "start_time": "2022-09-04T12:32:55.909Z"
   },
   {
    "duration": 129,
    "start_time": "2022-09-04T12:32:55.916Z"
   },
   {
    "duration": 652,
    "start_time": "2022-09-04T12:32:56.048Z"
   },
   {
    "duration": 5,
    "start_time": "2022-09-04T12:32:56.702Z"
   },
   {
    "duration": 13,
    "start_time": "2022-09-04T12:32:56.708Z"
   },
   {
    "duration": 201,
    "start_time": "2022-09-04T12:32:56.723Z"
   },
   {
    "duration": 548,
    "start_time": "2022-09-04T12:32:56.925Z"
   },
   {
    "duration": 179,
    "start_time": "2022-09-04T12:32:57.474Z"
   },
   {
    "duration": 19468,
    "start_time": "2022-09-04T12:32:57.654Z"
   },
   {
    "duration": 34,
    "start_time": "2022-09-04T12:33:17.124Z"
   },
   {
    "duration": 340,
    "start_time": "2022-09-04T12:33:17.159Z"
   },
   {
    "duration": 47,
    "start_time": "2022-09-04T12:33:17.501Z"
   },
   {
    "duration": 8,
    "start_time": "2022-09-04T12:33:17.550Z"
   },
   {
    "duration": 45,
    "start_time": "2022-09-04T12:33:17.561Z"
   },
   {
    "duration": 503,
    "start_time": "2022-09-04T12:33:17.608Z"
   },
   {
    "duration": 84,
    "start_time": "2022-09-04T12:33:18.112Z"
   },
   {
    "duration": 9,
    "start_time": "2022-09-04T12:33:18.197Z"
   },
   {
    "duration": 12,
    "start_time": "2022-09-04T12:33:18.208Z"
   },
   {
    "duration": 4,
    "start_time": "2022-09-04T12:33:18.222Z"
   },
   {
    "duration": 16,
    "start_time": "2022-09-04T12:33:18.228Z"
   },
   {
    "duration": 19,
    "start_time": "2022-09-04T12:33:18.246Z"
   },
   {
    "duration": 37,
    "start_time": "2022-09-04T12:33:18.266Z"
   },
   {
    "duration": 36,
    "start_time": "2022-09-04T12:33:18.305Z"
   },
   {
    "duration": 4,
    "start_time": "2022-09-04T12:33:18.343Z"
   },
   {
    "duration": 14,
    "start_time": "2022-09-04T12:33:18.348Z"
   },
   {
    "duration": 36,
    "start_time": "2022-09-04T12:33:18.363Z"
   },
   {
    "duration": 8,
    "start_time": "2022-09-04T12:33:18.402Z"
   },
   {
    "duration": 624,
    "start_time": "2022-09-04T12:33:18.412Z"
   },
   {
    "duration": 11,
    "start_time": "2022-09-04T12:33:19.037Z"
   },
   {
    "duration": 5661,
    "start_time": "2022-09-04T12:33:19.049Z"
   },
   {
    "duration": 174,
    "start_time": "2022-09-04T12:33:24.712Z"
   },
   {
    "duration": 97,
    "start_time": "2022-09-04T12:33:24.897Z"
   },
   {
    "duration": 9,
    "start_time": "2022-09-04T12:33:24.998Z"
   },
   {
    "duration": 594,
    "start_time": "2022-09-04T12:33:25.008Z"
   },
   {
    "duration": 7,
    "start_time": "2022-09-04T12:33:25.604Z"
   },
   {
    "duration": 3091,
    "start_time": "2022-09-04T12:33:25.614Z"
   },
   {
    "duration": 96,
    "start_time": "2022-09-04T12:33:28.708Z"
   },
   {
    "duration": 93,
    "start_time": "2022-09-04T12:33:28.806Z"
   },
   {
    "duration": 102,
    "start_time": "2022-09-04T12:33:28.907Z"
   },
   {
    "duration": 16,
    "start_time": "2022-09-04T12:33:29.011Z"
   },
   {
    "duration": 6,
    "start_time": "2022-09-04T12:33:29.029Z"
   },
   {
    "duration": 530,
    "start_time": "2022-09-04T12:33:29.037Z"
   },
   {
    "duration": 4,
    "start_time": "2022-09-04T12:33:29.569Z"
   },
   {
    "duration": 307,
    "start_time": "2022-09-04T12:33:29.575Z"
   },
   {
    "duration": 14,
    "start_time": "2022-09-04T12:33:29.884Z"
   },
   {
    "duration": 1481,
    "start_time": "2022-09-04T12:36:49.358Z"
   },
   {
    "duration": 3,
    "start_time": "2022-09-04T12:36:50.841Z"
   },
   {
    "duration": 84,
    "start_time": "2022-09-04T12:36:50.845Z"
   },
   {
    "duration": 29,
    "start_time": "2022-09-04T12:36:50.931Z"
   },
   {
    "duration": 44,
    "start_time": "2022-09-04T12:36:50.962Z"
   },
   {
    "duration": 34,
    "start_time": "2022-09-04T12:36:51.008Z"
   },
   {
    "duration": 24,
    "start_time": "2022-09-04T12:36:51.043Z"
   },
   {
    "duration": 41,
    "start_time": "2022-09-04T12:36:51.068Z"
   },
   {
    "duration": 26,
    "start_time": "2022-09-04T12:36:51.111Z"
   },
   {
    "duration": 65,
    "start_time": "2022-09-04T12:36:51.139Z"
   },
   {
    "duration": 10,
    "start_time": "2022-09-04T12:36:51.205Z"
   },
   {
    "duration": 386,
    "start_time": "2022-09-04T12:36:51.216Z"
   },
   {
    "duration": 543,
    "start_time": "2022-09-04T12:36:51.604Z"
   },
   {
    "duration": 656,
    "start_time": "2022-09-04T12:36:52.148Z"
   },
   {
    "duration": 4,
    "start_time": "2022-09-04T12:36:52.806Z"
   },
   {
    "duration": 121,
    "start_time": "2022-09-04T12:36:52.811Z"
   },
   {
    "duration": 574,
    "start_time": "2022-09-04T12:36:52.934Z"
   },
   {
    "duration": 4,
    "start_time": "2022-09-04T12:36:53.510Z"
   },
   {
    "duration": 9,
    "start_time": "2022-09-04T12:36:53.515Z"
   },
   {
    "duration": 228,
    "start_time": "2022-09-04T12:36:53.525Z"
   },
   {
    "duration": 520,
    "start_time": "2022-09-04T12:36:53.755Z"
   },
   {
    "duration": 182,
    "start_time": "2022-09-04T12:36:54.276Z"
   },
   {
    "duration": 18936,
    "start_time": "2022-09-04T12:36:54.460Z"
   },
   {
    "duration": 33,
    "start_time": "2022-09-04T12:37:13.402Z"
   },
   {
    "duration": 336,
    "start_time": "2022-09-04T12:37:13.437Z"
   },
   {
    "duration": 74,
    "start_time": "2022-09-04T12:37:13.776Z"
   },
   {
    "duration": 6,
    "start_time": "2022-09-04T12:37:13.851Z"
   },
   {
    "duration": 18,
    "start_time": "2022-09-04T12:37:13.861Z"
   },
   {
    "duration": 532,
    "start_time": "2022-09-04T12:37:13.880Z"
   },
   {
    "duration": 93,
    "start_time": "2022-09-04T12:37:14.414Z"
   },
   {
    "duration": 7265,
    "start_time": "2022-09-04T12:37:14.509Z"
   },
   {
    "duration": 14,
    "start_time": "2022-09-04T12:37:21.775Z"
   },
   {
    "duration": 10,
    "start_time": "2022-09-04T12:37:21.801Z"
   },
   {
    "duration": 10,
    "start_time": "2022-09-04T12:37:21.813Z"
   },
   {
    "duration": 22,
    "start_time": "2022-09-04T12:37:21.824Z"
   },
   {
    "duration": 21,
    "start_time": "2022-09-04T12:37:21.847Z"
   },
   {
    "duration": 22,
    "start_time": "2022-09-04T12:37:21.870Z"
   },
   {
    "duration": 35,
    "start_time": "2022-09-04T12:37:21.893Z"
   },
   {
    "duration": 4,
    "start_time": "2022-09-04T12:37:21.929Z"
   },
   {
    "duration": 11,
    "start_time": "2022-09-04T12:37:21.935Z"
   },
   {
    "duration": 22,
    "start_time": "2022-09-04T12:37:21.947Z"
   },
   {
    "duration": 3,
    "start_time": "2022-09-04T12:37:21.971Z"
   },
   {
    "duration": 490,
    "start_time": "2022-09-04T12:37:21.975Z"
   },
   {
    "duration": 9,
    "start_time": "2022-09-04T12:37:22.466Z"
   },
   {
    "duration": 7917,
    "start_time": "2022-09-04T12:37:22.480Z"
   },
   {
    "duration": 12,
    "start_time": "2022-09-04T12:37:30.398Z"
   },
   {
    "duration": 83,
    "start_time": "2022-09-04T12:37:30.412Z"
   },
   {
    "duration": 93,
    "start_time": "2022-09-04T12:37:30.497Z"
   },
   {
    "duration": 510,
    "start_time": "2022-09-04T12:37:30.593Z"
   },
   {
    "duration": 9,
    "start_time": "2022-09-04T12:37:31.104Z"
   },
   {
    "duration": 3490,
    "start_time": "2022-09-04T12:37:31.115Z"
   },
   {
    "duration": 85,
    "start_time": "2022-09-04T12:37:34.607Z"
   },
   {
    "duration": 14,
    "start_time": "2022-09-04T12:37:34.694Z"
   },
   {
    "duration": 82,
    "start_time": "2022-09-04T12:37:34.709Z"
   },
   {
    "duration": 97,
    "start_time": "2022-09-04T12:37:34.793Z"
   },
   {
    "duration": 12,
    "start_time": "2022-09-04T12:37:34.892Z"
   },
   {
    "duration": 374,
    "start_time": "2022-09-04T12:37:34.906Z"
   },
   {
    "duration": 4,
    "start_time": "2022-09-04T12:37:35.281Z"
   },
   {
    "duration": 314,
    "start_time": "2022-09-04T12:37:35.288Z"
   },
   {
    "duration": 5,
    "start_time": "2022-09-04T12:37:35.603Z"
   },
   {
    "duration": 264,
    "start_time": "2022-09-04T12:43:01.349Z"
   },
   {
    "duration": 3,
    "start_time": "2022-09-04T12:44:26.389Z"
   },
   {
    "duration": 3,
    "start_time": "2022-09-04T12:44:33.199Z"
   },
   {
    "duration": 1538,
    "start_time": "2022-09-04T12:45:55.960Z"
   },
   {
    "duration": 3,
    "start_time": "2022-09-04T12:45:57.500Z"
   },
   {
    "duration": 72,
    "start_time": "2022-09-04T12:45:57.505Z"
   },
   {
    "duration": 37,
    "start_time": "2022-09-04T12:45:57.580Z"
   },
   {
    "duration": 41,
    "start_time": "2022-09-04T12:45:57.619Z"
   },
   {
    "duration": 38,
    "start_time": "2022-09-04T12:45:57.661Z"
   },
   {
    "duration": 25,
    "start_time": "2022-09-04T12:45:57.700Z"
   },
   {
    "duration": 39,
    "start_time": "2022-09-04T12:45:57.726Z"
   },
   {
    "duration": 31,
    "start_time": "2022-09-04T12:45:57.766Z"
   },
   {
    "duration": 53,
    "start_time": "2022-09-04T12:45:57.801Z"
   },
   {
    "duration": 41,
    "start_time": "2022-09-04T12:45:57.856Z"
   },
   {
    "duration": 373,
    "start_time": "2022-09-04T12:45:57.899Z"
   },
   {
    "duration": 531,
    "start_time": "2022-09-04T12:45:58.274Z"
   },
   {
    "duration": 595,
    "start_time": "2022-09-04T12:45:58.807Z"
   },
   {
    "duration": 5,
    "start_time": "2022-09-04T12:45:59.403Z"
   },
   {
    "duration": 113,
    "start_time": "2022-09-04T12:45:59.409Z"
   },
   {
    "duration": 493,
    "start_time": "2022-09-04T12:45:59.523Z"
   },
   {
    "duration": 6,
    "start_time": "2022-09-04T12:46:00.018Z"
   },
   {
    "duration": 16,
    "start_time": "2022-09-04T12:46:00.026Z"
   },
   {
    "duration": 219,
    "start_time": "2022-09-04T12:46:00.044Z"
   },
   {
    "duration": 495,
    "start_time": "2022-09-04T12:46:00.265Z"
   },
   {
    "duration": 179,
    "start_time": "2022-09-04T12:46:00.762Z"
   },
   {
    "duration": 3,
    "start_time": "2022-09-04T12:46:00.942Z"
   },
   {
    "duration": 65,
    "start_time": "2022-09-04T12:46:00.946Z"
   },
   {
    "duration": 295,
    "start_time": "2022-09-04T12:46:01.013Z"
   },
   {
    "duration": 43,
    "start_time": "2022-09-04T12:46:01.310Z"
   },
   {
    "duration": 43,
    "start_time": "2022-09-04T12:46:01.354Z"
   },
   {
    "duration": 32,
    "start_time": "2022-09-04T12:46:01.402Z"
   },
   {
    "duration": 557,
    "start_time": "2022-09-04T12:46:01.436Z"
   },
   {
    "duration": 63,
    "start_time": "2022-09-04T12:46:01.995Z"
   },
   {
    "duration": 34,
    "start_time": "2022-09-04T12:46:02.059Z"
   },
   {
    "duration": 3,
    "start_time": "2022-09-04T12:46:02.099Z"
   },
   {
    "duration": 64,
    "start_time": "2022-09-04T12:46:02.104Z"
   },
   {
    "duration": 0,
    "start_time": "2022-09-04T12:46:02.169Z"
   },
   {
    "duration": 0,
    "start_time": "2022-09-04T12:46:02.171Z"
   },
   {
    "duration": 0,
    "start_time": "2022-09-04T12:46:02.172Z"
   },
   {
    "duration": 0,
    "start_time": "2022-09-04T12:46:02.172Z"
   },
   {
    "duration": 0,
    "start_time": "2022-09-04T12:46:02.174Z"
   },
   {
    "duration": 0,
    "start_time": "2022-09-04T12:46:02.174Z"
   },
   {
    "duration": 0,
    "start_time": "2022-09-04T12:46:02.175Z"
   },
   {
    "duration": 0,
    "start_time": "2022-09-04T12:46:02.176Z"
   },
   {
    "duration": 0,
    "start_time": "2022-09-04T12:46:02.177Z"
   },
   {
    "duration": 0,
    "start_time": "2022-09-04T12:46:02.178Z"
   },
   {
    "duration": 0,
    "start_time": "2022-09-04T12:46:02.179Z"
   },
   {
    "duration": 0,
    "start_time": "2022-09-04T12:46:02.180Z"
   },
   {
    "duration": 0,
    "start_time": "2022-09-04T12:46:02.181Z"
   },
   {
    "duration": 0,
    "start_time": "2022-09-04T12:46:02.182Z"
   },
   {
    "duration": 0,
    "start_time": "2022-09-04T12:46:02.183Z"
   },
   {
    "duration": 0,
    "start_time": "2022-09-04T12:46:02.184Z"
   },
   {
    "duration": 0,
    "start_time": "2022-09-04T12:46:02.185Z"
   },
   {
    "duration": 0,
    "start_time": "2022-09-04T12:46:02.185Z"
   },
   {
    "duration": 0,
    "start_time": "2022-09-04T12:46:02.186Z"
   },
   {
    "duration": 0,
    "start_time": "2022-09-04T12:46:02.187Z"
   },
   {
    "duration": 0,
    "start_time": "2022-09-04T12:46:02.189Z"
   },
   {
    "duration": 0,
    "start_time": "2022-09-04T12:46:02.191Z"
   },
   {
    "duration": 0,
    "start_time": "2022-09-04T12:46:02.192Z"
   },
   {
    "duration": 0,
    "start_time": "2022-09-04T12:46:02.197Z"
   },
   {
    "duration": 0,
    "start_time": "2022-09-04T12:46:02.199Z"
   },
   {
    "duration": 0,
    "start_time": "2022-09-04T12:46:02.200Z"
   },
   {
    "duration": 0,
    "start_time": "2022-09-04T12:46:02.202Z"
   },
   {
    "duration": 0,
    "start_time": "2022-09-04T12:46:02.202Z"
   },
   {
    "duration": 0,
    "start_time": "2022-09-04T12:46:02.203Z"
   },
   {
    "duration": 0,
    "start_time": "2022-09-04T12:46:02.205Z"
   },
   {
    "duration": 5,
    "start_time": "2022-09-04T12:47:41.536Z"
   },
   {
    "duration": 6,
    "start_time": "2022-09-04T12:47:41.542Z"
   },
   {
    "duration": 77,
    "start_time": "2022-09-04T12:47:41.550Z"
   },
   {
    "duration": 31,
    "start_time": "2022-09-04T12:47:41.629Z"
   },
   {
    "duration": 44,
    "start_time": "2022-09-04T12:47:41.662Z"
   },
   {
    "duration": 30,
    "start_time": "2022-09-04T12:47:41.708Z"
   },
   {
    "duration": 24,
    "start_time": "2022-09-04T12:47:41.740Z"
   },
   {
    "duration": 39,
    "start_time": "2022-09-04T12:47:41.765Z"
   },
   {
    "duration": 27,
    "start_time": "2022-09-04T12:47:41.807Z"
   },
   {
    "duration": 75,
    "start_time": "2022-09-04T12:47:41.836Z"
   },
   {
    "duration": 10,
    "start_time": "2022-09-04T12:47:41.913Z"
   },
   {
    "duration": 417,
    "start_time": "2022-09-04T12:47:41.924Z"
   },
   {
    "duration": 569,
    "start_time": "2022-09-04T12:47:42.343Z"
   },
   {
    "duration": 500,
    "start_time": "2022-09-04T12:47:42.914Z"
   },
   {
    "duration": 5,
    "start_time": "2022-09-04T12:47:43.416Z"
   },
   {
    "duration": 121,
    "start_time": "2022-09-04T12:47:43.422Z"
   },
   {
    "duration": 568,
    "start_time": "2022-09-04T12:47:43.545Z"
   },
   {
    "duration": 5,
    "start_time": "2022-09-04T12:47:44.115Z"
   },
   {
    "duration": 9,
    "start_time": "2022-09-04T12:47:44.121Z"
   },
   {
    "duration": 305,
    "start_time": "2022-09-04T12:47:44.132Z"
   },
   {
    "duration": 566,
    "start_time": "2022-09-04T12:47:44.439Z"
   },
   {
    "duration": 103,
    "start_time": "2022-09-04T12:47:45.007Z"
   },
   {
    "duration": 3,
    "start_time": "2022-09-04T12:47:45.111Z"
   },
   {
    "duration": 35,
    "start_time": "2022-09-04T12:47:45.118Z"
   },
   {
    "duration": 305,
    "start_time": "2022-09-04T12:47:45.190Z"
   },
   {
    "duration": 44,
    "start_time": "2022-09-04T12:47:45.498Z"
   },
   {
    "duration": 7,
    "start_time": "2022-09-04T12:47:45.543Z"
   },
   {
    "duration": 49,
    "start_time": "2022-09-04T12:47:45.552Z"
   },
   {
    "duration": 473,
    "start_time": "2022-09-04T12:47:45.603Z"
   },
   {
    "duration": 66,
    "start_time": "2022-09-04T12:47:46.078Z"
   },
   {
    "duration": 2,
    "start_time": "2022-09-04T12:47:46.146Z"
   },
   {
    "duration": 10,
    "start_time": "2022-09-04T12:47:46.150Z"
   },
   {
    "duration": 15,
    "start_time": "2022-09-04T12:47:46.161Z"
   },
   {
    "duration": 29,
    "start_time": "2022-09-04T12:47:46.189Z"
   },
   {
    "duration": 4,
    "start_time": "2022-09-04T12:47:46.220Z"
   },
   {
    "duration": 20,
    "start_time": "2022-09-04T12:47:46.226Z"
   },
   {
    "duration": 21,
    "start_time": "2022-09-04T12:47:46.247Z"
   },
   {
    "duration": 24,
    "start_time": "2022-09-04T12:47:46.270Z"
   },
   {
    "duration": 58,
    "start_time": "2022-09-04T12:47:46.297Z"
   },
   {
    "duration": 42,
    "start_time": "2022-09-04T12:47:46.357Z"
   },
   {
    "duration": 7,
    "start_time": "2022-09-04T12:47:46.402Z"
   },
   {
    "duration": 31,
    "start_time": "2022-09-04T12:47:46.410Z"
   },
   {
    "duration": 26,
    "start_time": "2022-09-04T12:47:46.443Z"
   },
   {
    "duration": 11,
    "start_time": "2022-09-04T12:47:46.471Z"
   },
   {
    "duration": 582,
    "start_time": "2022-09-04T12:47:46.484Z"
   },
   {
    "duration": 26,
    "start_time": "2022-09-04T12:47:47.068Z"
   },
   {
    "duration": 8199,
    "start_time": "2022-09-04T12:47:47.096Z"
   },
   {
    "duration": 97,
    "start_time": "2022-09-04T12:47:55.297Z"
   },
   {
    "duration": 95,
    "start_time": "2022-09-04T12:47:55.402Z"
   },
   {
    "duration": 4,
    "start_time": "2022-09-04T12:47:55.499Z"
   },
   {
    "duration": 490,
    "start_time": "2022-09-04T12:47:55.505Z"
   },
   {
    "duration": 23,
    "start_time": "2022-09-04T12:47:55.998Z"
   },
   {
    "duration": 4314,
    "start_time": "2022-09-04T12:47:56.095Z"
   },
   {
    "duration": 100,
    "start_time": "2022-09-04T12:48:00.410Z"
   },
   {
    "duration": 9,
    "start_time": "2022-09-04T12:48:00.589Z"
   },
   {
    "duration": 100,
    "start_time": "2022-09-04T12:48:00.600Z"
   },
   {
    "duration": 15,
    "start_time": "2022-09-04T12:48:00.702Z"
   },
   {
    "duration": 12,
    "start_time": "2022-09-04T12:48:00.719Z"
   },
   {
    "duration": 568,
    "start_time": "2022-09-04T12:48:00.733Z"
   },
   {
    "duration": 3,
    "start_time": "2022-09-04T12:48:01.303Z"
   },
   {
    "duration": 315,
    "start_time": "2022-09-04T12:48:01.308Z"
   },
   {
    "duration": 5,
    "start_time": "2022-09-04T12:48:01.625Z"
   },
   {
    "duration": 1575,
    "start_time": "2022-09-04T12:51:13.886Z"
   },
   {
    "duration": 3,
    "start_time": "2022-09-04T12:51:15.462Z"
   },
   {
    "duration": 90,
    "start_time": "2022-09-04T12:51:15.466Z"
   },
   {
    "duration": 39,
    "start_time": "2022-09-04T12:51:15.558Z"
   },
   {
    "duration": 41,
    "start_time": "2022-09-04T12:51:15.605Z"
   },
   {
    "duration": 31,
    "start_time": "2022-09-04T12:51:15.647Z"
   },
   {
    "duration": 37,
    "start_time": "2022-09-04T12:51:15.680Z"
   },
   {
    "duration": 36,
    "start_time": "2022-09-04T12:51:15.719Z"
   },
   {
    "duration": 30,
    "start_time": "2022-09-04T12:51:15.758Z"
   },
   {
    "duration": 70,
    "start_time": "2022-09-04T12:51:15.791Z"
   },
   {
    "duration": 40,
    "start_time": "2022-09-04T12:51:15.862Z"
   },
   {
    "duration": 430,
    "start_time": "2022-09-04T12:51:15.904Z"
   },
   {
    "duration": 627,
    "start_time": "2022-09-04T12:51:16.336Z"
   },
   {
    "duration": 662,
    "start_time": "2022-09-04T12:51:16.964Z"
   },
   {
    "duration": 7,
    "start_time": "2022-09-04T12:51:17.628Z"
   },
   {
    "duration": 117,
    "start_time": "2022-09-04T12:51:17.637Z"
   },
   {
    "duration": 548,
    "start_time": "2022-09-04T12:51:17.756Z"
   },
   {
    "duration": 4,
    "start_time": "2022-09-04T12:51:18.306Z"
   },
   {
    "duration": 7,
    "start_time": "2022-09-04T12:51:18.312Z"
   },
   {
    "duration": 219,
    "start_time": "2022-09-04T12:51:18.320Z"
   },
   {
    "duration": 549,
    "start_time": "2022-09-04T12:51:18.541Z"
   },
   {
    "duration": 181,
    "start_time": "2022-09-04T12:51:19.092Z"
   },
   {
    "duration": 3,
    "start_time": "2022-09-04T12:51:19.274Z"
   },
   {
    "duration": 52,
    "start_time": "2022-09-04T12:51:19.288Z"
   },
   {
    "duration": 305,
    "start_time": "2022-09-04T12:51:19.341Z"
   },
   {
    "duration": 65,
    "start_time": "2022-09-04T12:51:19.647Z"
   },
   {
    "duration": 7,
    "start_time": "2022-09-04T12:51:19.713Z"
   },
   {
    "duration": 20,
    "start_time": "2022-09-04T12:51:19.723Z"
   },
   {
    "duration": 550,
    "start_time": "2022-09-04T12:51:19.744Z"
   },
   {
    "duration": 60,
    "start_time": "2022-09-04T12:51:20.296Z"
   },
   {
    "duration": 2,
    "start_time": "2022-09-04T12:51:20.358Z"
   },
   {
    "duration": 7,
    "start_time": "2022-09-04T12:51:20.361Z"
   },
   {
    "duration": 22,
    "start_time": "2022-09-04T12:51:20.391Z"
   },
   {
    "duration": 31,
    "start_time": "2022-09-04T12:51:20.415Z"
   },
   {
    "duration": 4,
    "start_time": "2022-09-04T12:51:20.448Z"
   },
   {
    "duration": 18,
    "start_time": "2022-09-04T12:51:20.453Z"
   },
   {
    "duration": 23,
    "start_time": "2022-09-04T12:51:20.473Z"
   },
   {
    "duration": 14,
    "start_time": "2022-09-04T12:51:20.498Z"
   },
   {
    "duration": 32,
    "start_time": "2022-09-04T12:51:20.514Z"
   },
   {
    "duration": 41,
    "start_time": "2022-09-04T12:51:20.547Z"
   },
   {
    "duration": 1039,
    "start_time": "2022-09-04T12:51:20.594Z"
   },
   {
    "duration": 0,
    "start_time": "2022-09-04T12:51:21.635Z"
   },
   {
    "duration": 0,
    "start_time": "2022-09-04T12:51:21.636Z"
   },
   {
    "duration": 0,
    "start_time": "2022-09-04T12:51:21.637Z"
   },
   {
    "duration": 0,
    "start_time": "2022-09-04T12:51:21.638Z"
   },
   {
    "duration": 0,
    "start_time": "2022-09-04T12:51:21.639Z"
   },
   {
    "duration": 0,
    "start_time": "2022-09-04T12:51:21.640Z"
   },
   {
    "duration": 0,
    "start_time": "2022-09-04T12:51:21.641Z"
   },
   {
    "duration": 0,
    "start_time": "2022-09-04T12:51:21.642Z"
   },
   {
    "duration": 0,
    "start_time": "2022-09-04T12:51:21.643Z"
   },
   {
    "duration": 0,
    "start_time": "2022-09-04T12:51:21.644Z"
   },
   {
    "duration": 0,
    "start_time": "2022-09-04T12:51:21.646Z"
   },
   {
    "duration": 0,
    "start_time": "2022-09-04T12:51:21.647Z"
   },
   {
    "duration": 0,
    "start_time": "2022-09-04T12:51:21.647Z"
   },
   {
    "duration": 1,
    "start_time": "2022-09-04T12:51:21.648Z"
   },
   {
    "duration": 0,
    "start_time": "2022-09-04T12:51:21.650Z"
   },
   {
    "duration": 0,
    "start_time": "2022-09-04T12:51:21.651Z"
   },
   {
    "duration": 0,
    "start_time": "2022-09-04T12:51:21.652Z"
   },
   {
    "duration": 0,
    "start_time": "2022-09-04T12:51:21.653Z"
   },
   {
    "duration": 0,
    "start_time": "2022-09-04T12:51:21.655Z"
   },
   {
    "duration": 0,
    "start_time": "2022-09-04T12:51:21.656Z"
   },
   {
    "duration": 0,
    "start_time": "2022-09-04T12:51:21.657Z"
   },
   {
    "duration": 0,
    "start_time": "2022-09-04T12:51:21.658Z"
   },
   {
    "duration": 0,
    "start_time": "2022-09-04T12:51:21.658Z"
   },
   {
    "duration": 1494,
    "start_time": "2022-09-04T12:52:47.752Z"
   },
   {
    "duration": 3,
    "start_time": "2022-09-04T12:52:49.248Z"
   },
   {
    "duration": 90,
    "start_time": "2022-09-04T12:52:49.252Z"
   },
   {
    "duration": 31,
    "start_time": "2022-09-04T12:52:49.345Z"
   },
   {
    "duration": 56,
    "start_time": "2022-09-04T12:52:49.377Z"
   },
   {
    "duration": 32,
    "start_time": "2022-09-04T12:52:49.435Z"
   },
   {
    "duration": 32,
    "start_time": "2022-09-04T12:52:49.469Z"
   },
   {
    "duration": 39,
    "start_time": "2022-09-04T12:52:49.505Z"
   },
   {
    "duration": 28,
    "start_time": "2022-09-04T12:52:49.546Z"
   },
   {
    "duration": 68,
    "start_time": "2022-09-04T12:52:49.577Z"
   },
   {
    "duration": 12,
    "start_time": "2022-09-04T12:52:49.646Z"
   },
   {
    "duration": 412,
    "start_time": "2022-09-04T12:52:49.660Z"
   },
   {
    "duration": 546,
    "start_time": "2022-09-04T12:52:50.074Z"
   },
   {
    "duration": 589,
    "start_time": "2022-09-04T12:52:50.622Z"
   },
   {
    "duration": 4,
    "start_time": "2022-09-04T12:52:51.212Z"
   },
   {
    "duration": 116,
    "start_time": "2022-09-04T12:52:51.218Z"
   },
   {
    "duration": 570,
    "start_time": "2022-09-04T12:52:51.336Z"
   },
   {
    "duration": 4,
    "start_time": "2022-09-04T12:52:51.908Z"
   },
   {
    "duration": 14,
    "start_time": "2022-09-04T12:52:51.914Z"
   },
   {
    "duration": 213,
    "start_time": "2022-09-04T12:52:51.929Z"
   },
   {
    "duration": 527,
    "start_time": "2022-09-04T12:52:52.143Z"
   },
   {
    "duration": 179,
    "start_time": "2022-09-04T12:52:52.672Z"
   },
   {
    "duration": 3,
    "start_time": "2022-09-04T12:52:52.852Z"
   },
   {
    "duration": 64,
    "start_time": "2022-09-04T12:52:52.856Z"
   },
   {
    "duration": 298,
    "start_time": "2022-09-04T12:52:52.921Z"
   },
   {
    "duration": 40,
    "start_time": "2022-09-04T12:52:53.220Z"
   },
   {
    "duration": 30,
    "start_time": "2022-09-04T12:52:53.262Z"
   },
   {
    "duration": 27,
    "start_time": "2022-09-04T12:52:53.297Z"
   },
   {
    "duration": 444,
    "start_time": "2022-09-04T12:52:53.326Z"
   },
   {
    "duration": 68,
    "start_time": "2022-09-04T12:52:53.772Z"
   },
   {
    "duration": 2,
    "start_time": "2022-09-04T12:52:53.842Z"
   },
   {
    "duration": 5,
    "start_time": "2022-09-04T12:52:53.846Z"
   },
   {
    "duration": 45,
    "start_time": "2022-09-04T12:52:53.852Z"
   },
   {
    "duration": 8,
    "start_time": "2022-09-04T12:52:53.899Z"
   },
   {
    "duration": 4,
    "start_time": "2022-09-04T12:52:53.909Z"
   },
   {
    "duration": 14,
    "start_time": "2022-09-04T12:52:53.915Z"
   },
   {
    "duration": 18,
    "start_time": "2022-09-04T12:52:53.930Z"
   },
   {
    "duration": 15,
    "start_time": "2022-09-04T12:52:53.949Z"
   },
   {
    "duration": 62,
    "start_time": "2022-09-04T12:52:53.966Z"
   },
   {
    "duration": 26,
    "start_time": "2022-09-04T12:52:54.030Z"
   },
   {
    "duration": 1115,
    "start_time": "2022-09-04T12:52:54.057Z"
   },
   {
    "duration": 0,
    "start_time": "2022-09-04T12:52:55.173Z"
   },
   {
    "duration": 0,
    "start_time": "2022-09-04T12:52:55.174Z"
   },
   {
    "duration": 0,
    "start_time": "2022-09-04T12:52:55.175Z"
   },
   {
    "duration": 0,
    "start_time": "2022-09-04T12:52:55.176Z"
   },
   {
    "duration": 0,
    "start_time": "2022-09-04T12:52:55.177Z"
   },
   {
    "duration": 0,
    "start_time": "2022-09-04T12:52:55.178Z"
   },
   {
    "duration": 0,
    "start_time": "2022-09-04T12:52:55.179Z"
   },
   {
    "duration": 0,
    "start_time": "2022-09-04T12:52:55.180Z"
   },
   {
    "duration": 0,
    "start_time": "2022-09-04T12:52:55.181Z"
   },
   {
    "duration": 0,
    "start_time": "2022-09-04T12:52:55.182Z"
   },
   {
    "duration": 0,
    "start_time": "2022-09-04T12:52:55.183Z"
   },
   {
    "duration": 0,
    "start_time": "2022-09-04T12:52:55.184Z"
   },
   {
    "duration": 0,
    "start_time": "2022-09-04T12:52:55.185Z"
   },
   {
    "duration": 0,
    "start_time": "2022-09-04T12:52:55.186Z"
   },
   {
    "duration": 0,
    "start_time": "2022-09-04T12:52:55.189Z"
   },
   {
    "duration": 0,
    "start_time": "2022-09-04T12:52:55.190Z"
   },
   {
    "duration": 0,
    "start_time": "2022-09-04T12:52:55.192Z"
   },
   {
    "duration": 0,
    "start_time": "2022-09-04T12:52:55.193Z"
   },
   {
    "duration": 0,
    "start_time": "2022-09-04T12:52:55.194Z"
   },
   {
    "duration": 0,
    "start_time": "2022-09-04T12:52:55.195Z"
   },
   {
    "duration": 0,
    "start_time": "2022-09-04T12:52:55.196Z"
   },
   {
    "duration": 0,
    "start_time": "2022-09-04T12:52:55.197Z"
   },
   {
    "duration": 0,
    "start_time": "2022-09-04T12:52:55.199Z"
   },
   {
    "duration": 1593,
    "start_time": "2022-09-04T12:55:17.030Z"
   },
   {
    "duration": 2,
    "start_time": "2022-09-04T12:55:18.625Z"
   },
   {
    "duration": 81,
    "start_time": "2022-09-04T12:55:18.629Z"
   },
   {
    "duration": 31,
    "start_time": "2022-09-04T12:55:18.712Z"
   },
   {
    "duration": 41,
    "start_time": "2022-09-04T12:55:18.744Z"
   },
   {
    "duration": 32,
    "start_time": "2022-09-04T12:55:18.788Z"
   },
   {
    "duration": 25,
    "start_time": "2022-09-04T12:55:18.822Z"
   },
   {
    "duration": 35,
    "start_time": "2022-09-04T12:55:18.849Z"
   },
   {
    "duration": 39,
    "start_time": "2022-09-04T12:55:18.885Z"
   },
   {
    "duration": 75,
    "start_time": "2022-09-04T12:55:18.926Z"
   },
   {
    "duration": 11,
    "start_time": "2022-09-04T12:55:19.002Z"
   },
   {
    "duration": 398,
    "start_time": "2022-09-04T12:55:19.015Z"
   },
   {
    "duration": 626,
    "start_time": "2022-09-04T12:55:19.415Z"
   },
   {
    "duration": 683,
    "start_time": "2022-09-04T12:55:20.043Z"
   },
   {
    "duration": 4,
    "start_time": "2022-09-04T12:55:20.728Z"
   },
   {
    "duration": 117,
    "start_time": "2022-09-04T12:55:20.733Z"
   },
   {
    "duration": 547,
    "start_time": "2022-09-04T12:55:20.852Z"
   },
   {
    "duration": 5,
    "start_time": "2022-09-04T12:55:21.405Z"
   },
   {
    "duration": 7,
    "start_time": "2022-09-04T12:55:21.411Z"
   },
   {
    "duration": 218,
    "start_time": "2022-09-04T12:55:21.419Z"
   },
   {
    "duration": 571,
    "start_time": "2022-09-04T12:55:21.638Z"
   },
   {
    "duration": 191,
    "start_time": "2022-09-04T12:55:22.210Z"
   },
   {
    "duration": 3,
    "start_time": "2022-09-04T12:55:22.402Z"
   },
   {
    "duration": 37,
    "start_time": "2022-09-04T12:55:22.406Z"
   },
   {
    "duration": 328,
    "start_time": "2022-09-04T12:55:22.444Z"
   },
   {
    "duration": 53,
    "start_time": "2022-09-04T12:55:22.773Z"
   },
   {
    "duration": 6,
    "start_time": "2022-09-04T12:55:22.828Z"
   },
   {
    "duration": 17,
    "start_time": "2022-09-04T12:55:22.838Z"
   },
   {
    "duration": 551,
    "start_time": "2022-09-04T12:55:22.857Z"
   },
   {
    "duration": 80,
    "start_time": "2022-09-04T12:55:23.410Z"
   },
   {
    "duration": 5,
    "start_time": "2022-09-04T12:55:23.497Z"
   },
   {
    "duration": 7,
    "start_time": "2022-09-04T12:55:23.503Z"
   },
   {
    "duration": 11,
    "start_time": "2022-09-04T12:55:23.512Z"
   },
   {
    "duration": 9,
    "start_time": "2022-09-04T12:55:23.525Z"
   },
   {
    "duration": 4,
    "start_time": "2022-09-04T12:55:23.535Z"
   },
   {
    "duration": 16,
    "start_time": "2022-09-04T12:55:23.541Z"
   },
   {
    "duration": 37,
    "start_time": "2022-09-04T12:55:23.560Z"
   },
   {
    "duration": 16,
    "start_time": "2022-09-04T12:55:23.600Z"
   },
   {
    "duration": 30,
    "start_time": "2022-09-04T12:55:23.618Z"
   },
   {
    "duration": 52,
    "start_time": "2022-09-04T12:55:23.650Z"
   },
   {
    "duration": 114,
    "start_time": "2022-09-04T12:55:23.703Z"
   },
   {
    "duration": 0,
    "start_time": "2022-09-04T12:55:23.819Z"
   },
   {
    "duration": 0,
    "start_time": "2022-09-04T12:55:23.820Z"
   },
   {
    "duration": 0,
    "start_time": "2022-09-04T12:55:23.822Z"
   },
   {
    "duration": 0,
    "start_time": "2022-09-04T12:55:23.823Z"
   },
   {
    "duration": 0,
    "start_time": "2022-09-04T12:55:23.824Z"
   },
   {
    "duration": 0,
    "start_time": "2022-09-04T12:55:23.826Z"
   },
   {
    "duration": 0,
    "start_time": "2022-09-04T12:55:23.827Z"
   },
   {
    "duration": 0,
    "start_time": "2022-09-04T12:55:23.828Z"
   },
   {
    "duration": 0,
    "start_time": "2022-09-04T12:55:23.830Z"
   },
   {
    "duration": 0,
    "start_time": "2022-09-04T12:55:23.831Z"
   },
   {
    "duration": 0,
    "start_time": "2022-09-04T12:55:23.832Z"
   },
   {
    "duration": 0,
    "start_time": "2022-09-04T12:55:23.834Z"
   },
   {
    "duration": 0,
    "start_time": "2022-09-04T12:55:23.835Z"
   },
   {
    "duration": 0,
    "start_time": "2022-09-04T12:55:23.836Z"
   },
   {
    "duration": 0,
    "start_time": "2022-09-04T12:55:23.837Z"
   },
   {
    "duration": 0,
    "start_time": "2022-09-04T12:55:23.838Z"
   },
   {
    "duration": 0,
    "start_time": "2022-09-04T12:55:23.840Z"
   },
   {
    "duration": 0,
    "start_time": "2022-09-04T12:55:23.841Z"
   },
   {
    "duration": 0,
    "start_time": "2022-09-04T12:55:23.842Z"
   },
   {
    "duration": 0,
    "start_time": "2022-09-04T12:55:23.843Z"
   },
   {
    "duration": 1,
    "start_time": "2022-09-04T12:55:23.844Z"
   },
   {
    "duration": 0,
    "start_time": "2022-09-04T12:55:23.892Z"
   },
   {
    "duration": 0,
    "start_time": "2022-09-04T12:55:23.893Z"
   },
   {
    "duration": 895,
    "start_time": "2022-09-04T12:56:01.258Z"
   },
   {
    "duration": 1451,
    "start_time": "2022-09-04T13:01:17.394Z"
   },
   {
    "duration": 2,
    "start_time": "2022-09-04T13:01:18.847Z"
   },
   {
    "duration": 82,
    "start_time": "2022-09-04T13:01:18.850Z"
   },
   {
    "duration": 30,
    "start_time": "2022-09-04T13:01:18.934Z"
   },
   {
    "duration": 52,
    "start_time": "2022-09-04T13:01:18.966Z"
   },
   {
    "duration": 31,
    "start_time": "2022-09-04T13:01:19.020Z"
   },
   {
    "duration": 25,
    "start_time": "2022-09-04T13:01:19.053Z"
   },
   {
    "duration": 40,
    "start_time": "2022-09-04T13:01:19.079Z"
   },
   {
    "duration": 27,
    "start_time": "2022-09-04T13:01:19.120Z"
   },
   {
    "duration": 59,
    "start_time": "2022-09-04T13:01:19.150Z"
   },
   {
    "duration": 10,
    "start_time": "2022-09-04T13:01:19.210Z"
   },
   {
    "duration": 503,
    "start_time": "2022-09-04T13:01:19.221Z"
   },
   {
    "duration": 972,
    "start_time": "2022-09-04T13:01:19.725Z"
   },
   {
    "duration": 1139,
    "start_time": "2022-09-04T13:01:20.700Z"
   },
   {
    "duration": 4,
    "start_time": "2022-09-04T13:01:21.840Z"
   },
   {
    "duration": 113,
    "start_time": "2022-09-04T13:01:21.846Z"
   },
   {
    "duration": 545,
    "start_time": "2022-09-04T13:01:21.961Z"
   },
   {
    "duration": 4,
    "start_time": "2022-09-04T13:01:22.508Z"
   },
   {
    "duration": 10,
    "start_time": "2022-09-04T13:01:22.513Z"
   },
   {
    "duration": 205,
    "start_time": "2022-09-04T13:01:22.524Z"
   },
   {
    "duration": 549,
    "start_time": "2022-09-04T13:01:22.731Z"
   },
   {
    "duration": 175,
    "start_time": "2022-09-04T13:01:23.288Z"
   },
   {
    "duration": 369,
    "start_time": "2022-09-04T13:01:23.465Z"
   },
   {
    "duration": 55,
    "start_time": "2022-09-04T13:01:23.836Z"
   },
   {
    "duration": 307,
    "start_time": "2022-09-04T13:01:23.894Z"
   },
   {
    "duration": 39,
    "start_time": "2022-09-04T13:01:24.202Z"
   },
   {
    "duration": 6,
    "start_time": "2022-09-04T13:01:24.243Z"
   },
   {
    "duration": 46,
    "start_time": "2022-09-04T13:01:24.252Z"
   },
   {
    "duration": 577,
    "start_time": "2022-09-04T13:01:24.299Z"
   },
   {
    "duration": 67,
    "start_time": "2022-09-04T13:01:24.878Z"
   },
   {
    "duration": 2,
    "start_time": "2022-09-04T13:01:24.947Z"
   },
   {
    "duration": 7,
    "start_time": "2022-09-04T13:01:24.950Z"
   },
   {
    "duration": 32,
    "start_time": "2022-09-04T13:01:24.958Z"
   },
   {
    "duration": 10,
    "start_time": "2022-09-04T13:01:24.995Z"
   },
   {
    "duration": 4,
    "start_time": "2022-09-04T13:01:25.006Z"
   },
   {
    "duration": 24,
    "start_time": "2022-09-04T13:01:25.012Z"
   },
   {
    "duration": 16,
    "start_time": "2022-09-04T13:01:25.038Z"
   },
   {
    "duration": 14,
    "start_time": "2022-09-04T13:01:25.056Z"
   },
   {
    "duration": 49,
    "start_time": "2022-09-04T13:01:25.072Z"
   },
   {
    "duration": 24,
    "start_time": "2022-09-04T13:01:25.123Z"
   },
   {
    "duration": 2,
    "start_time": "2022-09-04T13:01:25.149Z"
   },
   {
    "duration": 149,
    "start_time": "2022-09-04T13:01:25.153Z"
   },
   {
    "duration": 0,
    "start_time": "2022-09-04T13:01:25.304Z"
   },
   {
    "duration": 0,
    "start_time": "2022-09-04T13:01:25.305Z"
   },
   {
    "duration": 0,
    "start_time": "2022-09-04T13:01:25.306Z"
   },
   {
    "duration": 0,
    "start_time": "2022-09-04T13:01:25.307Z"
   },
   {
    "duration": 0,
    "start_time": "2022-09-04T13:01:25.308Z"
   },
   {
    "duration": 0,
    "start_time": "2022-09-04T13:01:25.309Z"
   },
   {
    "duration": 0,
    "start_time": "2022-09-04T13:01:25.310Z"
   },
   {
    "duration": 0,
    "start_time": "2022-09-04T13:01:25.311Z"
   },
   {
    "duration": 0,
    "start_time": "2022-09-04T13:01:25.312Z"
   },
   {
    "duration": 0,
    "start_time": "2022-09-04T13:01:25.312Z"
   },
   {
    "duration": 0,
    "start_time": "2022-09-04T13:01:25.313Z"
   },
   {
    "duration": 0,
    "start_time": "2022-09-04T13:01:25.314Z"
   },
   {
    "duration": 0,
    "start_time": "2022-09-04T13:01:25.316Z"
   },
   {
    "duration": 0,
    "start_time": "2022-09-04T13:01:25.316Z"
   },
   {
    "duration": 0,
    "start_time": "2022-09-04T13:01:25.318Z"
   },
   {
    "duration": 0,
    "start_time": "2022-09-04T13:01:25.318Z"
   },
   {
    "duration": 0,
    "start_time": "2022-09-04T13:01:25.319Z"
   },
   {
    "duration": 0,
    "start_time": "2022-09-04T13:01:25.320Z"
   },
   {
    "duration": 0,
    "start_time": "2022-09-04T13:01:25.322Z"
   },
   {
    "duration": 0,
    "start_time": "2022-09-04T13:01:25.323Z"
   },
   {
    "duration": 0,
    "start_time": "2022-09-04T13:01:25.324Z"
   },
   {
    "duration": 0,
    "start_time": "2022-09-04T13:01:25.324Z"
   },
   {
    "duration": 1447,
    "start_time": "2022-09-04T13:02:32.075Z"
   },
   {
    "duration": 2,
    "start_time": "2022-09-04T13:02:33.524Z"
   },
   {
    "duration": 85,
    "start_time": "2022-09-04T13:02:33.528Z"
   },
   {
    "duration": 35,
    "start_time": "2022-09-04T13:02:33.614Z"
   },
   {
    "duration": 50,
    "start_time": "2022-09-04T13:02:33.651Z"
   },
   {
    "duration": 36,
    "start_time": "2022-09-04T13:02:33.703Z"
   },
   {
    "duration": 27,
    "start_time": "2022-09-04T13:02:33.741Z"
   },
   {
    "duration": 39,
    "start_time": "2022-09-04T13:02:33.770Z"
   },
   {
    "duration": 28,
    "start_time": "2022-09-04T13:02:33.811Z"
   },
   {
    "duration": 66,
    "start_time": "2022-09-04T13:02:33.842Z"
   },
   {
    "duration": 11,
    "start_time": "2022-09-04T13:02:33.910Z"
   },
   {
    "duration": 422,
    "start_time": "2022-09-04T13:02:33.922Z"
   },
   {
    "duration": 571,
    "start_time": "2022-09-04T13:02:34.345Z"
   },
   {
    "duration": 597,
    "start_time": "2022-09-04T13:02:34.918Z"
   },
   {
    "duration": 4,
    "start_time": "2022-09-04T13:02:35.516Z"
   },
   {
    "duration": 117,
    "start_time": "2022-09-04T13:02:35.522Z"
   },
   {
    "duration": 570,
    "start_time": "2022-09-04T13:02:35.641Z"
   },
   {
    "duration": 5,
    "start_time": "2022-09-04T13:02:36.212Z"
   },
   {
    "duration": 10,
    "start_time": "2022-09-04T13:02:36.218Z"
   },
   {
    "duration": 252,
    "start_time": "2022-09-04T13:02:36.229Z"
   },
   {
    "duration": 595,
    "start_time": "2022-09-04T13:02:36.483Z"
   },
   {
    "duration": 179,
    "start_time": "2022-09-04T13:02:37.080Z"
   },
   {
    "duration": 373,
    "start_time": "2022-09-04T13:02:37.260Z"
   },
   {
    "duration": 54,
    "start_time": "2022-09-04T13:02:37.635Z"
   },
   {
    "duration": 286,
    "start_time": "2022-09-04T13:02:37.693Z"
   },
   {
    "duration": 55,
    "start_time": "2022-09-04T13:02:37.980Z"
   },
   {
    "duration": 7,
    "start_time": "2022-09-04T13:02:38.037Z"
   },
   {
    "duration": 48,
    "start_time": "2022-09-04T13:02:38.047Z"
   },
   {
    "duration": 475,
    "start_time": "2022-09-04T13:02:38.096Z"
   },
   {
    "duration": 75,
    "start_time": "2022-09-04T13:02:38.573Z"
   },
   {
    "duration": 292,
    "start_time": "2022-09-04T13:02:38.650Z"
   },
   {
    "duration": 7,
    "start_time": "2022-09-04T13:02:38.944Z"
   },
   {
    "duration": 28,
    "start_time": "2022-09-04T13:02:38.953Z"
   },
   {
    "duration": 25,
    "start_time": "2022-09-04T13:02:38.983Z"
   },
   {
    "duration": 19,
    "start_time": "2022-09-04T13:02:39.010Z"
   },
   {
    "duration": 32,
    "start_time": "2022-09-04T13:02:39.030Z"
   },
   {
    "duration": 14,
    "start_time": "2022-09-04T13:02:39.063Z"
   },
   {
    "duration": 40,
    "start_time": "2022-09-04T13:02:39.079Z"
   },
   {
    "duration": 25,
    "start_time": "2022-09-04T13:02:39.121Z"
   },
   {
    "duration": 9,
    "start_time": "2022-09-04T13:02:39.147Z"
   },
   {
    "duration": 134,
    "start_time": "2022-09-04T13:02:39.158Z"
   },
   {
    "duration": 0,
    "start_time": "2022-09-04T13:02:39.296Z"
   },
   {
    "duration": 0,
    "start_time": "2022-09-04T13:02:39.297Z"
   },
   {
    "duration": 0,
    "start_time": "2022-09-04T13:02:39.298Z"
   },
   {
    "duration": 0,
    "start_time": "2022-09-04T13:02:39.299Z"
   },
   {
    "duration": 0,
    "start_time": "2022-09-04T13:02:39.299Z"
   },
   {
    "duration": 0,
    "start_time": "2022-09-04T13:02:39.300Z"
   },
   {
    "duration": 0,
    "start_time": "2022-09-04T13:02:39.301Z"
   },
   {
    "duration": 0,
    "start_time": "2022-09-04T13:02:39.302Z"
   },
   {
    "duration": 0,
    "start_time": "2022-09-04T13:02:39.302Z"
   },
   {
    "duration": 0,
    "start_time": "2022-09-04T13:02:39.303Z"
   },
   {
    "duration": 0,
    "start_time": "2022-09-04T13:02:39.304Z"
   },
   {
    "duration": 0,
    "start_time": "2022-09-04T13:02:39.304Z"
   },
   {
    "duration": 0,
    "start_time": "2022-09-04T13:02:39.306Z"
   },
   {
    "duration": 0,
    "start_time": "2022-09-04T13:02:39.307Z"
   },
   {
    "duration": 0,
    "start_time": "2022-09-04T13:02:39.308Z"
   },
   {
    "duration": 0,
    "start_time": "2022-09-04T13:02:39.310Z"
   },
   {
    "duration": 0,
    "start_time": "2022-09-04T13:02:39.311Z"
   },
   {
    "duration": 0,
    "start_time": "2022-09-04T13:02:39.312Z"
   },
   {
    "duration": 0,
    "start_time": "2022-09-04T13:02:39.313Z"
   },
   {
    "duration": 0,
    "start_time": "2022-09-04T13:02:39.314Z"
   },
   {
    "duration": 0,
    "start_time": "2022-09-04T13:02:39.315Z"
   },
   {
    "duration": 0,
    "start_time": "2022-09-04T13:02:39.316Z"
   },
   {
    "duration": 1589,
    "start_time": "2022-09-04T14:13:31.357Z"
   },
   {
    "duration": 3,
    "start_time": "2022-09-04T14:13:32.948Z"
   },
   {
    "duration": 78,
    "start_time": "2022-09-04T14:13:32.952Z"
   },
   {
    "duration": 31,
    "start_time": "2022-09-04T14:13:33.032Z"
   },
   {
    "duration": 41,
    "start_time": "2022-09-04T14:13:33.064Z"
   },
   {
    "duration": 31,
    "start_time": "2022-09-04T14:13:33.107Z"
   },
   {
    "duration": 25,
    "start_time": "2022-09-04T14:13:33.139Z"
   },
   {
    "duration": 40,
    "start_time": "2022-09-04T14:13:33.166Z"
   },
   {
    "duration": 27,
    "start_time": "2022-09-04T14:13:33.208Z"
   },
   {
    "duration": 69,
    "start_time": "2022-09-04T14:13:33.238Z"
   },
   {
    "duration": 9,
    "start_time": "2022-09-04T14:13:33.308Z"
   },
   {
    "duration": 407,
    "start_time": "2022-09-04T14:13:33.319Z"
   },
   {
    "duration": 604,
    "start_time": "2022-09-04T14:13:33.728Z"
   },
   {
    "duration": 584,
    "start_time": "2022-09-04T14:13:34.333Z"
   },
   {
    "duration": 5,
    "start_time": "2022-09-04T14:13:34.918Z"
   },
   {
    "duration": 120,
    "start_time": "2022-09-04T14:13:34.924Z"
   },
   {
    "duration": 564,
    "start_time": "2022-09-04T14:13:35.045Z"
   },
   {
    "duration": 5,
    "start_time": "2022-09-04T14:13:35.611Z"
   },
   {
    "duration": 31,
    "start_time": "2022-09-04T14:13:35.618Z"
   },
   {
    "duration": 214,
    "start_time": "2022-09-04T14:13:35.650Z"
   },
   {
    "duration": 581,
    "start_time": "2022-09-04T14:13:35.866Z"
   },
   {
    "duration": 212,
    "start_time": "2022-09-04T14:13:36.449Z"
   },
   {
    "duration": 375,
    "start_time": "2022-09-04T14:13:36.664Z"
   },
   {
    "duration": 51,
    "start_time": "2022-09-04T14:13:37.040Z"
   },
   {
    "duration": 294,
    "start_time": "2022-09-04T14:13:37.093Z"
   },
   {
    "duration": 47,
    "start_time": "2022-09-04T14:13:37.388Z"
   },
   {
    "duration": 6,
    "start_time": "2022-09-04T14:13:37.436Z"
   },
   {
    "duration": 50,
    "start_time": "2022-09-04T14:13:37.446Z"
   },
   {
    "duration": 479,
    "start_time": "2022-09-04T14:13:37.498Z"
   },
   {
    "duration": 71,
    "start_time": "2022-09-04T14:13:37.978Z"
   },
   {
    "duration": 253,
    "start_time": "2022-09-04T14:13:38.050Z"
   },
   {
    "duration": 7,
    "start_time": "2022-09-04T14:13:38.304Z"
   },
   {
    "duration": 36,
    "start_time": "2022-09-04T14:13:38.312Z"
   },
   {
    "duration": 24,
    "start_time": "2022-09-04T14:13:38.350Z"
   },
   {
    "duration": 46,
    "start_time": "2022-09-04T14:13:38.375Z"
   },
   {
    "duration": 25,
    "start_time": "2022-09-04T14:13:38.423Z"
   },
   {
    "duration": 27,
    "start_time": "2022-09-04T14:13:38.449Z"
   },
   {
    "duration": 51,
    "start_time": "2022-09-04T14:13:38.478Z"
   },
   {
    "duration": 5,
    "start_time": "2022-09-04T14:13:38.530Z"
   },
   {
    "duration": 19,
    "start_time": "2022-09-04T14:13:38.537Z"
   },
   {
    "duration": 51,
    "start_time": "2022-09-04T14:13:38.558Z"
   },
   {
    "duration": 9,
    "start_time": "2022-09-04T14:13:38.611Z"
   },
   {
    "duration": 579,
    "start_time": "2022-09-04T14:13:38.622Z"
   },
   {
    "duration": 8,
    "start_time": "2022-09-04T14:13:39.203Z"
   },
   {
    "duration": 3884,
    "start_time": "2022-09-04T14:13:39.214Z"
   },
   {
    "duration": 106,
    "start_time": "2022-09-04T14:13:43.099Z"
   },
   {
    "duration": 98,
    "start_time": "2022-09-04T14:13:43.207Z"
   },
   {
    "duration": 89,
    "start_time": "2022-09-04T14:13:43.307Z"
   },
   {
    "duration": 418,
    "start_time": "2022-09-04T14:13:43.399Z"
   },
   {
    "duration": 7,
    "start_time": "2022-09-04T14:13:43.819Z"
   },
   {
    "duration": 3878,
    "start_time": "2022-09-04T14:13:43.828Z"
   },
   {
    "duration": 102,
    "start_time": "2022-09-04T14:13:47.708Z"
   },
   {
    "duration": 108,
    "start_time": "2022-09-04T14:13:47.892Z"
   },
   {
    "duration": 14,
    "start_time": "2022-09-04T14:13:48.002Z"
   },
   {
    "duration": 13,
    "start_time": "2022-09-04T14:13:48.018Z"
   },
   {
    "duration": 7,
    "start_time": "2022-09-04T14:13:48.033Z"
   },
   {
    "duration": 691,
    "start_time": "2022-09-04T14:13:48.041Z"
   },
   {
    "duration": 4,
    "start_time": "2022-09-04T14:13:48.734Z"
   },
   {
    "duration": 305,
    "start_time": "2022-09-04T14:13:48.739Z"
   },
   {
    "duration": 5,
    "start_time": "2022-09-04T14:13:49.047Z"
   },
   {
    "duration": 1514,
    "start_time": "2022-09-04T14:32:41.060Z"
   },
   {
    "duration": 3,
    "start_time": "2022-09-04T14:32:42.576Z"
   },
   {
    "duration": 95,
    "start_time": "2022-09-04T14:32:42.582Z"
   },
   {
    "duration": 53,
    "start_time": "2022-09-04T14:32:42.679Z"
   },
   {
    "duration": 40,
    "start_time": "2022-09-04T14:32:42.733Z"
   },
   {
    "duration": 37,
    "start_time": "2022-09-04T14:32:42.775Z"
   },
   {
    "duration": 25,
    "start_time": "2022-09-04T14:32:42.818Z"
   },
   {
    "duration": 33,
    "start_time": "2022-09-04T14:32:42.845Z"
   },
   {
    "duration": 39,
    "start_time": "2022-09-04T14:32:42.879Z"
   },
   {
    "duration": 51,
    "start_time": "2022-09-04T14:32:42.921Z"
   },
   {
    "duration": 20,
    "start_time": "2022-09-04T14:32:42.973Z"
   },
   {
    "duration": 368,
    "start_time": "2022-09-04T14:32:42.996Z"
   },
   {
    "duration": 568,
    "start_time": "2022-09-04T14:32:43.365Z"
   },
   {
    "duration": 705,
    "start_time": "2022-09-04T14:32:43.935Z"
   },
   {
    "duration": 5,
    "start_time": "2022-09-04T14:32:44.641Z"
   },
   {
    "duration": 127,
    "start_time": "2022-09-04T14:32:44.648Z"
   },
   {
    "duration": 531,
    "start_time": "2022-09-04T14:32:44.777Z"
   },
   {
    "duration": 5,
    "start_time": "2022-09-04T14:32:45.309Z"
   },
   {
    "duration": 5,
    "start_time": "2022-09-04T14:32:45.316Z"
   },
   {
    "duration": 230,
    "start_time": "2022-09-04T14:32:45.322Z"
   },
   {
    "duration": 547,
    "start_time": "2022-09-04T14:32:45.553Z"
   },
   {
    "duration": 208,
    "start_time": "2022-09-04T14:32:46.102Z"
   },
   {
    "duration": 425,
    "start_time": "2022-09-04T14:32:46.311Z"
   },
   {
    "duration": 55,
    "start_time": "2022-09-04T14:32:46.738Z"
   },
   {
    "duration": 286,
    "start_time": "2022-09-04T14:32:46.794Z"
   },
   {
    "duration": 50,
    "start_time": "2022-09-04T14:32:47.086Z"
   },
   {
    "duration": 9,
    "start_time": "2022-09-04T14:32:47.138Z"
   },
   {
    "duration": 49,
    "start_time": "2022-09-04T14:32:47.153Z"
   },
   {
    "duration": 486,
    "start_time": "2022-09-04T14:32:47.204Z"
   },
   {
    "duration": 63,
    "start_time": "2022-09-04T14:32:47.698Z"
   },
   {
    "duration": 296,
    "start_time": "2022-09-04T14:32:47.762Z"
   },
   {
    "duration": 7,
    "start_time": "2022-09-04T14:32:48.059Z"
   },
   {
    "duration": 42,
    "start_time": "2022-09-04T14:32:48.068Z"
   },
   {
    "duration": 17,
    "start_time": "2022-09-04T14:32:48.111Z"
   },
   {
    "duration": 23,
    "start_time": "2022-09-04T14:32:48.129Z"
   },
   {
    "duration": 26,
    "start_time": "2022-09-04T14:32:48.154Z"
   },
   {
    "duration": 33,
    "start_time": "2022-09-04T14:32:48.182Z"
   },
   {
    "duration": 44,
    "start_time": "2022-09-04T14:32:48.216Z"
   },
   {
    "duration": 5,
    "start_time": "2022-09-04T14:32:48.262Z"
   },
   {
    "duration": 45,
    "start_time": "2022-09-04T14:32:48.269Z"
   },
   {
    "duration": 30,
    "start_time": "2022-09-04T14:32:48.316Z"
   },
   {
    "duration": 20,
    "start_time": "2022-09-04T14:32:48.348Z"
   },
   {
    "duration": 589,
    "start_time": "2022-09-04T14:32:48.369Z"
   },
   {
    "duration": 9,
    "start_time": "2022-09-04T14:32:48.960Z"
   },
   {
    "duration": 7444,
    "start_time": "2022-09-04T14:32:48.971Z"
   },
   {
    "duration": 171,
    "start_time": "2022-09-04T14:32:56.417Z"
   },
   {
    "duration": 114,
    "start_time": "2022-09-04T14:32:56.593Z"
   },
   {
    "duration": 19,
    "start_time": "2022-09-04T14:32:56.709Z"
   },
   {
    "duration": 605,
    "start_time": "2022-09-04T14:32:56.730Z"
   },
   {
    "duration": 7,
    "start_time": "2022-09-04T14:32:57.337Z"
   },
   {
    "duration": 3359,
    "start_time": "2022-09-04T14:32:57.346Z"
   },
   {
    "duration": 102,
    "start_time": "2022-09-04T14:33:00.707Z"
   },
   {
    "duration": 5,
    "start_time": "2022-09-04T14:33:00.811Z"
   },
   {
    "duration": 180,
    "start_time": "2022-09-04T14:33:00.817Z"
   },
   {
    "duration": 34,
    "start_time": "2022-09-04T14:33:00.999Z"
   },
   {
    "duration": 36,
    "start_time": "2022-09-04T14:33:01.035Z"
   },
   {
    "duration": 1096,
    "start_time": "2022-09-04T14:33:01.073Z"
   },
   {
    "duration": 5,
    "start_time": "2022-09-04T14:33:02.170Z"
   },
   {
    "duration": 149,
    "start_time": "2022-09-04T14:33:02.176Z"
   },
   {
    "duration": 0,
    "start_time": "2022-09-04T14:33:02.327Z"
   },
   {
    "duration": 1519,
    "start_time": "2022-09-04T14:33:57.022Z"
   },
   {
    "duration": 3,
    "start_time": "2022-09-04T14:33:58.543Z"
   },
   {
    "duration": 82,
    "start_time": "2022-09-04T14:33:58.547Z"
   },
   {
    "duration": 30,
    "start_time": "2022-09-04T14:33:58.630Z"
   },
   {
    "duration": 43,
    "start_time": "2022-09-04T14:33:58.662Z"
   },
   {
    "duration": 32,
    "start_time": "2022-09-04T14:33:58.707Z"
   },
   {
    "duration": 27,
    "start_time": "2022-09-04T14:33:58.741Z"
   },
   {
    "duration": 44,
    "start_time": "2022-09-04T14:33:58.770Z"
   },
   {
    "duration": 26,
    "start_time": "2022-09-04T14:33:58.816Z"
   },
   {
    "duration": 59,
    "start_time": "2022-09-04T14:33:58.845Z"
   },
   {
    "duration": 10,
    "start_time": "2022-09-04T14:33:58.906Z"
   },
   {
    "duration": 360,
    "start_time": "2022-09-04T14:33:58.917Z"
   },
   {
    "duration": 543,
    "start_time": "2022-09-04T14:33:59.278Z"
   },
   {
    "duration": 604,
    "start_time": "2022-09-04T14:33:59.822Z"
   },
   {
    "duration": 4,
    "start_time": "2022-09-04T14:34:00.428Z"
   },
   {
    "duration": 120,
    "start_time": "2022-09-04T14:34:00.433Z"
   },
   {
    "duration": 542,
    "start_time": "2022-09-04T14:34:00.555Z"
   },
   {
    "duration": 5,
    "start_time": "2022-09-04T14:34:01.100Z"
   },
   {
    "duration": 14,
    "start_time": "2022-09-04T14:34:01.107Z"
   },
   {
    "duration": 210,
    "start_time": "2022-09-04T14:34:01.122Z"
   },
   {
    "duration": 543,
    "start_time": "2022-09-04T14:34:01.334Z"
   },
   {
    "duration": 191,
    "start_time": "2022-09-04T14:34:01.879Z"
   },
   {
    "duration": 365,
    "start_time": "2022-09-04T14:34:02.072Z"
   },
   {
    "duration": 60,
    "start_time": "2022-09-04T14:34:02.439Z"
   },
   {
    "duration": 305,
    "start_time": "2022-09-04T14:34:02.502Z"
   },
   {
    "duration": 39,
    "start_time": "2022-09-04T14:34:02.809Z"
   },
   {
    "duration": 6,
    "start_time": "2022-09-04T14:34:02.849Z"
   },
   {
    "duration": 24,
    "start_time": "2022-09-04T14:34:02.886Z"
   },
   {
    "duration": 489,
    "start_time": "2022-09-04T14:34:02.912Z"
   },
   {
    "duration": 60,
    "start_time": "2022-09-04T14:34:03.403Z"
   },
   {
    "duration": 278,
    "start_time": "2022-09-04T14:34:03.465Z"
   },
   {
    "duration": 7,
    "start_time": "2022-09-04T14:34:03.745Z"
   },
   {
    "duration": 20,
    "start_time": "2022-09-04T14:34:03.753Z"
   },
   {
    "duration": 4,
    "start_time": "2022-09-04T14:34:03.775Z"
   },
   {
    "duration": 29,
    "start_time": "2022-09-04T14:34:03.780Z"
   },
   {
    "duration": 19,
    "start_time": "2022-09-04T14:34:03.811Z"
   },
   {
    "duration": 15,
    "start_time": "2022-09-04T14:34:03.832Z"
   },
   {
    "duration": 54,
    "start_time": "2022-09-04T14:34:03.849Z"
   },
   {
    "duration": 4,
    "start_time": "2022-09-04T14:34:03.905Z"
   },
   {
    "duration": 6,
    "start_time": "2022-09-04T14:34:03.911Z"
   },
   {
    "duration": 18,
    "start_time": "2022-09-04T14:34:03.919Z"
   },
   {
    "duration": 3,
    "start_time": "2022-09-04T14:34:03.939Z"
   },
   {
    "duration": 513,
    "start_time": "2022-09-04T14:34:03.943Z"
   },
   {
    "duration": 12,
    "start_time": "2022-09-04T14:34:04.457Z"
   },
   {
    "duration": 23539,
    "start_time": "2022-09-04T14:34:04.471Z"
   },
   {
    "duration": 96,
    "start_time": "2022-09-04T14:34:28.012Z"
   },
   {
    "duration": 90,
    "start_time": "2022-09-04T14:34:28.110Z"
   },
   {
    "duration": 92,
    "start_time": "2022-09-04T14:34:28.202Z"
   },
   {
    "duration": 524,
    "start_time": "2022-09-04T14:34:28.296Z"
   },
   {
    "duration": 8,
    "start_time": "2022-09-04T14:34:28.821Z"
   },
   {
    "duration": 2871,
    "start_time": "2022-09-04T14:34:28.832Z"
   },
   {
    "duration": 88,
    "start_time": "2022-09-04T14:34:31.705Z"
   },
   {
    "duration": 99,
    "start_time": "2022-09-04T14:34:31.795Z"
   },
   {
    "duration": 21,
    "start_time": "2022-09-04T14:34:31.899Z"
   },
   {
    "duration": 9,
    "start_time": "2022-09-04T14:34:31.921Z"
   },
   {
    "duration": 14,
    "start_time": "2022-09-04T14:34:31.931Z"
   },
   {
    "duration": 588,
    "start_time": "2022-09-04T14:34:31.946Z"
   },
   {
    "duration": 4,
    "start_time": "2022-09-04T14:34:32.536Z"
   },
   {
    "duration": 292,
    "start_time": "2022-09-04T14:34:32.542Z"
   },
   {
    "duration": 5,
    "start_time": "2022-09-04T14:34:32.835Z"
   },
   {
    "duration": 1524,
    "start_time": "2022-09-04T14:36:34.308Z"
   },
   {
    "duration": 3,
    "start_time": "2022-09-04T14:36:35.834Z"
   },
   {
    "duration": 82,
    "start_time": "2022-09-04T14:36:35.839Z"
   },
   {
    "duration": 32,
    "start_time": "2022-09-04T14:36:35.923Z"
   },
   {
    "duration": 56,
    "start_time": "2022-09-04T14:36:35.957Z"
   },
   {
    "duration": 33,
    "start_time": "2022-09-04T14:36:36.015Z"
   },
   {
    "duration": 30,
    "start_time": "2022-09-04T14:36:36.050Z"
   },
   {
    "duration": 40,
    "start_time": "2022-09-04T14:36:36.082Z"
   },
   {
    "duration": 27,
    "start_time": "2022-09-04T14:36:36.124Z"
   },
   {
    "duration": 82,
    "start_time": "2022-09-04T14:36:36.154Z"
   },
   {
    "duration": 16,
    "start_time": "2022-09-04T14:36:36.238Z"
   },
   {
    "duration": 467,
    "start_time": "2022-09-04T14:36:36.256Z"
   },
   {
    "duration": 614,
    "start_time": "2022-09-04T14:36:36.728Z"
   },
   {
    "duration": 669,
    "start_time": "2022-09-04T14:36:37.345Z"
   },
   {
    "duration": 6,
    "start_time": "2022-09-04T14:36:38.016Z"
   },
   {
    "duration": 123,
    "start_time": "2022-09-04T14:36:38.024Z"
   },
   {
    "duration": 554,
    "start_time": "2022-09-04T14:36:38.149Z"
   },
   {
    "duration": 5,
    "start_time": "2022-09-04T14:36:38.705Z"
   },
   {
    "duration": 13,
    "start_time": "2022-09-04T14:36:38.712Z"
   },
   {
    "duration": 223,
    "start_time": "2022-09-04T14:36:38.727Z"
   },
   {
    "duration": 645,
    "start_time": "2022-09-04T14:36:38.952Z"
   },
   {
    "duration": 197,
    "start_time": "2022-09-04T14:36:39.600Z"
   },
   {
    "duration": 366,
    "start_time": "2022-09-04T14:36:39.799Z"
   },
   {
    "duration": 48,
    "start_time": "2022-09-04T14:36:40.166Z"
   },
   {
    "duration": 351,
    "start_time": "2022-09-04T14:36:40.216Z"
   },
   {
    "duration": 55,
    "start_time": "2022-09-04T14:36:40.568Z"
   },
   {
    "duration": 7,
    "start_time": "2022-09-04T14:36:40.625Z"
   },
   {
    "duration": 21,
    "start_time": "2022-09-04T14:36:40.635Z"
   },
   {
    "duration": 521,
    "start_time": "2022-09-04T14:36:40.657Z"
   },
   {
    "duration": 72,
    "start_time": "2022-09-04T14:36:41.180Z"
   },
   {
    "duration": 272,
    "start_time": "2022-09-04T14:36:41.254Z"
   },
   {
    "duration": 8,
    "start_time": "2022-09-04T14:36:41.528Z"
   },
   {
    "duration": 17,
    "start_time": "2022-09-04T14:36:41.538Z"
   },
   {
    "duration": 10,
    "start_time": "2022-09-04T14:36:41.557Z"
   },
   {
    "duration": 34,
    "start_time": "2022-09-04T14:36:41.568Z"
   },
   {
    "duration": 23,
    "start_time": "2022-09-04T14:36:41.604Z"
   },
   {
    "duration": 15,
    "start_time": "2022-09-04T14:36:41.628Z"
   },
   {
    "duration": 33,
    "start_time": "2022-09-04T14:36:41.645Z"
   },
   {
    "duration": 6,
    "start_time": "2022-09-04T14:36:41.689Z"
   },
   {
    "duration": 8,
    "start_time": "2022-09-04T14:36:41.696Z"
   },
   {
    "duration": 15,
    "start_time": "2022-09-04T14:36:41.706Z"
   },
   {
    "duration": 32,
    "start_time": "2022-09-04T14:36:41.723Z"
   },
   {
    "duration": 560,
    "start_time": "2022-09-04T14:36:41.757Z"
   },
   {
    "duration": 9,
    "start_time": "2022-09-04T14:36:42.319Z"
   },
   {
    "duration": 6470,
    "start_time": "2022-09-04T14:36:42.331Z"
   },
   {
    "duration": 105,
    "start_time": "2022-09-04T14:36:48.802Z"
   },
   {
    "duration": 12,
    "start_time": "2022-09-04T14:36:48.998Z"
   },
   {
    "duration": 14,
    "start_time": "2022-09-04T14:36:49.092Z"
   },
   {
    "duration": 467,
    "start_time": "2022-09-04T14:36:49.107Z"
   },
   {
    "duration": 8,
    "start_time": "2022-09-04T14:36:49.575Z"
   },
   {
    "duration": 3321,
    "start_time": "2022-09-04T14:36:49.585Z"
   },
   {
    "duration": 99,
    "start_time": "2022-09-04T14:36:52.908Z"
   },
   {
    "duration": 92,
    "start_time": "2022-09-04T14:36:53.099Z"
   },
   {
    "duration": 14,
    "start_time": "2022-09-04T14:36:53.196Z"
   },
   {
    "duration": 7,
    "start_time": "2022-09-04T14:36:53.211Z"
   },
   {
    "duration": 12,
    "start_time": "2022-09-04T14:36:53.220Z"
   },
   {
    "duration": 427,
    "start_time": "2022-09-04T14:36:53.233Z"
   },
   {
    "duration": 4,
    "start_time": "2022-09-04T14:36:53.661Z"
   },
   {
    "duration": 300,
    "start_time": "2022-09-04T14:36:53.666Z"
   },
   {
    "duration": 4,
    "start_time": "2022-09-04T14:36:53.967Z"
   },
   {
    "duration": 1499,
    "start_time": "2022-09-04T14:37:31.900Z"
   },
   {
    "duration": 2,
    "start_time": "2022-09-04T14:37:33.404Z"
   },
   {
    "duration": 71,
    "start_time": "2022-09-04T14:37:33.408Z"
   },
   {
    "duration": 35,
    "start_time": "2022-09-04T14:37:33.481Z"
   },
   {
    "duration": 41,
    "start_time": "2022-09-04T14:37:33.518Z"
   },
   {
    "duration": 40,
    "start_time": "2022-09-04T14:37:33.560Z"
   },
   {
    "duration": 25,
    "start_time": "2022-09-04T14:37:33.602Z"
   },
   {
    "duration": 33,
    "start_time": "2022-09-04T14:37:33.628Z"
   },
   {
    "duration": 36,
    "start_time": "2022-09-04T14:37:33.663Z"
   },
   {
    "duration": 55,
    "start_time": "2022-09-04T14:37:33.701Z"
   },
   {
    "duration": 10,
    "start_time": "2022-09-04T14:37:33.758Z"
   },
   {
    "duration": 405,
    "start_time": "2022-09-04T14:37:33.769Z"
   },
   {
    "duration": 537,
    "start_time": "2022-09-04T14:37:34.176Z"
   },
   {
    "duration": 588,
    "start_time": "2022-09-04T14:37:34.717Z"
   },
   {
    "duration": 4,
    "start_time": "2022-09-04T14:37:35.306Z"
   },
   {
    "duration": 114,
    "start_time": "2022-09-04T14:37:35.313Z"
   },
   {
    "duration": 577,
    "start_time": "2022-09-04T14:37:35.429Z"
   },
   {
    "duration": 7,
    "start_time": "2022-09-04T14:37:36.008Z"
   },
   {
    "duration": 15,
    "start_time": "2022-09-04T14:37:36.020Z"
   },
   {
    "duration": 247,
    "start_time": "2022-09-04T14:37:36.037Z"
   },
   {
    "duration": 530,
    "start_time": "2022-09-04T14:37:36.286Z"
   },
   {
    "duration": 197,
    "start_time": "2022-09-04T14:37:36.818Z"
   },
   {
    "duration": 363,
    "start_time": "2022-09-04T14:37:37.016Z"
   },
   {
    "duration": 38,
    "start_time": "2022-09-04T14:37:37.380Z"
   },
   {
    "duration": 323,
    "start_time": "2022-09-04T14:37:37.420Z"
   },
   {
    "duration": 61,
    "start_time": "2022-09-04T14:37:37.745Z"
   },
   {
    "duration": 6,
    "start_time": "2022-09-04T14:37:37.807Z"
   },
   {
    "duration": 18,
    "start_time": "2022-09-04T14:37:37.814Z"
   },
   {
    "duration": 538,
    "start_time": "2022-09-04T14:37:37.834Z"
   },
   {
    "duration": 72,
    "start_time": "2022-09-04T14:37:38.374Z"
   },
   {
    "duration": 264,
    "start_time": "2022-09-04T14:37:38.447Z"
   },
   {
    "duration": 9,
    "start_time": "2022-09-04T14:37:38.713Z"
   },
   {
    "duration": 10,
    "start_time": "2022-09-04T14:37:38.723Z"
   },
   {
    "duration": 4,
    "start_time": "2022-09-04T14:37:38.735Z"
   },
   {
    "duration": 15,
    "start_time": "2022-09-04T14:37:38.740Z"
   },
   {
    "duration": 51,
    "start_time": "2022-09-04T14:37:38.757Z"
   },
   {
    "duration": 15,
    "start_time": "2022-09-04T14:37:38.809Z"
   },
   {
    "duration": 32,
    "start_time": "2022-09-04T14:37:38.826Z"
   },
   {
    "duration": 35,
    "start_time": "2022-09-04T14:37:38.860Z"
   },
   {
    "duration": 5,
    "start_time": "2022-09-04T14:37:38.897Z"
   },
   {
    "duration": 16,
    "start_time": "2022-09-04T14:37:38.908Z"
   },
   {
    "duration": 9,
    "start_time": "2022-09-04T14:37:38.926Z"
   },
   {
    "duration": 539,
    "start_time": "2022-09-04T14:37:38.937Z"
   },
   {
    "duration": 25,
    "start_time": "2022-09-04T14:37:39.477Z"
   },
   {
    "duration": 8693,
    "start_time": "2022-09-04T14:37:39.506Z"
   },
   {
    "duration": 90,
    "start_time": "2022-09-04T14:37:48.201Z"
   },
   {
    "duration": 13,
    "start_time": "2022-09-04T14:37:48.294Z"
   },
   {
    "duration": 97,
    "start_time": "2022-09-04T14:37:48.392Z"
   },
   {
    "duration": 426,
    "start_time": "2022-09-04T14:37:48.495Z"
   },
   {
    "duration": 7,
    "start_time": "2022-09-04T14:37:48.922Z"
   },
   {
    "duration": 5274,
    "start_time": "2022-09-04T14:37:48.932Z"
   },
   {
    "duration": 100,
    "start_time": "2022-09-04T14:37:54.207Z"
   },
   {
    "duration": 6,
    "start_time": "2022-09-04T14:37:54.387Z"
   },
   {
    "duration": 99,
    "start_time": "2022-09-04T14:37:54.396Z"
   },
   {
    "duration": 11,
    "start_time": "2022-09-04T14:37:54.497Z"
   },
   {
    "duration": 6,
    "start_time": "2022-09-04T14:37:54.509Z"
   },
   {
    "duration": 545,
    "start_time": "2022-09-04T14:37:54.516Z"
   },
   {
    "duration": 4,
    "start_time": "2022-09-04T14:37:55.063Z"
   },
   {
    "duration": 317,
    "start_time": "2022-09-04T14:37:55.068Z"
   },
   {
    "duration": 11,
    "start_time": "2022-09-04T14:37:55.387Z"
   },
   {
    "duration": 5124,
    "start_time": "2022-09-04T14:48:16.402Z"
   },
   {
    "duration": 3,
    "start_time": "2022-09-04T14:48:21.528Z"
   },
   {
    "duration": 77,
    "start_time": "2022-09-04T14:48:21.532Z"
   },
   {
    "duration": 32,
    "start_time": "2022-09-04T14:48:21.611Z"
   },
   {
    "duration": 40,
    "start_time": "2022-09-04T14:48:21.645Z"
   },
   {
    "duration": 33,
    "start_time": "2022-09-04T14:48:21.686Z"
   },
   {
    "duration": 24,
    "start_time": "2022-09-04T14:48:21.721Z"
   },
   {
    "duration": 33,
    "start_time": "2022-09-04T14:48:21.746Z"
   },
   {
    "duration": 32,
    "start_time": "2022-09-04T14:48:21.781Z"
   },
   {
    "duration": 57,
    "start_time": "2022-09-04T14:48:21.816Z"
   },
   {
    "duration": 15,
    "start_time": "2022-09-04T14:48:21.886Z"
   },
   {
    "duration": 400,
    "start_time": "2022-09-04T14:48:21.903Z"
   },
   {
    "duration": 536,
    "start_time": "2022-09-04T14:48:22.305Z"
   },
   {
    "duration": 727,
    "start_time": "2022-09-04T14:48:22.842Z"
   },
   {
    "duration": 5,
    "start_time": "2022-09-04T14:48:23.570Z"
   },
   {
    "duration": 119,
    "start_time": "2022-09-04T14:48:23.589Z"
   },
   {
    "duration": 498,
    "start_time": "2022-09-04T14:48:23.710Z"
   },
   {
    "duration": 5,
    "start_time": "2022-09-04T14:48:24.210Z"
   },
   {
    "duration": 6,
    "start_time": "2022-09-04T14:48:24.216Z"
   },
   {
    "duration": 214,
    "start_time": "2022-09-04T14:48:24.224Z"
   },
   {
    "duration": 554,
    "start_time": "2022-09-04T14:48:24.439Z"
   },
   {
    "duration": 168,
    "start_time": "2022-09-04T14:48:24.995Z"
   },
   {
    "duration": 376,
    "start_time": "2022-09-04T14:48:25.165Z"
   },
   {
    "duration": 55,
    "start_time": "2022-09-04T14:48:25.542Z"
   },
   {
    "duration": 301,
    "start_time": "2022-09-04T14:48:25.598Z"
   },
   {
    "duration": 42,
    "start_time": "2022-09-04T14:48:25.901Z"
   },
   {
    "duration": 6,
    "start_time": "2022-09-04T14:48:25.944Z"
   },
   {
    "duration": 42,
    "start_time": "2022-09-04T14:48:25.954Z"
   },
   {
    "duration": 571,
    "start_time": "2022-09-04T14:48:25.998Z"
   },
   {
    "duration": 84,
    "start_time": "2022-09-04T14:48:26.571Z"
   },
   {
    "duration": 288,
    "start_time": "2022-09-04T14:48:26.657Z"
   },
   {
    "duration": 7,
    "start_time": "2022-09-04T14:48:26.946Z"
   },
   {
    "duration": 9,
    "start_time": "2022-09-04T14:48:26.955Z"
   },
   {
    "duration": 7,
    "start_time": "2022-09-04T14:48:26.965Z"
   },
   {
    "duration": 33,
    "start_time": "2022-09-04T14:48:26.973Z"
   },
   {
    "duration": 17,
    "start_time": "2022-09-04T14:48:27.008Z"
   },
   {
    "duration": 18,
    "start_time": "2022-09-04T14:48:27.026Z"
   },
   {
    "duration": 47,
    "start_time": "2022-09-04T14:48:27.046Z"
   },
   {
    "duration": 6,
    "start_time": "2022-09-04T14:48:27.098Z"
   },
   {
    "duration": 8,
    "start_time": "2022-09-04T14:48:27.107Z"
   },
   {
    "duration": 14,
    "start_time": "2022-09-04T14:48:27.116Z"
   },
   {
    "duration": 3,
    "start_time": "2022-09-04T14:48:27.131Z"
   },
   {
    "duration": 495,
    "start_time": "2022-09-04T14:48:27.136Z"
   },
   {
    "duration": 13,
    "start_time": "2022-09-04T14:48:27.633Z"
   },
   {
    "duration": 4600,
    "start_time": "2022-09-04T14:48:27.693Z"
   },
   {
    "duration": 97,
    "start_time": "2022-09-04T14:48:32.295Z"
   },
   {
    "duration": 113,
    "start_time": "2022-09-04T14:48:32.395Z"
   },
   {
    "duration": 5,
    "start_time": "2022-09-04T14:48:32.509Z"
   },
   {
    "duration": 420,
    "start_time": "2022-09-04T14:48:32.515Z"
   },
   {
    "duration": 7,
    "start_time": "2022-09-04T14:48:32.936Z"
   },
   {
    "duration": 5459,
    "start_time": "2022-09-04T14:48:32.946Z"
   },
   {
    "duration": 95,
    "start_time": "2022-09-04T14:48:38.407Z"
   },
   {
    "duration": 85,
    "start_time": "2022-09-04T14:48:38.505Z"
   },
   {
    "duration": 104,
    "start_time": "2022-09-04T14:48:38.594Z"
   },
   {
    "duration": 11,
    "start_time": "2022-09-04T14:48:38.700Z"
   },
   {
    "duration": 10,
    "start_time": "2022-09-04T14:48:38.712Z"
   },
   {
    "duration": 442,
    "start_time": "2022-09-04T14:48:38.723Z"
   },
   {
    "duration": 4,
    "start_time": "2022-09-04T14:48:39.166Z"
   },
   {
    "duration": 289,
    "start_time": "2022-09-04T14:48:39.171Z"
   },
   {
    "duration": 4,
    "start_time": "2022-09-04T14:48:39.462Z"
   },
   {
    "duration": 1592,
    "start_time": "2022-09-04T15:16:55.734Z"
   },
   {
    "duration": 3,
    "start_time": "2022-09-04T15:16:57.328Z"
   },
   {
    "duration": 80,
    "start_time": "2022-09-04T15:16:57.332Z"
   },
   {
    "duration": 29,
    "start_time": "2022-09-04T15:16:57.415Z"
   },
   {
    "duration": 43,
    "start_time": "2022-09-04T15:16:57.446Z"
   },
   {
    "duration": 37,
    "start_time": "2022-09-04T15:16:57.494Z"
   },
   {
    "duration": 27,
    "start_time": "2022-09-04T15:16:57.533Z"
   },
   {
    "duration": 45,
    "start_time": "2022-09-04T15:16:57.561Z"
   },
   {
    "duration": 38,
    "start_time": "2022-09-04T15:16:57.616Z"
   },
   {
    "duration": 67,
    "start_time": "2022-09-04T15:16:57.657Z"
   },
   {
    "duration": 9,
    "start_time": "2022-09-04T15:16:57.725Z"
   },
   {
    "duration": 455,
    "start_time": "2022-09-04T15:16:57.736Z"
   },
   {
    "duration": 544,
    "start_time": "2022-09-04T15:16:58.193Z"
   },
   {
    "duration": 681,
    "start_time": "2022-09-04T15:16:58.739Z"
   },
   {
    "duration": 4,
    "start_time": "2022-09-04T15:16:59.422Z"
   },
   {
    "duration": 120,
    "start_time": "2022-09-04T15:16:59.428Z"
   },
   {
    "duration": 605,
    "start_time": "2022-09-04T15:16:59.549Z"
   },
   {
    "duration": 6,
    "start_time": "2022-09-04T15:17:00.156Z"
   },
   {
    "duration": 4,
    "start_time": "2022-09-04T15:17:00.164Z"
   },
   {
    "duration": 247,
    "start_time": "2022-09-04T15:17:00.170Z"
   },
   {
    "duration": 553,
    "start_time": "2022-09-04T15:17:00.419Z"
   },
   {
    "duration": 189,
    "start_time": "2022-09-04T15:17:00.974Z"
   },
   {
    "duration": 388,
    "start_time": "2022-09-04T15:17:01.165Z"
   },
   {
    "duration": 69,
    "start_time": "2022-09-04T15:17:01.555Z"
   },
   {
    "duration": 328,
    "start_time": "2022-09-04T15:17:01.626Z"
   },
   {
    "duration": 65,
    "start_time": "2022-09-04T15:17:01.956Z"
   },
   {
    "duration": 10,
    "start_time": "2022-09-04T15:17:02.023Z"
   },
   {
    "duration": 23,
    "start_time": "2022-09-04T15:17:02.038Z"
   },
   {
    "duration": 542,
    "start_time": "2022-09-04T15:17:02.063Z"
   },
   {
    "duration": 61,
    "start_time": "2022-09-04T15:17:02.612Z"
   },
   {
    "duration": 275,
    "start_time": "2022-09-04T15:17:02.690Z"
   },
   {
    "duration": 7,
    "start_time": "2022-09-04T15:17:02.967Z"
   },
   {
    "duration": 18,
    "start_time": "2022-09-04T15:17:02.976Z"
   },
   {
    "duration": 14,
    "start_time": "2022-09-04T15:17:03.005Z"
   },
   {
    "duration": 16,
    "start_time": "2022-09-04T15:17:03.021Z"
   },
   {
    "duration": 18,
    "start_time": "2022-09-04T15:17:03.039Z"
   },
   {
    "duration": 14,
    "start_time": "2022-09-04T15:17:03.059Z"
   },
   {
    "duration": 56,
    "start_time": "2022-09-04T15:17:03.075Z"
   },
   {
    "duration": 1200,
    "start_time": "2022-09-04T15:17:03.133Z"
   },
   {
    "duration": 0,
    "start_time": "2022-09-04T15:17:04.335Z"
   },
   {
    "duration": 0,
    "start_time": "2022-09-04T15:17:04.336Z"
   },
   {
    "duration": 0,
    "start_time": "2022-09-04T15:17:04.337Z"
   },
   {
    "duration": 0,
    "start_time": "2022-09-04T15:17:04.339Z"
   },
   {
    "duration": 0,
    "start_time": "2022-09-04T15:17:04.340Z"
   },
   {
    "duration": 0,
    "start_time": "2022-09-04T15:17:04.341Z"
   },
   {
    "duration": 0,
    "start_time": "2022-09-04T15:17:04.342Z"
   },
   {
    "duration": 0,
    "start_time": "2022-09-04T15:17:04.343Z"
   },
   {
    "duration": 0,
    "start_time": "2022-09-04T15:17:04.344Z"
   },
   {
    "duration": 0,
    "start_time": "2022-09-04T15:17:04.346Z"
   },
   {
    "duration": 0,
    "start_time": "2022-09-04T15:17:04.347Z"
   },
   {
    "duration": 0,
    "start_time": "2022-09-04T15:17:04.348Z"
   },
   {
    "duration": 0,
    "start_time": "2022-09-04T15:17:04.349Z"
   },
   {
    "duration": 0,
    "start_time": "2022-09-04T15:17:04.350Z"
   },
   {
    "duration": 0,
    "start_time": "2022-09-04T15:17:04.351Z"
   },
   {
    "duration": 0,
    "start_time": "2022-09-04T15:17:04.352Z"
   },
   {
    "duration": 0,
    "start_time": "2022-09-04T15:17:04.353Z"
   },
   {
    "duration": 0,
    "start_time": "2022-09-04T15:17:04.354Z"
   },
   {
    "duration": 0,
    "start_time": "2022-09-04T15:17:04.356Z"
   },
   {
    "duration": 0,
    "start_time": "2022-09-04T15:17:04.357Z"
   },
   {
    "duration": 0,
    "start_time": "2022-09-04T15:17:04.358Z"
   },
   {
    "duration": 0,
    "start_time": "2022-09-04T15:17:04.359Z"
   },
   {
    "duration": 1621,
    "start_time": "2022-09-04T15:18:43.946Z"
   },
   {
    "duration": 3,
    "start_time": "2022-09-04T15:18:45.568Z"
   },
   {
    "duration": 94,
    "start_time": "2022-09-04T15:18:45.572Z"
   },
   {
    "duration": 46,
    "start_time": "2022-09-04T15:18:45.668Z"
   },
   {
    "duration": 41,
    "start_time": "2022-09-04T15:18:45.717Z"
   },
   {
    "duration": 42,
    "start_time": "2022-09-04T15:18:45.760Z"
   },
   {
    "duration": 27,
    "start_time": "2022-09-04T15:18:45.808Z"
   },
   {
    "duration": 35,
    "start_time": "2022-09-04T15:18:45.837Z"
   },
   {
    "duration": 39,
    "start_time": "2022-09-04T15:18:45.873Z"
   },
   {
    "duration": 76,
    "start_time": "2022-09-04T15:18:45.915Z"
   },
   {
    "duration": 20,
    "start_time": "2022-09-04T15:18:45.992Z"
   },
   {
    "duration": 435,
    "start_time": "2022-09-04T15:18:46.014Z"
   },
   {
    "duration": 609,
    "start_time": "2022-09-04T15:18:46.452Z"
   },
   {
    "duration": 687,
    "start_time": "2022-09-04T15:18:47.063Z"
   },
   {
    "duration": 5,
    "start_time": "2022-09-04T15:18:47.751Z"
   },
   {
    "duration": 117,
    "start_time": "2022-09-04T15:18:47.757Z"
   },
   {
    "duration": 553,
    "start_time": "2022-09-04T15:18:47.876Z"
   },
   {
    "duration": 5,
    "start_time": "2022-09-04T15:18:48.431Z"
   },
   {
    "duration": 8,
    "start_time": "2022-09-04T15:18:48.437Z"
   },
   {
    "duration": 222,
    "start_time": "2022-09-04T15:18:48.446Z"
   },
   {
    "duration": 523,
    "start_time": "2022-09-04T15:18:48.670Z"
   },
   {
    "duration": 168,
    "start_time": "2022-09-04T15:18:49.202Z"
   },
   {
    "duration": 393,
    "start_time": "2022-09-04T15:18:49.372Z"
   },
   {
    "duration": 47,
    "start_time": "2022-09-04T15:18:49.767Z"
   },
   {
    "duration": 335,
    "start_time": "2022-09-04T15:18:49.816Z"
   },
   {
    "duration": 65,
    "start_time": "2022-09-04T15:18:50.153Z"
   },
   {
    "duration": 6,
    "start_time": "2022-09-04T15:18:50.220Z"
   },
   {
    "duration": 18,
    "start_time": "2022-09-04T15:18:50.229Z"
   },
   {
    "duration": 536,
    "start_time": "2022-09-04T15:18:50.249Z"
   },
   {
    "duration": 67,
    "start_time": "2022-09-04T15:18:50.786Z"
   },
   {
    "duration": 293,
    "start_time": "2022-09-04T15:18:50.854Z"
   },
   {
    "duration": 7,
    "start_time": "2022-09-04T15:18:51.149Z"
   },
   {
    "duration": 10,
    "start_time": "2022-09-04T15:18:51.157Z"
   },
   {
    "duration": 25,
    "start_time": "2022-09-04T15:18:51.169Z"
   },
   {
    "duration": 25,
    "start_time": "2022-09-04T15:18:51.198Z"
   },
   {
    "duration": 17,
    "start_time": "2022-09-04T15:18:51.225Z"
   },
   {
    "duration": 17,
    "start_time": "2022-09-04T15:18:51.244Z"
   },
   {
    "duration": 47,
    "start_time": "2022-09-04T15:18:51.263Z"
   },
   {
    "duration": 5,
    "start_time": "2022-09-04T15:18:51.312Z"
   },
   {
    "duration": 11,
    "start_time": "2022-09-04T15:18:51.319Z"
   },
   {
    "duration": 19,
    "start_time": "2022-09-04T15:18:51.331Z"
   },
   {
    "duration": 3,
    "start_time": "2022-09-04T15:18:51.352Z"
   },
   {
    "duration": 713,
    "start_time": "2022-09-04T15:18:51.356Z"
   },
   {
    "duration": 8,
    "start_time": "2022-09-04T15:18:52.071Z"
   },
   {
    "duration": 17509,
    "start_time": "2022-09-04T15:18:52.081Z"
   },
   {
    "duration": 99,
    "start_time": "2022-09-04T15:19:09.593Z"
   },
   {
    "duration": 103,
    "start_time": "2022-09-04T15:19:09.694Z"
   },
   {
    "duration": 25,
    "start_time": "2022-09-04T15:19:09.799Z"
   },
   {
    "duration": 554,
    "start_time": "2022-09-04T15:19:09.826Z"
   },
   {
    "duration": 118,
    "start_time": "2022-09-04T15:19:10.382Z"
   },
   {
    "duration": 13097,
    "start_time": "2022-09-04T15:19:10.512Z"
   },
   {
    "duration": 107,
    "start_time": "2022-09-04T15:19:23.611Z"
   },
   {
    "duration": 66,
    "start_time": "2022-09-04T15:19:23.720Z"
   },
   {
    "duration": 98,
    "start_time": "2022-09-04T15:19:23.798Z"
   },
   {
    "duration": 24,
    "start_time": "2022-09-04T15:19:23.898Z"
   },
   {
    "duration": 8,
    "start_time": "2022-09-04T15:19:23.923Z"
   },
   {
    "duration": 580,
    "start_time": "2022-09-04T15:19:23.933Z"
   },
   {
    "duration": 4,
    "start_time": "2022-09-04T15:19:24.515Z"
   },
   {
    "duration": 305,
    "start_time": "2022-09-04T15:19:24.520Z"
   },
   {
    "duration": 5,
    "start_time": "2022-09-04T15:19:24.827Z"
   },
   {
    "duration": 1437,
    "start_time": "2022-09-04T15:25:32.011Z"
   },
   {
    "duration": 3,
    "start_time": "2022-09-04T15:25:33.449Z"
   },
   {
    "duration": 85,
    "start_time": "2022-09-04T15:25:33.453Z"
   },
   {
    "duration": 31,
    "start_time": "2022-09-04T15:25:33.539Z"
   },
   {
    "duration": 47,
    "start_time": "2022-09-04T15:25:33.572Z"
   },
   {
    "duration": 30,
    "start_time": "2022-09-04T15:25:33.621Z"
   },
   {
    "duration": 25,
    "start_time": "2022-09-04T15:25:33.652Z"
   },
   {
    "duration": 48,
    "start_time": "2022-09-04T15:25:33.678Z"
   },
   {
    "duration": 28,
    "start_time": "2022-09-04T15:25:33.727Z"
   },
   {
    "duration": 74,
    "start_time": "2022-09-04T15:25:33.757Z"
   },
   {
    "duration": 9,
    "start_time": "2022-09-04T15:25:33.833Z"
   },
   {
    "duration": 414,
    "start_time": "2022-09-04T15:25:33.844Z"
   },
   {
    "duration": 573,
    "start_time": "2022-09-04T15:25:34.260Z"
   },
   {
    "duration": 587,
    "start_time": "2022-09-04T15:25:34.836Z"
   },
   {
    "duration": 4,
    "start_time": "2022-09-04T15:25:35.424Z"
   },
   {
    "duration": 122,
    "start_time": "2022-09-04T15:25:35.429Z"
   },
   {
    "duration": 560,
    "start_time": "2022-09-04T15:25:35.552Z"
   },
   {
    "duration": 5,
    "start_time": "2022-09-04T15:25:36.116Z"
   },
   {
    "duration": 9,
    "start_time": "2022-09-04T15:25:36.122Z"
   },
   {
    "duration": 247,
    "start_time": "2022-09-04T15:25:36.132Z"
   },
   {
    "duration": 607,
    "start_time": "2022-09-04T15:25:36.381Z"
   },
   {
    "duration": 167,
    "start_time": "2022-09-04T15:25:36.989Z"
   },
   {
    "duration": 370,
    "start_time": "2022-09-04T15:25:37.157Z"
   },
   {
    "duration": 67,
    "start_time": "2022-09-04T15:25:37.528Z"
   },
   {
    "duration": 301,
    "start_time": "2022-09-04T15:25:37.597Z"
   },
   {
    "duration": 42,
    "start_time": "2022-09-04T15:25:37.901Z"
   },
   {
    "duration": 6,
    "start_time": "2022-09-04T15:25:37.945Z"
   },
   {
    "duration": 51,
    "start_time": "2022-09-04T15:25:37.952Z"
   },
   {
    "duration": 473,
    "start_time": "2022-09-04T15:25:38.004Z"
   },
   {
    "duration": 64,
    "start_time": "2022-09-04T15:25:38.479Z"
   },
   {
    "duration": 270,
    "start_time": "2022-09-04T15:25:38.545Z"
   },
   {
    "duration": 8,
    "start_time": "2022-09-04T15:25:38.818Z"
   },
   {
    "duration": 8,
    "start_time": "2022-09-04T15:25:38.827Z"
   },
   {
    "duration": 4,
    "start_time": "2022-09-04T15:25:38.836Z"
   },
   {
    "duration": 14,
    "start_time": "2022-09-04T15:25:38.841Z"
   },
   {
    "duration": 52,
    "start_time": "2022-09-04T15:25:38.856Z"
   },
   {
    "duration": 17,
    "start_time": "2022-09-04T15:25:38.910Z"
   },
   {
    "duration": 35,
    "start_time": "2022-09-04T15:25:38.928Z"
   },
   {
    "duration": 5,
    "start_time": "2022-09-04T15:25:38.964Z"
   },
   {
    "duration": 17,
    "start_time": "2022-09-04T15:25:38.970Z"
   },
   {
    "duration": 20,
    "start_time": "2022-09-04T15:25:38.998Z"
   },
   {
    "duration": 5,
    "start_time": "2022-09-04T15:25:39.019Z"
   },
   {
    "duration": 552,
    "start_time": "2022-09-04T15:25:39.026Z"
   },
   {
    "duration": 8,
    "start_time": "2022-09-04T15:25:39.580Z"
   },
   {
    "duration": 19520,
    "start_time": "2022-09-04T15:25:39.595Z"
   },
   {
    "duration": 104,
    "start_time": "2022-09-04T15:25:59.186Z"
   },
   {
    "duration": 115,
    "start_time": "2022-09-04T15:25:59.292Z"
   },
   {
    "duration": 18,
    "start_time": "2022-09-04T15:25:59.410Z"
   },
   {
    "duration": 528,
    "start_time": "2022-09-04T15:25:59.429Z"
   },
   {
    "duration": 10,
    "start_time": "2022-09-04T15:25:59.959Z"
   },
   {
    "duration": 12246,
    "start_time": "2022-09-04T15:25:59.972Z"
   },
   {
    "duration": 97,
    "start_time": "2022-09-04T15:26:12.220Z"
   },
   {
    "duration": 92,
    "start_time": "2022-09-04T15:26:12.396Z"
   },
   {
    "duration": 17,
    "start_time": "2022-09-04T15:26:12.500Z"
   },
   {
    "duration": 7,
    "start_time": "2022-09-04T15:26:12.519Z"
   },
   {
    "duration": 6,
    "start_time": "2022-09-04T15:26:12.528Z"
   },
   {
    "duration": 550,
    "start_time": "2022-09-04T15:26:12.536Z"
   },
   {
    "duration": 7,
    "start_time": "2022-09-04T15:26:13.087Z"
   },
   {
    "duration": 333,
    "start_time": "2022-09-04T15:26:13.096Z"
   },
   {
    "duration": 5,
    "start_time": "2022-09-04T15:26:13.431Z"
   },
   {
    "duration": 1540,
    "start_time": "2022-09-04T15:26:53.042Z"
   },
   {
    "duration": 6,
    "start_time": "2022-09-04T15:26:54.584Z"
   },
   {
    "duration": 97,
    "start_time": "2022-09-04T15:26:54.594Z"
   },
   {
    "duration": 41,
    "start_time": "2022-09-04T15:26:54.694Z"
   },
   {
    "duration": 40,
    "start_time": "2022-09-04T15:26:54.737Z"
   },
   {
    "duration": 52,
    "start_time": "2022-09-04T15:26:54.779Z"
   },
   {
    "duration": 24,
    "start_time": "2022-09-04T15:26:54.833Z"
   },
   {
    "duration": 43,
    "start_time": "2022-09-04T15:26:54.859Z"
   },
   {
    "duration": 30,
    "start_time": "2022-09-04T15:26:54.904Z"
   },
   {
    "duration": 62,
    "start_time": "2022-09-04T15:26:54.937Z"
   },
   {
    "duration": 15,
    "start_time": "2022-09-04T15:26:55.007Z"
   },
   {
    "duration": 396,
    "start_time": "2022-09-04T15:26:55.023Z"
   },
   {
    "duration": 530,
    "start_time": "2022-09-04T15:26:55.421Z"
   },
   {
    "duration": 715,
    "start_time": "2022-09-04T15:26:55.953Z"
   },
   {
    "duration": 6,
    "start_time": "2022-09-04T15:26:56.670Z"
   },
   {
    "duration": 144,
    "start_time": "2022-09-04T15:26:56.677Z"
   },
   {
    "duration": 571,
    "start_time": "2022-09-04T15:26:56.822Z"
   },
   {
    "duration": 9,
    "start_time": "2022-09-04T15:26:57.395Z"
   },
   {
    "duration": 24,
    "start_time": "2022-09-04T15:26:57.406Z"
   },
   {
    "duration": 252,
    "start_time": "2022-09-04T15:26:57.432Z"
   },
   {
    "duration": 509,
    "start_time": "2022-09-04T15:26:57.686Z"
   },
   {
    "duration": 168,
    "start_time": "2022-09-04T15:26:58.203Z"
   },
   {
    "duration": 366,
    "start_time": "2022-09-04T15:26:58.372Z"
   },
   {
    "duration": 69,
    "start_time": "2022-09-04T15:26:58.739Z"
   },
   {
    "duration": 302,
    "start_time": "2022-09-04T15:26:58.812Z"
   },
   {
    "duration": 38,
    "start_time": "2022-09-04T15:26:59.116Z"
   },
   {
    "duration": 6,
    "start_time": "2022-09-04T15:26:59.156Z"
   },
   {
    "duration": 28,
    "start_time": "2022-09-04T15:26:59.190Z"
   },
   {
    "duration": 514,
    "start_time": "2022-09-04T15:26:59.222Z"
   },
   {
    "duration": 84,
    "start_time": "2022-09-04T15:26:59.737Z"
   },
   {
    "duration": 296,
    "start_time": "2022-09-04T15:26:59.823Z"
   },
   {
    "duration": 8,
    "start_time": "2022-09-04T15:27:00.121Z"
   },
   {
    "duration": 12,
    "start_time": "2022-09-04T15:27:00.130Z"
   },
   {
    "duration": 4,
    "start_time": "2022-09-04T15:27:00.143Z"
   },
   {
    "duration": 17,
    "start_time": "2022-09-04T15:27:00.148Z"
   },
   {
    "duration": 52,
    "start_time": "2022-09-04T15:27:00.166Z"
   },
   {
    "duration": 24,
    "start_time": "2022-09-04T15:27:00.219Z"
   },
   {
    "duration": 31,
    "start_time": "2022-09-04T15:27:00.244Z"
   },
   {
    "duration": 5,
    "start_time": "2022-09-04T15:27:00.276Z"
   },
   {
    "duration": 33,
    "start_time": "2022-09-04T15:27:00.288Z"
   },
   {
    "duration": 17,
    "start_time": "2022-09-04T15:27:00.323Z"
   },
   {
    "duration": 5,
    "start_time": "2022-09-04T15:27:00.341Z"
   },
   {
    "duration": 623,
    "start_time": "2022-09-04T15:27:00.348Z"
   },
   {
    "duration": 7,
    "start_time": "2022-09-04T15:27:00.973Z"
   },
   {
    "duration": 13422,
    "start_time": "2022-09-04T15:27:00.983Z"
   },
   {
    "duration": 188,
    "start_time": "2022-09-04T15:27:14.407Z"
   },
   {
    "duration": 96,
    "start_time": "2022-09-04T15:27:14.600Z"
   },
   {
    "duration": 20,
    "start_time": "2022-09-04T15:27:14.699Z"
   },
   {
    "duration": 532,
    "start_time": "2022-09-04T15:27:14.721Z"
   },
   {
    "duration": 8,
    "start_time": "2022-09-04T15:27:15.255Z"
   },
   {
    "duration": 7726,
    "start_time": "2022-09-04T15:27:15.265Z"
   },
   {
    "duration": 99,
    "start_time": "2022-09-04T15:27:22.993Z"
   },
   {
    "duration": 114,
    "start_time": "2022-09-04T15:27:23.098Z"
   },
   {
    "duration": 21,
    "start_time": "2022-09-04T15:27:23.213Z"
   },
   {
    "duration": 7,
    "start_time": "2022-09-04T15:27:23.236Z"
   },
   {
    "duration": 52,
    "start_time": "2022-09-04T15:27:23.245Z"
   },
   {
    "duration": 637,
    "start_time": "2022-09-04T15:27:23.305Z"
   },
   {
    "duration": 5,
    "start_time": "2022-09-04T15:27:23.944Z"
   },
   {
    "duration": 367,
    "start_time": "2022-09-04T15:27:23.950Z"
   },
   {
    "duration": 6,
    "start_time": "2022-09-04T15:27:24.319Z"
   },
   {
    "duration": 1645,
    "start_time": "2022-09-04T15:31:22.007Z"
   },
   {
    "duration": 2,
    "start_time": "2022-09-04T15:31:23.654Z"
   },
   {
    "duration": 110,
    "start_time": "2022-09-04T15:31:23.658Z"
   },
   {
    "duration": 37,
    "start_time": "2022-09-04T15:31:23.770Z"
   },
   {
    "duration": 49,
    "start_time": "2022-09-04T15:31:23.809Z"
   },
   {
    "duration": 41,
    "start_time": "2022-09-04T15:31:23.859Z"
   },
   {
    "duration": 29,
    "start_time": "2022-09-04T15:31:23.905Z"
   },
   {
    "duration": 35,
    "start_time": "2022-09-04T15:31:23.936Z"
   },
   {
    "duration": 42,
    "start_time": "2022-09-04T15:31:23.972Z"
   },
   {
    "duration": 81,
    "start_time": "2022-09-04T15:31:24.016Z"
   },
   {
    "duration": 16,
    "start_time": "2022-09-04T15:31:24.098Z"
   },
   {
    "duration": 417,
    "start_time": "2022-09-04T15:31:24.116Z"
   },
   {
    "duration": 643,
    "start_time": "2022-09-04T15:31:24.535Z"
   },
   {
    "duration": 680,
    "start_time": "2022-09-04T15:31:25.188Z"
   },
   {
    "duration": 5,
    "start_time": "2022-09-04T15:31:25.870Z"
   },
   {
    "duration": 130,
    "start_time": "2022-09-04T15:31:25.876Z"
   },
   {
    "duration": 603,
    "start_time": "2022-09-04T15:31:26.008Z"
   },
   {
    "duration": 5,
    "start_time": "2022-09-04T15:31:26.620Z"
   },
   {
    "duration": 11,
    "start_time": "2022-09-04T15:31:26.626Z"
   },
   {
    "duration": 240,
    "start_time": "2022-09-04T15:31:26.638Z"
   },
   {
    "duration": 494,
    "start_time": "2022-09-04T15:31:26.880Z"
   },
   {
    "duration": 194,
    "start_time": "2022-09-04T15:31:27.375Z"
   },
   {
    "duration": 360,
    "start_time": "2022-09-04T15:31:27.590Z"
   },
   {
    "duration": 63,
    "start_time": "2022-09-04T15:31:27.952Z"
   },
   {
    "duration": 309,
    "start_time": "2022-09-04T15:31:28.017Z"
   },
   {
    "duration": 65,
    "start_time": "2022-09-04T15:31:28.328Z"
   },
   {
    "duration": 15,
    "start_time": "2022-09-04T15:31:28.401Z"
   },
   {
    "duration": 15,
    "start_time": "2022-09-04T15:31:28.418Z"
   },
   {
    "duration": 561,
    "start_time": "2022-09-04T15:31:28.434Z"
   },
   {
    "duration": 66,
    "start_time": "2022-09-04T15:31:28.997Z"
   },
   {
    "duration": 281,
    "start_time": "2022-09-04T15:31:29.065Z"
   },
   {
    "duration": 9,
    "start_time": "2022-09-04T15:31:29.348Z"
   },
   {
    "duration": 25,
    "start_time": "2022-09-04T15:31:29.358Z"
   },
   {
    "duration": 7,
    "start_time": "2022-09-04T15:31:29.385Z"
   },
   {
    "duration": 35,
    "start_time": "2022-09-04T15:31:29.399Z"
   },
   {
    "duration": 17,
    "start_time": "2022-09-04T15:31:29.436Z"
   },
   {
    "duration": 14,
    "start_time": "2022-09-04T15:31:29.455Z"
   },
   {
    "duration": 44,
    "start_time": "2022-09-04T15:31:29.471Z"
   },
   {
    "duration": 4,
    "start_time": "2022-09-04T15:31:29.517Z"
   },
   {
    "duration": 9,
    "start_time": "2022-09-04T15:31:29.523Z"
   },
   {
    "duration": 19,
    "start_time": "2022-09-04T15:31:29.535Z"
   },
   {
    "duration": 3,
    "start_time": "2022-09-04T15:31:29.555Z"
   },
   {
    "duration": 524,
    "start_time": "2022-09-04T15:31:29.560Z"
   },
   {
    "duration": 18,
    "start_time": "2022-09-04T15:31:30.087Z"
   },
   {
    "duration": 56521,
    "start_time": "2022-09-04T15:31:30.107Z"
   },
   {
    "duration": 157,
    "start_time": "2022-09-04T15:32:26.630Z"
   },
   {
    "duration": 112,
    "start_time": "2022-09-04T15:32:26.789Z"
   },
   {
    "duration": 14,
    "start_time": "2022-09-04T15:32:26.907Z"
   },
   {
    "duration": 542,
    "start_time": "2022-09-04T15:32:26.923Z"
   },
   {
    "duration": 7,
    "start_time": "2022-09-04T15:32:27.467Z"
   },
   {
    "duration": 6530,
    "start_time": "2022-09-04T15:32:27.476Z"
   },
   {
    "duration": 188,
    "start_time": "2022-09-04T15:32:34.008Z"
   },
   {
    "duration": 13,
    "start_time": "2022-09-04T15:32:34.205Z"
   },
   {
    "duration": 103,
    "start_time": "2022-09-04T15:32:34.222Z"
   },
   {
    "duration": 7,
    "start_time": "2022-09-04T15:32:34.327Z"
   },
   {
    "duration": 6,
    "start_time": "2022-09-04T15:32:34.335Z"
   },
   {
    "duration": 535,
    "start_time": "2022-09-04T15:32:34.342Z"
   },
   {
    "duration": 3,
    "start_time": "2022-09-04T15:32:34.878Z"
   },
   {
    "duration": 330,
    "start_time": "2022-09-04T15:32:34.883Z"
   },
   {
    "duration": 5,
    "start_time": "2022-09-04T15:32:35.215Z"
   },
   {
    "duration": 1353,
    "start_time": "2022-09-04T15:34:01.413Z"
   },
   {
    "duration": 0,
    "start_time": "2022-09-04T15:34:02.769Z"
   },
   {
    "duration": 0,
    "start_time": "2022-09-04T15:34:02.771Z"
   },
   {
    "duration": 0,
    "start_time": "2022-09-04T15:34:02.771Z"
   },
   {
    "duration": 0,
    "start_time": "2022-09-04T15:34:02.772Z"
   },
   {
    "duration": 0,
    "start_time": "2022-09-04T15:34:02.773Z"
   },
   {
    "duration": 0,
    "start_time": "2022-09-04T15:34:02.774Z"
   },
   {
    "duration": 0,
    "start_time": "2022-09-04T15:34:02.775Z"
   },
   {
    "duration": 0,
    "start_time": "2022-09-04T15:34:02.776Z"
   },
   {
    "duration": 0,
    "start_time": "2022-09-04T15:34:02.777Z"
   },
   {
    "duration": 0,
    "start_time": "2022-09-04T15:34:02.778Z"
   },
   {
    "duration": 0,
    "start_time": "2022-09-04T15:34:02.796Z"
   },
   {
    "duration": 0,
    "start_time": "2022-09-04T15:34:02.797Z"
   },
   {
    "duration": 0,
    "start_time": "2022-09-04T15:34:02.800Z"
   },
   {
    "duration": 0,
    "start_time": "2022-09-04T15:34:02.801Z"
   },
   {
    "duration": 0,
    "start_time": "2022-09-04T15:34:02.803Z"
   },
   {
    "duration": 0,
    "start_time": "2022-09-04T15:34:02.804Z"
   },
   {
    "duration": 0,
    "start_time": "2022-09-04T15:34:02.805Z"
   },
   {
    "duration": 0,
    "start_time": "2022-09-04T15:34:02.807Z"
   },
   {
    "duration": 0,
    "start_time": "2022-09-04T15:34:02.808Z"
   },
   {
    "duration": 0,
    "start_time": "2022-09-04T15:34:02.809Z"
   },
   {
    "duration": 0,
    "start_time": "2022-09-04T15:34:02.811Z"
   },
   {
    "duration": 0,
    "start_time": "2022-09-04T15:34:02.812Z"
   },
   {
    "duration": 0,
    "start_time": "2022-09-04T15:34:02.814Z"
   },
   {
    "duration": 0,
    "start_time": "2022-09-04T15:34:02.815Z"
   },
   {
    "duration": 0,
    "start_time": "2022-09-04T15:34:02.816Z"
   },
   {
    "duration": 0,
    "start_time": "2022-09-04T15:34:02.818Z"
   },
   {
    "duration": 0,
    "start_time": "2022-09-04T15:34:02.819Z"
   },
   {
    "duration": 0,
    "start_time": "2022-09-04T15:34:02.821Z"
   },
   {
    "duration": 0,
    "start_time": "2022-09-04T15:34:02.822Z"
   },
   {
    "duration": 0,
    "start_time": "2022-09-04T15:34:02.823Z"
   },
   {
    "duration": 0,
    "start_time": "2022-09-04T15:34:02.825Z"
   },
   {
    "duration": 1,
    "start_time": "2022-09-04T15:34:02.826Z"
   },
   {
    "duration": 0,
    "start_time": "2022-09-04T15:34:02.828Z"
   },
   {
    "duration": 0,
    "start_time": "2022-09-04T15:34:02.830Z"
   },
   {
    "duration": 0,
    "start_time": "2022-09-04T15:34:02.831Z"
   },
   {
    "duration": 0,
    "start_time": "2022-09-04T15:34:02.833Z"
   },
   {
    "duration": 0,
    "start_time": "2022-09-04T15:34:02.834Z"
   },
   {
    "duration": 0,
    "start_time": "2022-09-04T15:34:02.836Z"
   },
   {
    "duration": 0,
    "start_time": "2022-09-04T15:34:02.837Z"
   },
   {
    "duration": 0,
    "start_time": "2022-09-04T15:34:02.839Z"
   },
   {
    "duration": 0,
    "start_time": "2022-09-04T15:34:02.841Z"
   },
   {
    "duration": 0,
    "start_time": "2022-09-04T15:34:02.888Z"
   },
   {
    "duration": 0,
    "start_time": "2022-09-04T15:34:02.889Z"
   },
   {
    "duration": 0,
    "start_time": "2022-09-04T15:34:02.890Z"
   },
   {
    "duration": 0,
    "start_time": "2022-09-04T15:34:02.894Z"
   },
   {
    "duration": 0,
    "start_time": "2022-09-04T15:34:02.895Z"
   },
   {
    "duration": 0,
    "start_time": "2022-09-04T15:34:02.896Z"
   },
   {
    "duration": 0,
    "start_time": "2022-09-04T15:34:02.897Z"
   },
   {
    "duration": 0,
    "start_time": "2022-09-04T15:34:02.899Z"
   },
   {
    "duration": 0,
    "start_time": "2022-09-04T15:34:02.900Z"
   },
   {
    "duration": 0,
    "start_time": "2022-09-04T15:34:02.907Z"
   },
   {
    "duration": 0,
    "start_time": "2022-09-04T15:34:02.908Z"
   },
   {
    "duration": 0,
    "start_time": "2022-09-04T15:34:02.910Z"
   },
   {
    "duration": 0,
    "start_time": "2022-09-04T15:34:02.911Z"
   },
   {
    "duration": 0,
    "start_time": "2022-09-04T15:34:02.912Z"
   },
   {
    "duration": 0,
    "start_time": "2022-09-04T15:34:02.916Z"
   },
   {
    "duration": 0,
    "start_time": "2022-09-04T15:34:02.917Z"
   },
   {
    "duration": 0,
    "start_time": "2022-09-04T15:34:02.918Z"
   },
   {
    "duration": 0,
    "start_time": "2022-09-04T15:34:02.919Z"
   },
   {
    "duration": 1513,
    "start_time": "2022-09-04T15:34:44.415Z"
   },
   {
    "duration": 2,
    "start_time": "2022-09-04T15:34:45.930Z"
   },
   {
    "duration": 90,
    "start_time": "2022-09-04T15:34:45.934Z"
   },
   {
    "duration": 37,
    "start_time": "2022-09-04T15:34:46.026Z"
   },
   {
    "duration": 63,
    "start_time": "2022-09-04T15:34:46.066Z"
   },
   {
    "duration": 31,
    "start_time": "2022-09-04T15:34:46.130Z"
   },
   {
    "duration": 29,
    "start_time": "2022-09-04T15:34:46.162Z"
   },
   {
    "duration": 55,
    "start_time": "2022-09-04T15:34:46.197Z"
   },
   {
    "duration": 38,
    "start_time": "2022-09-04T15:34:46.254Z"
   },
   {
    "duration": 74,
    "start_time": "2022-09-04T15:34:46.294Z"
   },
   {
    "duration": 16,
    "start_time": "2022-09-04T15:34:46.386Z"
   },
   {
    "duration": 423,
    "start_time": "2022-09-04T15:34:46.405Z"
   },
   {
    "duration": 610,
    "start_time": "2022-09-04T15:34:46.829Z"
   },
   {
    "duration": 692,
    "start_time": "2022-09-04T15:34:47.441Z"
   },
   {
    "duration": 5,
    "start_time": "2022-09-04T15:34:48.135Z"
   },
   {
    "duration": 142,
    "start_time": "2022-09-04T15:34:48.141Z"
   },
   {
    "duration": 535,
    "start_time": "2022-09-04T15:34:48.285Z"
   },
   {
    "duration": 4,
    "start_time": "2022-09-04T15:34:48.822Z"
   },
   {
    "duration": 4,
    "start_time": "2022-09-04T15:34:48.828Z"
   },
   {
    "duration": 223,
    "start_time": "2022-09-04T15:34:48.833Z"
   },
   {
    "duration": 539,
    "start_time": "2022-09-04T15:34:49.058Z"
   },
   {
    "duration": 158,
    "start_time": "2022-09-04T15:34:49.605Z"
   },
   {
    "duration": 378,
    "start_time": "2022-09-04T15:34:49.765Z"
   },
   {
    "duration": 53,
    "start_time": "2022-09-04T15:34:50.144Z"
   },
   {
    "duration": 314,
    "start_time": "2022-09-04T15:34:50.199Z"
   },
   {
    "duration": 55,
    "start_time": "2022-09-04T15:34:50.515Z"
   },
   {
    "duration": 26,
    "start_time": "2022-09-04T15:34:50.571Z"
   },
   {
    "duration": 28,
    "start_time": "2022-09-04T15:34:50.601Z"
   },
   {
    "duration": 446,
    "start_time": "2022-09-04T15:34:50.631Z"
   },
   {
    "duration": 84,
    "start_time": "2022-09-04T15:34:51.079Z"
   },
   {
    "duration": 288,
    "start_time": "2022-09-04T15:34:51.165Z"
   },
   {
    "duration": 7,
    "start_time": "2022-09-04T15:34:51.455Z"
   },
   {
    "duration": 14,
    "start_time": "2022-09-04T15:34:51.463Z"
   },
   {
    "duration": 21,
    "start_time": "2022-09-04T15:34:51.478Z"
   },
   {
    "duration": 21,
    "start_time": "2022-09-04T15:34:51.507Z"
   },
   {
    "duration": 22,
    "start_time": "2022-09-04T15:34:51.530Z"
   },
   {
    "duration": 17,
    "start_time": "2022-09-04T15:34:51.554Z"
   },
   {
    "duration": 45,
    "start_time": "2022-09-04T15:34:51.572Z"
   },
   {
    "duration": 9,
    "start_time": "2022-09-04T15:34:51.618Z"
   },
   {
    "duration": 10,
    "start_time": "2022-09-04T15:34:51.628Z"
   },
   {
    "duration": 15,
    "start_time": "2022-09-04T15:34:51.642Z"
   },
   {
    "duration": 3,
    "start_time": "2022-09-04T15:34:51.658Z"
   },
   {
    "duration": 773,
    "start_time": "2022-09-04T15:34:51.662Z"
   },
   {
    "duration": 8,
    "start_time": "2022-09-04T15:34:52.436Z"
   },
   {
    "duration": 16671,
    "start_time": "2022-09-04T15:34:52.446Z"
   },
   {
    "duration": 69,
    "start_time": "2022-09-04T15:35:09.119Z"
   },
   {
    "duration": 102,
    "start_time": "2022-09-04T15:35:09.190Z"
   },
   {
    "duration": 23,
    "start_time": "2022-09-04T15:35:09.294Z"
   },
   {
    "duration": 1099,
    "start_time": "2022-09-04T15:35:09.319Z"
   },
   {
    "duration": 8,
    "start_time": "2022-09-04T15:35:10.420Z"
   },
   {
    "duration": 20374,
    "start_time": "2022-09-04T15:35:10.430Z"
   },
   {
    "duration": 91,
    "start_time": "2022-09-04T15:35:30.813Z"
   },
   {
    "duration": 119,
    "start_time": "2022-09-04T15:35:30.908Z"
   },
   {
    "duration": 17,
    "start_time": "2022-09-04T15:35:31.029Z"
   },
   {
    "duration": 11,
    "start_time": "2022-09-04T15:35:31.048Z"
   },
   {
    "duration": 32,
    "start_time": "2022-09-04T15:35:31.087Z"
   },
   {
    "duration": 525,
    "start_time": "2022-09-04T15:35:31.121Z"
   },
   {
    "duration": 4,
    "start_time": "2022-09-04T15:35:31.648Z"
   },
   {
    "duration": 319,
    "start_time": "2022-09-04T15:35:31.653Z"
   },
   {
    "duration": 4,
    "start_time": "2022-09-04T15:35:31.974Z"
   },
   {
    "duration": 1591,
    "start_time": "2022-09-04T15:42:45.833Z"
   },
   {
    "duration": 3,
    "start_time": "2022-09-04T15:42:47.426Z"
   },
   {
    "duration": 75,
    "start_time": "2022-09-04T15:42:47.430Z"
   },
   {
    "duration": 40,
    "start_time": "2022-09-04T15:42:47.507Z"
   },
   {
    "duration": 44,
    "start_time": "2022-09-04T15:42:47.548Z"
   },
   {
    "duration": 32,
    "start_time": "2022-09-04T15:42:47.605Z"
   },
   {
    "duration": 25,
    "start_time": "2022-09-04T15:42:47.639Z"
   },
   {
    "duration": 46,
    "start_time": "2022-09-04T15:42:47.666Z"
   },
   {
    "duration": 28,
    "start_time": "2022-09-04T15:42:47.714Z"
   },
   {
    "duration": 68,
    "start_time": "2022-09-04T15:42:47.744Z"
   },
   {
    "duration": 11,
    "start_time": "2022-09-04T15:42:47.814Z"
   },
   {
    "duration": 439,
    "start_time": "2022-09-04T15:42:47.827Z"
   },
   {
    "duration": 572,
    "start_time": "2022-09-04T15:42:48.268Z"
   },
   {
    "duration": 667,
    "start_time": "2022-09-04T15:42:48.842Z"
   },
   {
    "duration": 5,
    "start_time": "2022-09-04T15:42:49.510Z"
   },
   {
    "duration": 113,
    "start_time": "2022-09-04T15:42:49.517Z"
   },
   {
    "duration": 604,
    "start_time": "2022-09-04T15:42:49.631Z"
   },
   {
    "duration": 4,
    "start_time": "2022-09-04T15:42:50.237Z"
   },
   {
    "duration": 5,
    "start_time": "2022-09-04T15:42:50.243Z"
   },
   {
    "duration": 220,
    "start_time": "2022-09-04T15:42:50.250Z"
   },
   {
    "duration": 508,
    "start_time": "2022-09-04T15:42:50.471Z"
   },
   {
    "duration": 163,
    "start_time": "2022-09-04T15:42:50.995Z"
   },
   {
    "duration": 379,
    "start_time": "2022-09-04T15:42:51.160Z"
   },
   {
    "duration": 54,
    "start_time": "2022-09-04T15:42:51.541Z"
   },
   {
    "duration": 322,
    "start_time": "2022-09-04T15:42:51.597Z"
   },
   {
    "duration": 41,
    "start_time": "2022-09-04T15:42:51.920Z"
   },
   {
    "duration": 32,
    "start_time": "2022-09-04T15:42:51.962Z"
   },
   {
    "duration": 38,
    "start_time": "2022-09-04T15:42:51.998Z"
   },
   {
    "duration": 475,
    "start_time": "2022-09-04T15:42:52.038Z"
   },
   {
    "duration": 77,
    "start_time": "2022-09-04T15:42:52.515Z"
   },
   {
    "duration": 282,
    "start_time": "2022-09-04T15:42:52.593Z"
   },
   {
    "duration": 14,
    "start_time": "2022-09-04T15:42:52.876Z"
   },
   {
    "duration": 22,
    "start_time": "2022-09-04T15:42:52.892Z"
   },
   {
    "duration": 5,
    "start_time": "2022-09-04T15:42:52.917Z"
   },
   {
    "duration": 19,
    "start_time": "2022-09-04T15:42:52.923Z"
   },
   {
    "duration": 19,
    "start_time": "2022-09-04T15:42:52.944Z"
   },
   {
    "duration": 28,
    "start_time": "2022-09-04T15:42:52.965Z"
   },
   {
    "duration": 36,
    "start_time": "2022-09-04T15:42:53.005Z"
   },
   {
    "duration": 5,
    "start_time": "2022-09-04T15:42:53.042Z"
   },
   {
    "duration": 7,
    "start_time": "2022-09-04T15:42:53.049Z"
   },
   {
    "duration": 19,
    "start_time": "2022-09-04T15:42:53.057Z"
   },
   {
    "duration": 10,
    "start_time": "2022-09-04T15:42:53.077Z"
   },
   {
    "duration": 609,
    "start_time": "2022-09-04T15:42:53.090Z"
   },
   {
    "duration": 86,
    "start_time": "2022-09-04T15:42:53.701Z"
   },
   {
    "duration": 13933,
    "start_time": "2022-09-04T15:42:53.790Z"
   },
   {
    "duration": 99,
    "start_time": "2022-09-04T15:43:07.724Z"
   },
   {
    "duration": 108,
    "start_time": "2022-09-04T15:43:07.887Z"
   },
   {
    "duration": 22,
    "start_time": "2022-09-04T15:43:07.997Z"
   },
   {
    "duration": 649,
    "start_time": "2022-09-04T15:43:08.020Z"
   },
   {
    "duration": 7,
    "start_time": "2022-09-04T15:43:08.671Z"
   },
   {
    "duration": 17114,
    "start_time": "2022-09-04T15:43:08.680Z"
   },
   {
    "duration": 98,
    "start_time": "2022-09-04T15:43:25.800Z"
   },
   {
    "duration": 111,
    "start_time": "2022-09-04T15:43:25.912Z"
   },
   {
    "duration": 14,
    "start_time": "2022-09-04T15:43:26.025Z"
   },
   {
    "duration": 9,
    "start_time": "2022-09-04T15:43:26.041Z"
   },
   {
    "duration": 10,
    "start_time": "2022-09-04T15:43:26.051Z"
   },
   {
    "duration": 574,
    "start_time": "2022-09-04T15:43:26.063Z"
   },
   {
    "duration": 4,
    "start_time": "2022-09-04T15:43:26.639Z"
   },
   {
    "duration": 310,
    "start_time": "2022-09-04T15:43:26.645Z"
   },
   {
    "duration": 6,
    "start_time": "2022-09-04T15:43:26.958Z"
   },
   {
    "duration": 87,
    "start_time": "2022-09-04T16:23:23.003Z"
   },
   {
    "duration": 1691,
    "start_time": "2022-09-05T08:34:37.984Z"
   },
   {
    "duration": 3,
    "start_time": "2022-09-05T08:34:39.677Z"
   },
   {
    "duration": 118,
    "start_time": "2022-09-05T08:34:39.681Z"
   },
   {
    "duration": 76,
    "start_time": "2022-09-05T08:34:39.801Z"
   },
   {
    "duration": 73,
    "start_time": "2022-09-05T08:34:39.880Z"
   },
   {
    "duration": 60,
    "start_time": "2022-09-05T08:34:39.955Z"
   },
   {
    "duration": 79,
    "start_time": "2022-09-05T08:34:40.018Z"
   },
   {
    "duration": 78,
    "start_time": "2022-09-05T08:34:40.099Z"
   },
   {
    "duration": 66,
    "start_time": "2022-09-05T08:34:40.179Z"
   },
   {
    "duration": 67,
    "start_time": "2022-09-05T08:34:40.247Z"
   },
   {
    "duration": 11,
    "start_time": "2022-09-05T08:34:40.316Z"
   },
   {
    "duration": 463,
    "start_time": "2022-09-05T08:34:40.329Z"
   },
   {
    "duration": 615,
    "start_time": "2022-09-05T08:34:40.794Z"
   },
   {
    "duration": 623,
    "start_time": "2022-09-05T08:34:41.413Z"
   },
   {
    "duration": 5,
    "start_time": "2022-09-05T08:34:42.038Z"
   },
   {
    "duration": 132,
    "start_time": "2022-09-05T08:34:42.044Z"
   },
   {
    "duration": 578,
    "start_time": "2022-09-05T08:34:42.178Z"
   },
   {
    "duration": 6,
    "start_time": "2022-09-05T08:34:42.758Z"
   },
   {
    "duration": 7,
    "start_time": "2022-09-05T08:34:42.766Z"
   },
   {
    "duration": 258,
    "start_time": "2022-09-05T08:34:42.785Z"
   },
   {
    "duration": 532,
    "start_time": "2022-09-05T08:34:43.044Z"
   },
   {
    "duration": 177,
    "start_time": "2022-09-05T08:34:43.578Z"
   },
   {
    "duration": 342,
    "start_time": "2022-09-05T08:34:43.757Z"
   },
   {
    "duration": 42,
    "start_time": "2022-09-05T08:34:44.100Z"
   },
   {
    "duration": 351,
    "start_time": "2022-09-05T08:34:44.144Z"
   },
   {
    "duration": 55,
    "start_time": "2022-09-05T08:34:44.497Z"
   },
   {
    "duration": 8,
    "start_time": "2022-09-05T08:34:44.586Z"
   },
   {
    "duration": 54,
    "start_time": "2022-09-05T08:34:44.596Z"
   },
   {
    "duration": 497,
    "start_time": "2022-09-05T08:34:44.652Z"
   },
   {
    "duration": 91,
    "start_time": "2022-09-05T08:34:45.151Z"
   },
   {
    "duration": 262,
    "start_time": "2022-09-05T08:34:45.244Z"
   },
   {
    "duration": 8,
    "start_time": "2022-09-05T08:34:45.508Z"
   },
   {
    "duration": 25,
    "start_time": "2022-09-05T08:34:45.518Z"
   },
   {
    "duration": 5,
    "start_time": "2022-09-05T08:34:45.545Z"
   },
   {
    "duration": 22,
    "start_time": "2022-09-05T08:34:45.551Z"
   },
   {
    "duration": 25,
    "start_time": "2022-09-05T08:34:45.575Z"
   },
   {
    "duration": 17,
    "start_time": "2022-09-05T08:34:45.602Z"
   },
   {
    "duration": 37,
    "start_time": "2022-09-05T08:34:45.621Z"
   },
   {
    "duration": 27,
    "start_time": "2022-09-05T08:34:45.660Z"
   },
   {
    "duration": 4,
    "start_time": "2022-09-05T08:34:45.689Z"
   },
   {
    "duration": 26,
    "start_time": "2022-09-05T08:34:45.697Z"
   },
   {
    "duration": 3,
    "start_time": "2022-09-05T08:34:45.725Z"
   },
   {
    "duration": 863,
    "start_time": "2022-09-05T08:34:45.729Z"
   },
   {
    "duration": 90,
    "start_time": "2022-09-05T08:34:46.595Z"
   },
   {
    "duration": 135234,
    "start_time": "2022-09-05T08:34:46.687Z"
   },
   {
    "duration": 277,
    "start_time": "2022-09-05T08:37:01.922Z"
   },
   {
    "duration": 10,
    "start_time": "2022-09-05T08:37:02.200Z"
   },
   {
    "duration": 19,
    "start_time": "2022-09-05T08:37:02.211Z"
   },
   {
    "duration": 679,
    "start_time": "2022-09-05T08:37:02.231Z"
   },
   {
    "duration": 16,
    "start_time": "2022-09-05T08:37:02.915Z"
   },
   {
    "duration": 110180,
    "start_time": "2022-09-05T08:37:02.933Z"
   },
   {
    "duration": 100,
    "start_time": "2022-09-05T08:38:53.114Z"
   },
   {
    "duration": 6,
    "start_time": "2022-09-05T08:38:53.287Z"
   },
   {
    "duration": 113,
    "start_time": "2022-09-05T08:38:53.295Z"
   },
   {
    "duration": 5,
    "start_time": "2022-09-05T08:38:53.410Z"
   },
   {
    "duration": 6,
    "start_time": "2022-09-05T08:38:53.417Z"
   },
   {
    "duration": 453,
    "start_time": "2022-09-05T08:38:53.425Z"
   },
   {
    "duration": 4,
    "start_time": "2022-09-05T08:38:53.879Z"
   },
   {
    "duration": 322,
    "start_time": "2022-09-05T08:38:53.884Z"
   },
   {
    "duration": 6,
    "start_time": "2022-09-05T08:38:54.208Z"
   },
   {
    "duration": 1474,
    "start_time": "2022-09-05T08:45:55.282Z"
   },
   {
    "duration": 3,
    "start_time": "2022-09-05T08:45:56.758Z"
   },
   {
    "duration": 75,
    "start_time": "2022-09-05T08:45:56.762Z"
   },
   {
    "duration": 30,
    "start_time": "2022-09-05T08:45:56.839Z"
   },
   {
    "duration": 44,
    "start_time": "2022-09-05T08:45:56.871Z"
   },
   {
    "duration": 30,
    "start_time": "2022-09-05T08:45:56.916Z"
   },
   {
    "duration": 24,
    "start_time": "2022-09-05T08:45:56.947Z"
   },
   {
    "duration": 41,
    "start_time": "2022-09-05T08:45:56.973Z"
   },
   {
    "duration": 27,
    "start_time": "2022-09-05T08:45:57.015Z"
   },
   {
    "duration": 63,
    "start_time": "2022-09-05T08:45:57.043Z"
   },
   {
    "duration": 9,
    "start_time": "2022-09-05T08:45:57.108Z"
   },
   {
    "duration": 394,
    "start_time": "2022-09-05T08:45:57.119Z"
   },
   {
    "duration": 487,
    "start_time": "2022-09-05T08:45:57.514Z"
   },
   {
    "duration": 576,
    "start_time": "2022-09-05T08:45:58.005Z"
   },
   {
    "duration": 13,
    "start_time": "2022-09-05T08:45:58.583Z"
   },
   {
    "duration": 109,
    "start_time": "2022-09-05T08:45:58.597Z"
   },
   {
    "duration": 450,
    "start_time": "2022-09-05T08:45:58.708Z"
   },
   {
    "duration": 6,
    "start_time": "2022-09-05T08:45:59.159Z"
   },
   {
    "duration": 4,
    "start_time": "2022-09-05T08:45:59.166Z"
   },
   {
    "duration": 207,
    "start_time": "2022-09-05T08:45:59.185Z"
   },
   {
    "duration": 450,
    "start_time": "2022-09-05T08:45:59.397Z"
   },
   {
    "duration": 160,
    "start_time": "2022-09-05T08:45:59.848Z"
   },
   {
    "duration": 340,
    "start_time": "2022-09-05T08:46:00.010Z"
   },
   {
    "duration": 54,
    "start_time": "2022-09-05T08:46:00.352Z"
   },
   {
    "duration": 294,
    "start_time": "2022-09-05T08:46:00.408Z"
   },
   {
    "duration": 44,
    "start_time": "2022-09-05T08:46:00.704Z"
   },
   {
    "duration": 5,
    "start_time": "2022-09-05T08:46:00.750Z"
   },
   {
    "duration": 46,
    "start_time": "2022-09-05T08:46:00.757Z"
   },
   {
    "duration": 453,
    "start_time": "2022-09-05T08:46:00.805Z"
   },
   {
    "duration": 64,
    "start_time": "2022-09-05T08:46:01.260Z"
   },
   {
    "duration": 253,
    "start_time": "2022-09-05T08:46:01.325Z"
   },
   {
    "duration": 15,
    "start_time": "2022-09-05T08:46:01.579Z"
   },
   {
    "duration": 21,
    "start_time": "2022-09-05T08:46:01.595Z"
   },
   {
    "duration": 4,
    "start_time": "2022-09-05T08:46:01.618Z"
   },
   {
    "duration": 18,
    "start_time": "2022-09-05T08:46:01.624Z"
   },
   {
    "duration": 17,
    "start_time": "2022-09-05T08:46:01.643Z"
   },
   {
    "duration": 26,
    "start_time": "2022-09-05T08:46:01.662Z"
   },
   {
    "duration": 46,
    "start_time": "2022-09-05T08:46:01.690Z"
   },
   {
    "duration": 9,
    "start_time": "2022-09-05T08:46:01.737Z"
   },
   {
    "duration": 16,
    "start_time": "2022-09-05T08:46:01.748Z"
   },
   {
    "duration": 15,
    "start_time": "2022-09-05T08:46:01.768Z"
   },
   {
    "duration": 18,
    "start_time": "2022-09-05T08:46:01.786Z"
   },
   {
    "duration": 5072,
    "start_time": "2022-09-05T08:46:01.805Z"
   },
   {
    "duration": 12,
    "start_time": "2022-09-05T08:46:06.878Z"
   },
   {
    "duration": 133016,
    "start_time": "2022-09-05T08:46:06.891Z"
   },
   {
    "duration": 96,
    "start_time": "2022-09-05T08:48:19.911Z"
   },
   {
    "duration": 105,
    "start_time": "2022-09-05T08:48:20.087Z"
   },
   {
    "duration": 7,
    "start_time": "2022-09-05T08:48:20.193Z"
   },
   {
    "duration": 464,
    "start_time": "2022-09-05T08:48:20.201Z"
   },
   {
    "duration": 11,
    "start_time": "2022-09-05T08:48:20.667Z"
   },
   {
    "duration": 94628,
    "start_time": "2022-09-05T08:48:20.680Z"
   },
   {
    "duration": 183,
    "start_time": "2022-09-05T08:49:55.310Z"
   },
   {
    "duration": 89,
    "start_time": "2022-09-05T08:49:55.497Z"
   },
   {
    "duration": 50,
    "start_time": "2022-09-05T08:49:55.588Z"
   },
   {
    "duration": 8,
    "start_time": "2022-09-05T08:49:55.640Z"
   },
   {
    "duration": 6,
    "start_time": "2022-09-05T08:49:55.649Z"
   },
   {
    "duration": 510,
    "start_time": "2022-09-05T08:49:55.657Z"
   },
   {
    "duration": 3,
    "start_time": "2022-09-05T08:49:56.169Z"
   },
   {
    "duration": 292,
    "start_time": "2022-09-05T08:49:56.174Z"
   },
   {
    "duration": 4,
    "start_time": "2022-09-05T08:49:56.468Z"
   },
   {
    "duration": 1771,
    "start_time": "2022-09-05T14:27:00.237Z"
   },
   {
    "duration": 2,
    "start_time": "2022-09-05T14:27:02.011Z"
   },
   {
    "duration": 130,
    "start_time": "2022-09-05T14:27:02.015Z"
   },
   {
    "duration": 75,
    "start_time": "2022-09-05T14:27:02.147Z"
   },
   {
    "duration": 71,
    "start_time": "2022-09-05T14:27:02.224Z"
   },
   {
    "duration": 59,
    "start_time": "2022-09-05T14:27:02.297Z"
   },
   {
    "duration": 76,
    "start_time": "2022-09-05T14:27:02.358Z"
   },
   {
    "duration": 75,
    "start_time": "2022-09-05T14:27:02.436Z"
   },
   {
    "duration": 63,
    "start_time": "2022-09-05T14:27:02.513Z"
   },
   {
    "duration": 59,
    "start_time": "2022-09-05T14:27:02.579Z"
   },
   {
    "duration": 11,
    "start_time": "2022-09-05T14:27:02.640Z"
   },
   {
    "duration": 478,
    "start_time": "2022-09-05T14:27:02.653Z"
   },
   {
    "duration": 697,
    "start_time": "2022-09-05T14:27:03.134Z"
   },
   {
    "duration": 614,
    "start_time": "2022-09-05T14:27:03.833Z"
   },
   {
    "duration": 12,
    "start_time": "2022-09-05T14:27:04.449Z"
   },
   {
    "duration": 186,
    "start_time": "2022-09-05T14:27:04.463Z"
   },
   {
    "duration": 1056,
    "start_time": "2022-09-05T14:27:04.651Z"
   },
   {
    "duration": 5,
    "start_time": "2022-09-05T14:27:05.709Z"
   },
   {
    "duration": 10,
    "start_time": "2022-09-05T14:27:05.716Z"
   },
   {
    "duration": 477,
    "start_time": "2022-09-05T14:27:05.728Z"
   },
   {
    "duration": 957,
    "start_time": "2022-09-05T14:27:06.207Z"
   },
   {
    "duration": 112,
    "start_time": "2022-09-05T14:27:07.166Z"
   },
   {
    "duration": 404,
    "start_time": "2022-09-05T14:27:07.280Z"
   },
   {
    "duration": 58,
    "start_time": "2022-09-05T14:27:07.685Z"
   },
   {
    "duration": 330,
    "start_time": "2022-09-05T14:27:07.744Z"
   },
   {
    "duration": 59,
    "start_time": "2022-09-05T14:27:08.076Z"
   },
   {
    "duration": 7,
    "start_time": "2022-09-05T14:27:08.136Z"
   },
   {
    "duration": 18,
    "start_time": "2022-09-05T14:27:08.147Z"
   },
   {
    "duration": 558,
    "start_time": "2022-09-05T14:27:08.166Z"
   },
   {
    "duration": 83,
    "start_time": "2022-09-05T14:27:08.726Z"
   },
   {
    "duration": 364,
    "start_time": "2022-09-05T14:27:08.810Z"
   },
   {
    "duration": 9,
    "start_time": "2022-09-05T14:27:09.176Z"
   },
   {
    "duration": 22,
    "start_time": "2022-09-05T14:27:09.187Z"
   },
   {
    "duration": 4,
    "start_time": "2022-09-05T14:27:09.211Z"
   },
   {
    "duration": 18,
    "start_time": "2022-09-05T14:27:09.217Z"
   },
   {
    "duration": 24,
    "start_time": "2022-09-05T14:27:09.237Z"
   },
   {
    "duration": 45,
    "start_time": "2022-09-05T14:27:09.264Z"
   },
   {
    "duration": 38,
    "start_time": "2022-09-05T14:27:09.311Z"
   },
   {
    "duration": 4,
    "start_time": "2022-09-05T14:27:09.352Z"
   },
   {
    "duration": 12,
    "start_time": "2022-09-05T14:27:09.358Z"
   },
   {
    "duration": 43,
    "start_time": "2022-09-05T14:27:09.372Z"
   },
   {
    "duration": 4,
    "start_time": "2022-09-05T14:27:09.417Z"
   },
   {
    "duration": 560,
    "start_time": "2022-09-05T14:27:09.424Z"
   },
   {
    "duration": 14,
    "start_time": "2022-09-05T14:27:09.986Z"
   },
   {
    "duration": 134705,
    "start_time": "2022-09-05T14:27:10.002Z"
   },
   {
    "duration": 95,
    "start_time": "2022-09-05T14:29:24.709Z"
   },
   {
    "duration": 15,
    "start_time": "2022-09-05T14:29:24.806Z"
   },
   {
    "duration": 4,
    "start_time": "2022-09-05T14:29:24.904Z"
   },
   {
    "duration": 445,
    "start_time": "2022-09-05T14:29:24.909Z"
   },
   {
    "duration": 13,
    "start_time": "2022-09-05T14:29:25.356Z"
   },
   {
    "duration": 67109,
    "start_time": "2022-09-05T14:29:25.402Z"
   },
   {
    "duration": 96,
    "start_time": "2022-09-05T14:30:32.512Z"
   },
   {
    "duration": 4,
    "start_time": "2022-09-05T14:30:32.704Z"
   },
   {
    "duration": 107,
    "start_time": "2022-09-05T14:30:32.710Z"
   },
   {
    "duration": 9,
    "start_time": "2022-09-05T14:30:32.819Z"
   },
   {
    "duration": 6,
    "start_time": "2022-09-05T14:30:32.829Z"
   },
   {
    "duration": 442,
    "start_time": "2022-09-05T14:30:32.837Z"
   },
   {
    "duration": 3,
    "start_time": "2022-09-05T14:30:33.281Z"
   },
   {
    "duration": 281,
    "start_time": "2022-09-05T14:30:33.286Z"
   },
   {
    "duration": 0,
    "start_time": "2022-09-05T14:30:33.568Z"
   },
   {
    "duration": 4,
    "start_time": "2022-09-05T14:31:08.708Z"
   },
   {
    "duration": 432,
    "start_time": "2022-09-05T14:31:15.581Z"
   },
   {
    "duration": 11,
    "start_time": "2022-09-05T14:31:25.224Z"
   },
   {
    "duration": 4,
    "start_time": "2022-09-05T14:31:49.188Z"
   },
   {
    "duration": 14,
    "start_time": "2022-09-05T14:31:52.108Z"
   },
   {
    "duration": 4,
    "start_time": "2022-09-05T14:31:58.140Z"
   },
   {
    "duration": 14,
    "start_time": "2022-09-05T14:32:00.044Z"
   },
   {
    "duration": 5,
    "start_time": "2022-09-05T14:32:13.204Z"
   },
   {
    "duration": 323,
    "start_time": "2022-09-05T14:32:14.092Z"
   },
   {
    "duration": 4,
    "start_time": "2022-09-05T14:35:18.703Z"
   },
   {
    "duration": 13,
    "start_time": "2022-09-05T14:35:19.671Z"
   },
   {
    "duration": 4,
    "start_time": "2022-09-05T14:39:14.634Z"
   },
   {
    "duration": 14,
    "start_time": "2022-09-05T14:39:16.054Z"
   },
   {
    "duration": 4,
    "start_time": "2022-09-05T14:43:27.745Z"
   },
   {
    "duration": 14,
    "start_time": "2022-09-05T14:43:29.261Z"
   },
   {
    "duration": 4,
    "start_time": "2022-09-05T14:43:39.793Z"
   },
   {
    "duration": 321,
    "start_time": "2022-09-05T14:43:41.908Z"
   },
   {
    "duration": 47,
    "start_time": "2022-09-05T14:46:46.642Z"
   },
   {
    "duration": 98,
    "start_time": "2022-09-05T14:47:04.408Z"
   },
   {
    "duration": 4,
    "start_time": "2022-09-05T14:47:16.011Z"
   },
   {
    "duration": 341,
    "start_time": "2022-09-05T14:47:17.336Z"
   },
   {
    "duration": 3,
    "start_time": "2022-09-05T14:47:56.084Z"
   },
   {
    "duration": 328,
    "start_time": "2022-09-05T14:47:57.536Z"
   },
   {
    "duration": 4,
    "start_time": "2022-09-05T14:48:12.031Z"
   },
   {
    "duration": 326,
    "start_time": "2022-09-05T14:48:13.703Z"
   },
   {
    "duration": 5,
    "start_time": "2022-09-05T14:57:50.878Z"
   },
   {
    "duration": 21,
    "start_time": "2022-09-05T14:57:52.560Z"
   },
   {
    "duration": 4,
    "start_time": "2022-09-05T14:58:21.085Z"
   },
   {
    "duration": 18,
    "start_time": "2022-09-05T14:58:22.977Z"
   },
   {
    "duration": 4,
    "start_time": "2022-09-05T14:58:34.681Z"
   },
   {
    "duration": 459,
    "start_time": "2022-09-05T14:58:37.217Z"
   },
   {
    "duration": 27,
    "start_time": "2022-09-05T15:09:17.594Z"
   },
   {
    "duration": 1004,
    "start_time": "2022-09-05T15:12:07.915Z"
   },
   {
    "duration": 19,
    "start_time": "2022-09-05T15:13:38.481Z"
   },
   {
    "duration": 12,
    "start_time": "2022-09-05T15:14:52.549Z"
   },
   {
    "duration": 17,
    "start_time": "2022-09-05T15:14:53.741Z"
   },
   {
    "duration": 1175,
    "start_time": "2022-09-05T15:15:16.457Z"
   },
   {
    "duration": 38,
    "start_time": "2022-09-05T15:19:08.532Z"
   },
   {
    "duration": 368,
    "start_time": "2022-09-05T15:19:17.676Z"
   },
   {
    "duration": 1786,
    "start_time": "2022-09-06T13:18:58.008Z"
   },
   {
    "duration": 3,
    "start_time": "2022-09-06T13:18:59.795Z"
   },
   {
    "duration": 129,
    "start_time": "2022-09-06T13:18:59.800Z"
   },
   {
    "duration": 73,
    "start_time": "2022-09-06T13:18:59.930Z"
   },
   {
    "duration": 70,
    "start_time": "2022-09-06T13:19:00.006Z"
   },
   {
    "duration": 57,
    "start_time": "2022-09-06T13:19:00.078Z"
   },
   {
    "duration": 70,
    "start_time": "2022-09-06T13:19:00.137Z"
   },
   {
    "duration": 68,
    "start_time": "2022-09-06T13:19:00.209Z"
   },
   {
    "duration": 63,
    "start_time": "2022-09-06T13:19:00.278Z"
   },
   {
    "duration": 56,
    "start_time": "2022-09-06T13:19:00.342Z"
   },
   {
    "duration": 10,
    "start_time": "2022-09-06T13:19:00.400Z"
   },
   {
    "duration": 482,
    "start_time": "2022-09-06T13:19:00.412Z"
   },
   {
    "duration": 523,
    "start_time": "2022-09-06T13:19:00.895Z"
   },
   {
    "duration": 588,
    "start_time": "2022-09-06T13:19:01.421Z"
   },
   {
    "duration": 5,
    "start_time": "2022-09-06T13:19:02.010Z"
   },
   {
    "duration": 124,
    "start_time": "2022-09-06T13:19:02.017Z"
   },
   {
    "duration": 544,
    "start_time": "2022-09-06T13:19:02.143Z"
   },
   {
    "duration": 5,
    "start_time": "2022-09-06T13:19:02.689Z"
   },
   {
    "duration": 12,
    "start_time": "2022-09-06T13:19:02.695Z"
   },
   {
    "duration": 209,
    "start_time": "2022-09-06T13:19:02.709Z"
   },
   {
    "duration": 454,
    "start_time": "2022-09-06T13:19:02.920Z"
   },
   {
    "duration": 175,
    "start_time": "2022-09-06T13:19:03.376Z"
   },
   {
    "duration": 359,
    "start_time": "2022-09-06T13:19:03.552Z"
   },
   {
    "duration": 38,
    "start_time": "2022-09-06T13:19:03.913Z"
   },
   {
    "duration": 313,
    "start_time": "2022-09-06T13:19:03.953Z"
   },
   {
    "duration": 52,
    "start_time": "2022-09-06T13:19:04.269Z"
   },
   {
    "duration": 6,
    "start_time": "2022-09-06T13:19:04.323Z"
   },
   {
    "duration": 21,
    "start_time": "2022-09-06T13:19:04.331Z"
   },
   {
    "duration": 525,
    "start_time": "2022-09-06T13:19:04.354Z"
   },
   {
    "duration": 60,
    "start_time": "2022-09-06T13:19:04.886Z"
   },
   {
    "duration": 278,
    "start_time": "2022-09-06T13:19:04.949Z"
   },
   {
    "duration": 8,
    "start_time": "2022-09-06T13:19:05.230Z"
   },
   {
    "duration": 12,
    "start_time": "2022-09-06T13:19:05.239Z"
   },
   {
    "duration": 8,
    "start_time": "2022-09-06T13:19:05.252Z"
   },
   {
    "duration": 29,
    "start_time": "2022-09-06T13:19:05.261Z"
   },
   {
    "duration": 35,
    "start_time": "2022-09-06T13:19:05.292Z"
   },
   {
    "duration": 31,
    "start_time": "2022-09-06T13:19:05.328Z"
   },
   {
    "duration": 35,
    "start_time": "2022-09-06T13:19:05.360Z"
   },
   {
    "duration": 25,
    "start_time": "2022-09-06T13:19:05.396Z"
   },
   {
    "duration": 35,
    "start_time": "2022-09-06T13:19:05.423Z"
   },
   {
    "duration": 368,
    "start_time": "2022-09-06T13:19:05.462Z"
   },
   {
    "duration": 5,
    "start_time": "2022-09-06T13:19:05.832Z"
   },
   {
    "duration": 8,
    "start_time": "2022-09-06T13:19:05.839Z"
   },
   {
    "duration": 15,
    "start_time": "2022-09-06T13:19:05.849Z"
   },
   {
    "duration": 3,
    "start_time": "2022-09-06T13:19:05.866Z"
   },
   {
    "duration": 754,
    "start_time": "2022-09-06T13:19:05.871Z"
   },
   {
    "duration": 10,
    "start_time": "2022-09-06T13:19:06.627Z"
   },
   {
    "duration": 559,
    "start_time": "2022-09-06T13:19:06.640Z"
   },
   {
    "duration": 13,
    "start_time": "2022-09-06T13:19:07.286Z"
   },
   {
    "duration": 187,
    "start_time": "2022-09-06T13:19:07.301Z"
   },
   {
    "duration": 8,
    "start_time": "2022-09-06T13:19:07.490Z"
   },
   {
    "duration": 429,
    "start_time": "2022-09-06T13:19:07.499Z"
   },
   {
    "duration": 7,
    "start_time": "2022-09-06T13:19:07.929Z"
   },
   {
    "duration": 460,
    "start_time": "2022-09-06T13:19:07.937Z"
   },
   {
    "duration": 90,
    "start_time": "2022-09-06T13:19:08.398Z"
   },
   {
    "duration": 97,
    "start_time": "2022-09-06T13:19:08.490Z"
   },
   {
    "duration": 98,
    "start_time": "2022-09-06T13:19:08.590Z"
   },
   {
    "duration": 4,
    "start_time": "2022-09-06T13:19:08.690Z"
   },
   {
    "duration": 16,
    "start_time": "2022-09-06T13:19:08.696Z"
   },
   {
    "duration": 792,
    "start_time": "2022-09-06T13:19:08.714Z"
   },
   {
    "duration": 4,
    "start_time": "2022-09-06T13:19:09.507Z"
   },
   {
    "duration": 394,
    "start_time": "2022-09-06T13:19:09.512Z"
   },
   {
    "duration": 4,
    "start_time": "2022-09-06T13:19:09.908Z"
   },
   {
    "duration": 1515,
    "start_time": "2022-09-06T13:20:07.507Z"
   },
   {
    "duration": 2,
    "start_time": "2022-09-06T13:20:09.025Z"
   },
   {
    "duration": 78,
    "start_time": "2022-09-06T13:20:09.029Z"
   },
   {
    "duration": 33,
    "start_time": "2022-09-06T13:20:09.109Z"
   },
   {
    "duration": 43,
    "start_time": "2022-09-06T13:20:09.143Z"
   },
   {
    "duration": 31,
    "start_time": "2022-09-06T13:20:09.188Z"
   },
   {
    "duration": 25,
    "start_time": "2022-09-06T13:20:09.221Z"
   },
   {
    "duration": 34,
    "start_time": "2022-09-06T13:20:09.248Z"
   },
   {
    "duration": 29,
    "start_time": "2022-09-06T13:20:09.284Z"
   },
   {
    "duration": 54,
    "start_time": "2022-09-06T13:20:09.315Z"
   },
   {
    "duration": 10,
    "start_time": "2022-09-06T13:20:09.387Z"
   },
   {
    "duration": 358,
    "start_time": "2022-09-06T13:20:09.398Z"
   },
   {
    "duration": 589,
    "start_time": "2022-09-06T13:20:09.757Z"
   },
   {
    "duration": 651,
    "start_time": "2022-09-06T13:20:10.348Z"
   },
   {
    "duration": 6,
    "start_time": "2022-09-06T13:20:11.000Z"
   },
   {
    "duration": 109,
    "start_time": "2022-09-06T13:20:11.007Z"
   },
   {
    "duration": 481,
    "start_time": "2022-09-06T13:20:11.117Z"
   },
   {
    "duration": 4,
    "start_time": "2022-09-06T13:20:11.600Z"
   },
   {
    "duration": 5,
    "start_time": "2022-09-06T13:20:11.606Z"
   },
   {
    "duration": 204,
    "start_time": "2022-09-06T13:20:11.612Z"
   },
   {
    "duration": 461,
    "start_time": "2022-09-06T13:20:11.817Z"
   },
   {
    "duration": 167,
    "start_time": "2022-09-06T13:20:12.286Z"
   },
   {
    "duration": 357,
    "start_time": "2022-09-06T13:20:12.454Z"
   },
   {
    "duration": 38,
    "start_time": "2022-09-06T13:20:12.813Z"
   },
   {
    "duration": 321,
    "start_time": "2022-09-06T13:20:12.853Z"
   },
   {
    "duration": 41,
    "start_time": "2022-09-06T13:20:13.176Z"
   },
   {
    "duration": 6,
    "start_time": "2022-09-06T13:20:13.219Z"
   },
   {
    "duration": 14,
    "start_time": "2022-09-06T13:20:13.228Z"
   },
   {
    "duration": 528,
    "start_time": "2022-09-06T13:20:13.243Z"
   },
   {
    "duration": 68,
    "start_time": "2022-09-06T13:20:13.773Z"
   },
   {
    "duration": 286,
    "start_time": "2022-09-06T13:20:13.842Z"
   },
   {
    "duration": 8,
    "start_time": "2022-09-06T13:20:14.129Z"
   },
   {
    "duration": 9,
    "start_time": "2022-09-06T13:20:14.139Z"
   },
   {
    "duration": 7,
    "start_time": "2022-09-06T13:20:14.149Z"
   },
   {
    "duration": 35,
    "start_time": "2022-09-06T13:20:14.158Z"
   },
   {
    "duration": 19,
    "start_time": "2022-09-06T13:20:14.195Z"
   },
   {
    "duration": 16,
    "start_time": "2022-09-06T13:20:14.216Z"
   },
   {
    "duration": 40,
    "start_time": "2022-09-06T13:20:14.233Z"
   },
   {
    "duration": 37,
    "start_time": "2022-09-06T13:20:14.274Z"
   },
   {
    "duration": 37,
    "start_time": "2022-09-06T13:20:14.313Z"
   },
   {
    "duration": 383,
    "start_time": "2022-09-06T13:20:14.352Z"
   },
   {
    "duration": 5,
    "start_time": "2022-09-06T13:20:14.736Z"
   },
   {
    "duration": 8,
    "start_time": "2022-09-06T13:20:14.743Z"
   },
   {
    "duration": 34,
    "start_time": "2022-09-06T13:20:14.753Z"
   },
   {
    "duration": 4,
    "start_time": "2022-09-06T13:20:14.789Z"
   },
   {
    "duration": 490,
    "start_time": "2022-09-06T13:20:14.794Z"
   },
   {
    "duration": 10,
    "start_time": "2022-09-06T13:20:15.286Z"
   },
   {
    "duration": 699,
    "start_time": "2022-09-06T13:20:15.298Z"
   },
   {
    "duration": 94,
    "start_time": "2022-09-06T13:20:15.998Z"
   },
   {
    "duration": 96,
    "start_time": "2022-09-06T13:20:16.094Z"
   },
   {
    "duration": 100,
    "start_time": "2022-09-06T13:20:16.192Z"
   },
   {
    "duration": 803,
    "start_time": "2022-09-06T13:20:16.293Z"
   },
   {
    "duration": 7,
    "start_time": "2022-09-06T13:20:17.098Z"
   },
   {
    "duration": 390,
    "start_time": "2022-09-06T13:20:17.108Z"
   },
   {
    "duration": 99,
    "start_time": "2022-09-06T13:20:17.500Z"
   },
   {
    "duration": 100,
    "start_time": "2022-09-06T13:20:17.689Z"
   },
   {
    "duration": 20,
    "start_time": "2022-09-06T13:20:17.790Z"
   },
   {
    "duration": 22,
    "start_time": "2022-09-06T13:20:17.811Z"
   },
   {
    "duration": 23,
    "start_time": "2022-09-06T13:20:17.834Z"
   },
   {
    "duration": 551,
    "start_time": "2022-09-06T13:20:17.859Z"
   },
   {
    "duration": 4,
    "start_time": "2022-09-06T13:20:18.411Z"
   },
   {
    "duration": 404,
    "start_time": "2022-09-06T13:20:18.416Z"
   },
   {
    "duration": 5,
    "start_time": "2022-09-06T13:20:18.821Z"
   },
   {
    "duration": 1529,
    "start_time": "2022-09-06T13:23:18.851Z"
   },
   {
    "duration": 3,
    "start_time": "2022-09-06T13:23:20.381Z"
   },
   {
    "duration": 72,
    "start_time": "2022-09-06T13:23:20.386Z"
   },
   {
    "duration": 32,
    "start_time": "2022-09-06T13:23:20.460Z"
   },
   {
    "duration": 42,
    "start_time": "2022-09-06T13:23:20.494Z"
   },
   {
    "duration": 32,
    "start_time": "2022-09-06T13:23:20.538Z"
   },
   {
    "duration": 33,
    "start_time": "2022-09-06T13:23:20.571Z"
   },
   {
    "duration": 35,
    "start_time": "2022-09-06T13:23:20.605Z"
   },
   {
    "duration": 27,
    "start_time": "2022-09-06T13:23:20.641Z"
   },
   {
    "duration": 58,
    "start_time": "2022-09-06T13:23:20.671Z"
   },
   {
    "duration": 11,
    "start_time": "2022-09-06T13:23:20.730Z"
   },
   {
    "duration": 405,
    "start_time": "2022-09-06T13:23:20.742Z"
   },
   {
    "duration": 571,
    "start_time": "2022-09-06T13:23:21.149Z"
   },
   {
    "duration": 586,
    "start_time": "2022-09-06T13:23:21.721Z"
   },
   {
    "duration": 4,
    "start_time": "2022-09-06T13:23:22.309Z"
   },
   {
    "duration": 112,
    "start_time": "2022-09-06T13:23:22.315Z"
   },
   {
    "duration": 563,
    "start_time": "2022-09-06T13:23:22.428Z"
   },
   {
    "duration": 5,
    "start_time": "2022-09-06T13:23:22.992Z"
   },
   {
    "duration": 6,
    "start_time": "2022-09-06T13:23:22.998Z"
   },
   {
    "duration": 201,
    "start_time": "2022-09-06T13:23:23.005Z"
   },
   {
    "duration": 458,
    "start_time": "2022-09-06T13:23:23.208Z"
   },
   {
    "duration": 172,
    "start_time": "2022-09-06T13:23:23.668Z"
   },
   {
    "duration": 353,
    "start_time": "2022-09-06T13:23:23.842Z"
   },
   {
    "duration": 34,
    "start_time": "2022-09-06T13:23:24.197Z"
   },
   {
    "duration": 299,
    "start_time": "2022-09-06T13:23:24.233Z"
   },
   {
    "duration": 67,
    "start_time": "2022-09-06T13:23:24.534Z"
   },
   {
    "duration": 6,
    "start_time": "2022-09-06T13:23:24.602Z"
   },
   {
    "duration": 17,
    "start_time": "2022-09-06T13:23:24.612Z"
   },
   {
    "duration": 535,
    "start_time": "2022-09-06T13:23:24.631Z"
   },
   {
    "duration": 64,
    "start_time": "2022-09-06T13:23:25.168Z"
   },
   {
    "duration": 246,
    "start_time": "2022-09-06T13:23:25.234Z"
   },
   {
    "duration": 9,
    "start_time": "2022-09-06T13:23:25.481Z"
   },
   {
    "duration": 8,
    "start_time": "2022-09-06T13:23:25.492Z"
   },
   {
    "duration": 6,
    "start_time": "2022-09-06T13:23:25.502Z"
   },
   {
    "duration": 16,
    "start_time": "2022-09-06T13:23:25.509Z"
   },
   {
    "duration": 18,
    "start_time": "2022-09-06T13:23:25.527Z"
   },
   {
    "duration": 14,
    "start_time": "2022-09-06T13:23:25.546Z"
   },
   {
    "duration": 33,
    "start_time": "2022-09-06T13:23:25.586Z"
   },
   {
    "duration": 24,
    "start_time": "2022-09-06T13:23:25.620Z"
   },
   {
    "duration": 52,
    "start_time": "2022-09-06T13:23:25.646Z"
   },
   {
    "duration": 360,
    "start_time": "2022-09-06T13:23:25.699Z"
   },
   {
    "duration": 6,
    "start_time": "2022-09-06T13:23:26.061Z"
   },
   {
    "duration": 10,
    "start_time": "2022-09-06T13:23:26.068Z"
   },
   {
    "duration": 12,
    "start_time": "2022-09-06T13:23:26.086Z"
   },
   {
    "duration": 3,
    "start_time": "2022-09-06T13:23:26.099Z"
   },
   {
    "duration": 568,
    "start_time": "2022-09-06T13:23:26.104Z"
   },
   {
    "duration": 9,
    "start_time": "2022-09-06T13:23:26.673Z"
   },
   {
    "duration": 612,
    "start_time": "2022-09-06T13:23:26.684Z"
   },
   {
    "duration": 91,
    "start_time": "2022-09-06T13:23:27.298Z"
   },
   {
    "duration": 98,
    "start_time": "2022-09-06T13:23:27.391Z"
   },
   {
    "duration": 8,
    "start_time": "2022-09-06T13:23:27.491Z"
   },
   {
    "duration": 595,
    "start_time": "2022-09-06T13:23:27.501Z"
   },
   {
    "duration": 7,
    "start_time": "2022-09-06T13:23:28.098Z"
   },
   {
    "duration": 389,
    "start_time": "2022-09-06T13:23:28.107Z"
   },
   {
    "duration": 90,
    "start_time": "2022-09-06T13:23:28.498Z"
   },
   {
    "duration": 7,
    "start_time": "2022-09-06T13:23:28.590Z"
   },
   {
    "duration": 13,
    "start_time": "2022-09-06T13:23:28.687Z"
   },
   {
    "duration": 92,
    "start_time": "2022-09-06T13:23:28.701Z"
   },
   {
    "duration": 7,
    "start_time": "2022-09-06T13:23:28.794Z"
   },
   {
    "duration": 553,
    "start_time": "2022-09-06T13:23:28.802Z"
   },
   {
    "duration": 3,
    "start_time": "2022-09-06T13:23:29.357Z"
   },
   {
    "duration": 492,
    "start_time": "2022-09-06T13:23:29.362Z"
   },
   {
    "duration": 0,
    "start_time": "2022-09-06T13:23:29.855Z"
   },
   {
    "duration": 1610,
    "start_time": "2022-09-06T13:23:54.213Z"
   },
   {
    "duration": 2,
    "start_time": "2022-09-06T13:23:55.825Z"
   },
   {
    "duration": 81,
    "start_time": "2022-09-06T13:23:55.829Z"
   },
   {
    "duration": 32,
    "start_time": "2022-09-06T13:23:55.911Z"
   },
   {
    "duration": 43,
    "start_time": "2022-09-06T13:23:55.944Z"
   },
   {
    "duration": 44,
    "start_time": "2022-09-06T13:23:55.989Z"
   },
   {
    "duration": 27,
    "start_time": "2022-09-06T13:23:56.034Z"
   },
   {
    "duration": 46,
    "start_time": "2022-09-06T13:23:56.063Z"
   },
   {
    "duration": 28,
    "start_time": "2022-09-06T13:23:56.110Z"
   },
   {
    "duration": 56,
    "start_time": "2022-09-06T13:23:56.140Z"
   },
   {
    "duration": 14,
    "start_time": "2022-09-06T13:23:56.198Z"
   },
   {
    "duration": 495,
    "start_time": "2022-09-06T13:23:56.214Z"
   },
   {
    "duration": 516,
    "start_time": "2022-09-06T13:23:56.710Z"
   },
   {
    "duration": 612,
    "start_time": "2022-09-06T13:23:57.228Z"
   },
   {
    "duration": 5,
    "start_time": "2022-09-06T13:23:57.841Z"
   },
   {
    "duration": 120,
    "start_time": "2022-09-06T13:23:57.847Z"
   },
   {
    "duration": 535,
    "start_time": "2022-09-06T13:23:57.969Z"
   },
   {
    "duration": 5,
    "start_time": "2022-09-06T13:23:58.506Z"
   },
   {
    "duration": 13,
    "start_time": "2022-09-06T13:23:58.513Z"
   },
   {
    "duration": 221,
    "start_time": "2022-09-06T13:23:58.529Z"
   },
   {
    "duration": 535,
    "start_time": "2022-09-06T13:23:58.752Z"
   },
   {
    "duration": 183,
    "start_time": "2022-09-06T13:23:59.290Z"
   },
   {
    "duration": 360,
    "start_time": "2022-09-06T13:23:59.487Z"
   },
   {
    "duration": 52,
    "start_time": "2022-09-06T13:23:59.849Z"
   },
   {
    "duration": 355,
    "start_time": "2022-09-06T13:23:59.903Z"
   },
   {
    "duration": 59,
    "start_time": "2022-09-06T13:24:00.260Z"
   },
   {
    "duration": 6,
    "start_time": "2022-09-06T13:24:00.321Z"
   },
   {
    "duration": 17,
    "start_time": "2022-09-06T13:24:00.331Z"
   },
   {
    "duration": 529,
    "start_time": "2022-09-06T13:24:00.349Z"
   },
   {
    "duration": 69,
    "start_time": "2022-09-06T13:24:00.879Z"
   },
   {
    "duration": 288,
    "start_time": "2022-09-06T13:24:00.950Z"
   },
   {
    "duration": 8,
    "start_time": "2022-09-06T13:24:01.239Z"
   },
   {
    "duration": 25,
    "start_time": "2022-09-06T13:24:01.249Z"
   },
   {
    "duration": 12,
    "start_time": "2022-09-06T13:24:01.276Z"
   },
   {
    "duration": 37,
    "start_time": "2022-09-06T13:24:01.291Z"
   },
   {
    "duration": 25,
    "start_time": "2022-09-06T13:24:01.330Z"
   },
   {
    "duration": 17,
    "start_time": "2022-09-06T13:24:01.356Z"
   },
   {
    "duration": 46,
    "start_time": "2022-09-06T13:24:01.376Z"
   },
   {
    "duration": 25,
    "start_time": "2022-09-06T13:24:01.424Z"
   },
   {
    "duration": 46,
    "start_time": "2022-09-06T13:24:01.451Z"
   },
   {
    "duration": 398,
    "start_time": "2022-09-06T13:24:01.500Z"
   },
   {
    "duration": 5,
    "start_time": "2022-09-06T13:24:01.900Z"
   },
   {
    "duration": 23,
    "start_time": "2022-09-06T13:24:01.907Z"
   },
   {
    "duration": 29,
    "start_time": "2022-09-06T13:24:01.932Z"
   },
   {
    "duration": 36,
    "start_time": "2022-09-06T13:24:01.963Z"
   },
   {
    "duration": 823,
    "start_time": "2022-09-06T13:24:02.001Z"
   },
   {
    "duration": 10,
    "start_time": "2022-09-06T13:24:02.825Z"
   },
   {
    "duration": 2058,
    "start_time": "2022-09-06T13:24:02.837Z"
   },
   {
    "duration": 96,
    "start_time": "2022-09-06T13:24:04.897Z"
   },
   {
    "duration": 192,
    "start_time": "2022-09-06T13:24:04.996Z"
   },
   {
    "duration": 37,
    "start_time": "2022-09-06T13:24:05.190Z"
   },
   {
    "duration": 817,
    "start_time": "2022-09-06T13:24:05.228Z"
   },
   {
    "duration": 8,
    "start_time": "2022-09-06T13:24:06.047Z"
   },
   {
    "duration": 639,
    "start_time": "2022-09-06T13:24:06.057Z"
   },
   {
    "duration": 94,
    "start_time": "2022-09-06T13:24:06.698Z"
   },
   {
    "duration": 93,
    "start_time": "2022-09-06T13:24:06.794Z"
   },
   {
    "duration": 101,
    "start_time": "2022-09-06T13:24:06.890Z"
   },
   {
    "duration": 30,
    "start_time": "2022-09-06T13:24:06.993Z"
   },
   {
    "duration": 22,
    "start_time": "2022-09-06T13:24:07.025Z"
   },
   {
    "duration": 663,
    "start_time": "2022-09-06T13:24:07.048Z"
   },
   {
    "duration": 4,
    "start_time": "2022-09-06T13:24:07.712Z"
   },
   {
    "duration": 432,
    "start_time": "2022-09-06T13:24:07.717Z"
   },
   {
    "duration": 5,
    "start_time": "2022-09-06T13:24:08.151Z"
   },
   {
    "duration": 1556,
    "start_time": "2022-09-06T13:32:10.058Z"
   },
   {
    "duration": 3,
    "start_time": "2022-09-06T13:32:11.615Z"
   },
   {
    "duration": 81,
    "start_time": "2022-09-06T13:32:11.620Z"
   },
   {
    "duration": 33,
    "start_time": "2022-09-06T13:32:11.703Z"
   },
   {
    "duration": 43,
    "start_time": "2022-09-06T13:32:11.737Z"
   },
   {
    "duration": 32,
    "start_time": "2022-09-06T13:32:11.782Z"
   },
   {
    "duration": 26,
    "start_time": "2022-09-06T13:32:11.815Z"
   },
   {
    "duration": 35,
    "start_time": "2022-09-06T13:32:11.843Z"
   },
   {
    "duration": 27,
    "start_time": "2022-09-06T13:32:11.879Z"
   },
   {
    "duration": 54,
    "start_time": "2022-09-06T13:32:11.910Z"
   },
   {
    "duration": 27,
    "start_time": "2022-09-06T13:32:11.966Z"
   },
   {
    "duration": 359,
    "start_time": "2022-09-06T13:32:11.995Z"
   },
   {
    "duration": 567,
    "start_time": "2022-09-06T13:32:12.355Z"
   },
   {
    "duration": 577,
    "start_time": "2022-09-06T13:32:12.924Z"
   },
   {
    "duration": 4,
    "start_time": "2022-09-06T13:32:13.503Z"
   },
   {
    "duration": 111,
    "start_time": "2022-09-06T13:32:13.509Z"
   },
   {
    "duration": 572,
    "start_time": "2022-09-06T13:32:13.622Z"
   },
   {
    "duration": 4,
    "start_time": "2022-09-06T13:32:14.195Z"
   },
   {
    "duration": 9,
    "start_time": "2022-09-06T13:32:14.201Z"
   },
   {
    "duration": 209,
    "start_time": "2022-09-06T13:32:14.211Z"
   },
   {
    "duration": 567,
    "start_time": "2022-09-06T13:32:14.422Z"
   },
   {
    "duration": 176,
    "start_time": "2022-09-06T13:32:14.991Z"
   },
   {
    "duration": 344,
    "start_time": "2022-09-06T13:32:15.169Z"
   },
   {
    "duration": 34,
    "start_time": "2022-09-06T13:32:15.514Z"
   },
   {
    "duration": 312,
    "start_time": "2022-09-06T13:32:15.549Z"
   },
   {
    "duration": 52,
    "start_time": "2022-09-06T13:32:15.862Z"
   },
   {
    "duration": 6,
    "start_time": "2022-09-06T13:32:15.916Z"
   },
   {
    "duration": 16,
    "start_time": "2022-09-06T13:32:15.926Z"
   },
   {
    "duration": 713,
    "start_time": "2022-09-06T13:32:15.943Z"
   },
   {
    "duration": 77,
    "start_time": "2022-09-06T13:32:16.658Z"
   },
   {
    "duration": 260,
    "start_time": "2022-09-06T13:32:16.738Z"
   },
   {
    "duration": 7,
    "start_time": "2022-09-06T13:32:17.000Z"
   },
   {
    "duration": 14,
    "start_time": "2022-09-06T13:32:17.009Z"
   },
   {
    "duration": 4,
    "start_time": "2022-09-06T13:32:17.025Z"
   },
   {
    "duration": 19,
    "start_time": "2022-09-06T13:32:17.030Z"
   },
   {
    "duration": 37,
    "start_time": "2022-09-06T13:32:17.051Z"
   },
   {
    "duration": 15,
    "start_time": "2022-09-06T13:32:17.089Z"
   },
   {
    "duration": 32,
    "start_time": "2022-09-06T13:32:17.106Z"
   },
   {
    "duration": 25,
    "start_time": "2022-09-06T13:32:17.140Z"
   },
   {
    "duration": 36,
    "start_time": "2022-09-06T13:32:17.187Z"
   },
   {
    "duration": 384,
    "start_time": "2022-09-06T13:32:17.225Z"
   },
   {
    "duration": 6,
    "start_time": "2022-09-06T13:32:17.611Z"
   },
   {
    "duration": 12,
    "start_time": "2022-09-06T13:32:17.618Z"
   },
   {
    "duration": 17,
    "start_time": "2022-09-06T13:32:17.632Z"
   },
   {
    "duration": 4,
    "start_time": "2022-09-06T13:32:17.652Z"
   },
   {
    "duration": 682,
    "start_time": "2022-09-06T13:32:17.658Z"
   },
   {
    "duration": 47,
    "start_time": "2022-09-06T13:32:18.342Z"
   },
   {
    "duration": 505,
    "start_time": "2022-09-06T13:32:18.391Z"
   },
   {
    "duration": 96,
    "start_time": "2022-09-06T13:32:18.897Z"
   },
   {
    "duration": 98,
    "start_time": "2022-09-06T13:32:18.997Z"
   },
   {
    "duration": 97,
    "start_time": "2022-09-06T13:32:19.098Z"
   },
   {
    "duration": 528,
    "start_time": "2022-09-06T13:32:19.196Z"
   },
   {
    "duration": 7,
    "start_time": "2022-09-06T13:32:19.726Z"
   },
   {
    "duration": 360,
    "start_time": "2022-09-06T13:32:19.738Z"
   },
   {
    "duration": 95,
    "start_time": "2022-09-06T13:32:20.100Z"
   },
   {
    "duration": 101,
    "start_time": "2022-09-06T13:32:20.286Z"
   },
   {
    "duration": 13,
    "start_time": "2022-09-06T13:32:20.389Z"
   },
   {
    "duration": 30,
    "start_time": "2022-09-06T13:32:20.404Z"
   },
   {
    "duration": 25,
    "start_time": "2022-09-06T13:32:20.435Z"
   },
   {
    "duration": 589,
    "start_time": "2022-09-06T13:32:20.461Z"
   },
   {
    "duration": 3,
    "start_time": "2022-09-06T13:32:21.052Z"
   },
   {
    "duration": 281,
    "start_time": "2022-09-06T13:32:21.056Z"
   },
   {
    "duration": 0,
    "start_time": "2022-09-06T13:32:21.339Z"
   },
   {
    "duration": 1553,
    "start_time": "2022-09-06T13:33:09.610Z"
   },
   {
    "duration": 2,
    "start_time": "2022-09-06T13:33:11.165Z"
   },
   {
    "duration": 75,
    "start_time": "2022-09-06T13:33:11.169Z"
   },
   {
    "duration": 32,
    "start_time": "2022-09-06T13:33:11.245Z"
   },
   {
    "duration": 42,
    "start_time": "2022-09-06T13:33:11.279Z"
   },
   {
    "duration": 32,
    "start_time": "2022-09-06T13:33:11.323Z"
   },
   {
    "duration": 26,
    "start_time": "2022-09-06T13:33:11.358Z"
   },
   {
    "duration": 34,
    "start_time": "2022-09-06T13:33:11.386Z"
   },
   {
    "duration": 28,
    "start_time": "2022-09-06T13:33:11.422Z"
   },
   {
    "duration": 56,
    "start_time": "2022-09-06T13:33:11.452Z"
   },
   {
    "duration": 10,
    "start_time": "2022-09-06T13:33:11.510Z"
   },
   {
    "duration": 421,
    "start_time": "2022-09-06T13:33:11.521Z"
   },
   {
    "duration": 560,
    "start_time": "2022-09-06T13:33:11.944Z"
   },
   {
    "duration": 593,
    "start_time": "2022-09-06T13:33:12.508Z"
   },
   {
    "duration": 4,
    "start_time": "2022-09-06T13:33:13.103Z"
   },
   {
    "duration": 116,
    "start_time": "2022-09-06T13:33:13.109Z"
   },
   {
    "duration": 503,
    "start_time": "2022-09-06T13:33:13.226Z"
   },
   {
    "duration": 5,
    "start_time": "2022-09-06T13:33:13.730Z"
   },
   {
    "duration": 15,
    "start_time": "2022-09-06T13:33:13.736Z"
   },
   {
    "duration": 208,
    "start_time": "2022-09-06T13:33:13.752Z"
   },
   {
    "duration": 502,
    "start_time": "2022-09-06T13:33:13.962Z"
   },
   {
    "duration": 176,
    "start_time": "2022-09-06T13:33:14.466Z"
   },
   {
    "duration": 363,
    "start_time": "2022-09-06T13:33:14.644Z"
   },
   {
    "duration": 34,
    "start_time": "2022-09-06T13:33:15.009Z"
   },
   {
    "duration": 299,
    "start_time": "2022-09-06T13:33:15.044Z"
   },
   {
    "duration": 54,
    "start_time": "2022-09-06T13:33:15.344Z"
   },
   {
    "duration": 6,
    "start_time": "2022-09-06T13:33:15.399Z"
   },
   {
    "duration": 28,
    "start_time": "2022-09-06T13:33:15.407Z"
   },
   {
    "duration": 534,
    "start_time": "2022-09-06T13:33:15.436Z"
   },
   {
    "duration": 81,
    "start_time": "2022-09-06T13:33:15.972Z"
   },
   {
    "duration": 307,
    "start_time": "2022-09-06T13:33:16.055Z"
   },
   {
    "duration": 10,
    "start_time": "2022-09-06T13:33:16.364Z"
   },
   {
    "duration": 11,
    "start_time": "2022-09-06T13:33:16.388Z"
   },
   {
    "duration": 9,
    "start_time": "2022-09-06T13:33:16.401Z"
   },
   {
    "duration": 29,
    "start_time": "2022-09-06T13:33:16.413Z"
   },
   {
    "duration": 31,
    "start_time": "2022-09-06T13:33:16.444Z"
   },
   {
    "duration": 29,
    "start_time": "2022-09-06T13:33:16.477Z"
   },
   {
    "duration": 35,
    "start_time": "2022-09-06T13:33:16.508Z"
   },
   {
    "duration": 47,
    "start_time": "2022-09-06T13:33:16.544Z"
   },
   {
    "duration": 41,
    "start_time": "2022-09-06T13:33:16.593Z"
   },
   {
    "duration": 364,
    "start_time": "2022-09-06T13:33:16.639Z"
   },
   {
    "duration": 5,
    "start_time": "2022-09-06T13:33:17.005Z"
   },
   {
    "duration": 8,
    "start_time": "2022-09-06T13:33:17.011Z"
   },
   {
    "duration": 18,
    "start_time": "2022-09-06T13:33:17.021Z"
   },
   {
    "duration": 4,
    "start_time": "2022-09-06T13:33:17.041Z"
   },
   {
    "duration": 733,
    "start_time": "2022-09-06T13:33:17.047Z"
   },
   {
    "duration": 14,
    "start_time": "2022-09-06T13:33:17.781Z"
   },
   {
    "duration": 801,
    "start_time": "2022-09-06T13:33:17.797Z"
   },
   {
    "duration": 187,
    "start_time": "2022-09-06T13:33:18.600Z"
   },
   {
    "duration": 103,
    "start_time": "2022-09-06T13:33:18.790Z"
   },
   {
    "duration": 10,
    "start_time": "2022-09-06T13:33:18.894Z"
   },
   {
    "duration": 457,
    "start_time": "2022-09-06T13:33:18.906Z"
   },
   {
    "duration": 7,
    "start_time": "2022-09-06T13:33:19.365Z"
   },
   {
    "duration": 417,
    "start_time": "2022-09-06T13:33:19.375Z"
   },
   {
    "duration": 95,
    "start_time": "2022-09-06T13:33:19.794Z"
   },
   {
    "duration": 96,
    "start_time": "2022-09-06T13:33:19.892Z"
   },
   {
    "duration": 12,
    "start_time": "2022-09-06T13:33:19.990Z"
   },
   {
    "duration": 25,
    "start_time": "2022-09-06T13:33:20.004Z"
   },
   {
    "duration": 11,
    "start_time": "2022-09-06T13:33:20.031Z"
   },
   {
    "duration": 646,
    "start_time": "2022-09-06T13:33:20.044Z"
   },
   {
    "duration": 3,
    "start_time": "2022-09-06T13:33:20.692Z"
   },
   {
    "duration": 292,
    "start_time": "2022-09-06T13:33:20.696Z"
   },
   {
    "duration": 0,
    "start_time": "2022-09-06T13:33:20.990Z"
   },
   {
    "duration": 1517,
    "start_time": "2022-09-06T13:38:19.061Z"
   },
   {
    "duration": 7,
    "start_time": "2022-09-06T13:38:20.580Z"
   },
   {
    "duration": 70,
    "start_time": "2022-09-06T13:38:20.589Z"
   },
   {
    "duration": 32,
    "start_time": "2022-09-06T13:38:20.662Z"
   },
   {
    "duration": 43,
    "start_time": "2022-09-06T13:38:20.696Z"
   },
   {
    "duration": 32,
    "start_time": "2022-09-06T13:38:20.741Z"
   },
   {
    "duration": 26,
    "start_time": "2022-09-06T13:38:20.775Z"
   },
   {
    "duration": 38,
    "start_time": "2022-09-06T13:38:20.803Z"
   },
   {
    "duration": 29,
    "start_time": "2022-09-06T13:38:20.843Z"
   },
   {
    "duration": 56,
    "start_time": "2022-09-06T13:38:20.875Z"
   },
   {
    "duration": 11,
    "start_time": "2022-09-06T13:38:20.932Z"
   },
   {
    "duration": 422,
    "start_time": "2022-09-06T13:38:20.944Z"
   },
   {
    "duration": 556,
    "start_time": "2022-09-06T13:38:21.368Z"
   },
   {
    "duration": 578,
    "start_time": "2022-09-06T13:38:21.925Z"
   },
   {
    "duration": 5,
    "start_time": "2022-09-06T13:38:22.504Z"
   },
   {
    "duration": 116,
    "start_time": "2022-09-06T13:38:22.510Z"
   },
   {
    "duration": 560,
    "start_time": "2022-09-06T13:38:22.628Z"
   },
   {
    "duration": 4,
    "start_time": "2022-09-06T13:38:23.190Z"
   },
   {
    "duration": 8,
    "start_time": "2022-09-06T13:38:23.195Z"
   },
   {
    "duration": 210,
    "start_time": "2022-09-06T13:38:23.205Z"
   },
   {
    "duration": 453,
    "start_time": "2022-09-06T13:38:23.417Z"
   },
   {
    "duration": 202,
    "start_time": "2022-09-06T13:38:23.872Z"
   },
   {
    "duration": 335,
    "start_time": "2022-09-06T13:38:24.087Z"
   },
   {
    "duration": 65,
    "start_time": "2022-09-06T13:38:24.424Z"
   },
   {
    "duration": 300,
    "start_time": "2022-09-06T13:38:24.490Z"
   },
   {
    "duration": 42,
    "start_time": "2022-09-06T13:38:24.792Z"
   },
   {
    "duration": 7,
    "start_time": "2022-09-06T13:38:24.835Z"
   },
   {
    "duration": 45,
    "start_time": "2022-09-06T13:38:24.845Z"
   },
   {
    "duration": 584,
    "start_time": "2022-09-06T13:38:24.892Z"
   },
   {
    "duration": 57,
    "start_time": "2022-09-06T13:38:25.486Z"
   },
   {
    "duration": 271,
    "start_time": "2022-09-06T13:38:25.545Z"
   },
   {
    "duration": 8,
    "start_time": "2022-09-06T13:38:25.817Z"
   },
   {
    "duration": 9,
    "start_time": "2022-09-06T13:38:25.827Z"
   },
   {
    "duration": 4,
    "start_time": "2022-09-06T13:38:25.838Z"
   },
   {
    "duration": 17,
    "start_time": "2022-09-06T13:38:25.844Z"
   },
   {
    "duration": 19,
    "start_time": "2022-09-06T13:38:25.886Z"
   },
   {
    "duration": 16,
    "start_time": "2022-09-06T13:38:25.907Z"
   },
   {
    "duration": 34,
    "start_time": "2022-09-06T13:38:25.924Z"
   },
   {
    "duration": 56,
    "start_time": "2022-09-06T13:38:25.960Z"
   },
   {
    "duration": 41,
    "start_time": "2022-09-06T13:38:26.018Z"
   },
   {
    "duration": 435,
    "start_time": "2022-09-06T13:38:26.061Z"
   },
   {
    "duration": 7,
    "start_time": "2022-09-06T13:38:26.498Z"
   },
   {
    "duration": 13,
    "start_time": "2022-09-06T13:38:26.506Z"
   },
   {
    "duration": 17,
    "start_time": "2022-09-06T13:38:26.521Z"
   },
   {
    "duration": 3,
    "start_time": "2022-09-06T13:38:26.540Z"
   },
   {
    "duration": 625,
    "start_time": "2022-09-06T13:38:26.545Z"
   },
   {
    "duration": 8,
    "start_time": "2022-09-06T13:38:27.172Z"
   },
   {
    "duration": 20209,
    "start_time": "2022-09-06T13:38:27.187Z"
   },
   {
    "duration": 97,
    "start_time": "2022-09-06T13:38:47.398Z"
   },
   {
    "duration": 193,
    "start_time": "2022-09-06T13:38:47.498Z"
   },
   {
    "duration": 16,
    "start_time": "2022-09-06T13:38:47.693Z"
   },
   {
    "duration": 459,
    "start_time": "2022-09-06T13:38:47.711Z"
   },
   {
    "duration": 9,
    "start_time": "2022-09-06T13:38:48.172Z"
   },
   {
    "duration": 5113,
    "start_time": "2022-09-06T13:38:48.185Z"
   },
   {
    "duration": 93,
    "start_time": "2022-09-06T13:38:53.300Z"
   },
   {
    "duration": 4,
    "start_time": "2022-09-06T13:38:53.586Z"
   },
   {
    "duration": 12,
    "start_time": "2022-09-06T13:38:53.591Z"
   },
   {
    "duration": 10,
    "start_time": "2022-09-06T13:38:53.605Z"
   },
   {
    "duration": 10,
    "start_time": "2022-09-06T13:38:53.617Z"
   },
   {
    "duration": 524,
    "start_time": "2022-09-06T13:38:53.628Z"
   },
   {
    "duration": 66,
    "start_time": "2022-09-06T13:38:54.154Z"
   },
   {
    "duration": 0,
    "start_time": "2022-09-06T13:38:54.221Z"
   },
   {
    "duration": 0,
    "start_time": "2022-09-06T13:38:54.222Z"
   },
   {
    "duration": 1422,
    "start_time": "2022-09-06T13:39:18.133Z"
   },
   {
    "duration": 3,
    "start_time": "2022-09-06T13:39:19.557Z"
   },
   {
    "duration": 105,
    "start_time": "2022-09-06T13:39:19.562Z"
   },
   {
    "duration": 32,
    "start_time": "2022-09-06T13:39:19.670Z"
   },
   {
    "duration": 44,
    "start_time": "2022-09-06T13:39:19.704Z"
   },
   {
    "duration": 32,
    "start_time": "2022-09-06T13:39:19.750Z"
   },
   {
    "duration": 26,
    "start_time": "2022-09-06T13:39:19.784Z"
   },
   {
    "duration": 39,
    "start_time": "2022-09-06T13:39:19.812Z"
   },
   {
    "duration": 28,
    "start_time": "2022-09-06T13:39:19.853Z"
   },
   {
    "duration": 57,
    "start_time": "2022-09-06T13:39:19.884Z"
   },
   {
    "duration": 10,
    "start_time": "2022-09-06T13:39:19.942Z"
   },
   {
    "duration": 421,
    "start_time": "2022-09-06T13:39:19.953Z"
   },
   {
    "duration": 552,
    "start_time": "2022-09-06T13:39:20.375Z"
   },
   {
    "duration": 578,
    "start_time": "2022-09-06T13:39:20.928Z"
   },
   {
    "duration": 5,
    "start_time": "2022-09-06T13:39:21.508Z"
   },
   {
    "duration": 117,
    "start_time": "2022-09-06T13:39:21.514Z"
   },
   {
    "duration": 572,
    "start_time": "2022-09-06T13:39:21.632Z"
   },
   {
    "duration": 4,
    "start_time": "2022-09-06T13:39:22.206Z"
   },
   {
    "duration": 6,
    "start_time": "2022-09-06T13:39:22.212Z"
   },
   {
    "duration": 210,
    "start_time": "2022-09-06T13:39:22.219Z"
   },
   {
    "duration": 540,
    "start_time": "2022-09-06T13:39:22.431Z"
   },
   {
    "duration": 179,
    "start_time": "2022-09-06T13:39:22.973Z"
   },
   {
    "duration": 351,
    "start_time": "2022-09-06T13:39:23.154Z"
   },
   {
    "duration": 33,
    "start_time": "2022-09-06T13:39:23.506Z"
   },
   {
    "duration": 302,
    "start_time": "2022-09-06T13:39:23.541Z"
   },
   {
    "duration": 55,
    "start_time": "2022-09-06T13:39:23.845Z"
   },
   {
    "duration": 7,
    "start_time": "2022-09-06T13:39:23.901Z"
   },
   {
    "duration": 32,
    "start_time": "2022-09-06T13:39:23.911Z"
   },
   {
    "duration": 527,
    "start_time": "2022-09-06T13:39:23.944Z"
   },
   {
    "duration": 63,
    "start_time": "2022-09-06T13:39:24.472Z"
   },
   {
    "duration": 268,
    "start_time": "2022-09-06T13:39:24.537Z"
   },
   {
    "duration": 9,
    "start_time": "2022-09-06T13:39:24.806Z"
   },
   {
    "duration": 20,
    "start_time": "2022-09-06T13:39:24.816Z"
   },
   {
    "duration": 5,
    "start_time": "2022-09-06T13:39:24.837Z"
   },
   {
    "duration": 24,
    "start_time": "2022-09-06T13:39:24.843Z"
   },
   {
    "duration": 22,
    "start_time": "2022-09-06T13:39:24.869Z"
   },
   {
    "duration": 15,
    "start_time": "2022-09-06T13:39:24.892Z"
   },
   {
    "duration": 33,
    "start_time": "2022-09-06T13:39:24.909Z"
   },
   {
    "duration": 51,
    "start_time": "2022-09-06T13:39:24.943Z"
   },
   {
    "duration": 51,
    "start_time": "2022-09-06T13:39:24.996Z"
   },
   {
    "duration": 412,
    "start_time": "2022-09-06T13:39:25.049Z"
   },
   {
    "duration": 5,
    "start_time": "2022-09-06T13:39:25.463Z"
   },
   {
    "duration": 12,
    "start_time": "2022-09-06T13:39:25.470Z"
   },
   {
    "duration": 19,
    "start_time": "2022-09-06T13:39:25.487Z"
   },
   {
    "duration": 7,
    "start_time": "2022-09-06T13:39:25.508Z"
   },
   {
    "duration": 729,
    "start_time": "2022-09-06T13:39:25.517Z"
   },
   {
    "duration": 14,
    "start_time": "2022-09-06T13:39:26.249Z"
   },
   {
    "duration": 733,
    "start_time": "2022-09-06T13:39:26.265Z"
   },
   {
    "duration": 92,
    "start_time": "2022-09-06T13:39:27.000Z"
   },
   {
    "duration": 95,
    "start_time": "2022-09-06T13:39:27.094Z"
   },
   {
    "duration": 102,
    "start_time": "2022-09-06T13:39:27.192Z"
   },
   {
    "duration": 509,
    "start_time": "2022-09-06T13:39:27.295Z"
   },
   {
    "duration": 8,
    "start_time": "2022-09-06T13:39:27.805Z"
   },
   {
    "duration": 386,
    "start_time": "2022-09-06T13:39:27.815Z"
   },
   {
    "duration": 91,
    "start_time": "2022-09-06T13:39:28.203Z"
   },
   {
    "duration": 190,
    "start_time": "2022-09-06T13:39:28.297Z"
   },
   {
    "duration": 18,
    "start_time": "2022-09-06T13:39:28.489Z"
   },
   {
    "duration": 12,
    "start_time": "2022-09-06T13:39:28.509Z"
   },
   {
    "duration": 14,
    "start_time": "2022-09-06T13:39:28.523Z"
   },
   {
    "duration": 654,
    "start_time": "2022-09-06T13:39:28.539Z"
   },
   {
    "duration": 4,
    "start_time": "2022-09-06T13:39:29.195Z"
   },
   {
    "duration": 629,
    "start_time": "2022-09-06T13:39:29.200Z"
   },
   {
    "duration": 6,
    "start_time": "2022-09-06T13:39:29.830Z"
   },
   {
    "duration": 1611,
    "start_time": "2022-09-06T13:40:59.982Z"
   },
   {
    "duration": 2,
    "start_time": "2022-09-06T13:41:01.595Z"
   },
   {
    "duration": 135,
    "start_time": "2022-09-06T13:41:01.599Z"
   },
   {
    "duration": 36,
    "start_time": "2022-09-06T13:41:01.736Z"
   },
   {
    "duration": 43,
    "start_time": "2022-09-06T13:41:01.773Z"
   },
   {
    "duration": 32,
    "start_time": "2022-09-06T13:41:01.818Z"
   },
   {
    "duration": 27,
    "start_time": "2022-09-06T13:41:01.852Z"
   },
   {
    "duration": 44,
    "start_time": "2022-09-06T13:41:01.881Z"
   },
   {
    "duration": 30,
    "start_time": "2022-09-06T13:41:01.927Z"
   },
   {
    "duration": 58,
    "start_time": "2022-09-06T13:41:01.960Z"
   },
   {
    "duration": 11,
    "start_time": "2022-09-06T13:41:02.020Z"
   },
   {
    "duration": 413,
    "start_time": "2022-09-06T13:41:02.032Z"
   },
   {
    "duration": 561,
    "start_time": "2022-09-06T13:41:02.446Z"
   },
   {
    "duration": 620,
    "start_time": "2022-09-06T13:41:03.009Z"
   },
   {
    "duration": 5,
    "start_time": "2022-09-06T13:41:03.631Z"
   },
   {
    "duration": 130,
    "start_time": "2022-09-06T13:41:03.637Z"
   },
   {
    "duration": 520,
    "start_time": "2022-09-06T13:41:03.769Z"
   },
   {
    "duration": 5,
    "start_time": "2022-09-06T13:41:04.291Z"
   },
   {
    "duration": 9,
    "start_time": "2022-09-06T13:41:04.297Z"
   },
   {
    "duration": 204,
    "start_time": "2022-09-06T13:41:04.308Z"
   },
   {
    "duration": 467,
    "start_time": "2022-09-06T13:41:04.514Z"
   },
   {
    "duration": 178,
    "start_time": "2022-09-06T13:41:04.986Z"
   },
   {
    "duration": 356,
    "start_time": "2022-09-06T13:41:05.165Z"
   },
   {
    "duration": 37,
    "start_time": "2022-09-06T13:41:05.522Z"
   },
   {
    "duration": 310,
    "start_time": "2022-09-06T13:41:05.561Z"
   },
   {
    "duration": 51,
    "start_time": "2022-09-06T13:41:05.873Z"
   },
   {
    "duration": 6,
    "start_time": "2022-09-06T13:41:05.926Z"
   },
   {
    "duration": 21,
    "start_time": "2022-09-06T13:41:05.936Z"
   },
   {
    "duration": 679,
    "start_time": "2022-09-06T13:41:05.959Z"
   },
   {
    "duration": 76,
    "start_time": "2022-09-06T13:41:06.640Z"
   },
   {
    "duration": 260,
    "start_time": "2022-09-06T13:41:06.718Z"
   },
   {
    "duration": 12,
    "start_time": "2022-09-06T13:41:06.980Z"
   },
   {
    "duration": 9,
    "start_time": "2022-09-06T13:41:06.993Z"
   },
   {
    "duration": 3,
    "start_time": "2022-09-06T13:41:07.004Z"
   },
   {
    "duration": 15,
    "start_time": "2022-09-06T13:41:07.009Z"
   },
   {
    "duration": 18,
    "start_time": "2022-09-06T13:41:07.026Z"
   },
   {
    "duration": 49,
    "start_time": "2022-09-06T13:41:07.045Z"
   },
   {
    "duration": 33,
    "start_time": "2022-09-06T13:41:07.096Z"
   },
   {
    "duration": 25,
    "start_time": "2022-09-06T13:41:07.131Z"
   },
   {
    "duration": 56,
    "start_time": "2022-09-06T13:41:07.158Z"
   },
   {
    "duration": 342,
    "start_time": "2022-09-06T13:41:07.215Z"
   },
   {
    "duration": 6,
    "start_time": "2022-09-06T13:41:07.559Z"
   },
   {
    "duration": 27,
    "start_time": "2022-09-06T13:41:07.567Z"
   },
   {
    "duration": 33,
    "start_time": "2022-09-06T13:41:07.596Z"
   },
   {
    "duration": 3,
    "start_time": "2022-09-06T13:41:07.631Z"
   },
   {
    "duration": 1111,
    "start_time": "2022-09-06T13:41:07.635Z"
   },
   {
    "duration": 12,
    "start_time": "2022-09-06T13:41:08.747Z"
   },
   {
    "duration": 536,
    "start_time": "2022-09-06T13:41:08.761Z"
   },
   {
    "duration": 92,
    "start_time": "2022-09-06T13:41:09.299Z"
   },
   {
    "duration": 194,
    "start_time": "2022-09-06T13:41:09.397Z"
   },
   {
    "duration": 8,
    "start_time": "2022-09-06T13:41:09.593Z"
   },
   {
    "duration": 695,
    "start_time": "2022-09-06T13:41:09.602Z"
   },
   {
    "duration": 8,
    "start_time": "2022-09-06T13:41:10.298Z"
   },
   {
    "duration": 392,
    "start_time": "2022-09-06T13:41:10.308Z"
   },
   {
    "duration": 186,
    "start_time": "2022-09-06T13:41:10.701Z"
   },
   {
    "duration": 103,
    "start_time": "2022-09-06T13:41:10.889Z"
   },
   {
    "duration": 11,
    "start_time": "2022-09-06T13:41:10.994Z"
   },
   {
    "duration": 7,
    "start_time": "2022-09-06T13:41:11.007Z"
   },
   {
    "duration": 8,
    "start_time": "2022-09-06T13:41:11.015Z"
   },
   {
    "duration": 637,
    "start_time": "2022-09-06T13:41:11.024Z"
   },
   {
    "duration": 4,
    "start_time": "2022-09-06T13:41:11.663Z"
   },
   {
    "duration": 631,
    "start_time": "2022-09-06T13:41:11.669Z"
   },
   {
    "duration": 0,
    "start_time": "2022-09-06T13:41:12.302Z"
   },
   {
    "duration": 1457,
    "start_time": "2022-09-06T13:42:23.830Z"
   },
   {
    "duration": 2,
    "start_time": "2022-09-06T13:42:25.289Z"
   },
   {
    "duration": 73,
    "start_time": "2022-09-06T13:42:25.293Z"
   },
   {
    "duration": 30,
    "start_time": "2022-09-06T13:42:25.368Z"
   },
   {
    "duration": 41,
    "start_time": "2022-09-06T13:42:25.400Z"
   },
   {
    "duration": 30,
    "start_time": "2022-09-06T13:42:25.443Z"
   },
   {
    "duration": 24,
    "start_time": "2022-09-06T13:42:25.475Z"
   },
   {
    "duration": 34,
    "start_time": "2022-09-06T13:42:25.500Z"
   },
   {
    "duration": 29,
    "start_time": "2022-09-06T13:42:25.536Z"
   },
   {
    "duration": 57,
    "start_time": "2022-09-06T13:42:25.567Z"
   },
   {
    "duration": 9,
    "start_time": "2022-09-06T13:42:25.626Z"
   },
   {
    "duration": 431,
    "start_time": "2022-09-06T13:42:25.636Z"
   },
   {
    "duration": 647,
    "start_time": "2022-09-06T13:42:26.068Z"
   },
   {
    "duration": 589,
    "start_time": "2022-09-06T13:42:26.719Z"
   },
   {
    "duration": 5,
    "start_time": "2022-09-06T13:42:27.310Z"
   },
   {
    "duration": 111,
    "start_time": "2022-09-06T13:42:27.316Z"
   },
   {
    "duration": 560,
    "start_time": "2022-09-06T13:42:27.428Z"
   },
   {
    "duration": 4,
    "start_time": "2022-09-06T13:42:27.990Z"
   },
   {
    "duration": 7,
    "start_time": "2022-09-06T13:42:27.995Z"
   },
   {
    "duration": 214,
    "start_time": "2022-09-06T13:42:28.003Z"
   },
   {
    "duration": 448,
    "start_time": "2022-09-06T13:42:28.219Z"
   },
   {
    "duration": 170,
    "start_time": "2022-09-06T13:42:28.668Z"
   },
   {
    "duration": 338,
    "start_time": "2022-09-06T13:42:28.839Z"
   },
   {
    "duration": 40,
    "start_time": "2022-09-06T13:42:29.179Z"
   },
   {
    "duration": 306,
    "start_time": "2022-09-06T13:42:29.221Z"
   },
   {
    "duration": 40,
    "start_time": "2022-09-06T13:42:29.529Z"
   },
   {
    "duration": 7,
    "start_time": "2022-09-06T13:42:29.587Z"
   },
   {
    "duration": 20,
    "start_time": "2022-09-06T13:42:29.595Z"
   },
   {
    "duration": 541,
    "start_time": "2022-09-06T13:42:29.617Z"
   },
   {
    "duration": 73,
    "start_time": "2022-09-06T13:42:30.160Z"
   },
   {
    "duration": 272,
    "start_time": "2022-09-06T13:42:30.234Z"
   },
   {
    "duration": 7,
    "start_time": "2022-09-06T13:42:30.507Z"
   },
   {
    "duration": 18,
    "start_time": "2022-09-06T13:42:30.516Z"
   },
   {
    "duration": 15,
    "start_time": "2022-09-06T13:42:30.535Z"
   },
   {
    "duration": 39,
    "start_time": "2022-09-06T13:42:30.552Z"
   },
   {
    "duration": 21,
    "start_time": "2022-09-06T13:42:30.593Z"
   },
   {
    "duration": 24,
    "start_time": "2022-09-06T13:42:30.616Z"
   },
   {
    "duration": 51,
    "start_time": "2022-09-06T13:42:30.642Z"
   },
   {
    "duration": 27,
    "start_time": "2022-09-06T13:42:30.695Z"
   },
   {
    "duration": 42,
    "start_time": "2022-09-06T13:42:30.723Z"
   },
   {
    "duration": 373,
    "start_time": "2022-09-06T13:42:30.769Z"
   },
   {
    "duration": 5,
    "start_time": "2022-09-06T13:42:31.144Z"
   },
   {
    "duration": 13,
    "start_time": "2022-09-06T13:42:31.150Z"
   },
   {
    "duration": 31,
    "start_time": "2022-09-06T13:42:31.164Z"
   },
   {
    "duration": 3,
    "start_time": "2022-09-06T13:42:31.197Z"
   },
   {
    "duration": 548,
    "start_time": "2022-09-06T13:42:31.202Z"
   },
   {
    "duration": 9,
    "start_time": "2022-09-06T13:42:31.751Z"
   },
   {
    "duration": 532,
    "start_time": "2022-09-06T13:42:31.762Z"
   },
   {
    "duration": 94,
    "start_time": "2022-09-06T13:42:32.295Z"
   },
   {
    "duration": 109,
    "start_time": "2022-09-06T13:42:32.392Z"
   },
   {
    "duration": 84,
    "start_time": "2022-09-06T13:42:32.503Z"
   },
   {
    "duration": 487,
    "start_time": "2022-09-06T13:42:32.589Z"
   },
   {
    "duration": 7,
    "start_time": "2022-09-06T13:42:33.078Z"
   },
   {
    "duration": 412,
    "start_time": "2022-09-06T13:42:33.087Z"
   },
   {
    "duration": 92,
    "start_time": "2022-09-06T13:42:33.501Z"
   },
   {
    "duration": 105,
    "start_time": "2022-09-06T13:42:33.596Z"
   },
   {
    "duration": 13,
    "start_time": "2022-09-06T13:42:33.787Z"
   },
   {
    "duration": 11,
    "start_time": "2022-09-06T13:42:33.801Z"
   },
   {
    "duration": 6,
    "start_time": "2022-09-06T13:42:33.814Z"
   },
   {
    "duration": 407,
    "start_time": "2022-09-06T13:42:33.822Z"
   },
   {
    "duration": 5,
    "start_time": "2022-09-06T13:42:34.231Z"
   },
   {
    "duration": 618,
    "start_time": "2022-09-06T13:42:34.237Z"
   },
   {
    "duration": 5,
    "start_time": "2022-09-06T13:42:34.857Z"
   },
   {
    "duration": 1547,
    "start_time": "2022-09-06T13:44:19.022Z"
   },
   {
    "duration": 3,
    "start_time": "2022-09-06T13:44:20.570Z"
   },
   {
    "duration": 73,
    "start_time": "2022-09-06T13:44:20.575Z"
   },
   {
    "duration": 32,
    "start_time": "2022-09-06T13:44:20.650Z"
   },
   {
    "duration": 42,
    "start_time": "2022-09-06T13:44:20.683Z"
   },
   {
    "duration": 31,
    "start_time": "2022-09-06T13:44:20.727Z"
   },
   {
    "duration": 24,
    "start_time": "2022-09-06T13:44:20.760Z"
   },
   {
    "duration": 33,
    "start_time": "2022-09-06T13:44:20.786Z"
   },
   {
    "duration": 27,
    "start_time": "2022-09-06T13:44:20.821Z"
   },
   {
    "duration": 52,
    "start_time": "2022-09-06T13:44:20.851Z"
   },
   {
    "duration": 10,
    "start_time": "2022-09-06T13:44:20.904Z"
   },
   {
    "duration": 373,
    "start_time": "2022-09-06T13:44:20.916Z"
   },
   {
    "duration": 525,
    "start_time": "2022-09-06T13:44:21.291Z"
   },
   {
    "duration": 570,
    "start_time": "2022-09-06T13:44:21.818Z"
   },
   {
    "duration": 5,
    "start_time": "2022-09-06T13:44:22.389Z"
   },
   {
    "duration": 107,
    "start_time": "2022-09-06T13:44:22.395Z"
   },
   {
    "duration": 489,
    "start_time": "2022-09-06T13:44:22.503Z"
   },
   {
    "duration": 5,
    "start_time": "2022-09-06T13:44:22.993Z"
   },
   {
    "duration": 5,
    "start_time": "2022-09-06T13:44:22.999Z"
   },
   {
    "duration": 200,
    "start_time": "2022-09-06T13:44:23.006Z"
   },
   {
    "duration": 468,
    "start_time": "2022-09-06T13:44:23.207Z"
   },
   {
    "duration": 176,
    "start_time": "2022-09-06T13:44:23.676Z"
   },
   {
    "duration": 340,
    "start_time": "2022-09-06T13:44:23.854Z"
   },
   {
    "duration": 33,
    "start_time": "2022-09-06T13:44:24.196Z"
   },
   {
    "duration": 295,
    "start_time": "2022-09-06T13:44:24.231Z"
   },
   {
    "duration": 67,
    "start_time": "2022-09-06T13:44:24.528Z"
   },
   {
    "duration": 7,
    "start_time": "2022-09-06T13:44:24.597Z"
   },
   {
    "duration": 14,
    "start_time": "2022-09-06T13:44:24.608Z"
   },
   {
    "duration": 531,
    "start_time": "2022-09-06T13:44:24.623Z"
   },
   {
    "duration": 65,
    "start_time": "2022-09-06T13:44:25.156Z"
   },
   {
    "duration": 251,
    "start_time": "2022-09-06T13:44:25.222Z"
   },
   {
    "duration": 13,
    "start_time": "2022-09-06T13:44:25.474Z"
   },
   {
    "duration": 9,
    "start_time": "2022-09-06T13:44:25.489Z"
   },
   {
    "duration": 5,
    "start_time": "2022-09-06T13:44:25.499Z"
   },
   {
    "duration": 13,
    "start_time": "2022-09-06T13:44:25.506Z"
   },
   {
    "duration": 18,
    "start_time": "2022-09-06T13:44:25.521Z"
   },
   {
    "duration": 15,
    "start_time": "2022-09-06T13:44:25.541Z"
   },
   {
    "duration": 31,
    "start_time": "2022-09-06T13:44:25.586Z"
   },
   {
    "duration": 23,
    "start_time": "2022-09-06T13:44:25.619Z"
   },
   {
    "duration": 54,
    "start_time": "2022-09-06T13:44:25.644Z"
   },
   {
    "duration": 374,
    "start_time": "2022-09-06T13:44:25.700Z"
   },
   {
    "duration": 12,
    "start_time": "2022-09-06T13:44:26.076Z"
   },
   {
    "duration": 9,
    "start_time": "2022-09-06T13:44:26.090Z"
   },
   {
    "duration": 17,
    "start_time": "2022-09-06T13:44:26.101Z"
   },
   {
    "duration": 3,
    "start_time": "2022-09-06T13:44:26.120Z"
   },
   {
    "duration": 674,
    "start_time": "2022-09-06T13:44:26.125Z"
   },
   {
    "duration": 10,
    "start_time": "2022-09-06T13:44:26.801Z"
   },
   {
    "duration": 582,
    "start_time": "2022-09-06T13:44:26.814Z"
   },
   {
    "duration": 91,
    "start_time": "2022-09-06T13:44:27.398Z"
   },
   {
    "duration": 102,
    "start_time": "2022-09-06T13:44:27.491Z"
   },
   {
    "duration": 103,
    "start_time": "2022-09-06T13:44:27.595Z"
   },
   {
    "duration": 448,
    "start_time": "2022-09-06T13:44:27.700Z"
   },
   {
    "duration": 7,
    "start_time": "2022-09-06T13:44:28.150Z"
   },
   {
    "duration": 336,
    "start_time": "2022-09-06T13:44:28.160Z"
   },
   {
    "duration": 93,
    "start_time": "2022-09-06T13:44:28.498Z"
   },
   {
    "duration": 91,
    "start_time": "2022-09-06T13:44:28.595Z"
   },
   {
    "duration": 100,
    "start_time": "2022-09-06T13:44:28.690Z"
   },
   {
    "duration": 21,
    "start_time": "2022-09-06T13:44:28.792Z"
   },
   {
    "duration": 15,
    "start_time": "2022-09-06T13:44:28.815Z"
   },
   {
    "duration": 504,
    "start_time": "2022-09-06T13:44:28.832Z"
   },
   {
    "duration": 4,
    "start_time": "2022-09-06T13:44:29.337Z"
   },
   {
    "duration": 561,
    "start_time": "2022-09-06T13:44:29.342Z"
   },
   {
    "duration": 5,
    "start_time": "2022-09-06T13:44:29.904Z"
   },
   {
    "duration": 1573,
    "start_time": "2022-09-06T13:49:28.845Z"
   },
   {
    "duration": 3,
    "start_time": "2022-09-06T13:49:30.420Z"
   },
   {
    "duration": 80,
    "start_time": "2022-09-06T13:49:30.424Z"
   },
   {
    "duration": 31,
    "start_time": "2022-09-06T13:49:30.506Z"
   },
   {
    "duration": 42,
    "start_time": "2022-09-06T13:49:30.539Z"
   },
   {
    "duration": 32,
    "start_time": "2022-09-06T13:49:30.583Z"
   },
   {
    "duration": 26,
    "start_time": "2022-09-06T13:49:30.616Z"
   },
   {
    "duration": 40,
    "start_time": "2022-09-06T13:49:30.644Z"
   },
   {
    "duration": 28,
    "start_time": "2022-09-06T13:49:30.685Z"
   },
   {
    "duration": 77,
    "start_time": "2022-09-06T13:49:30.716Z"
   },
   {
    "duration": 10,
    "start_time": "2022-09-06T13:49:30.794Z"
   },
   {
    "duration": 389,
    "start_time": "2022-09-06T13:49:30.805Z"
   },
   {
    "duration": 493,
    "start_time": "2022-09-06T13:49:31.195Z"
   },
   {
    "duration": 600,
    "start_time": "2022-09-06T13:49:31.690Z"
   },
   {
    "duration": 5,
    "start_time": "2022-09-06T13:49:32.291Z"
   },
   {
    "duration": 110,
    "start_time": "2022-09-06T13:49:32.297Z"
   },
   {
    "duration": 481,
    "start_time": "2022-09-06T13:49:32.409Z"
   },
   {
    "duration": 5,
    "start_time": "2022-09-06T13:49:32.891Z"
   },
   {
    "duration": 8,
    "start_time": "2022-09-06T13:49:32.898Z"
   },
   {
    "duration": 208,
    "start_time": "2022-09-06T13:49:32.907Z"
   },
   {
    "duration": 445,
    "start_time": "2022-09-06T13:49:33.116Z"
   },
   {
    "duration": 163,
    "start_time": "2022-09-06T13:49:33.562Z"
   },
   {
    "duration": 336,
    "start_time": "2022-09-06T13:49:33.727Z"
   },
   {
    "duration": 41,
    "start_time": "2022-09-06T13:49:34.065Z"
   },
   {
    "duration": 484,
    "start_time": "2022-09-06T13:49:34.107Z"
   },
   {
    "duration": 96,
    "start_time": "2022-09-06T13:49:34.593Z"
   },
   {
    "duration": 9,
    "start_time": "2022-09-06T13:49:34.691Z"
   },
   {
    "duration": 23,
    "start_time": "2022-09-06T13:49:34.704Z"
   },
   {
    "duration": 797,
    "start_time": "2022-09-06T13:49:34.729Z"
   },
   {
    "duration": 165,
    "start_time": "2022-09-06T13:49:35.528Z"
   },
   {
    "duration": 449,
    "start_time": "2022-09-06T13:49:35.695Z"
   },
   {
    "duration": 41,
    "start_time": "2022-09-06T13:49:36.146Z"
   },
   {
    "duration": 8,
    "start_time": "2022-09-06T13:49:36.189Z"
   },
   {
    "duration": 4,
    "start_time": "2022-09-06T13:49:36.198Z"
   },
   {
    "duration": 29,
    "start_time": "2022-09-06T13:49:36.203Z"
   },
   {
    "duration": 21,
    "start_time": "2022-09-06T13:49:36.233Z"
   },
   {
    "duration": 33,
    "start_time": "2022-09-06T13:49:36.256Z"
   },
   {
    "duration": 46,
    "start_time": "2022-09-06T13:49:36.291Z"
   },
   {
    "duration": 51,
    "start_time": "2022-09-06T13:49:36.338Z"
   },
   {
    "duration": 43,
    "start_time": "2022-09-06T13:49:36.391Z"
   },
   {
    "duration": 374,
    "start_time": "2022-09-06T13:49:36.436Z"
   },
   {
    "duration": 5,
    "start_time": "2022-09-06T13:49:36.812Z"
   },
   {
    "duration": 10,
    "start_time": "2022-09-06T13:49:36.819Z"
   },
   {
    "duration": 16,
    "start_time": "2022-09-06T13:49:36.830Z"
   },
   {
    "duration": 3,
    "start_time": "2022-09-06T13:49:36.847Z"
   },
   {
    "duration": 723,
    "start_time": "2022-09-06T13:49:36.851Z"
   },
   {
    "duration": 47,
    "start_time": "2022-09-06T13:49:37.576Z"
   },
   {
    "duration": 0,
    "start_time": "2022-09-06T13:49:37.625Z"
   },
   {
    "duration": 0,
    "start_time": "2022-09-06T13:49:37.627Z"
   },
   {
    "duration": 0,
    "start_time": "2022-09-06T13:49:37.629Z"
   },
   {
    "duration": 0,
    "start_time": "2022-09-06T13:49:37.630Z"
   },
   {
    "duration": 0,
    "start_time": "2022-09-06T13:49:37.631Z"
   },
   {
    "duration": 0,
    "start_time": "2022-09-06T13:49:37.633Z"
   },
   {
    "duration": 0,
    "start_time": "2022-09-06T13:49:37.634Z"
   },
   {
    "duration": 0,
    "start_time": "2022-09-06T13:49:37.635Z"
   },
   {
    "duration": 0,
    "start_time": "2022-09-06T13:49:37.636Z"
   },
   {
    "duration": 0,
    "start_time": "2022-09-06T13:49:37.637Z"
   },
   {
    "duration": 0,
    "start_time": "2022-09-06T13:49:37.638Z"
   },
   {
    "duration": 0,
    "start_time": "2022-09-06T13:49:37.639Z"
   },
   {
    "duration": 0,
    "start_time": "2022-09-06T13:49:37.640Z"
   },
   {
    "duration": 0,
    "start_time": "2022-09-06T13:49:37.641Z"
   },
   {
    "duration": 0,
    "start_time": "2022-09-06T13:49:37.642Z"
   },
   {
    "duration": 0,
    "start_time": "2022-09-06T13:49:37.643Z"
   },
   {
    "duration": 0,
    "start_time": "2022-09-06T13:49:37.644Z"
   },
   {
    "duration": 1497,
    "start_time": "2022-09-06T13:52:09.843Z"
   },
   {
    "duration": 3,
    "start_time": "2022-09-06T13:52:11.342Z"
   },
   {
    "duration": 83,
    "start_time": "2022-09-06T13:52:11.346Z"
   },
   {
    "duration": 32,
    "start_time": "2022-09-06T13:52:11.431Z"
   },
   {
    "duration": 42,
    "start_time": "2022-09-06T13:52:11.465Z"
   },
   {
    "duration": 31,
    "start_time": "2022-09-06T13:52:11.509Z"
   },
   {
    "duration": 26,
    "start_time": "2022-09-06T13:52:11.542Z"
   },
   {
    "duration": 36,
    "start_time": "2022-09-06T13:52:11.569Z"
   },
   {
    "duration": 29,
    "start_time": "2022-09-06T13:52:11.607Z"
   },
   {
    "duration": 66,
    "start_time": "2022-09-06T13:52:11.640Z"
   },
   {
    "duration": 11,
    "start_time": "2022-09-06T13:52:11.707Z"
   },
   {
    "duration": 437,
    "start_time": "2022-09-06T13:52:11.720Z"
   },
   {
    "duration": 576,
    "start_time": "2022-09-06T13:52:12.159Z"
   },
   {
    "duration": 639,
    "start_time": "2022-09-06T13:52:12.736Z"
   },
   {
    "duration": 12,
    "start_time": "2022-09-06T13:52:13.376Z"
   },
   {
    "duration": 120,
    "start_time": "2022-09-06T13:52:13.390Z"
   },
   {
    "duration": 605,
    "start_time": "2022-09-06T13:52:13.512Z"
   },
   {
    "duration": 6,
    "start_time": "2022-09-06T13:52:14.119Z"
   },
   {
    "duration": 8,
    "start_time": "2022-09-06T13:52:14.126Z"
   },
   {
    "duration": 217,
    "start_time": "2022-09-06T13:52:14.135Z"
   },
   {
    "duration": 536,
    "start_time": "2022-09-06T13:52:14.354Z"
   },
   {
    "duration": 199,
    "start_time": "2022-09-06T13:52:14.892Z"
   },
   {
    "duration": 362,
    "start_time": "2022-09-06T13:52:15.092Z"
   },
   {
    "duration": 48,
    "start_time": "2022-09-06T13:52:15.455Z"
   },
   {
    "duration": 348,
    "start_time": "2022-09-06T13:52:15.505Z"
   },
   {
    "duration": 57,
    "start_time": "2022-09-06T13:52:15.855Z"
   },
   {
    "duration": 6,
    "start_time": "2022-09-06T13:52:15.914Z"
   },
   {
    "duration": 18,
    "start_time": "2022-09-06T13:52:15.924Z"
   },
   {
    "duration": 595,
    "start_time": "2022-09-06T13:52:15.944Z"
   },
   {
    "duration": 94,
    "start_time": "2022-09-06T13:52:16.540Z"
   },
   {
    "duration": 268,
    "start_time": "2022-09-06T13:52:16.636Z"
   },
   {
    "duration": 8,
    "start_time": "2022-09-06T13:52:16.906Z"
   },
   {
    "duration": 9,
    "start_time": "2022-09-06T13:52:16.915Z"
   },
   {
    "duration": 4,
    "start_time": "2022-09-06T13:52:16.925Z"
   },
   {
    "duration": 16,
    "start_time": "2022-09-06T13:52:16.931Z"
   },
   {
    "duration": 18,
    "start_time": "2022-09-06T13:52:16.949Z"
   },
   {
    "duration": 17,
    "start_time": "2022-09-06T13:52:16.987Z"
   },
   {
    "duration": 35,
    "start_time": "2022-09-06T13:52:17.005Z"
   },
   {
    "duration": 49,
    "start_time": "2022-09-06T13:52:17.042Z"
   },
   {
    "duration": 38,
    "start_time": "2022-09-06T13:52:17.093Z"
   },
   {
    "duration": 371,
    "start_time": "2022-09-06T13:52:17.133Z"
   },
   {
    "duration": 6,
    "start_time": "2022-09-06T13:52:17.506Z"
   },
   {
    "duration": 10,
    "start_time": "2022-09-06T13:52:17.514Z"
   },
   {
    "duration": 18,
    "start_time": "2022-09-06T13:52:17.525Z"
   },
   {
    "duration": 3,
    "start_time": "2022-09-06T13:52:17.547Z"
   },
   {
    "duration": 3990,
    "start_time": "2022-09-06T13:52:17.552Z"
   },
   {
    "duration": 0,
    "start_time": "2022-09-06T13:52:21.544Z"
   },
   {
    "duration": 0,
    "start_time": "2022-09-06T13:52:21.545Z"
   },
   {
    "duration": 0,
    "start_time": "2022-09-06T13:52:21.546Z"
   },
   {
    "duration": 0,
    "start_time": "2022-09-06T13:52:21.547Z"
   },
   {
    "duration": 0,
    "start_time": "2022-09-06T13:52:21.549Z"
   },
   {
    "duration": 0,
    "start_time": "2022-09-06T13:52:21.549Z"
   },
   {
    "duration": 0,
    "start_time": "2022-09-06T13:52:21.550Z"
   },
   {
    "duration": 0,
    "start_time": "2022-09-06T13:52:21.552Z"
   },
   {
    "duration": 0,
    "start_time": "2022-09-06T13:52:21.553Z"
   },
   {
    "duration": 0,
    "start_time": "2022-09-06T13:52:21.554Z"
   },
   {
    "duration": 0,
    "start_time": "2022-09-06T13:52:21.555Z"
   },
   {
    "duration": 0,
    "start_time": "2022-09-06T13:52:21.556Z"
   },
   {
    "duration": 0,
    "start_time": "2022-09-06T13:52:21.557Z"
   },
   {
    "duration": 0,
    "start_time": "2022-09-06T13:52:21.558Z"
   },
   {
    "duration": 0,
    "start_time": "2022-09-06T13:52:21.559Z"
   },
   {
    "duration": 0,
    "start_time": "2022-09-06T13:52:21.560Z"
   },
   {
    "duration": 0,
    "start_time": "2022-09-06T13:52:21.561Z"
   },
   {
    "duration": 1404,
    "start_time": "2022-09-06T13:54:40.697Z"
   },
   {
    "duration": 3,
    "start_time": "2022-09-06T13:54:42.103Z"
   },
   {
    "duration": 70,
    "start_time": "2022-09-06T13:54:42.108Z"
   },
   {
    "duration": 32,
    "start_time": "2022-09-06T13:54:42.180Z"
   },
   {
    "duration": 43,
    "start_time": "2022-09-06T13:54:42.213Z"
   },
   {
    "duration": 30,
    "start_time": "2022-09-06T13:54:42.258Z"
   },
   {
    "duration": 25,
    "start_time": "2022-09-06T13:54:42.289Z"
   },
   {
    "duration": 33,
    "start_time": "2022-09-06T13:54:42.315Z"
   },
   {
    "duration": 27,
    "start_time": "2022-09-06T13:54:42.350Z"
   },
   {
    "duration": 54,
    "start_time": "2022-09-06T13:54:42.379Z"
   },
   {
    "duration": 9,
    "start_time": "2022-09-06T13:54:42.435Z"
   },
   {
    "duration": 390,
    "start_time": "2022-09-06T13:54:42.446Z"
   },
   {
    "duration": 573,
    "start_time": "2022-09-06T13:54:42.838Z"
   },
   {
    "duration": 588,
    "start_time": "2022-09-06T13:54:43.413Z"
   },
   {
    "duration": 5,
    "start_time": "2022-09-06T13:54:44.002Z"
   },
   {
    "duration": 120,
    "start_time": "2022-09-06T13:54:44.008Z"
   },
   {
    "duration": 557,
    "start_time": "2022-09-06T13:54:44.130Z"
   },
   {
    "duration": 4,
    "start_time": "2022-09-06T13:54:44.689Z"
   },
   {
    "duration": 5,
    "start_time": "2022-09-06T13:54:44.695Z"
   },
   {
    "duration": 206,
    "start_time": "2022-09-06T13:54:44.702Z"
   },
   {
    "duration": 461,
    "start_time": "2022-09-06T13:54:44.909Z"
   },
   {
    "duration": 168,
    "start_time": "2022-09-06T13:54:45.372Z"
   },
   {
    "duration": 347,
    "start_time": "2022-09-06T13:54:45.541Z"
   },
   {
    "duration": 33,
    "start_time": "2022-09-06T13:54:45.890Z"
   },
   {
    "duration": 332,
    "start_time": "2022-09-06T13:54:45.925Z"
   },
   {
    "duration": 62,
    "start_time": "2022-09-06T13:54:46.259Z"
   },
   {
    "duration": 7,
    "start_time": "2022-09-06T13:54:46.323Z"
   },
   {
    "duration": 24,
    "start_time": "2022-09-06T13:54:46.335Z"
   },
   {
    "duration": 598,
    "start_time": "2022-09-06T13:54:46.361Z"
   },
   {
    "duration": 66,
    "start_time": "2022-09-06T13:54:46.961Z"
   },
   {
    "duration": 260,
    "start_time": "2022-09-06T13:54:47.028Z"
   },
   {
    "duration": 8,
    "start_time": "2022-09-06T13:54:47.289Z"
   },
   {
    "duration": 11,
    "start_time": "2022-09-06T13:54:47.298Z"
   },
   {
    "duration": 9,
    "start_time": "2022-09-06T13:54:47.311Z"
   },
   {
    "duration": 13,
    "start_time": "2022-09-06T13:54:47.322Z"
   },
   {
    "duration": 18,
    "start_time": "2022-09-06T13:54:47.337Z"
   },
   {
    "duration": 36,
    "start_time": "2022-09-06T13:54:47.357Z"
   },
   {
    "duration": 34,
    "start_time": "2022-09-06T13:54:47.395Z"
   },
   {
    "duration": 24,
    "start_time": "2022-09-06T13:54:47.431Z"
   },
   {
    "duration": 56,
    "start_time": "2022-09-06T13:54:47.457Z"
   },
   {
    "duration": 351,
    "start_time": "2022-09-06T13:54:47.515Z"
   },
   {
    "duration": 5,
    "start_time": "2022-09-06T13:54:47.868Z"
   },
   {
    "duration": 13,
    "start_time": "2022-09-06T13:54:47.874Z"
   },
   {
    "duration": 12,
    "start_time": "2022-09-06T13:54:47.889Z"
   },
   {
    "duration": 8,
    "start_time": "2022-09-06T13:54:47.903Z"
   },
   {
    "duration": 3651,
    "start_time": "2022-09-06T13:54:47.912Z"
   },
   {
    "duration": 12,
    "start_time": "2022-09-06T13:54:51.564Z"
   },
   {
    "duration": 710,
    "start_time": "2022-09-06T13:54:51.578Z"
   },
   {
    "duration": 11,
    "start_time": "2022-09-06T13:54:52.290Z"
   },
   {
    "duration": 94,
    "start_time": "2022-09-06T13:54:52.303Z"
   },
   {
    "duration": 7,
    "start_time": "2022-09-06T13:54:52.487Z"
   },
   {
    "duration": 483,
    "start_time": "2022-09-06T13:54:52.496Z"
   },
   {
    "duration": 10,
    "start_time": "2022-09-06T13:54:52.981Z"
   },
   {
    "duration": 402,
    "start_time": "2022-09-06T13:54:52.994Z"
   },
   {
    "duration": 95,
    "start_time": "2022-09-06T13:54:53.398Z"
   },
   {
    "duration": 194,
    "start_time": "2022-09-06T13:54:53.496Z"
   },
   {
    "duration": 14,
    "start_time": "2022-09-06T13:54:53.692Z"
   },
   {
    "duration": 7,
    "start_time": "2022-09-06T13:54:53.708Z"
   },
   {
    "duration": 11,
    "start_time": "2022-09-06T13:54:53.716Z"
   },
   {
    "duration": 604,
    "start_time": "2022-09-06T13:54:53.729Z"
   },
   {
    "duration": 4,
    "start_time": "2022-09-06T13:54:54.335Z"
   },
   {
    "duration": 550,
    "start_time": "2022-09-06T13:54:54.341Z"
   },
   {
    "duration": 5,
    "start_time": "2022-09-06T13:54:54.893Z"
   },
   {
    "duration": 1745,
    "start_time": "2022-09-06T13:56:53.112Z"
   },
   {
    "duration": 3,
    "start_time": "2022-09-06T13:56:54.859Z"
   },
   {
    "duration": 73,
    "start_time": "2022-09-06T13:56:54.863Z"
   },
   {
    "duration": 36,
    "start_time": "2022-09-06T13:56:54.938Z"
   },
   {
    "duration": 41,
    "start_time": "2022-09-06T13:56:54.975Z"
   },
   {
    "duration": 31,
    "start_time": "2022-09-06T13:56:55.018Z"
   },
   {
    "duration": 26,
    "start_time": "2022-09-06T13:56:55.051Z"
   },
   {
    "duration": 34,
    "start_time": "2022-09-06T13:56:55.079Z"
   },
   {
    "duration": 26,
    "start_time": "2022-09-06T13:56:55.115Z"
   },
   {
    "duration": 53,
    "start_time": "2022-09-06T13:56:55.144Z"
   },
   {
    "duration": 10,
    "start_time": "2022-09-06T13:56:55.198Z"
   },
   {
    "duration": 349,
    "start_time": "2022-09-06T13:56:55.209Z"
   },
   {
    "duration": 633,
    "start_time": "2022-09-06T13:56:55.560Z"
   },
   {
    "duration": 624,
    "start_time": "2022-09-06T13:56:56.195Z"
   },
   {
    "duration": 5,
    "start_time": "2022-09-06T13:56:56.820Z"
   },
   {
    "duration": 120,
    "start_time": "2022-09-06T13:56:56.826Z"
   },
   {
    "duration": 541,
    "start_time": "2022-09-06T13:56:56.948Z"
   },
   {
    "duration": 5,
    "start_time": "2022-09-06T13:56:57.490Z"
   },
   {
    "duration": 6,
    "start_time": "2022-09-06T13:56:57.496Z"
   },
   {
    "duration": 214,
    "start_time": "2022-09-06T13:56:57.504Z"
   },
   {
    "duration": 460,
    "start_time": "2022-09-06T13:56:57.720Z"
   },
   {
    "duration": 174,
    "start_time": "2022-09-06T13:56:58.181Z"
   },
   {
    "duration": 340,
    "start_time": "2022-09-06T13:56:58.356Z"
   },
   {
    "duration": 36,
    "start_time": "2022-09-06T13:56:58.698Z"
   },
   {
    "duration": 297,
    "start_time": "2022-09-06T13:56:58.736Z"
   },
   {
    "duration": 59,
    "start_time": "2022-09-06T13:56:59.034Z"
   },
   {
    "duration": 6,
    "start_time": "2022-09-06T13:56:59.094Z"
   },
   {
    "duration": 13,
    "start_time": "2022-09-06T13:56:59.104Z"
   },
   {
    "duration": 534,
    "start_time": "2022-09-06T13:56:59.118Z"
   },
   {
    "duration": 66,
    "start_time": "2022-09-06T13:56:59.654Z"
   },
   {
    "duration": 261,
    "start_time": "2022-09-06T13:56:59.722Z"
   },
   {
    "duration": 9,
    "start_time": "2022-09-06T13:56:59.985Z"
   },
   {
    "duration": 11,
    "start_time": "2022-09-06T13:56:59.995Z"
   },
   {
    "duration": 6,
    "start_time": "2022-09-06T13:57:00.008Z"
   },
   {
    "duration": 27,
    "start_time": "2022-09-06T13:57:00.015Z"
   },
   {
    "duration": 35,
    "start_time": "2022-09-06T13:57:00.044Z"
   },
   {
    "duration": 16,
    "start_time": "2022-09-06T13:57:00.081Z"
   },
   {
    "duration": 37,
    "start_time": "2022-09-06T13:57:00.099Z"
   },
   {
    "duration": 25,
    "start_time": "2022-09-06T13:57:00.137Z"
   },
   {
    "duration": 50,
    "start_time": "2022-09-06T13:57:00.163Z"
   },
   {
    "duration": 340,
    "start_time": "2022-09-06T13:57:00.215Z"
   },
   {
    "duration": 5,
    "start_time": "2022-09-06T13:57:00.556Z"
   },
   {
    "duration": 17,
    "start_time": "2022-09-06T13:57:00.563Z"
   },
   {
    "duration": 15,
    "start_time": "2022-09-06T13:57:00.582Z"
   },
   {
    "duration": 12,
    "start_time": "2022-09-06T13:57:00.598Z"
   },
   {
    "duration": 3994,
    "start_time": "2022-09-06T13:57:00.612Z"
   },
   {
    "duration": 133,
    "start_time": "2022-09-06T13:57:04.608Z"
   },
   {
    "duration": 0,
    "start_time": "2022-09-06T13:57:04.742Z"
   },
   {
    "duration": 0,
    "start_time": "2022-09-06T13:57:04.744Z"
   },
   {
    "duration": 0,
    "start_time": "2022-09-06T13:57:04.746Z"
   },
   {
    "duration": 0,
    "start_time": "2022-09-06T13:57:04.748Z"
   },
   {
    "duration": 0,
    "start_time": "2022-09-06T13:57:04.751Z"
   },
   {
    "duration": 0,
    "start_time": "2022-09-06T13:57:04.752Z"
   },
   {
    "duration": 0,
    "start_time": "2022-09-06T13:57:04.753Z"
   },
   {
    "duration": 0,
    "start_time": "2022-09-06T13:57:04.755Z"
   },
   {
    "duration": 0,
    "start_time": "2022-09-06T13:57:04.756Z"
   },
   {
    "duration": 1,
    "start_time": "2022-09-06T13:57:04.757Z"
   },
   {
    "duration": 0,
    "start_time": "2022-09-06T13:57:04.759Z"
   },
   {
    "duration": 0,
    "start_time": "2022-09-06T13:57:04.760Z"
   },
   {
    "duration": 0,
    "start_time": "2022-09-06T13:57:04.762Z"
   },
   {
    "duration": 0,
    "start_time": "2022-09-06T13:57:04.763Z"
   },
   {
    "duration": 0,
    "start_time": "2022-09-06T13:57:04.765Z"
   },
   {
    "duration": 0,
    "start_time": "2022-09-06T13:57:04.767Z"
   },
   {
    "duration": 1661,
    "start_time": "2022-09-06T13:59:23.306Z"
   },
   {
    "duration": 3,
    "start_time": "2022-09-06T13:59:24.969Z"
   },
   {
    "duration": 86,
    "start_time": "2022-09-06T13:59:24.973Z"
   },
   {
    "duration": 33,
    "start_time": "2022-09-06T13:59:25.061Z"
   },
   {
    "duration": 42,
    "start_time": "2022-09-06T13:59:25.096Z"
   },
   {
    "duration": 32,
    "start_time": "2022-09-06T13:59:25.139Z"
   },
   {
    "duration": 25,
    "start_time": "2022-09-06T13:59:25.172Z"
   },
   {
    "duration": 34,
    "start_time": "2022-09-06T13:59:25.199Z"
   },
   {
    "duration": 29,
    "start_time": "2022-09-06T13:59:25.235Z"
   },
   {
    "duration": 55,
    "start_time": "2022-09-06T13:59:25.266Z"
   },
   {
    "duration": 9,
    "start_time": "2022-09-06T13:59:25.323Z"
   },
   {
    "duration": 420,
    "start_time": "2022-09-06T13:59:25.333Z"
   },
   {
    "duration": 609,
    "start_time": "2022-09-06T13:59:25.755Z"
   },
   {
    "duration": 629,
    "start_time": "2022-09-06T13:59:26.368Z"
   },
   {
    "duration": 5,
    "start_time": "2022-09-06T13:59:26.999Z"
   },
   {
    "duration": 123,
    "start_time": "2022-09-06T13:59:27.005Z"
   },
   {
    "duration": 566,
    "start_time": "2022-09-06T13:59:27.130Z"
   },
   {
    "duration": 4,
    "start_time": "2022-09-06T13:59:27.698Z"
   },
   {
    "duration": 21,
    "start_time": "2022-09-06T13:59:27.703Z"
   },
   {
    "duration": 204,
    "start_time": "2022-09-06T13:59:27.725Z"
   },
   {
    "duration": 541,
    "start_time": "2022-09-06T13:59:27.930Z"
   },
   {
    "duration": 177,
    "start_time": "2022-09-06T13:59:28.473Z"
   },
   {
    "duration": 345,
    "start_time": "2022-09-06T13:59:28.652Z"
   },
   {
    "duration": 37,
    "start_time": "2022-09-06T13:59:28.999Z"
   },
   {
    "duration": 297,
    "start_time": "2022-09-06T13:59:29.038Z"
   },
   {
    "duration": 60,
    "start_time": "2022-09-06T13:59:29.337Z"
   },
   {
    "duration": 7,
    "start_time": "2022-09-06T13:59:29.399Z"
   },
   {
    "duration": 33,
    "start_time": "2022-09-06T13:59:29.407Z"
   },
   {
    "duration": 519,
    "start_time": "2022-09-06T13:59:29.442Z"
   },
   {
    "duration": 71,
    "start_time": "2022-09-06T13:59:29.963Z"
   },
   {
    "duration": 272,
    "start_time": "2022-09-06T13:59:30.036Z"
   },
   {
    "duration": 8,
    "start_time": "2022-09-06T13:59:30.309Z"
   },
   {
    "duration": 15,
    "start_time": "2022-09-06T13:59:30.319Z"
   },
   {
    "duration": 8,
    "start_time": "2022-09-06T13:59:30.336Z"
   },
   {
    "duration": 22,
    "start_time": "2022-09-06T13:59:30.345Z"
   },
   {
    "duration": 29,
    "start_time": "2022-09-06T13:59:30.368Z"
   },
   {
    "duration": 16,
    "start_time": "2022-09-06T13:59:30.399Z"
   },
   {
    "duration": 84,
    "start_time": "2022-09-06T13:59:30.417Z"
   },
   {
    "duration": 26,
    "start_time": "2022-09-06T13:59:30.503Z"
   },
   {
    "duration": 36,
    "start_time": "2022-09-06T13:59:30.531Z"
   },
   {
    "duration": 350,
    "start_time": "2022-09-06T13:59:30.586Z"
   },
   {
    "duration": 5,
    "start_time": "2022-09-06T13:59:30.938Z"
   },
   {
    "duration": 23,
    "start_time": "2022-09-06T13:59:30.944Z"
   },
   {
    "duration": 23,
    "start_time": "2022-09-06T13:59:30.969Z"
   },
   {
    "duration": 5,
    "start_time": "2022-09-06T13:59:30.994Z"
   },
   {
    "duration": 5802,
    "start_time": "2022-09-06T13:59:31.001Z"
   },
   {
    "duration": 13,
    "start_time": "2022-09-06T13:59:36.804Z"
   },
   {
    "duration": 1120,
    "start_time": "2022-09-06T13:59:36.888Z"
   },
   {
    "duration": 95,
    "start_time": "2022-09-06T13:59:38.011Z"
   },
   {
    "duration": 203,
    "start_time": "2022-09-06T13:59:38.109Z"
   },
   {
    "duration": 6,
    "start_time": "2022-09-06T13:59:38.314Z"
   },
   {
    "duration": 2732,
    "start_time": "2022-09-06T13:59:38.322Z"
   },
   {
    "duration": 7,
    "start_time": "2022-09-06T13:59:41.056Z"
   },
   {
    "duration": 622,
    "start_time": "2022-09-06T13:59:41.067Z"
   },
   {
    "duration": 15,
    "start_time": "2022-09-06T13:59:41.691Z"
   },
   {
    "duration": 182,
    "start_time": "2022-09-06T13:59:41.708Z"
   },
   {
    "duration": 25,
    "start_time": "2022-09-06T13:59:41.893Z"
   },
   {
    "duration": 12,
    "start_time": "2022-09-06T13:59:41.919Z"
   },
   {
    "duration": 9,
    "start_time": "2022-09-06T13:59:41.933Z"
   },
   {
    "duration": 859,
    "start_time": "2022-09-06T13:59:41.943Z"
   },
   {
    "duration": 3,
    "start_time": "2022-09-06T13:59:42.804Z"
   },
   {
    "duration": 600,
    "start_time": "2022-09-06T13:59:42.808Z"
   },
   {
    "duration": 5,
    "start_time": "2022-09-06T13:59:43.409Z"
   },
   {
    "duration": 1671,
    "start_time": "2022-09-06T14:12:14.117Z"
   },
   {
    "duration": 2,
    "start_time": "2022-09-06T14:12:15.790Z"
   },
   {
    "duration": 12,
    "start_time": "2022-09-06T14:12:15.794Z"
   },
   {
    "duration": 77,
    "start_time": "2022-09-06T14:12:15.808Z"
   },
   {
    "duration": 32,
    "start_time": "2022-09-06T14:12:15.886Z"
   },
   {
    "duration": 43,
    "start_time": "2022-09-06T14:12:15.919Z"
   },
   {
    "duration": 31,
    "start_time": "2022-09-06T14:12:15.963Z"
   },
   {
    "duration": 30,
    "start_time": "2022-09-06T14:12:15.996Z"
   },
   {
    "duration": 45,
    "start_time": "2022-09-06T14:12:16.028Z"
   },
   {
    "duration": 29,
    "start_time": "2022-09-06T14:12:16.075Z"
   },
   {
    "duration": 56,
    "start_time": "2022-09-06T14:12:16.106Z"
   },
   {
    "duration": 32,
    "start_time": "2022-09-06T14:12:16.163Z"
   },
   {
    "duration": 459,
    "start_time": "2022-09-06T14:12:16.196Z"
   },
   {
    "duration": 615,
    "start_time": "2022-09-06T14:12:16.657Z"
   },
   {
    "duration": 535,
    "start_time": "2022-09-06T14:12:17.273Z"
   },
   {
    "duration": 4,
    "start_time": "2022-09-06T14:12:17.810Z"
   },
   {
    "duration": 119,
    "start_time": "2022-09-06T14:12:17.815Z"
   },
   {
    "duration": 552,
    "start_time": "2022-09-06T14:12:17.936Z"
   },
   {
    "duration": 5,
    "start_time": "2022-09-06T14:12:18.489Z"
   },
   {
    "duration": 7,
    "start_time": "2022-09-06T14:12:18.495Z"
   },
   {
    "duration": 205,
    "start_time": "2022-09-06T14:12:18.504Z"
   },
   {
    "duration": 539,
    "start_time": "2022-09-06T14:12:18.711Z"
   },
   {
    "duration": 98,
    "start_time": "2022-09-06T14:12:19.252Z"
   },
   {
    "duration": 357,
    "start_time": "2022-09-06T14:12:19.352Z"
   },
   {
    "duration": 35,
    "start_time": "2022-09-06T14:12:19.710Z"
   },
   {
    "duration": 312,
    "start_time": "2022-09-06T14:12:19.747Z"
   },
   {
    "duration": 49,
    "start_time": "2022-09-06T14:12:20.061Z"
   },
   {
    "duration": 7,
    "start_time": "2022-09-06T14:12:20.115Z"
   },
   {
    "duration": 19,
    "start_time": "2022-09-06T14:12:20.123Z"
   },
   {
    "duration": 526,
    "start_time": "2022-09-06T14:12:20.143Z"
   },
   {
    "duration": 66,
    "start_time": "2022-09-06T14:12:20.671Z"
   },
   {
    "duration": 260,
    "start_time": "2022-09-06T14:12:20.738Z"
   },
   {
    "duration": 9,
    "start_time": "2022-09-06T14:12:21.000Z"
   },
   {
    "duration": 28,
    "start_time": "2022-09-06T14:12:21.011Z"
   },
   {
    "duration": 8,
    "start_time": "2022-09-06T14:12:21.041Z"
   },
   {
    "duration": 15,
    "start_time": "2022-09-06T14:12:21.051Z"
   },
   {
    "duration": 24,
    "start_time": "2022-09-06T14:12:21.067Z"
   },
   {
    "duration": 17,
    "start_time": "2022-09-06T14:12:21.092Z"
   },
   {
    "duration": 33,
    "start_time": "2022-09-06T14:12:21.110Z"
   },
   {
    "duration": 48,
    "start_time": "2022-09-06T14:12:21.144Z"
   },
   {
    "duration": 34,
    "start_time": "2022-09-06T14:12:21.194Z"
   },
   {
    "duration": 342,
    "start_time": "2022-09-06T14:12:21.230Z"
   },
   {
    "duration": 5,
    "start_time": "2022-09-06T14:12:21.574Z"
   },
   {
    "duration": 6,
    "start_time": "2022-09-06T14:12:21.586Z"
   },
   {
    "duration": 15,
    "start_time": "2022-09-06T14:12:21.593Z"
   },
   {
    "duration": 3,
    "start_time": "2022-09-06T14:12:21.609Z"
   },
   {
    "duration": 3946,
    "start_time": "2022-09-06T14:12:21.614Z"
   },
   {
    "duration": 10,
    "start_time": "2022-09-06T14:12:25.562Z"
   },
   {
    "duration": 1520,
    "start_time": "2022-09-06T14:12:25.574Z"
   },
   {
    "duration": 96,
    "start_time": "2022-09-06T14:12:27.096Z"
   },
   {
    "duration": 199,
    "start_time": "2022-09-06T14:12:27.195Z"
   },
   {
    "duration": 4,
    "start_time": "2022-09-06T14:12:27.396Z"
   },
   {
    "duration": 462,
    "start_time": "2022-09-06T14:12:27.401Z"
   },
   {
    "duration": 9,
    "start_time": "2022-09-06T14:12:27.864Z"
   },
   {
    "duration": 422,
    "start_time": "2022-09-06T14:12:27.876Z"
   },
   {
    "duration": 95,
    "start_time": "2022-09-06T14:12:28.300Z"
   },
   {
    "duration": 191,
    "start_time": "2022-09-06T14:12:28.398Z"
   },
   {
    "duration": 28,
    "start_time": "2022-09-06T14:12:28.590Z"
   },
   {
    "duration": 9,
    "start_time": "2022-09-06T14:12:28.619Z"
   },
   {
    "duration": 7,
    "start_time": "2022-09-06T14:12:28.629Z"
   },
   {
    "duration": 836,
    "start_time": "2022-09-06T14:12:28.637Z"
   },
   {
    "duration": 4,
    "start_time": "2022-09-06T14:12:29.475Z"
   },
   {
    "duration": 481,
    "start_time": "2022-09-06T14:12:29.480Z"
   },
   {
    "duration": 4,
    "start_time": "2022-09-06T14:12:29.963Z"
   },
   {
    "duration": 35,
    "start_time": "2022-09-06T14:13:42.241Z"
   },
   {
    "duration": 398,
    "start_time": "2022-09-06T14:13:43.426Z"
   },
   {
    "duration": 35,
    "start_time": "2022-09-06T14:14:03.941Z"
   },
   {
    "duration": 350,
    "start_time": "2022-09-06T14:14:04.677Z"
   },
   {
    "duration": 11,
    "start_time": "2022-09-06T14:18:54.708Z"
   },
   {
    "duration": 113,
    "start_time": "2022-09-06T14:18:57.211Z"
   },
   {
    "duration": 1576,
    "start_time": "2022-09-06T14:19:05.119Z"
   },
   {
    "duration": 4,
    "start_time": "2022-09-06T14:19:06.696Z"
   },
   {
    "duration": 12,
    "start_time": "2022-09-06T14:19:06.701Z"
   },
   {
    "duration": 73,
    "start_time": "2022-09-06T14:19:06.715Z"
   },
   {
    "duration": 32,
    "start_time": "2022-09-06T14:19:06.789Z"
   },
   {
    "duration": 41,
    "start_time": "2022-09-06T14:19:06.823Z"
   },
   {
    "duration": 32,
    "start_time": "2022-09-06T14:19:06.866Z"
   },
   {
    "duration": 25,
    "start_time": "2022-09-06T14:19:06.900Z"
   },
   {
    "duration": 38,
    "start_time": "2022-09-06T14:19:06.927Z"
   },
   {
    "duration": 29,
    "start_time": "2022-09-06T14:19:06.968Z"
   },
   {
    "duration": 58,
    "start_time": "2022-09-06T14:19:06.999Z"
   },
   {
    "duration": 32,
    "start_time": "2022-09-06T14:19:07.059Z"
   },
   {
    "duration": 357,
    "start_time": "2022-09-06T14:19:07.093Z"
   },
   {
    "duration": 647,
    "start_time": "2022-09-06T14:19:07.451Z"
   },
   {
    "duration": 552,
    "start_time": "2022-09-06T14:19:08.099Z"
   },
   {
    "duration": 5,
    "start_time": "2022-09-06T14:19:08.653Z"
   },
   {
    "duration": 122,
    "start_time": "2022-09-06T14:19:08.659Z"
   },
   {
    "duration": 506,
    "start_time": "2022-09-06T14:19:08.782Z"
   },
   {
    "duration": 5,
    "start_time": "2022-09-06T14:19:09.290Z"
   },
   {
    "duration": 8,
    "start_time": "2022-09-06T14:19:09.296Z"
   },
   {
    "duration": 213,
    "start_time": "2022-09-06T14:19:09.305Z"
   },
   {
    "duration": 549,
    "start_time": "2022-09-06T14:19:09.519Z"
   },
   {
    "duration": 88,
    "start_time": "2022-09-06T14:19:10.069Z"
   },
   {
    "duration": 387,
    "start_time": "2022-09-06T14:19:10.159Z"
   },
   {
    "duration": 51,
    "start_time": "2022-09-06T14:19:10.547Z"
   },
   {
    "duration": 289,
    "start_time": "2022-09-06T14:19:10.600Z"
   },
   {
    "duration": 44,
    "start_time": "2022-09-06T14:19:10.890Z"
   },
   {
    "duration": 5,
    "start_time": "2022-09-06T14:19:10.939Z"
   },
   {
    "duration": 50,
    "start_time": "2022-09-06T14:19:10.946Z"
   },
   {
    "duration": 471,
    "start_time": "2022-09-06T14:19:10.998Z"
   },
   {
    "duration": 71,
    "start_time": "2022-09-06T14:19:11.472Z"
   },
   {
    "duration": 265,
    "start_time": "2022-09-06T14:19:11.545Z"
   },
   {
    "duration": 9,
    "start_time": "2022-09-06T14:19:11.812Z"
   },
   {
    "duration": 31,
    "start_time": "2022-09-06T14:19:11.822Z"
   },
   {
    "duration": 7,
    "start_time": "2022-09-06T14:19:11.855Z"
   },
   {
    "duration": 34,
    "start_time": "2022-09-06T14:19:11.863Z"
   },
   {
    "duration": 19,
    "start_time": "2022-09-06T14:19:11.899Z"
   },
   {
    "duration": 20,
    "start_time": "2022-09-06T14:19:11.919Z"
   },
   {
    "duration": 37,
    "start_time": "2022-09-06T14:19:11.941Z"
   },
   {
    "duration": 25,
    "start_time": "2022-09-06T14:19:11.987Z"
   },
   {
    "duration": 36,
    "start_time": "2022-09-06T14:19:12.014Z"
   },
   {
    "duration": 379,
    "start_time": "2022-09-06T14:19:12.052Z"
   },
   {
    "duration": 5,
    "start_time": "2022-09-06T14:19:12.432Z"
   },
   {
    "duration": 13,
    "start_time": "2022-09-06T14:19:12.438Z"
   },
   {
    "duration": 20,
    "start_time": "2022-09-06T14:19:12.452Z"
   },
   {
    "duration": 8,
    "start_time": "2022-09-06T14:19:12.473Z"
   },
   {
    "duration": 3814,
    "start_time": "2022-09-06T14:19:12.487Z"
   },
   {
    "duration": 11,
    "start_time": "2022-09-06T14:19:16.303Z"
   },
   {
    "duration": 1574,
    "start_time": "2022-09-06T14:19:16.316Z"
   },
   {
    "duration": 13,
    "start_time": "2022-09-06T14:19:17.891Z"
   },
   {
    "duration": 101,
    "start_time": "2022-09-06T14:19:17.987Z"
   },
   {
    "duration": 3,
    "start_time": "2022-09-06T14:19:18.090Z"
   },
   {
    "duration": 635,
    "start_time": "2022-09-06T14:19:18.095Z"
   },
   {
    "duration": 7,
    "start_time": "2022-09-06T14:19:18.732Z"
   },
   {
    "duration": 449,
    "start_time": "2022-09-06T14:19:18.741Z"
   },
   {
    "duration": 10,
    "start_time": "2022-09-06T14:19:19.192Z"
   },
   {
    "duration": 88,
    "start_time": "2022-09-06T14:19:19.203Z"
   },
   {
    "duration": 97,
    "start_time": "2022-09-06T14:19:19.295Z"
   },
   {
    "duration": 6,
    "start_time": "2022-09-06T14:19:19.394Z"
   },
   {
    "duration": 6,
    "start_time": "2022-09-06T14:19:19.401Z"
   },
   {
    "duration": 604,
    "start_time": "2022-09-06T14:19:19.408Z"
   },
   {
    "duration": 4,
    "start_time": "2022-09-06T14:19:20.013Z"
   },
   {
    "duration": 482,
    "start_time": "2022-09-06T14:19:20.019Z"
   },
   {
    "duration": 5,
    "start_time": "2022-09-06T14:19:20.503Z"
   },
   {
    "duration": 1464,
    "start_time": "2022-09-06T14:21:32.273Z"
   },
   {
    "duration": 3,
    "start_time": "2022-09-06T14:21:33.739Z"
   },
   {
    "duration": 8,
    "start_time": "2022-09-06T14:21:33.743Z"
   },
   {
    "duration": 71,
    "start_time": "2022-09-06T14:21:33.753Z"
   },
   {
    "duration": 33,
    "start_time": "2022-09-06T14:21:33.826Z"
   },
   {
    "duration": 42,
    "start_time": "2022-09-06T14:21:33.860Z"
   },
   {
    "duration": 32,
    "start_time": "2022-09-06T14:21:33.903Z"
   },
   {
    "duration": 25,
    "start_time": "2022-09-06T14:21:33.937Z"
   },
   {
    "duration": 36,
    "start_time": "2022-09-06T14:21:33.964Z"
   },
   {
    "duration": 29,
    "start_time": "2022-09-06T14:21:34.003Z"
   },
   {
    "duration": 65,
    "start_time": "2022-09-06T14:21:34.034Z"
   },
   {
    "duration": 9,
    "start_time": "2022-09-06T14:21:34.101Z"
   },
   {
    "duration": 382,
    "start_time": "2022-09-06T14:21:34.111Z"
   },
   {
    "duration": 580,
    "start_time": "2022-09-06T14:21:34.495Z"
   },
   {
    "duration": 518,
    "start_time": "2022-09-06T14:21:35.078Z"
   },
   {
    "duration": 5,
    "start_time": "2022-09-06T14:21:35.597Z"
   },
   {
    "duration": 114,
    "start_time": "2022-09-06T14:21:35.603Z"
   },
   {
    "duration": 628,
    "start_time": "2022-09-06T14:21:35.718Z"
   },
   {
    "duration": 6,
    "start_time": "2022-09-06T14:21:36.348Z"
   },
   {
    "duration": 18,
    "start_time": "2022-09-06T14:21:36.355Z"
   },
   {
    "duration": 219,
    "start_time": "2022-09-06T14:21:36.375Z"
   },
   {
    "duration": 560,
    "start_time": "2022-09-06T14:21:36.596Z"
   },
   {
    "duration": 87,
    "start_time": "2022-09-06T14:21:37.158Z"
   },
   {
    "duration": 348,
    "start_time": "2022-09-06T14:21:37.247Z"
   },
   {
    "duration": 39,
    "start_time": "2022-09-06T14:21:37.597Z"
   },
   {
    "duration": 319,
    "start_time": "2022-09-06T14:21:37.637Z"
   },
   {
    "duration": 50,
    "start_time": "2022-09-06T14:21:37.958Z"
   },
   {
    "duration": 6,
    "start_time": "2022-09-06T14:21:38.012Z"
   },
   {
    "duration": 19,
    "start_time": "2022-09-06T14:21:38.020Z"
   },
   {
    "duration": 523,
    "start_time": "2022-09-06T14:21:38.040Z"
   },
   {
    "duration": 66,
    "start_time": "2022-09-06T14:21:38.565Z"
   },
   {
    "duration": 260,
    "start_time": "2022-09-06T14:21:38.633Z"
   },
   {
    "duration": 8,
    "start_time": "2022-09-06T14:21:38.894Z"
   },
   {
    "duration": 8,
    "start_time": "2022-09-06T14:21:38.903Z"
   },
   {
    "duration": 4,
    "start_time": "2022-09-06T14:21:38.913Z"
   },
   {
    "duration": 18,
    "start_time": "2022-09-06T14:21:38.919Z"
   },
   {
    "duration": 17,
    "start_time": "2022-09-06T14:21:38.938Z"
   },
   {
    "duration": 37,
    "start_time": "2022-09-06T14:21:38.957Z"
   },
   {
    "duration": 32,
    "start_time": "2022-09-06T14:21:38.995Z"
   },
   {
    "duration": 24,
    "start_time": "2022-09-06T14:21:39.029Z"
   },
   {
    "duration": 56,
    "start_time": "2022-09-06T14:21:39.055Z"
   },
   {
    "duration": 348,
    "start_time": "2022-09-06T14:21:39.113Z"
   },
   {
    "duration": 5,
    "start_time": "2022-09-06T14:21:39.463Z"
   },
   {
    "duration": 10,
    "start_time": "2022-09-06T14:21:39.469Z"
   },
   {
    "duration": 19,
    "start_time": "2022-09-06T14:21:39.480Z"
   },
   {
    "duration": 2,
    "start_time": "2022-09-06T14:21:39.501Z"
   },
   {
    "duration": 3817,
    "start_time": "2022-09-06T14:21:39.505Z"
   },
   {
    "duration": 14,
    "start_time": "2022-09-06T14:21:43.323Z"
   },
   {
    "duration": 1310,
    "start_time": "2022-09-06T14:21:43.389Z"
   },
   {
    "duration": 102,
    "start_time": "2022-09-06T14:21:44.700Z"
   },
   {
    "duration": 92,
    "start_time": "2022-09-06T14:21:44.804Z"
   },
   {
    "duration": 4,
    "start_time": "2022-09-06T14:21:44.988Z"
   },
   {
    "duration": 2899,
    "start_time": "2022-09-06T14:21:44.993Z"
   },
   {
    "duration": 8,
    "start_time": "2022-09-06T14:21:47.894Z"
   },
   {
    "duration": 591,
    "start_time": "2022-09-06T14:21:47.904Z"
   },
   {
    "duration": 105,
    "start_time": "2022-09-06T14:21:48.496Z"
   },
   {
    "duration": 8,
    "start_time": "2022-09-06T14:21:48.688Z"
   },
   {
    "duration": 92,
    "start_time": "2022-09-06T14:21:48.701Z"
   },
   {
    "duration": 9,
    "start_time": "2022-09-06T14:21:48.795Z"
   },
   {
    "duration": 7,
    "start_time": "2022-09-06T14:21:48.805Z"
   },
   {
    "duration": 574,
    "start_time": "2022-09-06T14:21:48.813Z"
   },
   {
    "duration": 3,
    "start_time": "2022-09-06T14:21:49.389Z"
   },
   {
    "duration": 497,
    "start_time": "2022-09-06T14:21:49.394Z"
   },
   {
    "duration": 5,
    "start_time": "2022-09-06T14:21:49.893Z"
   },
   {
    "duration": 1513,
    "start_time": "2022-09-06T14:25:21.480Z"
   },
   {
    "duration": 3,
    "start_time": "2022-09-06T14:25:22.995Z"
   },
   {
    "duration": 6,
    "start_time": "2022-09-06T14:25:22.999Z"
   },
   {
    "duration": 73,
    "start_time": "2022-09-06T14:25:23.007Z"
   },
   {
    "duration": 31,
    "start_time": "2022-09-06T14:25:23.082Z"
   },
   {
    "duration": 42,
    "start_time": "2022-09-06T14:25:23.115Z"
   },
   {
    "duration": 34,
    "start_time": "2022-09-06T14:25:23.159Z"
   },
   {
    "duration": 25,
    "start_time": "2022-09-06T14:25:23.195Z"
   },
   {
    "duration": 35,
    "start_time": "2022-09-06T14:25:23.222Z"
   },
   {
    "duration": 28,
    "start_time": "2022-09-06T14:25:23.260Z"
   },
   {
    "duration": 56,
    "start_time": "2022-09-06T14:25:23.289Z"
   },
   {
    "duration": 10,
    "start_time": "2022-09-06T14:25:23.346Z"
   },
   {
    "duration": 398,
    "start_time": "2022-09-06T14:25:23.358Z"
   },
   {
    "duration": 634,
    "start_time": "2022-09-06T14:25:23.758Z"
   },
   {
    "duration": 501,
    "start_time": "2022-09-06T14:25:24.394Z"
   },
   {
    "duration": 5,
    "start_time": "2022-09-06T14:25:24.897Z"
   },
   {
    "duration": 121,
    "start_time": "2022-09-06T14:25:24.903Z"
   },
   {
    "duration": 562,
    "start_time": "2022-09-06T14:25:25.026Z"
   },
   {
    "duration": 4,
    "start_time": "2022-09-06T14:25:25.590Z"
   },
   {
    "duration": 5,
    "start_time": "2022-09-06T14:25:25.596Z"
   },
   {
    "duration": 204,
    "start_time": "2022-09-06T14:25:25.603Z"
   },
   {
    "duration": 612,
    "start_time": "2022-09-06T14:25:25.809Z"
   },
   {
    "duration": 108,
    "start_time": "2022-09-06T14:25:26.423Z"
   },
   {
    "duration": 362,
    "start_time": "2022-09-06T14:25:26.533Z"
   },
   {
    "duration": 34,
    "start_time": "2022-09-06T14:25:26.897Z"
   },
   {
    "duration": 315,
    "start_time": "2022-09-06T14:25:26.932Z"
   },
   {
    "duration": 50,
    "start_time": "2022-09-06T14:25:27.248Z"
   },
   {
    "duration": 9,
    "start_time": "2022-09-06T14:25:27.301Z"
   },
   {
    "duration": 17,
    "start_time": "2022-09-06T14:25:27.311Z"
   },
   {
    "duration": 540,
    "start_time": "2022-09-06T14:25:27.330Z"
   },
   {
    "duration": 61,
    "start_time": "2022-09-06T14:25:27.871Z"
   },
   {
    "duration": 271,
    "start_time": "2022-09-06T14:25:27.933Z"
   },
   {
    "duration": 8,
    "start_time": "2022-09-06T14:25:28.205Z"
   },
   {
    "duration": 13,
    "start_time": "2022-09-06T14:25:28.215Z"
   },
   {
    "duration": 5,
    "start_time": "2022-09-06T14:25:28.230Z"
   },
   {
    "duration": 17,
    "start_time": "2022-09-06T14:25:28.237Z"
   },
   {
    "duration": 42,
    "start_time": "2022-09-06T14:25:28.256Z"
   },
   {
    "duration": 17,
    "start_time": "2022-09-06T14:25:28.299Z"
   },
   {
    "duration": 34,
    "start_time": "2022-09-06T14:25:28.317Z"
   },
   {
    "duration": 52,
    "start_time": "2022-09-06T14:25:28.353Z"
   },
   {
    "duration": 35,
    "start_time": "2022-09-06T14:25:28.407Z"
   },
   {
    "duration": 366,
    "start_time": "2022-09-06T14:25:28.444Z"
   },
   {
    "duration": 4,
    "start_time": "2022-09-06T14:25:28.812Z"
   },
   {
    "duration": 8,
    "start_time": "2022-09-06T14:25:28.818Z"
   },
   {
    "duration": 13,
    "start_time": "2022-09-06T14:25:28.828Z"
   },
   {
    "duration": 3,
    "start_time": "2022-09-06T14:25:28.843Z"
   },
   {
    "duration": 3861,
    "start_time": "2022-09-06T14:25:28.847Z"
   },
   {
    "duration": 10,
    "start_time": "2022-09-06T14:25:32.710Z"
   },
   {
    "duration": 1569,
    "start_time": "2022-09-06T14:25:32.722Z"
   },
   {
    "duration": 98,
    "start_time": "2022-09-06T14:25:34.293Z"
   },
   {
    "duration": 107,
    "start_time": "2022-09-06T14:25:34.393Z"
   },
   {
    "duration": 30,
    "start_time": "2022-09-06T14:25:34.501Z"
   },
   {
    "duration": 2718,
    "start_time": "2022-09-06T14:25:34.533Z"
   },
   {
    "duration": 8,
    "start_time": "2022-09-06T14:25:37.253Z"
   },
   {
    "duration": 527,
    "start_time": "2022-09-06T14:25:37.264Z"
   },
   {
    "duration": 7,
    "start_time": "2022-09-06T14:25:37.793Z"
   },
   {
    "duration": 186,
    "start_time": "2022-09-06T14:25:37.803Z"
   },
   {
    "duration": 17,
    "start_time": "2022-09-06T14:25:37.990Z"
   },
   {
    "duration": 8,
    "start_time": "2022-09-06T14:25:38.009Z"
   },
   {
    "duration": 15,
    "start_time": "2022-09-06T14:25:38.018Z"
   },
   {
    "duration": 2496,
    "start_time": "2022-09-06T14:25:38.035Z"
   },
   {
    "duration": 4,
    "start_time": "2022-09-06T14:25:40.533Z"
   },
   {
    "duration": 492,
    "start_time": "2022-09-06T14:25:40.538Z"
   },
   {
    "duration": 6,
    "start_time": "2022-09-06T14:25:41.032Z"
   },
   {
    "duration": 2,
    "start_time": "2022-09-06T14:52:02.257Z"
   },
   {
    "duration": 1521,
    "start_time": "2022-09-06T14:59:17.753Z"
   },
   {
    "duration": 3,
    "start_time": "2022-09-06T14:59:19.276Z"
   },
   {
    "duration": 8,
    "start_time": "2022-09-06T14:59:19.280Z"
   },
   {
    "duration": 85,
    "start_time": "2022-09-06T14:59:19.290Z"
   },
   {
    "duration": 33,
    "start_time": "2022-09-06T14:59:19.377Z"
   },
   {
    "duration": 43,
    "start_time": "2022-09-06T14:59:19.411Z"
   },
   {
    "duration": 34,
    "start_time": "2022-09-06T14:59:19.455Z"
   },
   {
    "duration": 26,
    "start_time": "2022-09-06T14:59:19.490Z"
   },
   {
    "duration": 35,
    "start_time": "2022-09-06T14:59:19.518Z"
   },
   {
    "duration": 27,
    "start_time": "2022-09-06T14:59:19.557Z"
   },
   {
    "duration": 55,
    "start_time": "2022-09-06T14:59:19.586Z"
   },
   {
    "duration": 52,
    "start_time": "2022-09-06T14:59:19.643Z"
   },
   {
    "duration": 390,
    "start_time": "2022-09-06T14:59:19.697Z"
   },
   {
    "duration": 601,
    "start_time": "2022-09-06T14:59:20.088Z"
   },
   {
    "duration": 517,
    "start_time": "2022-09-06T14:59:20.691Z"
   },
   {
    "duration": 5,
    "start_time": "2022-09-06T14:59:21.210Z"
   },
   {
    "duration": 114,
    "start_time": "2022-09-06T14:59:21.217Z"
   },
   {
    "duration": 560,
    "start_time": "2022-09-06T14:59:21.333Z"
   },
   {
    "duration": 5,
    "start_time": "2022-09-06T14:59:21.895Z"
   },
   {
    "duration": 4,
    "start_time": "2022-09-06T14:59:21.902Z"
   },
   {
    "duration": 216,
    "start_time": "2022-09-06T14:59:21.908Z"
   },
   {
    "duration": 520,
    "start_time": "2022-09-06T14:59:22.126Z"
   },
   {
    "duration": 100,
    "start_time": "2022-09-06T14:59:22.648Z"
   },
   {
    "duration": 331,
    "start_time": "2022-09-06T14:59:22.749Z"
   },
   {
    "duration": 32,
    "start_time": "2022-09-06T14:59:23.086Z"
   },
   {
    "duration": 291,
    "start_time": "2022-09-06T14:59:23.120Z"
   },
   {
    "duration": 40,
    "start_time": "2022-09-06T14:59:23.413Z"
   },
   {
    "duration": 32,
    "start_time": "2022-09-06T14:59:23.456Z"
   },
   {
    "duration": 20,
    "start_time": "2022-09-06T14:59:23.490Z"
   },
   {
    "duration": 565,
    "start_time": "2022-09-06T14:59:23.511Z"
   },
   {
    "duration": 64,
    "start_time": "2022-09-06T14:59:24.078Z"
   },
   {
    "duration": 278,
    "start_time": "2022-09-06T14:59:24.143Z"
   },
   {
    "duration": 9,
    "start_time": "2022-09-06T14:59:24.423Z"
   },
   {
    "duration": 10,
    "start_time": "2022-09-06T14:59:24.434Z"
   },
   {
    "duration": 4,
    "start_time": "2022-09-06T14:59:24.446Z"
   },
   {
    "duration": 36,
    "start_time": "2022-09-06T14:59:24.451Z"
   },
   {
    "duration": 21,
    "start_time": "2022-09-06T14:59:24.489Z"
   },
   {
    "duration": 15,
    "start_time": "2022-09-06T14:59:24.512Z"
   },
   {
    "duration": 31,
    "start_time": "2022-09-06T14:59:24.529Z"
   },
   {
    "duration": 49,
    "start_time": "2022-09-06T14:59:24.561Z"
   },
   {
    "duration": 34,
    "start_time": "2022-09-06T14:59:24.612Z"
   },
   {
    "duration": 350,
    "start_time": "2022-09-06T14:59:24.647Z"
   },
   {
    "duration": 5,
    "start_time": "2022-09-06T14:59:24.998Z"
   },
   {
    "duration": 8,
    "start_time": "2022-09-06T14:59:25.005Z"
   },
   {
    "duration": 14,
    "start_time": "2022-09-06T14:59:25.014Z"
   },
   {
    "duration": 4,
    "start_time": "2022-09-06T14:59:25.030Z"
   },
   {
    "duration": 4254,
    "start_time": "2022-09-06T14:59:25.035Z"
   },
   {
    "duration": 23,
    "start_time": "2022-09-06T14:59:29.291Z"
   },
   {
    "duration": 177479,
    "start_time": "2022-09-06T14:59:29.316Z"
   },
   {
    "duration": 95,
    "start_time": "2022-09-06T15:02:26.797Z"
   },
   {
    "duration": 103,
    "start_time": "2022-09-06T15:02:26.894Z"
   },
   {
    "duration": 2,
    "start_time": "2022-09-06T15:02:27.088Z"
   },
   {
    "duration": 6,
    "start_time": "2022-09-06T15:02:27.092Z"
   },
   {
    "duration": 7,
    "start_time": "2022-09-06T15:02:27.099Z"
   },
   {
    "duration": 6,
    "start_time": "2022-09-06T15:02:27.108Z"
   },
   {
    "duration": 18,
    "start_time": "2022-09-06T15:02:27.115Z"
   },
   {
    "duration": 7,
    "start_time": "2022-09-06T15:02:27.134Z"
   },
   {
    "duration": 7,
    "start_time": "2022-09-06T15:02:27.142Z"
   },
   {
    "duration": 5,
    "start_time": "2022-09-06T15:02:27.150Z"
   },
   {
    "duration": 8,
    "start_time": "2022-09-06T15:02:27.156Z"
   },
   {
    "duration": 6,
    "start_time": "2022-09-06T15:02:27.165Z"
   },
   {
    "duration": 2822,
    "start_time": "2022-09-06T15:02:27.173Z"
   },
   {
    "duration": 4,
    "start_time": "2022-09-06T15:02:29.996Z"
   },
   {
    "duration": 463,
    "start_time": "2022-09-06T15:02:30.002Z"
   },
   {
    "duration": 7,
    "start_time": "2022-09-06T15:02:30.466Z"
   },
   {
    "duration": 1669,
    "start_time": "2022-09-06T15:03:55.740Z"
   },
   {
    "duration": 3,
    "start_time": "2022-09-06T15:03:57.411Z"
   },
   {
    "duration": 12,
    "start_time": "2022-09-06T15:03:57.416Z"
   },
   {
    "duration": 74,
    "start_time": "2022-09-06T15:03:57.430Z"
   },
   {
    "duration": 36,
    "start_time": "2022-09-06T15:03:57.506Z"
   },
   {
    "duration": 42,
    "start_time": "2022-09-06T15:03:57.544Z"
   },
   {
    "duration": 33,
    "start_time": "2022-09-06T15:03:57.588Z"
   },
   {
    "duration": 32,
    "start_time": "2022-09-06T15:03:57.623Z"
   },
   {
    "duration": 36,
    "start_time": "2022-09-06T15:03:57.658Z"
   },
   {
    "duration": 28,
    "start_time": "2022-09-06T15:03:57.697Z"
   },
   {
    "duration": 79,
    "start_time": "2022-09-06T15:03:57.727Z"
   },
   {
    "duration": 13,
    "start_time": "2022-09-06T15:03:57.808Z"
   },
   {
    "duration": 460,
    "start_time": "2022-09-06T15:03:57.823Z"
   },
   {
    "duration": 620,
    "start_time": "2022-09-06T15:03:58.286Z"
   },
   {
    "duration": 595,
    "start_time": "2022-09-06T15:03:58.908Z"
   },
   {
    "duration": 5,
    "start_time": "2022-09-06T15:03:59.504Z"
   },
   {
    "duration": 125,
    "start_time": "2022-09-06T15:03:59.511Z"
   },
   {
    "duration": 585,
    "start_time": "2022-09-06T15:03:59.638Z"
   },
   {
    "duration": 5,
    "start_time": "2022-09-06T15:04:00.225Z"
   },
   {
    "duration": 9,
    "start_time": "2022-09-06T15:04:00.232Z"
   },
   {
    "duration": 206,
    "start_time": "2022-09-06T15:04:00.243Z"
   },
   {
    "duration": 613,
    "start_time": "2022-09-06T15:04:00.450Z"
   },
   {
    "duration": 97,
    "start_time": "2022-09-06T15:04:01.065Z"
   },
   {
    "duration": 375,
    "start_time": "2022-09-06T15:04:01.164Z"
   },
   {
    "duration": 60,
    "start_time": "2022-09-06T15:04:01.541Z"
   },
   {
    "duration": 318,
    "start_time": "2022-09-06T15:04:01.603Z"
   },
   {
    "duration": 75,
    "start_time": "2022-09-06T15:04:01.923Z"
   },
   {
    "duration": 10,
    "start_time": "2022-09-06T15:04:02.003Z"
   },
   {
    "duration": 26,
    "start_time": "2022-09-06T15:04:02.015Z"
   },
   {
    "duration": 559,
    "start_time": "2022-09-06T15:04:02.043Z"
   },
   {
    "duration": 90,
    "start_time": "2022-09-06T15:04:02.604Z"
   },
   {
    "duration": 272,
    "start_time": "2022-09-06T15:04:02.695Z"
   },
   {
    "duration": 18,
    "start_time": "2022-09-06T15:04:02.969Z"
   },
   {
    "duration": 13,
    "start_time": "2022-09-06T15:04:02.990Z"
   },
   {
    "duration": 10,
    "start_time": "2022-09-06T15:04:03.005Z"
   },
   {
    "duration": 23,
    "start_time": "2022-09-06T15:04:03.017Z"
   },
   {
    "duration": 20,
    "start_time": "2022-09-06T15:04:03.041Z"
   },
   {
    "duration": 34,
    "start_time": "2022-09-06T15:04:03.062Z"
   },
   {
    "duration": 35,
    "start_time": "2022-09-06T15:04:03.098Z"
   },
   {
    "duration": 57,
    "start_time": "2022-09-06T15:04:03.135Z"
   },
   {
    "duration": 36,
    "start_time": "2022-09-06T15:04:03.193Z"
   },
   {
    "duration": 358,
    "start_time": "2022-09-06T15:04:03.231Z"
   },
   {
    "duration": 7,
    "start_time": "2022-09-06T15:04:03.591Z"
   },
   {
    "duration": 17,
    "start_time": "2022-09-06T15:04:03.599Z"
   },
   {
    "duration": 21,
    "start_time": "2022-09-06T15:04:03.618Z"
   },
   {
    "duration": 4,
    "start_time": "2022-09-06T15:04:03.641Z"
   },
   {
    "duration": 4236,
    "start_time": "2022-09-06T15:04:03.646Z"
   },
   {
    "duration": 9,
    "start_time": "2022-09-06T15:04:07.884Z"
   },
   {
    "duration": 252297,
    "start_time": "2022-09-06T15:04:07.895Z"
   },
   {
    "duration": 97,
    "start_time": "2022-09-06T15:08:20.194Z"
   },
   {
    "duration": 99,
    "start_time": "2022-09-06T15:08:20.294Z"
   },
   {
    "duration": 93,
    "start_time": "2022-09-06T15:08:20.395Z"
   },
   {
    "duration": 9,
    "start_time": "2022-09-06T15:08:20.490Z"
   },
   {
    "duration": 9,
    "start_time": "2022-09-06T15:08:20.501Z"
   },
   {
    "duration": 7,
    "start_time": "2022-09-06T15:08:20.511Z"
   },
   {
    "duration": 6,
    "start_time": "2022-09-06T15:08:20.520Z"
   },
   {
    "duration": 7,
    "start_time": "2022-09-06T15:08:20.528Z"
   },
   {
    "duration": 7,
    "start_time": "2022-09-06T15:08:20.536Z"
   },
   {
    "duration": 5,
    "start_time": "2022-09-06T15:08:20.544Z"
   },
   {
    "duration": 6,
    "start_time": "2022-09-06T15:08:20.550Z"
   },
   {
    "duration": 6,
    "start_time": "2022-09-06T15:08:20.557Z"
   },
   {
    "duration": 2670,
    "start_time": "2022-09-06T15:08:20.565Z"
   },
   {
    "duration": 4,
    "start_time": "2022-09-06T15:08:23.236Z"
   },
   {
    "duration": 112,
    "start_time": "2022-09-06T15:08:23.242Z"
   },
   {
    "duration": 0,
    "start_time": "2022-09-06T15:08:23.355Z"
   },
   {
    "duration": 3,
    "start_time": "2022-09-06T15:09:23.821Z"
   },
   {
    "duration": 13,
    "start_time": "2022-09-06T15:09:25.532Z"
   },
   {
    "duration": 1526,
    "start_time": "2022-09-06T15:09:37.721Z"
   },
   {
    "duration": 3,
    "start_time": "2022-09-06T15:09:39.249Z"
   },
   {
    "duration": 10,
    "start_time": "2022-09-06T15:09:39.253Z"
   },
   {
    "duration": 72,
    "start_time": "2022-09-06T15:09:39.265Z"
   },
   {
    "duration": 32,
    "start_time": "2022-09-06T15:09:39.338Z"
   },
   {
    "duration": 43,
    "start_time": "2022-09-06T15:09:39.371Z"
   },
   {
    "duration": 32,
    "start_time": "2022-09-06T15:09:39.415Z"
   },
   {
    "duration": 26,
    "start_time": "2022-09-06T15:09:39.448Z"
   },
   {
    "duration": 34,
    "start_time": "2022-09-06T15:09:39.476Z"
   },
   {
    "duration": 29,
    "start_time": "2022-09-06T15:09:39.512Z"
   },
   {
    "duration": 64,
    "start_time": "2022-09-06T15:09:39.543Z"
   },
   {
    "duration": 11,
    "start_time": "2022-09-06T15:09:39.609Z"
   },
   {
    "duration": 415,
    "start_time": "2022-09-06T15:09:39.622Z"
   },
   {
    "duration": 676,
    "start_time": "2022-09-06T15:09:40.039Z"
   },
   {
    "duration": 491,
    "start_time": "2022-09-06T15:09:40.717Z"
   },
   {
    "duration": 5,
    "start_time": "2022-09-06T15:09:41.209Z"
   },
   {
    "duration": 113,
    "start_time": "2022-09-06T15:09:41.215Z"
   },
   {
    "duration": 565,
    "start_time": "2022-09-06T15:09:41.330Z"
   },
   {
    "duration": 4,
    "start_time": "2022-09-06T15:09:41.896Z"
   },
   {
    "duration": 10,
    "start_time": "2022-09-06T15:09:41.902Z"
   },
   {
    "duration": 220,
    "start_time": "2022-09-06T15:09:41.913Z"
   },
   {
    "duration": 610,
    "start_time": "2022-09-06T15:09:42.135Z"
   },
   {
    "duration": 88,
    "start_time": "2022-09-06T15:09:42.747Z"
   },
   {
    "duration": 336,
    "start_time": "2022-09-06T15:09:42.837Z"
   },
   {
    "duration": 42,
    "start_time": "2022-09-06T15:09:43.175Z"
   },
   {
    "duration": 290,
    "start_time": "2022-09-06T15:09:43.219Z"
   },
   {
    "duration": 41,
    "start_time": "2022-09-06T15:09:43.510Z"
   },
   {
    "duration": 34,
    "start_time": "2022-09-06T15:09:43.555Z"
   },
   {
    "duration": 24,
    "start_time": "2022-09-06T15:09:43.591Z"
   },
   {
    "duration": 461,
    "start_time": "2022-09-06T15:09:43.617Z"
   },
   {
    "duration": 65,
    "start_time": "2022-09-06T15:09:44.079Z"
   },
   {
    "duration": 265,
    "start_time": "2022-09-06T15:09:44.146Z"
   },
   {
    "duration": 8,
    "start_time": "2022-09-06T15:09:44.412Z"
   },
   {
    "duration": 10,
    "start_time": "2022-09-06T15:09:44.421Z"
   },
   {
    "duration": 3,
    "start_time": "2022-09-06T15:09:44.433Z"
   },
   {
    "duration": 20,
    "start_time": "2022-09-06T15:09:44.438Z"
   },
   {
    "duration": 40,
    "start_time": "2022-09-06T15:09:44.459Z"
   },
   {
    "duration": 15,
    "start_time": "2022-09-06T15:09:44.501Z"
   },
   {
    "duration": 32,
    "start_time": "2022-09-06T15:09:44.518Z"
   },
   {
    "duration": 46,
    "start_time": "2022-09-06T15:09:44.552Z"
   },
   {
    "duration": 34,
    "start_time": "2022-09-06T15:09:44.600Z"
   },
   {
    "duration": 355,
    "start_time": "2022-09-06T15:09:44.635Z"
   },
   {
    "duration": 5,
    "start_time": "2022-09-06T15:09:44.991Z"
   },
   {
    "duration": 7,
    "start_time": "2022-09-06T15:09:44.997Z"
   },
   {
    "duration": 23,
    "start_time": "2022-09-06T15:09:45.005Z"
   },
   {
    "duration": 15,
    "start_time": "2022-09-06T15:09:45.030Z"
   },
   {
    "duration": 3907,
    "start_time": "2022-09-06T15:09:45.047Z"
   },
   {
    "duration": 11,
    "start_time": "2022-09-06T15:09:48.956Z"
   },
   {
    "duration": 103121,
    "start_time": "2022-09-06T15:09:48.969Z"
   },
   {
    "duration": 98,
    "start_time": "2022-09-06T15:11:32.092Z"
   },
   {
    "duration": 201,
    "start_time": "2022-09-06T15:11:32.192Z"
   },
   {
    "duration": 6,
    "start_time": "2022-09-06T15:11:32.394Z"
   },
   {
    "duration": 10,
    "start_time": "2022-09-06T15:11:32.402Z"
   },
   {
    "duration": 23,
    "start_time": "2022-09-06T15:11:32.414Z"
   },
   {
    "duration": 7,
    "start_time": "2022-09-06T15:11:32.439Z"
   },
   {
    "duration": 18,
    "start_time": "2022-09-06T15:11:32.448Z"
   },
   {
    "duration": 12,
    "start_time": "2022-09-06T15:11:32.468Z"
   },
   {
    "duration": 11,
    "start_time": "2022-09-06T15:11:32.481Z"
   },
   {
    "duration": 7,
    "start_time": "2022-09-06T15:11:32.494Z"
   },
   {
    "duration": 7,
    "start_time": "2022-09-06T15:11:32.503Z"
   },
   {
    "duration": 12,
    "start_time": "2022-09-06T15:11:32.511Z"
   },
   {
    "duration": 2716,
    "start_time": "2022-09-06T15:11:32.524Z"
   },
   {
    "duration": 3,
    "start_time": "2022-09-06T15:11:35.242Z"
   },
   {
    "duration": 128,
    "start_time": "2022-09-06T15:11:35.247Z"
   },
   {
    "duration": 0,
    "start_time": "2022-09-06T15:11:35.377Z"
   },
   {
    "duration": 1609,
    "start_time": "2022-09-06T15:14:34.717Z"
   },
   {
    "duration": 3,
    "start_time": "2022-09-06T15:14:36.329Z"
   },
   {
    "duration": 19,
    "start_time": "2022-09-06T15:14:36.334Z"
   },
   {
    "duration": 99,
    "start_time": "2022-09-06T15:14:36.355Z"
   },
   {
    "duration": 43,
    "start_time": "2022-09-06T15:14:36.458Z"
   },
   {
    "duration": 53,
    "start_time": "2022-09-06T15:14:36.504Z"
   },
   {
    "duration": 40,
    "start_time": "2022-09-06T15:14:36.559Z"
   },
   {
    "duration": 35,
    "start_time": "2022-09-06T15:14:36.601Z"
   },
   {
    "duration": 49,
    "start_time": "2022-09-06T15:14:36.638Z"
   },
   {
    "duration": 34,
    "start_time": "2022-09-06T15:14:36.689Z"
   },
   {
    "duration": 73,
    "start_time": "2022-09-06T15:14:36.724Z"
   },
   {
    "duration": 12,
    "start_time": "2022-09-06T15:14:36.799Z"
   },
   {
    "duration": 465,
    "start_time": "2022-09-06T15:14:36.813Z"
   },
   {
    "duration": 671,
    "start_time": "2022-09-06T15:14:37.286Z"
   },
   {
    "duration": 748,
    "start_time": "2022-09-06T15:14:37.959Z"
   },
   {
    "duration": 6,
    "start_time": "2022-09-06T15:14:38.709Z"
   },
   {
    "duration": 139,
    "start_time": "2022-09-06T15:14:38.717Z"
   },
   {
    "duration": 601,
    "start_time": "2022-09-06T15:14:38.858Z"
   },
   {
    "duration": 6,
    "start_time": "2022-09-06T15:14:39.461Z"
   },
   {
    "duration": 17,
    "start_time": "2022-09-06T15:14:39.469Z"
   },
   {
    "duration": 235,
    "start_time": "2022-09-06T15:14:39.488Z"
   },
   {
    "duration": 516,
    "start_time": "2022-09-06T15:14:39.725Z"
   },
   {
    "duration": 221,
    "start_time": "2022-09-06T15:14:40.243Z"
   },
   {
    "duration": 350,
    "start_time": "2022-09-06T15:14:40.465Z"
   },
   {
    "duration": 39,
    "start_time": "2022-09-06T15:14:40.817Z"
   },
   {
    "duration": 280,
    "start_time": "2022-09-06T15:14:40.886Z"
   },
   {
    "duration": 56,
    "start_time": "2022-09-06T15:14:41.167Z"
   },
   {
    "duration": 8,
    "start_time": "2022-09-06T15:14:41.225Z"
   },
   {
    "duration": 17,
    "start_time": "2022-09-06T15:14:41.235Z"
   },
   {
    "duration": 614,
    "start_time": "2022-09-06T15:14:41.255Z"
   },
   {
    "duration": 72,
    "start_time": "2022-09-06T15:14:41.871Z"
   },
   {
    "duration": 305,
    "start_time": "2022-09-06T15:14:41.945Z"
   },
   {
    "duration": 10,
    "start_time": "2022-09-06T15:14:42.251Z"
   },
   {
    "duration": 24,
    "start_time": "2022-09-06T15:14:42.263Z"
   },
   {
    "duration": 5,
    "start_time": "2022-09-06T15:14:42.288Z"
   },
   {
    "duration": 33,
    "start_time": "2022-09-06T15:14:42.295Z"
   },
   {
    "duration": 21,
    "start_time": "2022-09-06T15:14:42.330Z"
   },
   {
    "duration": 18,
    "start_time": "2022-09-06T15:14:42.353Z"
   },
   {
    "duration": 43,
    "start_time": "2022-09-06T15:14:42.373Z"
   },
   {
    "duration": 28,
    "start_time": "2022-09-06T15:14:42.418Z"
   },
   {
    "duration": 54,
    "start_time": "2022-09-06T15:14:42.450Z"
   },
   {
    "duration": 434,
    "start_time": "2022-09-06T15:14:42.506Z"
   },
   {
    "duration": 5,
    "start_time": "2022-09-06T15:14:42.942Z"
   },
   {
    "duration": 7,
    "start_time": "2022-09-06T15:14:42.949Z"
   },
   {
    "duration": 29,
    "start_time": "2022-09-06T15:14:42.958Z"
   },
   {
    "duration": 4,
    "start_time": "2022-09-06T15:14:42.989Z"
   },
   {
    "duration": 4479,
    "start_time": "2022-09-06T15:14:42.994Z"
   },
   {
    "duration": 16,
    "start_time": "2022-09-06T15:14:47.475Z"
   },
   {
    "duration": 160291,
    "start_time": "2022-09-06T15:14:47.497Z"
   },
   {
    "duration": 98,
    "start_time": "2022-09-06T15:17:27.791Z"
   },
   {
    "duration": 95,
    "start_time": "2022-09-06T15:17:27.892Z"
   },
   {
    "duration": 12,
    "start_time": "2022-09-06T15:17:27.989Z"
   },
   {
    "duration": 8,
    "start_time": "2022-09-06T15:17:28.002Z"
   },
   {
    "duration": 8,
    "start_time": "2022-09-06T15:17:28.013Z"
   },
   {
    "duration": 22,
    "start_time": "2022-09-06T15:17:28.023Z"
   },
   {
    "duration": 9,
    "start_time": "2022-09-06T15:17:28.047Z"
   },
   {
    "duration": 17,
    "start_time": "2022-09-06T15:17:28.058Z"
   },
   {
    "duration": 6,
    "start_time": "2022-09-06T15:17:28.086Z"
   },
   {
    "duration": 6,
    "start_time": "2022-09-06T15:17:28.094Z"
   },
   {
    "duration": 6,
    "start_time": "2022-09-06T15:17:28.101Z"
   },
   {
    "duration": 10,
    "start_time": "2022-09-06T15:17:28.109Z"
   },
   {
    "duration": 2556,
    "start_time": "2022-09-06T15:17:28.120Z"
   },
   {
    "duration": 4,
    "start_time": "2022-09-06T15:17:30.677Z"
   },
   {
    "duration": 148,
    "start_time": "2022-09-06T15:17:30.682Z"
   },
   {
    "duration": 0,
    "start_time": "2022-09-06T15:17:30.832Z"
   },
   {
    "duration": 1524,
    "start_time": "2022-09-06T15:19:38.939Z"
   },
   {
    "duration": 3,
    "start_time": "2022-09-06T15:19:40.465Z"
   },
   {
    "duration": 19,
    "start_time": "2022-09-06T15:19:40.470Z"
   },
   {
    "duration": 89,
    "start_time": "2022-09-06T15:19:40.491Z"
   },
   {
    "duration": 31,
    "start_time": "2022-09-06T15:19:40.581Z"
   },
   {
    "duration": 42,
    "start_time": "2022-09-06T15:19:40.614Z"
   },
   {
    "duration": 31,
    "start_time": "2022-09-06T15:19:40.658Z"
   },
   {
    "duration": 25,
    "start_time": "2022-09-06T15:19:40.691Z"
   },
   {
    "duration": 34,
    "start_time": "2022-09-06T15:19:40.717Z"
   },
   {
    "duration": 28,
    "start_time": "2022-09-06T15:19:40.754Z"
   },
   {
    "duration": 58,
    "start_time": "2022-09-06T15:19:40.784Z"
   },
   {
    "duration": 10,
    "start_time": "2022-09-06T15:19:40.844Z"
   },
   {
    "duration": 393,
    "start_time": "2022-09-06T15:19:40.856Z"
   },
   {
    "duration": 632,
    "start_time": "2022-09-06T15:19:41.251Z"
   },
   {
    "duration": 556,
    "start_time": "2022-09-06T15:19:41.886Z"
   },
   {
    "duration": 4,
    "start_time": "2022-09-06T15:19:42.444Z"
   },
   {
    "duration": 114,
    "start_time": "2022-09-06T15:19:42.450Z"
   },
   {
    "duration": 522,
    "start_time": "2022-09-06T15:19:42.565Z"
   },
   {
    "duration": 5,
    "start_time": "2022-09-06T15:19:43.088Z"
   },
   {
    "duration": 6,
    "start_time": "2022-09-06T15:19:43.095Z"
   },
   {
    "duration": 216,
    "start_time": "2022-09-06T15:19:43.103Z"
   },
   {
    "duration": 645,
    "start_time": "2022-09-06T15:19:43.321Z"
   },
   {
    "duration": 91,
    "start_time": "2022-09-06T15:19:43.968Z"
   },
   {
    "duration": 354,
    "start_time": "2022-09-06T15:19:44.061Z"
   },
   {
    "duration": 34,
    "start_time": "2022-09-06T15:19:44.416Z"
   },
   {
    "duration": 317,
    "start_time": "2022-09-06T15:19:44.451Z"
   },
   {
    "duration": 48,
    "start_time": "2022-09-06T15:19:44.770Z"
   },
   {
    "duration": 6,
    "start_time": "2022-09-06T15:19:44.822Z"
   },
   {
    "duration": 17,
    "start_time": "2022-09-06T15:19:44.830Z"
   },
   {
    "duration": 528,
    "start_time": "2022-09-06T15:19:44.849Z"
   },
   {
    "duration": 72,
    "start_time": "2022-09-06T15:19:45.378Z"
   },
   {
    "duration": 261,
    "start_time": "2022-09-06T15:19:45.451Z"
   },
   {
    "duration": 8,
    "start_time": "2022-09-06T15:19:45.715Z"
   },
   {
    "duration": 9,
    "start_time": "2022-09-06T15:19:45.724Z"
   },
   {
    "duration": 5,
    "start_time": "2022-09-06T15:19:45.735Z"
   },
   {
    "duration": 17,
    "start_time": "2022-09-06T15:19:45.741Z"
   },
   {
    "duration": 36,
    "start_time": "2022-09-06T15:19:45.760Z"
   },
   {
    "duration": 15,
    "start_time": "2022-09-06T15:19:45.797Z"
   },
   {
    "duration": 46,
    "start_time": "2022-09-06T15:19:45.814Z"
   },
   {
    "duration": 30,
    "start_time": "2022-09-06T15:19:45.861Z"
   },
   {
    "duration": 36,
    "start_time": "2022-09-06T15:19:45.893Z"
   },
   {
    "duration": 421,
    "start_time": "2022-09-06T15:19:45.930Z"
   },
   {
    "duration": 7,
    "start_time": "2022-09-06T15:19:46.353Z"
   },
   {
    "duration": 17,
    "start_time": "2022-09-06T15:19:46.362Z"
   },
   {
    "duration": 35,
    "start_time": "2022-09-06T15:19:46.381Z"
   },
   {
    "duration": 3,
    "start_time": "2022-09-06T15:19:46.419Z"
   },
   {
    "duration": 3966,
    "start_time": "2022-09-06T15:19:46.425Z"
   },
   {
    "duration": 12,
    "start_time": "2022-09-06T15:19:50.392Z"
   },
   {
    "duration": 232892,
    "start_time": "2022-09-06T15:19:50.406Z"
   },
   {
    "duration": 103,
    "start_time": "2022-09-06T15:23:43.302Z"
   },
   {
    "duration": 89,
    "start_time": "2022-09-06T15:23:43.406Z"
   },
   {
    "duration": 90,
    "start_time": "2022-09-06T15:23:43.497Z"
   },
   {
    "duration": 2,
    "start_time": "2022-09-06T15:23:43.589Z"
   },
   {
    "duration": 8,
    "start_time": "2022-09-06T15:23:43.593Z"
   },
   {
    "duration": 9,
    "start_time": "2022-09-06T15:23:43.602Z"
   },
   {
    "duration": 7,
    "start_time": "2022-09-06T15:23:43.612Z"
   },
   {
    "duration": 9,
    "start_time": "2022-09-06T15:23:43.620Z"
   },
   {
    "duration": 6,
    "start_time": "2022-09-06T15:23:43.631Z"
   },
   {
    "duration": 5,
    "start_time": "2022-09-06T15:23:43.638Z"
   },
   {
    "duration": 4,
    "start_time": "2022-09-06T15:23:43.645Z"
   },
   {
    "duration": 7,
    "start_time": "2022-09-06T15:23:43.650Z"
   },
   {
    "duration": 3981,
    "start_time": "2022-09-06T15:23:43.659Z"
   },
   {
    "duration": 3,
    "start_time": "2022-09-06T15:23:47.642Z"
   },
   {
    "duration": 113,
    "start_time": "2022-09-06T15:23:47.647Z"
   },
   {
    "duration": 0,
    "start_time": "2022-09-06T15:23:47.761Z"
   },
   {
    "duration": 1644,
    "start_time": "2022-09-06T15:27:11.343Z"
   },
   {
    "duration": 3,
    "start_time": "2022-09-06T15:27:12.989Z"
   },
   {
    "duration": 8,
    "start_time": "2022-09-06T15:27:12.994Z"
   },
   {
    "duration": 73,
    "start_time": "2022-09-06T15:27:13.005Z"
   },
   {
    "duration": 34,
    "start_time": "2022-09-06T15:27:13.080Z"
   },
   {
    "duration": 42,
    "start_time": "2022-09-06T15:27:13.116Z"
   },
   {
    "duration": 32,
    "start_time": "2022-09-06T15:27:13.160Z"
   },
   {
    "duration": 29,
    "start_time": "2022-09-06T15:27:13.194Z"
   },
   {
    "duration": 44,
    "start_time": "2022-09-06T15:27:13.225Z"
   },
   {
    "duration": 31,
    "start_time": "2022-09-06T15:27:13.272Z"
   },
   {
    "duration": 103,
    "start_time": "2022-09-06T15:27:13.305Z"
   },
   {
    "duration": 13,
    "start_time": "2022-09-06T15:27:13.410Z"
   },
   {
    "duration": 445,
    "start_time": "2022-09-06T15:27:13.424Z"
   },
   {
    "duration": 669,
    "start_time": "2022-09-06T15:27:13.871Z"
   },
   {
    "duration": 564,
    "start_time": "2022-09-06T15:27:14.542Z"
   },
   {
    "duration": 6,
    "start_time": "2022-09-06T15:27:15.108Z"
   },
   {
    "duration": 120,
    "start_time": "2022-09-06T15:27:15.116Z"
   },
   {
    "duration": 602,
    "start_time": "2022-09-06T15:27:15.238Z"
   },
   {
    "duration": 5,
    "start_time": "2022-09-06T15:27:15.842Z"
   },
   {
    "duration": 10,
    "start_time": "2022-09-06T15:27:15.849Z"
   },
   {
    "duration": 232,
    "start_time": "2022-09-06T15:27:15.860Z"
   },
   {
    "duration": 749,
    "start_time": "2022-09-06T15:27:16.094Z"
   },
   {
    "duration": 117,
    "start_time": "2022-09-06T15:27:16.845Z"
   },
   {
    "duration": 378,
    "start_time": "2022-09-06T15:27:16.964Z"
   },
   {
    "duration": 52,
    "start_time": "2022-09-06T15:27:17.344Z"
   },
   {
    "duration": 355,
    "start_time": "2022-09-06T15:27:17.398Z"
   },
   {
    "duration": 51,
    "start_time": "2022-09-06T15:27:17.755Z"
   },
   {
    "duration": 9,
    "start_time": "2022-09-06T15:27:17.812Z"
   },
   {
    "duration": 27,
    "start_time": "2022-09-06T15:27:17.823Z"
   },
   {
    "duration": 579,
    "start_time": "2022-09-06T15:27:17.852Z"
   },
   {
    "duration": 87,
    "start_time": "2022-09-06T15:27:18.433Z"
   },
   {
    "duration": 323,
    "start_time": "2022-09-06T15:27:18.522Z"
   },
   {
    "duration": 8,
    "start_time": "2022-09-06T15:27:18.847Z"
   },
   {
    "duration": 18,
    "start_time": "2022-09-06T15:27:18.857Z"
   },
   {
    "duration": 5,
    "start_time": "2022-09-06T15:27:18.886Z"
   },
   {
    "duration": 26,
    "start_time": "2022-09-06T15:27:18.894Z"
   },
   {
    "duration": 20,
    "start_time": "2022-09-06T15:27:18.922Z"
   },
   {
    "duration": 16,
    "start_time": "2022-09-06T15:27:18.944Z"
   },
   {
    "duration": 52,
    "start_time": "2022-09-06T15:27:18.962Z"
   },
   {
    "duration": 34,
    "start_time": "2022-09-06T15:27:19.016Z"
   },
   {
    "duration": 61,
    "start_time": "2022-09-06T15:27:19.052Z"
   },
   {
    "duration": 461,
    "start_time": "2022-09-06T15:27:19.115Z"
   },
   {
    "duration": 10,
    "start_time": "2022-09-06T15:27:19.578Z"
   },
   {
    "duration": 19,
    "start_time": "2022-09-06T15:27:19.590Z"
   },
   {
    "duration": 14,
    "start_time": "2022-09-06T15:27:19.612Z"
   },
   {
    "duration": 4,
    "start_time": "2022-09-06T15:27:19.628Z"
   },
   {
    "duration": 4477,
    "start_time": "2022-09-06T15:27:19.633Z"
   },
   {
    "duration": 16,
    "start_time": "2022-09-06T15:27:24.112Z"
   },
   {
    "duration": 212328,
    "start_time": "2022-09-06T15:27:24.191Z"
   },
   {
    "duration": 168,
    "start_time": "2022-09-06T15:30:56.521Z"
   },
   {
    "duration": 11,
    "start_time": "2022-09-06T15:30:56.692Z"
   },
   {
    "duration": 13,
    "start_time": "2022-09-06T15:30:56.707Z"
   },
   {
    "duration": 18,
    "start_time": "2022-09-06T15:30:56.789Z"
   },
   {
    "duration": 8,
    "start_time": "2022-09-06T15:30:56.809Z"
   },
   {
    "duration": 6,
    "start_time": "2022-09-06T15:30:56.818Z"
   },
   {
    "duration": 6,
    "start_time": "2022-09-06T15:30:56.825Z"
   },
   {
    "duration": 6,
    "start_time": "2022-09-06T15:30:56.833Z"
   },
   {
    "duration": 5,
    "start_time": "2022-09-06T15:30:56.840Z"
   },
   {
    "duration": 4,
    "start_time": "2022-09-06T15:30:56.847Z"
   },
   {
    "duration": 8,
    "start_time": "2022-09-06T15:30:56.852Z"
   },
   {
    "duration": 7,
    "start_time": "2022-09-06T15:30:56.862Z"
   },
   {
    "duration": 3053,
    "start_time": "2022-09-06T15:30:56.871Z"
   },
   {
    "duration": 4,
    "start_time": "2022-09-06T15:30:59.927Z"
   },
   {
    "duration": 126,
    "start_time": "2022-09-06T15:30:59.933Z"
   },
   {
    "duration": 0,
    "start_time": "2022-09-06T15:31:00.061Z"
   },
   {
    "duration": 3,
    "start_time": "2022-09-06T15:31:53.759Z"
   },
   {
    "duration": 493,
    "start_time": "2022-09-06T15:31:54.399Z"
   },
   {
    "duration": 6,
    "start_time": "2022-09-06T15:32:01.356Z"
   },
   {
    "duration": 14,
    "start_time": "2022-09-06T15:33:40.277Z"
   },
   {
    "duration": 6,
    "start_time": "2022-09-06T15:34:26.913Z"
   },
   {
    "duration": 6,
    "start_time": "2022-09-06T15:34:39.711Z"
   },
   {
    "duration": 1414,
    "start_time": "2022-09-07T12:47:31.231Z"
   },
   {
    "duration": 0,
    "start_time": "2022-09-07T12:47:32.649Z"
   },
   {
    "duration": 0,
    "start_time": "2022-09-07T12:47:32.650Z"
   },
   {
    "duration": 0,
    "start_time": "2022-09-07T12:47:32.651Z"
   },
   {
    "duration": 0,
    "start_time": "2022-09-07T12:47:32.652Z"
   },
   {
    "duration": 0,
    "start_time": "2022-09-07T12:47:32.653Z"
   },
   {
    "duration": 0,
    "start_time": "2022-09-07T12:47:32.654Z"
   },
   {
    "duration": 0,
    "start_time": "2022-09-07T12:47:32.655Z"
   },
   {
    "duration": 0,
    "start_time": "2022-09-07T12:47:32.656Z"
   },
   {
    "duration": 0,
    "start_time": "2022-09-07T12:47:32.657Z"
   },
   {
    "duration": 0,
    "start_time": "2022-09-07T12:47:32.658Z"
   },
   {
    "duration": 0,
    "start_time": "2022-09-07T12:47:32.660Z"
   },
   {
    "duration": 0,
    "start_time": "2022-09-07T12:47:32.661Z"
   },
   {
    "duration": 0,
    "start_time": "2022-09-07T12:47:32.662Z"
   },
   {
    "duration": 0,
    "start_time": "2022-09-07T12:47:32.663Z"
   },
   {
    "duration": 0,
    "start_time": "2022-09-07T12:47:32.664Z"
   },
   {
    "duration": 0,
    "start_time": "2022-09-07T12:47:32.665Z"
   },
   {
    "duration": 0,
    "start_time": "2022-09-07T12:47:32.687Z"
   },
   {
    "duration": 0,
    "start_time": "2022-09-07T12:47:32.688Z"
   },
   {
    "duration": 0,
    "start_time": "2022-09-07T12:47:32.689Z"
   },
   {
    "duration": 0,
    "start_time": "2022-09-07T12:47:32.690Z"
   },
   {
    "duration": 0,
    "start_time": "2022-09-07T12:47:32.691Z"
   },
   {
    "duration": 0,
    "start_time": "2022-09-07T12:47:32.692Z"
   },
   {
    "duration": 0,
    "start_time": "2022-09-07T12:47:32.693Z"
   },
   {
    "duration": 0,
    "start_time": "2022-09-07T12:47:32.694Z"
   },
   {
    "duration": 0,
    "start_time": "2022-09-07T12:47:32.695Z"
   },
   {
    "duration": 0,
    "start_time": "2022-09-07T12:47:32.697Z"
   },
   {
    "duration": 0,
    "start_time": "2022-09-07T12:47:32.698Z"
   },
   {
    "duration": 0,
    "start_time": "2022-09-07T12:47:32.699Z"
   },
   {
    "duration": 0,
    "start_time": "2022-09-07T12:47:32.700Z"
   },
   {
    "duration": 0,
    "start_time": "2022-09-07T12:47:32.701Z"
   },
   {
    "duration": 0,
    "start_time": "2022-09-07T12:47:32.702Z"
   },
   {
    "duration": 0,
    "start_time": "2022-09-07T12:47:32.703Z"
   },
   {
    "duration": 0,
    "start_time": "2022-09-07T12:47:32.704Z"
   },
   {
    "duration": 0,
    "start_time": "2022-09-07T12:47:32.705Z"
   },
   {
    "duration": 0,
    "start_time": "2022-09-07T12:47:32.706Z"
   },
   {
    "duration": 0,
    "start_time": "2022-09-07T12:47:32.707Z"
   },
   {
    "duration": 0,
    "start_time": "2022-09-07T12:47:32.708Z"
   },
   {
    "duration": 0,
    "start_time": "2022-09-07T12:47:32.709Z"
   },
   {
    "duration": 0,
    "start_time": "2022-09-07T12:47:32.710Z"
   },
   {
    "duration": 0,
    "start_time": "2022-09-07T12:47:32.711Z"
   },
   {
    "duration": 0,
    "start_time": "2022-09-07T12:47:32.712Z"
   },
   {
    "duration": 0,
    "start_time": "2022-09-07T12:47:32.713Z"
   },
   {
    "duration": 0,
    "start_time": "2022-09-07T12:47:32.714Z"
   },
   {
    "duration": 0,
    "start_time": "2022-09-07T12:47:32.715Z"
   },
   {
    "duration": 0,
    "start_time": "2022-09-07T12:47:32.716Z"
   },
   {
    "duration": 0,
    "start_time": "2022-09-07T12:47:32.718Z"
   },
   {
    "duration": 0,
    "start_time": "2022-09-07T12:47:32.719Z"
   },
   {
    "duration": 0,
    "start_time": "2022-09-07T12:47:32.720Z"
   },
   {
    "duration": 0,
    "start_time": "2022-09-07T12:47:32.721Z"
   },
   {
    "duration": 0,
    "start_time": "2022-09-07T12:47:32.787Z"
   },
   {
    "duration": 0,
    "start_time": "2022-09-07T12:47:32.788Z"
   },
   {
    "duration": 0,
    "start_time": "2022-09-07T12:47:32.789Z"
   },
   {
    "duration": 0,
    "start_time": "2022-09-07T12:47:32.790Z"
   },
   {
    "duration": 0,
    "start_time": "2022-09-07T12:47:32.791Z"
   },
   {
    "duration": 0,
    "start_time": "2022-09-07T12:47:32.792Z"
   },
   {
    "duration": 0,
    "start_time": "2022-09-07T12:47:32.793Z"
   },
   {
    "duration": 1450,
    "start_time": "2022-09-07T12:49:34.062Z"
   },
   {
    "duration": 3,
    "start_time": "2022-09-07T12:49:35.513Z"
   },
   {
    "duration": 30,
    "start_time": "2022-09-07T12:49:35.517Z"
   },
   {
    "duration": 116,
    "start_time": "2022-09-07T12:49:35.549Z"
   },
   {
    "duration": 73,
    "start_time": "2022-09-07T12:49:35.666Z"
   },
   {
    "duration": 69,
    "start_time": "2022-09-07T12:49:35.740Z"
   },
   {
    "duration": 56,
    "start_time": "2022-09-07T12:49:35.811Z"
   },
   {
    "duration": 75,
    "start_time": "2022-09-07T12:49:35.869Z"
   },
   {
    "duration": 76,
    "start_time": "2022-09-07T12:49:35.946Z"
   },
   {
    "duration": 71,
    "start_time": "2022-09-07T12:49:36.025Z"
   },
   {
    "duration": 54,
    "start_time": "2022-09-07T12:49:36.098Z"
   },
   {
    "duration": 34,
    "start_time": "2022-09-07T12:49:36.153Z"
   },
   {
    "duration": 601,
    "start_time": "2022-09-07T12:49:36.189Z"
   },
   {
    "duration": 1023,
    "start_time": "2022-09-07T12:49:36.792Z"
   },
   {
    "duration": 761,
    "start_time": "2022-09-07T12:49:37.817Z"
   },
   {
    "duration": 5,
    "start_time": "2022-09-07T12:49:38.586Z"
   },
   {
    "duration": 114,
    "start_time": "2022-09-07T12:49:38.592Z"
   },
   {
    "duration": 482,
    "start_time": "2022-09-07T12:49:38.708Z"
   },
   {
    "duration": 4,
    "start_time": "2022-09-07T12:49:39.192Z"
   },
   {
    "duration": 5,
    "start_time": "2022-09-07T12:49:39.198Z"
   },
   {
    "duration": 204,
    "start_time": "2022-09-07T12:49:39.205Z"
   },
   {
    "duration": 536,
    "start_time": "2022-09-07T12:49:39.410Z"
   },
   {
    "duration": 87,
    "start_time": "2022-09-07T12:49:39.948Z"
   },
   {
    "duration": 363,
    "start_time": "2022-09-07T12:49:40.037Z"
   },
   {
    "duration": 39,
    "start_time": "2022-09-07T12:49:40.402Z"
   },
   {
    "duration": 312,
    "start_time": "2022-09-07T12:49:40.442Z"
   },
   {
    "duration": 49,
    "start_time": "2022-09-07T12:49:40.755Z"
   },
   {
    "duration": 6,
    "start_time": "2022-09-07T12:49:40.807Z"
   },
   {
    "duration": 30,
    "start_time": "2022-09-07T12:49:40.814Z"
   },
   {
    "duration": 511,
    "start_time": "2022-09-07T12:49:40.846Z"
   },
   {
    "duration": 65,
    "start_time": "2022-09-07T12:49:41.359Z"
   },
   {
    "duration": 240,
    "start_time": "2022-09-07T12:49:41.425Z"
   },
   {
    "duration": 7,
    "start_time": "2022-09-07T12:49:41.667Z"
   },
   {
    "duration": 16,
    "start_time": "2022-09-07T12:49:41.675Z"
   },
   {
    "duration": 3,
    "start_time": "2022-09-07T12:49:41.693Z"
   },
   {
    "duration": 16,
    "start_time": "2022-09-07T12:49:41.698Z"
   },
   {
    "duration": 17,
    "start_time": "2022-09-07T12:49:41.715Z"
   },
   {
    "duration": 14,
    "start_time": "2022-09-07T12:49:41.734Z"
   },
   {
    "duration": 52,
    "start_time": "2022-09-07T12:49:41.749Z"
   },
   {
    "duration": 23,
    "start_time": "2022-09-07T12:49:41.802Z"
   },
   {
    "duration": 34,
    "start_time": "2022-09-07T12:49:41.826Z"
   },
   {
    "duration": 355,
    "start_time": "2022-09-07T12:49:41.862Z"
   },
   {
    "duration": 5,
    "start_time": "2022-09-07T12:49:42.218Z"
   },
   {
    "duration": 11,
    "start_time": "2022-09-07T12:49:42.224Z"
   },
   {
    "duration": 15,
    "start_time": "2022-09-07T12:49:42.237Z"
   },
   {
    "duration": 4,
    "start_time": "2022-09-07T12:49:42.253Z"
   },
   {
    "duration": 3678,
    "start_time": "2022-09-07T12:49:42.259Z"
   },
   {
    "duration": 14,
    "start_time": "2022-09-07T12:49:45.939Z"
   },
   {
    "duration": 1406,
    "start_time": "2022-09-07T12:49:45.988Z"
   },
   {
    "duration": 94,
    "start_time": "2022-09-07T12:49:47.395Z"
   },
   {
    "duration": 104,
    "start_time": "2022-09-07T12:49:47.491Z"
   },
   {
    "duration": 91,
    "start_time": "2022-09-07T12:49:47.598Z"
   },
   {
    "duration": 8,
    "start_time": "2022-09-07T12:49:47.691Z"
   },
   {
    "duration": 2662,
    "start_time": "2022-09-07T12:49:47.701Z"
   },
   {
    "duration": 5,
    "start_time": "2022-09-07T12:49:50.365Z"
   },
   {
    "duration": 476,
    "start_time": "2022-09-07T12:49:50.371Z"
   },
   {
    "duration": 6,
    "start_time": "2022-09-07T12:49:50.849Z"
   }
  ],
  "kernelspec": {
   "display_name": "Python 3 (ipykernel)",
   "language": "python",
   "name": "python3"
  },
  "language_info": {
   "codemirror_mode": {
    "name": "ipython",
    "version": 3
   },
   "file_extension": ".py",
   "mimetype": "text/x-python",
   "name": "python",
   "nbconvert_exporter": "python",
   "pygments_lexer": "ipython3",
   "version": "3.9.13"
  },
  "toc": {
   "base_numbering": 1,
   "nav_menu": {},
   "number_sections": true,
   "sideBar": true,
   "skip_h1_title": true,
   "title_cell": "Table of Contents",
   "title_sidebar": "Contents",
   "toc_cell": false,
   "toc_position": {
    "height": "calc(100% - 180px)",
    "left": "10px",
    "top": "150px",
    "width": "336px"
   },
   "toc_section_display": true,
   "toc_window_display": true
  }
 },
 "nbformat": 4,
 "nbformat_minor": 2
}
